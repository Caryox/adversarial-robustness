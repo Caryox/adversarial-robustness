{
 "cells": [
  {
   "cell_type": "markdown",
   "metadata": {},
   "source": [
    "# Simple CNN for compare default parameters in further applications\n",
    "#### Previous adversial ensemble network will be created in another file"
   ]
  },
  {
   "cell_type": "code",
   "execution_count": 1,
   "metadata": {},
   "outputs": [],
   "source": [
    "import os\n",
    "import random\n",
    "import numpy as np\n",
    "import matplotlib.pyplot as plt\n",
    "import matplotlib\n",
    "os.environ[\"KMP_DUPLICATE_LIB_OK\"]=\"TRUE\" #If using Matplotlib on Windows with different versions, this will surpress error\n",
    "import pandas as pd\n",
    "import torch\n",
    "import torchvision\n",
    "import torchvision.transforms as transforms\n",
    "import torch.nn as nn\n",
    "import torch.nn.functional as F\n",
    "import torch.optim as optim\n",
    "import statistics \n",
    "from scipy import ndimage #Image Smoothing\n",
    "from collections import Counter\n",
    "import foolbox as fb\n",
    "from torch.autograd import Variable\n",
    "device = torch.device(\"cpu\")\n",
    "import sys\n",
    "sys.path.append('../src/functions')\n",
    "from clean_nn_weights import reset_weights    \n",
    "\n",
    "#Git merge main/main master"
   ]
  },
  {
   "cell_type": "markdown",
   "metadata": {},
   "source": [
    "Define dataloader parameter"
   ]
  },
  {
   "cell_type": "code",
   "execution_count": 2,
   "metadata": {},
   "outputs": [
    {
     "data": {
      "text/plain": [
       "<torch._C.Generator at 0x22fe4065670>"
      ]
     },
     "execution_count": 2,
     "metadata": {},
     "output_type": "execute_result"
    }
   ],
   "source": [
    "batch_size_train = 32\n",
    "batch_size_test = 32\n",
    "random_seed = 1337\n",
    "torch.backends.cudnn.enabled = True\n",
    "torch.backends.cudnn.deterministic = True\n",
    "torch.manual_seed(random_seed)  #Static random seed for reproducibility"
   ]
  },
  {
   "cell_type": "markdown",
   "metadata": {},
   "source": [
    "Load MNIST Dataset from torchvision"
   ]
  },
  {
   "cell_type": "code",
   "execution_count": 3,
   "metadata": {},
   "outputs": [],
   "source": [
    "train_loader = torch.utils.data.DataLoader(\n",
    "  torchvision.datasets.MNIST('../data/', train=True, download=True,\n",
    "                             transform=torchvision.transforms.Compose([\n",
    "                               torchvision.transforms.ToTensor(),\n",
    "                               torchvision.transforms.Normalize(\n",
    "                                 (0.1307,), (0.3081,))\n",
    "                             ])),\n",
    "  batch_size=batch_size_train, shuffle=True, drop_last=True,worker_init_fn=random_seed)\n",
    "\n",
    "test_loader = torch.utils.data.DataLoader(\n",
    "  torchvision.datasets.MNIST('../data/', train=False, download=True,\n",
    "                             transform=torchvision.transforms.Compose([\n",
    "                               torchvision.transforms.ToTensor(),\n",
    "                               torchvision.transforms.Normalize(\n",
    "                                (0.1307,), (0.3081,))\n",
    "                             ])),\n",
    "  batch_size=batch_size_test, shuffle=True,drop_last=True,worker_init_fn=random_seed)"
   ]
  },
  {
   "cell_type": "markdown",
   "metadata": {},
   "source": [
    "Load CIFAR10 Da taset from torchvision"
   ]
  },
  {
   "cell_type": "code",
   "execution_count": 89,
   "metadata": {},
   "outputs": [
    {
     "name": "stdout",
     "output_type": "stream",
     "text": [
      "Files already downloaded and verified\n",
      "Files already downloaded and verified\n"
     ]
    }
   ],
   "source": [
    "train_loader = torch.utils.data.DataLoader(\n",
    "  torchvision.datasets.CIFAR10('../data/', train=True, download=True,\n",
    "                             transform=torchvision.transforms.Compose([\n",
    "                               torchvision.transforms.ToTensor(),\n",
    "                              #torchvision.transforms.Normalize(\n",
    "                              #   (0.4914, 0.4822, 0.4465), (0.247, 0.243, 0.261)),\n",
    "                                torchvision.transforms.Resize(size=(28,28))\n",
    "                             ])),\n",
    "  batch_size=batch_size_train, shuffle=True, drop_last=True,worker_init_fn=random_seed)\n",
    "\n",
    "test_loader = torch.utils.data.DataLoader(\n",
    "  torchvision.datasets.CIFAR10('../data/', train=False, download=True,\n",
    "                             transform=torchvision.transforms.Compose([\n",
    "                               torchvision.transforms.ToTensor(),\n",
    "                               #torchvision.transforms.Normalize(\n",
    "                               # (0.4914, 0.4822, 0.4465), (0.247, 0.243, 0.261)),\n",
    "                                torchvision.transforms.Resize(size=(28,28))\n",
    "                             ])),\n",
    "  batch_size=batch_size_test, shuffle=True,drop_last=True,worker_init_fn=random_seed)"
   ]
  },
  {
   "cell_type": "markdown",
   "metadata": {},
   "source": [
    "#### Quick analysis of class balances"
   ]
  },
  {
   "cell_type": "code",
   "execution_count": 282,
   "metadata": {},
   "outputs": [
    {
     "name": "stdout",
     "output_type": "stream",
     "text": [
      "Min: 0.0\n",
      "Max: 1.0\n",
      "1.0\n"
     ]
    },
    {
     "data": {
      "image/png": "[encoded data removed]",
      "text/plain": [
       "<Figure size 432x288 with 1 Axes>"
      ]
     },
     "metadata": {
      "needs_background": "light"
     },
     "output_type": "display_data"
    },
    {
     "data": {
      "image/png": "[encoded data removed]",
      "text/plain": [
       "<Figure size 432x288 with 1 Axes>"
      ]
     },
     "metadata": {
      "needs_background": "light"
     },
     "output_type": "display_data"
    },
    {
     "data": {
      "image/png": "[encoded data removed]",
      "text/plain": [
       "<Figure size 432x288 with 1 Axes>"
      ]
     },
     "metadata": {
      "needs_background": "light"
     },
     "output_type": "display_data"
    },
    {
     "data": {
      "image/png": "[encoded data removed]",
      "text/plain": [
       "<Figure size 432x288 with 1 Axes>"
      ]
     },
     "metadata": {
      "needs_background": "light"
     },
     "output_type": "display_data"
    },
    {
     "data": {
      "image/png": "[encoded data removed]",
      "text/plain": [
       "<Figure size 432x288 with 1 Axes>"
      ]
     },
     "metadata": {
      "needs_background": "light"
     },
     "output_type": "display_data"
    },
    {
     "data": {
      "image/png": "[encoded data removed]",
      "text/plain": [
       "<Figure size 432x288 with 1 Axes>"
      ]
     },
     "metadata": {
      "needs_background": "light"
     },
     "output_type": "display_data"
    },
    {
     "data": {
      "image/png": "[encoded data removed]",
      "text/plain": [
       "<Figure size 432x288 with 1 Axes>"
      ]
     },
     "metadata": {
      "needs_background": "light"
     },
     "output_type": "display_data"
    },
    {
     "data": {
      "image/png": "[encoded data removed]",
      "text/plain": [
       "<Figure size 432x288 with 1 Axes>"
      ]
     },
     "metadata": {
      "needs_background": "light"
     },
     "output_type": "display_data"
    },
    {
     "data": {
      "image/png": "[encoded data removed]",
      "text/plain": [
       "<Figure size 432x288 with 1 Axes>"
      ]
     },
     "metadata": {
      "needs_background": "light"
     },
     "output_type": "display_data"
    }
   ],
   "source": [
    "x_d,e_d=extract_dataloader_images(0)\n",
    "f_d=torch.clone(x_d)\n",
    "p_d=torch.clone(x_d)\n",
    "print(\"Min: {}\".format(min(np.ravel(x_d))))\n",
    "print(\"Max: {}\".format(max(np.ravel(x_d))))\n",
    "print(abs(min(np.ravel(x_d))-max(np.ravel(x_d))))\n",
    "#img = np.transpose(img, axes=[1, 2, 0])  # Put the 0-th dimension at the end\n",
    "    \n",
    "    # Image are supposed to be unsigned 8-bit integers. If we keep the raw images, then\n",
    "    # this line is not needed. However, if we normalize or whiten the image, then the values become\n",
    "    # floats. So we need to convert them back to uint8s.\n",
    "plt.imshow(np.transpose(x_d[31], axes=[1, 2, 0]))\n",
    "plt.show()\n",
    "plt.imshow(np.transpose(bit_reduction(x_d,bit=8)[31], axes=[1, 2, 0]))\n",
    "plt.show()\n",
    "plt.imshow(np.transpose(bit_reduction(x_d,bit=7)[31], axes=[1, 2, 0]))\n",
    "plt.show()\n",
    "plt.imshow(np.transpose(bit_reduction(x_d,bit=6)[31], axes=[1, 2, 0]))\n",
    "plt.show()\n",
    "plt.imshow(np.transpose(bit_reduction(x_d,bit=5)[31], axes=[1, 2, 0]))\n",
    "plt.show()\n",
    "plt.imshow(np.transpose(bit_reduction(x_d,bit=4)[31], axes=[1, 2, 0]))\n",
    "plt.show()\n",
    "plt.imshow(np.transpose(bit_reduction(x_d,bit=3)[31], axes=[1, 2, 0]))\n",
    "plt.show()\n",
    "plt.imshow(np.transpose(bit_reduction(x_d,bit=2)[31], axes=[1, 2, 0]))\n",
    "plt.show()\n",
    "plt.imshow(np.transpose(bit_reduction(x_d,bit=1)[31], axes=[1, 2, 0]))\n",
    "plt.show()\n",
    "#! Finding: If Distance is not >0.99, roundings will render images false. Thus, bit-reductions with small steps (>4 bit) will result in false image colors\n"
   ]
  },
  {
   "cell_type": "code",
   "execution_count": 245,
   "metadata": {},
   "outputs": [
    {
     "data": {
      "text/plain": [
       "tensor([0.9091, 0.9373, 0.9373])"
      ]
     },
     "execution_count": 245,
     "metadata": {},
     "output_type": "execute_result"
    }
   ],
   "source": [
    "np.transpose(bit_reduction(torch.clone(img),bit=6), axes=[1, 2, 0])[25][25]"
   ]
  },
  {
   "cell_type": "code",
   "execution_count": 185,
   "metadata": {},
   "outputs": [
    {
     "name": "stdout",
     "output_type": "stream",
     "text": [
      "tensor(0.7285)\n",
      "tensor(0.7695)\n",
      "tensor(0.5913)\n"
     ]
    }
   ],
   "source": [
    "print(img[0][0][0])\n",
    "print(img[1][0][0])\n",
    "print(img[2][0][0])"
   ]
  },
  {
   "cell_type": "code",
   "execution_count": 104,
   "metadata": {},
   "outputs": [],
   "source": [
    "(x_d[31][0][0][0])=0 #R\n",
    "(x_d[31][1][0][0])=1 #G\n",
    "(x_d[31][2][0][0])=0 #B"
   ]
  },
  {
   "cell_type": "code",
   "execution_count": 270,
   "metadata": {},
   "outputs": [],
   "source": [
    "def bit_reduction(img_data,clip_min=0.499999,clip_max=0.5,bit=4):\n",
    "\n",
    "  img_data_bit = torch.clone(img_data) # Dont overwrite original tensor. Although it sometimes failed if function is called multiple times. Use torch.clone() when function is calles as a workaround.\n",
    " \n",
    "  #todo add reduced_data clip normalization operations for batch \n",
    "  img_min = min(np.ravel(img_data_bit))\n",
    "  img_max = max(np.ravel(img_data_bit))\n",
    "\n",
    "  if  \"CIFAR\" in str(test_loader.dataset):\n",
    "    step_size = abs(img_min-img_max)/pow(2,bit)\n",
    "    steps = pow(2,bit)\n",
    "    #steps = 4\n",
    "    reduced_data = (img_data_bit-min(np.ravel(img_data_bit))) / (max(np.ravel(img_data_bit)) - min(np.ravel(img_data_bit)))\n",
    "    for i in range(img_data_bit.shape[0]):\n",
    "      for j in range(img_data_bit.shape[1]): #RGB Values\n",
    "        for k in range(steps):\n",
    "          reduced_data[i][j][(reduced_data[i][j]>=step_size*k) & (reduced_data[i][j]<step_size*(k+1))] = torch.from_numpy(np.array(img_min+k*step_size, dtype='float32'))\n",
    "       # reduced_data[i][j][reduced_data[i][j]<ranges] = torch.from_numpy(np.array(img_min))\n",
    "       # reduced_data[i][j][(reduced_data[i][j]>=ranges) & (reduced_data[i][j]<ranges*2)] = torch.from_numpy(np.array(img_min+ranges))\n",
    "       # reduced_data[i][j][(reduced_data[i][j]>=ranges*2) & (reduced_data[i][j]<ranges*3)] = torch.from_numpy(np.array(img_min+ranges*2))\n",
    "       # reduced_data[i][j][reduced_data[i][j]>=ranges*3] = torch.from_numpy(np.array(img_max))\n",
    "  else:\n",
    "    reduced_data = (img_data_bit-min(np.ravel(img_data_bit))) / (max(np.ravel(img_data_bit)) - min(np.ravel(img_data_bit)))\n",
    "    reduced_data = reduced_data.clip(min=clip_min,max=clip_max)\n",
    "\n",
    "    if (img_data_bit.shape.__len__() > 2):\n",
    "      for i in range(img_data_bit.shape[0]):\n",
    "        reduced_data[i][0][reduced_data[i][0]<clip_max] = torch.from_numpy(np.array(img_min))\n",
    "        reduced_data[i][0][reduced_data[i][0]==clip_max] = torch.from_numpy(np.array(img_max))\n",
    "    else:\n",
    "      reduced_data[0][reduced_data[0]<clip_max] = torch.from_numpy(np.array(img_min))\n",
    "      reduced_data[0][reduced_data[0]==clip_max] = torch.from_numpy(np.array(img_max))\n",
    "\n",
    "  #reduced_data[reduced_data[0]==1]=img_max\n",
    "  #reduced_data[reduced_data[0]==0]=img_min\n",
    "  return(reduced_data)"
   ]
  },
  {
   "cell_type": "code",
   "execution_count": 134,
   "metadata": {},
   "outputs": [
    {
     "data": {
      "text/plain": [
       "tensor([[[[0.2500, 0.2500, 0.2500,  ..., 0.2500, 0.2500, 0.2500],\n",
       "          [0.2500, 0.0000, 0.0000,  ..., 0.2500, 0.2500, 0.0000],\n",
       "          [0.0000, 0.0000, 0.0000,  ..., 0.2500, 0.2500, 0.0000],\n",
       "          ...,\n",
       "          [0.2500, 0.2500, 0.2500,  ..., 0.5000, 0.5000, 0.5000],\n",
       "          [0.2500, 0.2500, 0.5000,  ..., 0.5000, 0.5000, 0.5000],\n",
       "          [0.2500, 0.2500, 0.2500,  ..., 0.5000, 0.5000, 0.5000]],\n",
       "\n",
       "         [[0.2500, 0.2500, 0.2500,  ..., 0.2500, 0.2500, 0.2500],\n",
       "          [0.2500, 0.2500, 0.2500,  ..., 0.2500, 0.2500, 0.2500],\n",
       "          [0.2500, 0.2500, 0.2500,  ..., 0.2500, 0.2500, 0.2500],\n",
       "          ...,\n",
       "          [0.2500, 0.2500, 0.5000,  ..., 0.5000, 0.5000, 0.5000],\n",
       "          [0.2500, 0.2500, 0.5000,  ..., 0.5000, 0.5000, 0.5000],\n",
       "          [0.2500, 0.2500, 0.2500,  ..., 0.5000, 0.5000, 0.5000]],\n",
       "\n",
       "         [[0.2500, 0.2500, 0.2500,  ..., 0.2500, 0.2500, 0.0000],\n",
       "          [0.2500, 0.2500, 0.2500,  ..., 0.0000, 0.0000, 0.0000],\n",
       "          [0.2500, 0.2500, 0.2500,  ..., 0.0000, 0.0000, 0.0000],\n",
       "          ...,\n",
       "          [0.2500, 0.2500, 0.2500,  ..., 0.2500, 0.2500, 0.2500],\n",
       "          [0.2500, 0.2500, 0.2500,  ..., 0.2500, 0.2500, 0.2500],\n",
       "          [0.2500, 0.2500, 0.0000,  ..., 0.2500, 0.2500, 0.2500]]],\n",
       "\n",
       "\n",
       "        [[[0.5000, 0.2500, 0.2500,  ..., 0.2500, 0.2500, 0.5000],\n",
       "          [0.5000, 0.2500, 0.0000,  ..., 0.0000, 0.2500, 0.2500],\n",
       "          [0.5000, 0.2500, 0.0000,  ..., 0.2500, 0.2500, 0.2500],\n",
       "          ...,\n",
       "          [0.0000, 0.2500, 0.2500,  ..., 0.2500, 0.2500, 0.2500],\n",
       "          [0.2500, 0.2500, 0.2500,  ..., 1.0000, 0.5000, 0.5000],\n",
       "          [0.5000, 0.5000, 0.5000,  ..., 1.0000, 1.0000, 1.0000]],\n",
       "\n",
       "         [[0.2500, 0.2500, 0.0000,  ..., 0.0000, 0.0000, 0.2500],\n",
       "          [0.2500, 0.0000, 0.0000,  ..., 0.0000, 0.0000, 0.2500],\n",
       "          [0.5000, 0.2500, 0.0000,  ..., 0.2500, 0.2500, 0.0000],\n",
       "          ...,\n",
       "          [0.0000, 0.2500, 0.2500,  ..., 0.2500, 0.2500, 0.2500],\n",
       "          [0.2500, 0.2500, 0.2500,  ..., 1.0000, 0.5000, 0.5000],\n",
       "          [0.5000, 0.5000, 0.5000,  ..., 1.0000, 1.0000, 1.0000]],\n",
       "\n",
       "         [[0.2500, 0.2500, 0.0000,  ..., 0.0000, 0.2500, 0.2500],\n",
       "          [0.2500, 0.0000, 0.0000,  ..., 0.0000, 0.0000, 0.2500],\n",
       "          [0.5000, 0.2500, 0.0000,  ..., 0.2500, 0.2500, 0.0000],\n",
       "          ...,\n",
       "          [0.0000, 0.2500, 0.2500,  ..., 0.2500, 0.2500, 0.2500],\n",
       "          [0.2500, 0.2500, 0.2500,  ..., 1.0000, 0.5000, 0.5000],\n",
       "          [0.5000, 0.5000, 0.5000,  ..., 1.0000, 1.0000, 1.0000]]],\n",
       "\n",
       "\n",
       "        [[[0.5000, 0.5000, 0.5000,  ..., 0.2500, 0.2500, 0.2500],\n",
       "          [0.5000, 0.5000, 0.5000,  ..., 0.2500, 0.2500, 0.2500],\n",
       "          [0.5000, 0.5000, 0.2500,  ..., 0.2500, 0.2500, 0.2500],\n",
       "          ...,\n",
       "          [0.0000, 0.0000, 0.0000,  ..., 0.0000, 0.0000, 0.0000],\n",
       "          [0.0000, 0.0000, 0.0000,  ..., 0.0000, 0.0000, 0.0000],\n",
       "          [0.0000, 0.0000, 0.0000,  ..., 0.2500, 0.0000, 0.0000]],\n",
       "\n",
       "         [[0.5000, 0.2500, 0.2500,  ..., 0.2500, 0.2500, 0.2500],\n",
       "          [0.5000, 0.5000, 0.2500,  ..., 0.2500, 0.2500, 0.2500],\n",
       "          [0.2500, 0.2500, 0.2500,  ..., 0.2500, 0.2500, 0.2500],\n",
       "          ...,\n",
       "          [0.0000, 0.0000, 0.0000,  ..., 0.0000, 0.0000, 0.0000],\n",
       "          [0.0000, 0.0000, 0.0000,  ..., 0.2500, 0.0000, 0.0000],\n",
       "          [0.0000, 0.0000, 0.0000,  ..., 0.2500, 0.0000, 0.0000]],\n",
       "\n",
       "         [[0.2500, 0.2500, 0.2500,  ..., 0.2500, 0.2500, 0.2500],\n",
       "          [0.2500, 0.2500, 0.2500,  ..., 0.0000, 0.0000, 0.0000],\n",
       "          [0.0000, 0.2500, 0.2500,  ..., 0.0000, 0.0000, 0.0000],\n",
       "          ...,\n",
       "          [0.0000, 0.0000, 0.0000,  ..., 0.0000, 0.0000, 0.0000],\n",
       "          [0.0000, 0.0000, 0.0000,  ..., 0.0000, 0.0000, 0.0000],\n",
       "          [0.0000, 0.0000, 0.0000,  ..., 0.0000, 0.0000, 0.0000]]],\n",
       "\n",
       "\n",
       "        ...,\n",
       "\n",
       "\n",
       "        [[[0.2500, 0.2500, 0.2500,  ..., 0.2500, 0.2500, 0.2500],\n",
       "          [0.2500, 0.5000, 0.5000,  ..., 0.2500, 0.2500, 0.2500],\n",
       "          [0.5000, 0.5000, 0.5000,  ..., 0.5000, 0.5000, 0.2500],\n",
       "          ...,\n",
       "          [0.2500, 0.2500, 0.2500,  ..., 0.2500, 0.2500, 0.2500],\n",
       "          [0.2500, 0.2500, 0.2500,  ..., 0.2500, 0.2500, 0.2500],\n",
       "          [0.2500, 0.2500, 0.2500,  ..., 0.2500, 0.2500, 0.2500]],\n",
       "\n",
       "         [[0.2500, 0.2500, 0.2500,  ..., 0.2500, 0.2500, 0.2500],\n",
       "          [0.5000, 0.5000, 0.5000,  ..., 0.5000, 0.5000, 0.5000],\n",
       "          [0.5000, 0.5000, 0.5000,  ..., 0.5000, 0.5000, 0.5000],\n",
       "          ...,\n",
       "          [0.2500, 0.2500, 0.2500,  ..., 0.2500, 0.2500, 0.2500],\n",
       "          [0.2500, 0.2500, 0.2500,  ..., 0.2500, 0.2500, 0.2500],\n",
       "          [0.2500, 0.2500, 0.2500,  ..., 0.2500, 0.2500, 0.2500]],\n",
       "\n",
       "         [[0.2500, 0.2500, 0.2500,  ..., 0.5000, 0.2500, 0.2500],\n",
       "          [0.5000, 0.5000, 0.5000,  ..., 0.5000, 0.2500, 0.2500],\n",
       "          [0.5000, 0.5000, 0.5000,  ..., 0.5000, 0.5000, 0.2500],\n",
       "          ...,\n",
       "          [0.2500, 0.2500, 0.2500,  ..., 0.5000, 0.5000, 0.5000],\n",
       "          [0.2500, 0.2500, 0.2500,  ..., 0.2500, 0.2500, 0.2500],\n",
       "          [0.2500, 0.2500, 0.2500,  ..., 0.2500, 0.2500, 0.2500]]],\n",
       "\n",
       "\n",
       "        [[[0.2500, 0.2500, 0.2500,  ..., 0.2500, 0.2500, 0.2500],\n",
       "          [0.2500, 0.2500, 0.2500,  ..., 0.2500, 0.2500, 0.2500],\n",
       "          [0.2500, 0.2500, 0.2500,  ..., 0.2500, 0.2500, 0.2500],\n",
       "          ...,\n",
       "          [0.2500, 0.2500, 0.0000,  ..., 0.0000, 0.2500, 0.2500],\n",
       "          [0.0000, 0.0000, 0.0000,  ..., 0.0000, 0.0000, 0.0000],\n",
       "          [0.0000, 0.0000, 0.0000,  ..., 0.0000, 0.0000, 0.0000]],\n",
       "\n",
       "         [[0.5000, 0.5000, 0.5000,  ..., 0.5000, 0.5000, 0.5000],\n",
       "          [0.5000, 0.5000, 0.5000,  ..., 0.5000, 0.5000, 0.5000],\n",
       "          [0.5000, 0.5000, 0.5000,  ..., 0.5000, 0.5000, 0.5000],\n",
       "          ...,\n",
       "          [0.2500, 0.2500, 0.2500,  ..., 0.2500, 0.2500, 0.2500],\n",
       "          [0.2500, 0.2500, 0.2500,  ..., 0.2500, 0.2500, 0.2500],\n",
       "          [0.2500, 0.2500, 0.2500,  ..., 0.2500, 0.2500, 0.2500]],\n",
       "\n",
       "         [[0.5000, 0.5000, 0.5000,  ..., 0.5000, 0.5000, 0.5000],\n",
       "          [0.5000, 0.5000, 0.5000,  ..., 0.5000, 0.5000, 0.5000],\n",
       "          [0.5000, 0.5000, 0.5000,  ..., 0.5000, 0.5000, 0.5000],\n",
       "          ...,\n",
       "          [0.2500, 0.2500, 0.2500,  ..., 0.2500, 0.2500, 0.2500],\n",
       "          [0.2500, 0.2500, 0.2500,  ..., 0.2500, 0.2500, 0.2500],\n",
       "          [0.2500, 0.2500, 0.2500,  ..., 0.2500, 0.2500, 0.2500]]],\n",
       "\n",
       "\n",
       "        [[[1.0000, 1.0000, 0.5000,  ..., 1.0000, 1.0000, 1.0000],\n",
       "          [1.0000, 0.2500, 0.0000,  ..., 1.0000, 1.0000, 1.0000],\n",
       "          [0.5000, 0.2500, 0.2500,  ..., 1.0000, 1.0000, 1.0000],\n",
       "          ...,\n",
       "          [1.0000, 1.0000, 1.0000,  ..., 0.5000, 1.0000, 1.0000],\n",
       "          [1.0000, 1.0000, 1.0000,  ..., 0.5000, 0.5000, 1.0000],\n",
       "          [1.0000, 1.0000, 1.0000,  ..., 1.0000, 1.0000, 0.5000]],\n",
       "\n",
       "         [[1.0000, 1.0000, 0.5000,  ..., 1.0000, 1.0000, 1.0000],\n",
       "          [1.0000, 0.2500, 0.0000,  ..., 1.0000, 1.0000, 1.0000],\n",
       "          [0.5000, 0.2500, 0.2500,  ..., 1.0000, 1.0000, 1.0000],\n",
       "          ...,\n",
       "          [1.0000, 1.0000, 1.0000,  ..., 0.5000, 1.0000, 1.0000],\n",
       "          [1.0000, 1.0000, 1.0000,  ..., 0.5000, 0.5000, 1.0000],\n",
       "          [1.0000, 1.0000, 1.0000,  ..., 1.0000, 1.0000, 0.5000]],\n",
       "\n",
       "         [[1.0000, 1.0000, 0.5000,  ..., 1.0000, 1.0000, 1.0000],\n",
       "          [1.0000, 0.2500, 0.0000,  ..., 1.0000, 1.0000, 1.0000],\n",
       "          [0.5000, 0.2500, 0.0000,  ..., 1.0000, 1.0000, 1.0000],\n",
       "          ...,\n",
       "          [1.0000, 1.0000, 1.0000,  ..., 0.5000, 1.0000, 1.0000],\n",
       "          [1.0000, 1.0000, 1.0000,  ..., 0.5000, 0.5000, 1.0000],\n",
       "          [1.0000, 1.0000, 1.0000,  ..., 1.0000, 1.0000, 0.5000]]]])"
      ]
     },
     "execution_count": 134,
     "metadata": {},
     "output_type": "execute_result"
    }
   ],
   "source": [
    "bit_reduction(x_d)"
   ]
  },
  {
   "cell_type": "code",
   "execution_count": 48,
   "metadata": {},
   "outputs": [
    {
     "name": "stdout",
     "output_type": "stream",
     "text": [
      "torch.Size([60000, 28, 28])\n",
      "torch.Size([10000, 28, 28])\n"
     ]
    },
    {
     "name": "stderr",
     "output_type": "stream",
     "text": [
      "f:\\Anaconda\\lib\\site-packages\\torchvision\\datasets\\mnist.py:62: UserWarning: train_data has been renamed data\n",
      "  warnings.warn(\"train_data has been renamed data\")\n",
      "f:\\Anaconda\\lib\\site-packages\\torchvision\\datasets\\mnist.py:67: UserWarning: test_data has been renamed data\n",
      "  warnings.warn(\"test_data has been renamed data\")\n"
     ]
    }
   ],
   "source": [
    "print(train_loader.dataset.train_data.size())\n",
    "print(test_loader.dataset.test_data.size())"
   ]
  },
  {
   "cell_type": "code",
   "execution_count": 41,
   "metadata": {},
   "outputs": [],
   "source": [
    "nr_train = np.array([])\n",
    "for i, (data, target) in enumerate(train_loader):\n",
    "    nr_train=np.append(nr_train, target.cpu().detach().numpy())\n",
    "\n",
    "nr_test = np.array([])\n",
    "for i, (data, target) in enumerate(test_loader):\n",
    "    nr_test=np.append(nr_test, target.cpu().detach().numpy())"
   ]
  },
  {
   "cell_type": "code",
   "execution_count": 14,
   "metadata": {},
   "outputs": [
    {
     "data": {
      "text/plain": [
       "Counter({0.0: 6902,\n",
       "         1.0: 7875,\n",
       "         2.0: 6988,\n",
       "         3.0: 7140,\n",
       "         4.0: 6822,\n",
       "         5.0: 6311,\n",
       "         6.0: 6874,\n",
       "         7.0: 7292,\n",
       "         8.0: 6824,\n",
       "         9.0: 6956})"
      ]
     },
     "execution_count": 14,
     "metadata": {},
     "output_type": "execute_result"
    }
   ],
   "source": [
    "Counter(np.sort(nr_train))"
   ]
  },
  {
   "cell_type": "code",
   "execution_count": 11,
   "metadata": {},
   "outputs": [
    {
     "data": {
      "text/plain": [
       "Counter({0.0: 979,\n",
       "         1.0: 1133,\n",
       "         2.0: 1030,\n",
       "         3.0: 1009,\n",
       "         4.0: 980,\n",
       "         5.0: 890,\n",
       "         6.0: 956,\n",
       "         7.0: 1027,\n",
       "         8.0: 973,\n",
       "         9.0: 1007})"
      ]
     },
     "execution_count": 11,
     "metadata": {},
     "output_type": "execute_result"
    }
   ],
   "source": [
    "Counter(np.sort(nr_test))"
   ]
  },
  {
   "cell_type": "code",
   "execution_count": 5,
   "metadata": {},
   "outputs": [],
   "source": [
    "def extract_dataloader_images(epoch):\n",
    "  #for batch_idx, (data, target) in enumerate(train_loader):\n",
    "  examples = enumerate(test_loader,start=0)\n",
    "  _, (example_data, example_targets) = next(examples)\n",
    "  return(example_data, example_targets)\n",
    "\n",
    "def count_perturbated_pixel(img1,img2):\n",
    "  sum_px = 28*28\n",
    "  sum_px_perturbed = 0\n",
    "  for px_img1,px_img2 in zip(img1[0][0],img2[0][0]): #Zip Array of Pixels\n",
    "    for px_im1,px_im2 in zip(px_img1,px_img2): #Zip Pixels\n",
    "        if (px_im1 != px_im2):\n",
    "            sum_px_perturbed+=1\n",
    "  return((sum_px_perturbed/sum_px),sum_px,sum_px_perturbed)\n",
    "\n",
    "def perturbate_image(img_data,mode='random',value=100):\n",
    "  if (mode=='random'):\n",
    "      for i in range(value):\n",
    "          img_data[0][0][random.randrange(1,28),random.randrange(1,28)]=random.uniform(min(np.ravel(img_data)),max(np.ravel(img_data)))\n",
    "  elif (mode=='random_white'):\n",
    "      for i in range(value):\n",
    "          img_data[0][0][random.randrange(1,28),random.randrange(1,28)]=round(max(np.ravel(img_data)))\n",
    "  return(img_data)\n",
    "\n",
    "def median_smoothing(img_data,kernel_size=2):\n",
    "  from scipy import ndimage\n",
    "  img_data_median = torch.clone(img_data)\n",
    "  #print(img_data_median.shape.__len__())\n",
    "  if (img_data_median.shape.__len__() > 2):\n",
    "    for i in range(img_data_median.shape[0]):\n",
    "      img_data_median[i][0] = torch.from_numpy(ndimage.median_filter(img_data_median[i][0], size=kernel_size))\n",
    "  else:\n",
    "    img_data_median = torch.from_numpy(ndimage.median_filter(img_data_median, size=kernel_size))\n",
    "  return(img_data_median)\n",
    "\n",
    "def bit_reduction(img_data,clip_min=0.499999,clip_max=0.5):\n",
    "  img_data_bit = torch.clone(img_data)\n",
    "  #todo add reduced_data clip normalization operations for batch \n",
    "  img_min = min(np.ravel(img_data_bit))\n",
    "  img_max = max(np.ravel(img_data_bit))\n",
    "\n",
    "\n",
    "  reduced_data = (img_data_bit-min(np.ravel(img_data_bit))) / (max(np.ravel(img_data_bit)) - min(np.ravel(img_data_bit)))\n",
    "  reduced_data = reduced_data.clip(min=clip_min,max=clip_max)\n",
    "\n",
    "  if (img_data_bit.shape.__len__() > 2):\n",
    "    for i in range(img_data_bit.shape[0]):\n",
    "      reduced_data[i][0][reduced_data[i][0]<clip_max] = torch.from_numpy(np.array(img_min))\n",
    "      reduced_data[i][0][reduced_data[i][0]==clip_max] = torch.from_numpy(np.array(img_max))\n",
    "  else:\n",
    "    reduced_data[0][reduced_data[0]<clip_max] = torch.from_numpy(np.array(img_min))\n",
    "    reduced_data[0][reduced_data[0]==clip_max] = torch.from_numpy(np.array(img_max))\n",
    "\n",
    "  #reduced_data[reduced_data[0]==1]=img_max\n",
    "  #reduced_data[reduced_data[0]==0]=img_min\n",
    "  return(reduced_data)\n",
    "\n",
    "\n",
    "\n",
    "def test_fake(data,use_network):\n",
    "  use_network.eval()\n",
    "  #network.eval()\n",
    "  with torch.no_grad():\n",
    "      output = use_network(data)\n",
    "      return output"
   ]
  },
  {
   "cell_type": "code",
   "execution_count": 4,
   "metadata": {},
   "outputs": [],
   "source": [
    "class ensemble_rectification(nn.Module): # This is the same as the previous one, but with a different (and more easy to understand) architecture. It has a few more neurons in each layer, replaced x.view(-1, 320) with linear layer. Replaced functional dropout with nn.dropout.\n",
    "\tdef __init__(self, numChannels, classes):\n",
    "\t\tsuper(ensemble_rectification, self).__init__()\n",
    "\n",
    "\t\t#Net1\n",
    "\t\tself.conv1_1 = nn.Conv2d(in_channels=numChannels, out_channels=20,\n",
    "\t\t\tkernel_size=(5, 5))\n",
    "\t\tself.relu1_1 = nn.ReLU()\n",
    "\t\tself.maxpool1_1 = nn.MaxPool2d(kernel_size=(2, 2), stride=(2, 2))\n",
    "\n",
    "\t\tself.conv2_1 = nn.Conv2d(in_channels=20, out_channels=50,\n",
    "\t\t\tkernel_size=(5, 5))\n",
    "\t\tself.relu2_1 = nn.ReLU()\n",
    "\t\tself.maxpool2_1 = nn.MaxPool2d(kernel_size=(2, 2), stride=(2, 2))\n",
    "\n",
    "\t\tself.conv2_drop_1 = nn.Dropout2d()\n",
    "\n",
    "\t\tself.fc1_1 = nn.Linear(in_features=800, out_features=500)\n",
    "\t\tself.relu3_1 = nn.ReLU()\n",
    "\t\tself.dropout_l_1 = nn.Dropout(p=0.5)\n",
    "\t\tself.fc2_1 = nn.Linear(in_features=500, out_features=classes)\n",
    "\n",
    "\t\t#Net2\n",
    "\t\tself.conv1_2 = nn.Conv2d(in_channels=numChannels, out_channels=30,\n",
    "\t\t\tkernel_size=(5, 5))\n",
    "\t\tself.relu1_2 = nn.ReLU()\n",
    "\t\tself.maxpool1_2 = nn.MaxPool2d(kernel_size=(2), stride=(2, 2))\n",
    "\n",
    "\t\tself.conv2_2 = nn.Conv2d(in_channels=30, out_channels=75,\n",
    "\t\t\tkernel_size=(5, 5))\n",
    "\t\tself.relu2_2 = nn.ReLU()\n",
    "\t\tself.maxpool2_2 = nn.MaxPool2d(kernel_size=(2), stride=(2, 2))\n",
    "\n",
    "\t\tself.conv2_drop_2 = nn.Dropout2d()\n",
    "\n",
    "\t\tself.fc1_2 = nn.Linear(in_features=1200, out_features=900)\n",
    "\t\tself.relu3_2 = nn.ReLU()\n",
    "\t\tself.dropout_l_2 = nn.Dropout(p=0.3)\n",
    "\t\tself.fc2_2 = nn.Linear(in_features=900, out_features=classes)\n",
    "\n",
    "\t\t#Net3\n",
    "\t\tself.conv1_3 = nn.Conv2d(in_channels=numChannels, out_channels=50,\n",
    "\t\t\tkernel_size=(5, 5))\n",
    "\t\tself.relu1_3 = nn.ReLU()\n",
    "\t\tself.maxpool1_3 = nn.MaxPool2d(kernel_size=(2), stride=(2))\n",
    "\n",
    "\t\tself.conv2_3 = nn.Conv2d(in_channels=50, out_channels=125,\n",
    "\t\t\tkernel_size=(5, 5))\n",
    "\t\tself.relu2_3 = nn.ReLU()\n",
    "\t\tself.maxpool2_3 = nn.MaxPool2d(kernel_size=(2), stride=(2))\n",
    "\n",
    "\t\tself.conv2_drop_3 = nn.Dropout2d()\n",
    "\n",
    "\t\tself.fc1_3 = nn.Linear(in_features=2000, out_features=1000)\n",
    "\t\tself.relu3_3 = nn.ReLU()\n",
    "\t\tself.dropout_l_3 = nn.Dropout(p=0.2)\n",
    "\t\tself.fc2_3 = nn.Linear(in_features=1000, out_features=classes)\n",
    "\t\t\t\n",
    "\tdef forward(self, orig):\n",
    "\t\tx = self.conv1_1(orig)\n",
    "\t\tx = self.relu1_1(x)\n",
    "\t\tx = self.maxpool1_1(x)\n",
    "\t\tx = self.conv2_1(x)\n",
    "\t\tx = self.relu2_1(x)\n",
    "\t\tx = self.maxpool2_1(x)\n",
    "\t\tx = self.conv2_drop_1(x)\n",
    "\t\tx = torch.flatten(x, 1)\n",
    "\t\tx = self.fc1_1(x)\n",
    "\t\tx = self.relu3_1(x)\n",
    "\t\tx = self.dropout_l_1(x)\n",
    "\t\tx = self.fc2_1(x)\n",
    "\n",
    "\t\ty = self.conv1_2(orig)\n",
    "\t\ty = self.relu1_2(y)\n",
    "\t\ty = self.maxpool1_2(y)\n",
    "\t\ty = self.conv2_2(y)\n",
    "\t\ty = self.relu2_2(y)\n",
    "\t\ty = self.maxpool2_2(y)\n",
    "\t\ty = self.conv2_drop_2(y)\n",
    "\t\ty = torch.flatten(y, 1)\n",
    "\t\ty = self.fc1_2(y)\n",
    "\t\ty = self.relu3_2(y)\n",
    "\t\ty = self.dropout_l_2(y)\n",
    "\t\ty = self.fc2_2(y)\n",
    "\n",
    "\t\tz = self.conv1_3(orig)\n",
    "\t\tz = self.relu1_3(z)\n",
    "\t\tz = self.maxpool1_3(z)\n",
    "\t\tz = self.conv2_3(z)\n",
    "\t\tz = self.relu2_3(z)\n",
    "\t\tz = self.maxpool2_3(z)\n",
    "\t\tz = self.conv2_drop_3(z)\n",
    "\t\tz = torch.flatten(z, 1)\n",
    "\t\tz = self.fc1_3(z)\n",
    "\t\tz = self.relu3_3(z)\n",
    "\t\tz = self.dropout_l_3(z)\n",
    "\t\tz = self.fc2_3(z)\n",
    "\n",
    "\t\tconcat = torch.cat([x, y, z], dim=1)\n",
    "\n",
    "\t\treturn concat"
   ]
  },
  {
   "cell_type": "code",
   "execution_count": 13,
   "metadata": {},
   "outputs": [
    {
     "name": "stdout",
     "output_type": "stream",
     "text": [
      "Reset trainable parameters of layer = Conv2d(1, 20, kernel_size=(5, 5), stride=(1, 1))\n",
      "Reset trainable parameters of layer = Conv2d(20, 50, kernel_size=(5, 5), stride=(1, 1))\n",
      "Reset trainable parameters of layer = Linear(in_features=800, out_features=500, bias=True)\n",
      "Reset trainable parameters of layer = Linear(in_features=500, out_features=10, bias=True)\n",
      "Reset trainable parameters of layer = Conv2d(1, 30, kernel_size=(5, 5), stride=(1, 1))\n",
      "Reset trainable parameters of layer = Conv2d(30, 75, kernel_size=(5, 5), stride=(1, 1))\n",
      "Reset trainable parameters of layer = Linear(in_features=1200, out_features=900, bias=True)\n",
      "Reset trainable parameters of layer = Linear(in_features=900, out_features=10, bias=True)\n",
      "Reset trainable parameters of layer = Conv2d(1, 50, kernel_size=(5, 5), stride=(1, 1))\n",
      "Reset trainable parameters of layer = Conv2d(50, 125, kernel_size=(5, 5), stride=(1, 1))\n",
      "Reset trainable parameters of layer = Linear(in_features=2000, out_features=1000, bias=True)\n",
      "Reset trainable parameters of layer = Linear(in_features=1000, out_features=10, bias=True)\n"
     ]
    },
    {
     "data": {
      "text/plain": [
       "ensemble_rectification(\n",
       "  (conv1_1): Conv2d(1, 20, kernel_size=(5, 5), stride=(1, 1))\n",
       "  (relu1_1): ReLU()\n",
       "  (maxpool1_1): MaxPool2d(kernel_size=(2, 2), stride=(2, 2), padding=0, dilation=1, ceil_mode=False)\n",
       "  (conv2_1): Conv2d(20, 50, kernel_size=(5, 5), stride=(1, 1))\n",
       "  (relu2_1): ReLU()\n",
       "  (maxpool2_1): MaxPool2d(kernel_size=(2, 2), stride=(2, 2), padding=0, dilation=1, ceil_mode=False)\n",
       "  (conv2_drop_1): Dropout2d(p=0.5, inplace=False)\n",
       "  (fc1_1): Linear(in_features=800, out_features=500, bias=True)\n",
       "  (relu3_1): ReLU()\n",
       "  (dropout_l_1): Dropout(p=0.5, inplace=False)\n",
       "  (fc2_1): Linear(in_features=500, out_features=10, bias=True)\n",
       "  (conv1_2): Conv2d(1, 30, kernel_size=(5, 5), stride=(1, 1))\n",
       "  (relu1_2): ReLU()\n",
       "  (maxpool1_2): MaxPool2d(kernel_size=2, stride=(2, 2), padding=0, dilation=1, ceil_mode=False)\n",
       "  (conv2_2): Conv2d(30, 75, kernel_size=(5, 5), stride=(1, 1))\n",
       "  (relu2_2): ReLU()\n",
       "  (maxpool2_2): MaxPool2d(kernel_size=2, stride=(2, 2), padding=0, dilation=1, ceil_mode=False)\n",
       "  (conv2_drop_2): Dropout2d(p=0.5, inplace=False)\n",
       "  (fc1_2): Linear(in_features=1200, out_features=900, bias=True)\n",
       "  (relu3_2): ReLU()\n",
       "  (dropout_l_2): Dropout(p=0.3, inplace=False)\n",
       "  (fc2_2): Linear(in_features=900, out_features=10, bias=True)\n",
       "  (conv1_3): Conv2d(1, 50, kernel_size=(5, 5), stride=(1, 1))\n",
       "  (relu1_3): ReLU()\n",
       "  (maxpool1_3): MaxPool2d(kernel_size=2, stride=2, padding=0, dilation=1, ceil_mode=False)\n",
       "  (conv2_3): Conv2d(50, 125, kernel_size=(5, 5), stride=(1, 1))\n",
       "  (relu2_3): ReLU()\n",
       "  (maxpool2_3): MaxPool2d(kernel_size=2, stride=2, padding=0, dilation=1, ceil_mode=False)\n",
       "  (conv2_drop_3): Dropout2d(p=0.5, inplace=False)\n",
       "  (fc1_3): Linear(in_features=2000, out_features=1000, bias=True)\n",
       "  (relu3_3): ReLU()\n",
       "  (dropout_l_3): Dropout(p=0.2, inplace=False)\n",
       "  (fc2_3): Linear(in_features=1000, out_features=10, bias=True)\n",
       ")"
      ]
     },
     "execution_count": 13,
     "metadata": {},
     "output_type": "execute_result"
    }
   ],
   "source": [
    "network = ensemble_rectification(1,10)\n",
    "network.apply(reset_weights)"
   ]
  },
  {
   "cell_type": "code",
   "execution_count": 21,
   "metadata": {},
   "outputs": [],
   "source": [
    "class simple_net(nn.Module):\n",
    "    def __init__(self):\n",
    "        super(simple_net, self).__init__()\n",
    "        self.conv1 = nn.Conv2d(1, 10, kernel_size=5)\n",
    "        self.conv2 = nn.Conv2d(10, 20, kernel_size=5)\n",
    "        self.conv2_drop = nn.Dropout2d()\n",
    "        self.fc1 = nn.Linear(320, 50)\n",
    "        self.fc2 = nn.Linear(50, 10)\n",
    "\n",
    "    def forward(self, x):\n",
    "        x = F.relu(F.max_pool2d(self.conv1(x), 2))\n",
    "        x = F.relu(F.max_pool2d(self.conv2_drop(self.conv2(x)), 2))\n",
    "        x = x.view(-1, 320)\n",
    "        x = F.relu(self.fc1(x))\n",
    "        x = F.dropout(x, training=self.training)\n",
    "        x = self.fc2(x)\n",
    "        return x"
   ]
  },
  {
   "cell_type": "code",
   "execution_count": 22,
   "metadata": {},
   "outputs": [],
   "source": [
    "class simple_net_upgraded(nn.Module): # This is the same as the previous one, but with a different (and more easy to understand) architecture. It has a few more neurons in each layer, replaced x.view(-1, 320) with linear layer. Replaced functional dropout with nn.dropout.\n",
    "\tdef __init__(self, numChannels, classes):\n",
    "\t\tsuper(simple_net_upgraded, self).__init__()\n",
    "\n",
    "\t\tself.conv1 = nn.Conv2d(in_channels=numChannels, out_channels=20,\n",
    "\t\t\tkernel_size=(5, 5))\n",
    "\t\tself.relu1 = nn.ReLU()\n",
    "\t\tself.maxpool1 = nn.MaxPool2d(kernel_size=(2, 2), stride=(2, 2))\n",
    "\n",
    "\t\tself.conv2 = nn.Conv2d(in_channels=20, out_channels=50,\n",
    "\t\t\tkernel_size=(5, 5))\n",
    "\t\tself.relu2 = nn.ReLU()\n",
    "\t\tself.maxpool2 = nn.MaxPool2d(kernel_size=(2, 2), stride=(2, 2))\n",
    "\n",
    "\t\tself.conv2_drop = nn.Dropout2d()\n",
    "\n",
    "\t\tself.fc1 = nn.Linear(in_features=800, out_features=500)\n",
    "\t\tself.relu3 = nn.ReLU()\n",
    "\t\tself.dropout_l = nn.Dropout(p=0.5)\n",
    "\t\tself.fc2 = nn.Linear(in_features=500, out_features=classes)\n",
    "\n",
    "\tdef forward(self, x):\n",
    "\n",
    "\t\tx = self.conv1(x)\n",
    "\t\tx = self.relu1(x)\n",
    "\t\tx = self.maxpool1(x)\n",
    "\n",
    "\t\tx = self.conv2(x)\n",
    "\t\tx = self.relu2(x)\n",
    "\t\tx = self.maxpool2(x)\n",
    "\t\tx = self.conv2_drop(x)\n",
    "\t\tx = torch.flatten(x, 1)\n",
    "\t\tx = self.fc1(x)\n",
    "\t\tx = self.relu3(x)\n",
    "\t\tx = self.dropout_l(x)\n",
    "\t\tx = self.fc2(x)\n",
    "\t\treturn x"
   ]
  },
  {
   "cell_type": "code",
   "execution_count": 23,
   "metadata": {},
   "outputs": [],
   "source": [
    "class simple_net_upgraded2(nn.Module): \t\t\t\t\t\t\t\t\t\t\t# This is the same as the previous one, but with a different (and more easy to understand) architecture. It has a few more neurons in each layer, replaced x.view(-1, 320) with linear layer. Replaced functional dropout with nn.dropout.\n",
    "\tdef __init__(self, numChannels, classes):\n",
    "\t\tsuper(simple_net_upgraded2, self).__init__()\n",
    "\n",
    "\t\tself.conv1 = nn.Conv2d(in_channels=numChannels, out_channels=30,\n",
    "\t\t\tkernel_size=(5, 5))\n",
    "\t\tself.relu1 = nn.ReLU()\n",
    "\t\tself.maxpool1 = nn.MaxPool2d(kernel_size=(2), stride=(2, 2))\n",
    "\n",
    "\t\tself.conv2 = nn.Conv2d(in_channels=30, out_channels=75,\n",
    "\t\t\tkernel_size=(5, 5))\n",
    "\t\tself.relu2 = nn.ReLU()\n",
    "\t\tself.maxpool2 = nn.MaxPool2d(kernel_size=(2), stride=(2, 2))\n",
    "\n",
    "\t\tself.conv2_drop = nn.Dropout2d()\n",
    "\n",
    "\t\tself.fc1 = nn.Linear(in_features=1200, out_features=900)\n",
    "\t\tself.relu3 = nn.ReLU()\n",
    "\t\tself.dropout_l = nn.Dropout(p=0.3)\n",
    "\t\tself.fc2 = nn.Linear(in_features=900, out_features=classes)\n",
    "\n",
    "\tdef forward(self, x):\n",
    "\n",
    "\t\tx = self.conv1(x)\n",
    "\t\tx = self.relu1(x)\n",
    "\t\tx = self.maxpool1(x)\n",
    "\n",
    "\t\tx = self.conv2(x)\n",
    "\t\tx = self.relu2(x)\n",
    "\t\tx = self.maxpool2(x)\n",
    "\t\tx = self.conv2_drop(x)\n",
    "\t\tx = torch.flatten(x, 1)\n",
    "\t\tx = self.fc1(x)\n",
    "\t\tx = self.relu3(x)\n",
    "\t\tx = self.dropout_l(x)\n",
    "\t\tx = self.fc2(x)\n",
    "\t\treturn x"
   ]
  },
  {
   "cell_type": "code",
   "execution_count": 24,
   "metadata": {},
   "outputs": [],
   "source": [
    "class simple_net_upgraded3(nn.Module): # This is the same as the previous one, but with a different (and more easy to understand) architecture. It has a few more neurons in each layer, replaced x.view(-1, 320) with linear layer. Replaced functional dropout with nn.dropout.\n",
    "\tdef __init__(self, numChannels, classes):\n",
    "\t\tsuper(simple_net_upgraded3, self).__init__()\n",
    "\n",
    "\t\tself.conv1 = nn.Conv2d(in_channels=numChannels, out_channels=50,\n",
    "\t\t\tkernel_size=(5, 5))\n",
    "\t\tself.relu1 = nn.ReLU()\n",
    "\t\tself.maxpool1 = nn.MaxPool2d(kernel_size=(2), stride=(2))\n",
    "\n",
    "\t\tself.conv2 = nn.Conv2d(in_channels=50, out_channels=125,\n",
    "\t\t\tkernel_size=(5, 5))\n",
    "\t\tself.relu2 = nn.ReLU()\n",
    "\t\tself.maxpool2 = nn.MaxPool2d(kernel_size=(2), stride=(2))\n",
    "\n",
    "\t\tself.conv2_drop = nn.Dropout2d()\n",
    "\n",
    "\t\tself.fc1 = nn.Linear(in_features=2000, out_features=1000)\n",
    "\t\tself.relu3 = nn.ReLU()\n",
    "\t\tself.dropout_l = nn.Dropout(p=0.2)\n",
    "\t\tself.fc2 = nn.Linear(in_features=1000, out_features=classes)\n",
    "\n",
    "\tdef forward(self, x):\n",
    "\n",
    "\t\tx = self.conv1(x)\n",
    "\t\tx = self.relu1(x)\n",
    "\t\tx = self.maxpool1(x)\n",
    "\n",
    "\t\tx = self.conv2(x)\n",
    "\t\tx = self.relu2(x)\n",
    "\t\tx = self.maxpool2(x)\n",
    "\t\tx = self.conv2_drop(x)\n",
    "\t\tx = torch.flatten(x, 1)\n",
    "\t\tx = self.fc1(x)\n",
    "\t\tx = self.relu3(x)\n",
    "\t\tx = self.dropout_l(x)\n",
    "\t\tx = self.fc2(x)\n",
    "\t\treturn x"
   ]
  },
  {
   "cell_type": "code",
   "execution_count": 5,
   "metadata": {},
   "outputs": [
    {
     "name": "stdout",
     "output_type": "stream",
     "text": [
      "Reset trainable parameters of layer = Conv2d(1, 20, kernel_size=(5, 5), stride=(1, 1))\n",
      "Reset trainable parameters of layer = Conv2d(20, 50, kernel_size=(5, 5), stride=(1, 1))\n",
      "Reset trainable parameters of layer = Linear(in_features=800, out_features=500, bias=True)\n",
      "Reset trainable parameters of layer = Linear(in_features=500, out_features=10, bias=True)\n",
      "Reset trainable parameters of layer = Conv2d(1, 30, kernel_size=(5, 5), stride=(1, 1))\n",
      "Reset trainable parameters of layer = Conv2d(30, 75, kernel_size=(5, 5), stride=(1, 1))\n",
      "Reset trainable parameters of layer = Linear(in_features=1200, out_features=900, bias=True)\n",
      "Reset trainable parameters of layer = Linear(in_features=900, out_features=10, bias=True)\n",
      "Reset trainable parameters of layer = Conv2d(1, 50, kernel_size=(5, 5), stride=(1, 1))\n",
      "Reset trainable parameters of layer = Conv2d(50, 125, kernel_size=(5, 5), stride=(1, 1))\n",
      "Reset trainable parameters of layer = Linear(in_features=2000, out_features=1000, bias=True)\n",
      "Reset trainable parameters of layer = Linear(in_features=1000, out_features=10, bias=True)\n",
      "Using integrated Ensemble\n",
      "Loaded integrated ensemble model from file\n",
      "Loaded optimizer from integrated ensemble model\n"
     ]
    }
   ],
   "source": [
    "log_interval = 187 #60000/batch_size_train = 1875 => 10 Datapoints per Epoch => 187 Logs per Epoch\n",
    "n_epochs = 20\n",
    "learning_rate = 0.007\n",
    "momentum = 0.5\n",
    "load_data = 1\n",
    "###########\n",
    "use_upgraded_net = 1\n",
    "use_ensemble = 1\n",
    "use_integrated_ensemble = 1\n",
    "##########\n",
    "save_net = 0\n",
    "##########\n",
    "\n",
    "if (use_upgraded_net == 1):  \n",
    "    if (use_ensemble == 1):\n",
    "        if (use_integrated_ensemble==1):\n",
    "            if  \"CIFAR\" in str(test_loader.dataset):\n",
    "                network = ensemble_rectification(3,10)\n",
    "                network.apply(reset_weights)\n",
    "            elif \"MNIST\" in str(test_loader.dataset):\n",
    "                network = ensemble_rectification(1,10)\n",
    "                network.apply(reset_weights)\n",
    "            print(\"Using integrated Ensemble\")\n",
    "        else:\n",
    "            network = simple_net_upgraded(1,10)\n",
    "            network2 = simple_net_upgraded2(1,10)\n",
    "            network3 = simple_net_upgraded3(1,10)\n",
    "            network.apply(reset_weights)\n",
    "            network2.apply(reset_weights)\n",
    "            network3.apply(reset_weights)\n",
    "            print(\"Using Ensemble\")\n",
    "        \n",
    "    \n",
    "    else:\n",
    "        network = simple_net_upgraded(1,10)\n",
    "        network.apply(reset_weights)\n",
    "        print (\"Using Upgraded Net\")\n",
    "else:\n",
    "    network = simple_net()\n",
    "    network.apply(reset_weights)\n",
    "    print (\"Using Basic Net\")\n",
    "\n",
    "\n",
    "#device = \"cuda:0\"\n",
    "#network.to(device)\n",
    "if (use_ensemble == 0):\n",
    "    optimizer = optim.SGD(network.parameters(), lr=learning_rate, momentum=momentum)\n",
    "if (use_ensemble == 1 and use_integrated_ensemble == 0):\n",
    "    optimizer_ensemble = optim.SGD(list(network.parameters())+list(network2.parameters())+list(network3.parameters()), lr=learning_rate, momentum=momentum)\n",
    "    print(\"Loaded Optimizer for Ensemble\")\n",
    "if (use_ensemble and use_integrated_ensemble):\n",
    "    optimizer = optim.SGD(network.parameters(), lr=learning_rate, momentum=momentum)\n",
    "\n",
    "if (load_data and use_upgraded_net == 0):\n",
    "    network.load_state_dict(torch.load('../src/results/model.pth'))\n",
    "    print('Loaded model from file')\n",
    "    optimizer.load_state_dict(torch.load('../src/results/optimizer.pth'))\n",
    "    print('Loaded optimizer from basic model')\n",
    "if (load_data and use_upgraded_net == 1):\n",
    "    if (use_ensemble==1 and use_integrated_ensemble==0):\n",
    "        network.load_state_dict(torch.load('../src/results/model_upgraded_ens.pth'))\n",
    "        network2.load_state_dict(torch.load('../src/results/model2_upgraded_ens.pth'))\n",
    "        network3.load_state_dict(torch.load('../src/results/model3_upgraded_ens.pth'))\n",
    "        print('Loaded upgraded ensemble model from file')\n",
    "        optimizer_ensemble.load_state_dict(torch.load('../src/results/optimizer_ensemble.pth'))\n",
    "        print('Loaded ensemble optimizer from upgraded model')\n",
    "    if (use_ensemble and use_integrated_ensemble):\n",
    "\n",
    "        if  \"CIFAR\" in str(test_loader.dataset):\n",
    "            network.load_state_dict(torch.load('../src/results/model_integrated_ens_cifar.pth'))\n",
    "            print('Loaded integrated ensemble model for cifar from file')\n",
    "            optimizer.load_state_dict(torch.load('../src/results/optimizer_integrated_cifar.pth'))\n",
    "            print('Loaded optimizer from integrated ensemble model for cifar')\n",
    "        else:\n",
    "            network.load_state_dict(torch.load('../src/results/model_integrated_ens.pth'))\n",
    "            print('Loaded integrated ensemble model from file')\n",
    "            optimizer.load_state_dict(torch.load('../src/results/optimizer_integrated.pth'))\n",
    "            print('Loaded optimizer from integrated ensemble model')\n",
    "\n",
    "    if (use_ensemble==0 and use_integrated_ensemble==0):\n",
    "        network.load_state_dict(torch.load('../src/results/model_upgraded_ens.pth'))\n",
    "        print('Loaded upgraded model from file')\n",
    "        optimizer.load_state_dict(torch.load('../src/results/optimizer_upgraded.pth'))\n",
    "        print('Loaded optimizer from upgraded model')\n",
    "\n",
    "if (save_net==1):\n",
    "    print('WARNING: Saving model to file!! Will overwrite existing file!!!')"
   ]
  },
  {
   "cell_type": "code",
   "execution_count": 6,
   "metadata": {},
   "outputs": [],
   "source": [
    "def train(epoch,use_ensemble=0,adversial_train=0):\n",
    "  network.train()\n",
    "  if (use_ensemble==1 and use_integrated_ensemble==0):\n",
    "    network2.train()\n",
    "    network3.train()\n",
    "  for batch_idx, (data, target) in enumerate(train_loader):\n",
    "    if (use_ensemble == 1 and use_integrated_ensemble == 0):\n",
    "      optimizer_ensemble.zero_grad()\n",
    "      output1 = network(data)\n",
    "      output2 = network2(data)\n",
    "      output3 = network3(data)\n",
    "      output = (output1 + output2 + output3)/3 # Average of three networks...not used here but it is usefull in test. You could also use the aggregated output as for the loss but that can result in false weight balancings when a specific model has made a false prediction. Need more literature checking!\n",
    "      #loss = F.cross_entropy(output, target)\n",
    "      #loss.backward()\n",
    "      loss1 = F.cross_entropy(output1, target)\n",
    "      loss2 = F.cross_entropy(output2, target)\n",
    "      loss3 = F.cross_entropy(output3, target)\n",
    "      loss = (loss1 + loss2 + loss3)\n",
    "      loss.backward()\n",
    "      optimizer_ensemble.step()\n",
    "    else:\n",
    "      optimizer.zero_grad()\n",
    "      if (adversial_train):\n",
    "        ########!\n",
    "        fmodel = fb.PyTorchModel(model, bounds=(-0.4242129623889923, 2.821486711502075), device=\"cpu\")\n",
    "        attack = fb.attacks.FGSM()\n",
    "        epsilons = [0.3] #, 0.0, 0.001, 0.01, 0.03, 0.1, 0.3, 0.5, 1.0\n",
    "        raw_advs, advs, is_adv = attack(fmodel, data, target, epsilons=epsilons)\n",
    "        data = raw_advs[0]\n",
    "      ########!\n",
    "      output = network(data)\n",
    "      loss = F.cross_entropy(output, target)\n",
    "      loss.backward()\n",
    "      optimizer.step()\n",
    "    \n",
    "    \n",
    "    \n",
    "    if (batch_idx % log_interval == 0) and (batch_idx != 0):\n",
    "      print('Train Epoch: {} [{}/{} ({:.0f}%)]\\tLoss: {:.6f}'.format(\n",
    "        epoch, batch_idx * len(data), len(train_loader.dataset),\n",
    "        100. * batch_idx / len(train_loader), loss.item()))\n",
    "      if (use_ensemble==1 and use_integrated_ensemble ==0):  \n",
    "        print('Loss 1: {:.6f}'.format(loss1.item()))\n",
    "        print('Loss 2: {:.6f}'.format(loss2.item()))\n",
    "        print('Loss 3: {:.6f}'.format(loss3.item()))\n",
    "      train_losses.append(loss.item())\n",
    "      train_counter.append(\n",
    "        (batch_idx*batch_size_train) + ((epoch-1)*len(train_loader.dataset)))\n",
    "#https://discuss.pytorch.org/t/optimizing-based-on-another-models-output/6935/14\n",
    "#https://discuss.pytorch.org/t/using-a-combined-loss-to-update-two-different-models/73925\n",
    "      "
   ]
  },
  {
   "cell_type": "markdown",
   "metadata": {},
   "source": [
    "# Train difference value for adversial detection"
   ]
  },
  {
   "cell_type": "code",
   "execution_count": 71,
   "metadata": {},
   "outputs": [],
   "source": [
    "def evaluate_threshold(network,train_loader,start,end,step):\n",
    "  epsilons = []\n",
    "  pertubation_ratio = []\n",
    "  network.eval()\n",
    "  with torch.no_grad():\n",
    "    baseline_acc = test()\n",
    "    while(start <= end):\n",
    "      pertubated=0\n",
    "      not_pertubated=0\n",
    "      for batch_idx, (data, target) in enumerate(train_loader):\n",
    "        optimizer.zero_grad()\n",
    "      \n",
    "        output = network(data)\n",
    "\n",
    "        # Output median smoothed ensemble\n",
    "        median_smoothed_batch=torch.clone(data)\n",
    "        median_smoothed_batch = median_smoothing(median_smoothed_batch)\n",
    "        output_ms = network(median_smoothed_batch)\n",
    "        # Output bit reduced ensemble\n",
    "        bit_reduced_batch=torch.clone(data)\n",
    "        bit_reduced_batch = bit_reduction(bit_reduced_batch)\n",
    "        output_br = network(bit_reduced_batch)\n",
    "      \n",
    "        pred = output.data.max(1, keepdim=True)[1]\n",
    "        pred_ms = output_ms.data.max(1, keepdim=True)[1]\n",
    "        pred_br = output_br.data.max(1, keepdim=True)[1]\n",
    "\n",
    "        tensor_map_pred= F.softmax(output, dim=1)\n",
    "        tensor_map_ms = F.softmax(output_ms, dim=1)\n",
    "        tensor_map_br = F.softmax(output_br, dim=1)\n",
    "      \n",
    "        for x in range(len(pred)):\n",
    "          difference_ms=(tensor_map_pred[x])-(tensor_map_ms[x])\n",
    "          difference_br=(tensor_map_pred[x])-(tensor_map_br[x])\n",
    "          distance_list=[max(difference_br).item(),max(difference_ms).item()]\n",
    "          #difference_total = statistics.fmean(distance_list)\n",
    "          difference_total = max(distance_list)\n",
    "          #print(\"Max Tensor Distance:\", difference_total)\n",
    "          if (difference_total > start):\n",
    "            pertubated+=1\n",
    "            #print(\"Image is pertubated\")\n",
    "          else:\n",
    "            not_pertubated+=1\n",
    "            #print(\"Image is not pertubated\")\n",
    "      ratio=(100/len(train_loader.dataset))*not_pertubated\n",
    "      epsilons.append(start)\n",
    "      pertubation_ratio.append(ratio)\n",
    "      print(\"Threshold {} with accuracy {}%\".format(start,ratio))\n",
    "      print(\"Threshold Accuracy/Baseline Accuracy diff: \",abs(baseline_acc.item()-ratio))\n",
    "      print(\"Pertubated: {}\".format(pertubated))\n",
    "      print(\"Not Pertubated: {}\".format(not_pertubated))\n",
    "      print(\"#############################################\")\n",
    "      start+=step\n",
    "  return(np.array(epsilons),np.array(pertubation_ratio),np.array(pertubated),np.array(not_pertubated))\n",
    "  \n",
    "      "
   ]
  },
  {
   "cell_type": "code",
   "execution_count": 72,
   "metadata": {},
   "outputs": [
    {
     "name": "stdout",
     "output_type": "stream",
     "text": [
      "\n",
      "Test set: Avg. loss: 0.0007, Accuracy: 9920/10000 (99%)\n",
      "\n",
      "Threshold 0.005 with accuracy 90.11%\n",
      "Threshold Accuracy/Baseline Accuracy diff:  9.089996948242188\n",
      "Pertubated: 5934\n",
      "Not Pertubated: 54066\n",
      "#############################################\n",
      "Threshold 0.01 with accuracy 92.42%\n",
      "Threshold Accuracy/Baseline Accuracy diff:  6.779996948242186\n",
      "Pertubated: 4548\n",
      "Not Pertubated: 55452\n",
      "#############################################\n",
      "Threshold 0.015 with accuracy 93.43833333333333%\n",
      "Threshold Accuracy/Baseline Accuracy diff:  5.761663614908855\n",
      "Pertubated: 3937\n",
      "Not Pertubated: 56063\n",
      "#############################################\n",
      "Threshold 0.02 with accuracy 94.14666666666668%\n",
      "Threshold Accuracy/Baseline Accuracy diff:  5.053330281575512\n",
      "Pertubated: 3512\n",
      "Not Pertubated: 56488\n",
      "#############################################\n",
      "Threshold 0.025 with accuracy 94.64%\n",
      "Threshold Accuracy/Baseline Accuracy diff:  4.559996948242187\n",
      "Pertubated: 3216\n",
      "Not Pertubated: 56784\n",
      "#############################################\n",
      "Threshold 0.030000000000000002 with accuracy 95.05000000000001%\n",
      "Threshold Accuracy/Baseline Accuracy diff:  4.149996948242176\n",
      "Pertubated: 2970\n",
      "Not Pertubated: 57030\n",
      "#############################################\n",
      "Threshold 0.035 with accuracy 95.34333333333333%\n",
      "Threshold Accuracy/Baseline Accuracy diff:  3.856663614908854\n",
      "Pertubated: 2794\n",
      "Not Pertubated: 57206\n",
      "#############################################\n",
      "Threshold 0.04 with accuracy 95.59666666666668%\n",
      "Threshold Accuracy/Baseline Accuracy diff:  3.6033302815755093\n",
      "Pertubated: 2642\n",
      "Not Pertubated: 57358\n",
      "#############################################\n",
      "Threshold 0.045 with accuracy 95.83833333333334%\n",
      "Threshold Accuracy/Baseline Accuracy diff:  3.3616636149088492\n",
      "Pertubated: 2497\n",
      "Not Pertubated: 57503\n",
      "#############################################\n",
      "Threshold 0.049999999999999996 with accuracy 96.04166666666667%\n",
      "Threshold Accuracy/Baseline Accuracy diff:  3.158330281575516\n",
      "Pertubated: 2375\n",
      "Not Pertubated: 57625\n",
      "#############################################\n"
     ]
    }
   ],
   "source": [
    "ep, pert_ratio, pt, n_pt = evaluate_threshold(network,train_loader,start=0.005,end=0.050,step=0.005)"
   ]
  },
  {
   "cell_type": "code",
   "execution_count": 166,
   "metadata": {},
   "outputs": [
    {
     "data": {
      "text/plain": [
       "[<matplotlib.lines.Line2D at 0x12090ed5f70>,\n",
       " <matplotlib.lines.Line2D at 0x12090ed57c0>]"
      ]
     },
     "execution_count": 166,
     "metadata": {},
     "output_type": "execute_result"
    },
    {
     "data": {
      "image/png": "[encoded data removed]",
      "text/plain": [
       "<Figure size 720x720 with 1 Axes>"
      ]
     },
     "metadata": {
      "needs_background": "light"
     },
     "output_type": "display_data"
    }
   ],
   "source": [
    "\n",
    "plt.figure(figsize=(10,10))\n",
    "plt.xlabel('Threshold Value')\n",
    "plt.ylabel('Absolute Derivation between Accuracy and \"Tensor Difference\" Accuracy')\n",
    "plt.title('Derivation \"Tensor Difference\"-Predictions with Baseline-Accuracy')\n",
    "\n",
    "for i in range(len(pert_ratio)):\n",
    "    plt.annotate(\"{:.2f}%\".format(99.20-pert_ratio[i]), (ep[i]-0.001,99.20-pert_ratio[i]-0.2))\n",
    "plt.plot(ep, 99.20-pert_ratio, 'g^',ep,99.20-pert_ratio)"
   ]
  },
  {
   "cell_type": "code",
   "execution_count": 114,
   "metadata": {},
   "outputs": [
    {
     "data": {
      "text/plain": [
       "[<matplotlib.lines.Line2D at 0x1206b3f7250>,\n",
       " <matplotlib.lines.Line2D at 0x1206b3f7160>]"
      ]
     },
     "execution_count": 114,
     "metadata": {},
     "output_type": "execute_result"
    },
    {
     "data": {
      "image/png": "[encoded data removed]",
      "text/plain": [
       "<Figure size 864x720 with 1 Axes>"
      ]
     },
     "metadata": {
      "needs_background": "light"
     },
     "output_type": "display_data"
    }
   ],
   "source": [
    "\n",
    "plt.figure(figsize=(12,10))\n",
    "plt.xlabel('Threshold Value')\n",
    "plt.ylabel('Accuracy Adversial Detection')\n",
    "plt.title('Adversial Detection Threshold - Baseline Model')\n",
    "\n",
    "for i in range(len(pert_ratio)):\n",
    "    plt.annotate(\"{:.2f}%\".format(pert_ratio[i]), (ep[i]-0.001,pert_ratio[i]-0.2))\n",
    "plt.plot(ep, pert_ratio, 'g^',ep,pert_ratio)"
   ]
  },
  {
   "cell_type": "code",
   "execution_count": 12,
   "metadata": {},
   "outputs": [
    {
     "name": "stdout",
     "output_type": "stream",
     "text": [
      "Threshold 0.4 with derivation of -10.366574694521091%\n",
      "Accuracy attacked Baseline:  0.9154333333333333\n",
      "Pertubated real: 5074\n",
      "Pertubated calculated: 5600\n",
      "Not Pertubated calculated: 54400\n",
      "#############################################\n",
      "Threshold 0.41000000000000003 with derivation of -7.50886874260938%\n",
      "Accuracy attacked Baseline:  0.9154333333333333\n",
      "Pertubated real: 5074\n",
      "Pertubated calculated: 5455\n",
      "Not Pertubated calculated: 54545\n",
      "#############################################\n",
      "Threshold 0.42000000000000004 with derivation of -4.197871501773747%\n",
      "Accuracy attacked Baseline:  0.9154333333333333\n",
      "Pertubated real: 5074\n",
      "Pertubated calculated: 5287\n",
      "Not Pertubated calculated: 54713\n",
      "#############################################\n",
      "Threshold 0.43000000000000005 with derivation of -1.1824990145841525%\n",
      "Accuracy attacked Baseline:  0.9154333333333333\n",
      "Pertubated real: 5074\n",
      "Pertubated calculated: 5134\n",
      "Not Pertubated calculated: 54866\n",
      "#############################################\n",
      "Threshold 0.44000000000000006 with derivation of 2.12849822625148%\n",
      "Accuracy attacked Baseline:  0.9154333333333333\n",
      "Pertubated real: 5074\n",
      "Pertubated calculated: 4966\n",
      "Not Pertubated calculated: 55034\n",
      "#############################################\n",
      "Threshold 0.45000000000000007 with derivation of 4.63145447378794%\n",
      "Accuracy attacked Baseline:  0.9154333333333333\n",
      "Pertubated real: 5074\n",
      "Pertubated calculated: 4839\n",
      "Not Pertubated calculated: 55161\n",
      "#############################################\n",
      "Threshold 0.4600000000000001 with derivation of 7.430035474970438%\n",
      "Accuracy attacked Baseline:  0.9154333333333333\n",
      "Pertubated real: 5074\n",
      "Pertubated calculated: 4697\n",
      "Not Pertubated calculated: 55303\n",
      "#############################################\n",
      "Threshold 0.4700000000000001 with derivation of 10.405991328340562%\n",
      "Accuracy attacked Baseline:  0.9154333333333333\n",
      "Pertubated real: 5074\n",
      "Pertubated calculated: 4546\n",
      "Not Pertubated calculated: 55454\n",
      "#############################################\n",
      "Threshold 0.4800000000000001 with derivation of 13.263697280252273%\n",
      "Accuracy attacked Baseline:  0.9154333333333333\n",
      "Pertubated real: 5074\n",
      "Pertubated calculated: 4401\n",
      "Not Pertubated calculated: 55599\n",
      "#############################################\n",
      "Threshold 0.4900000000000001 with derivation of 15.825778478517933%\n",
      "Accuracy attacked Baseline:  0.9154333333333333\n",
      "Pertubated real: 5074\n",
      "Pertubated calculated: 4271\n",
      "Not Pertubated calculated: 55729\n",
      "#############################################\n"
     ]
    }
   ],
   "source": [
    "#! Warning: Function is really slow because it generates new pertubations for each step\n",
    "\n",
    "start=0.4\n",
    "end=0.5\n",
    "step=0.01\n",
    "pert_count=0\n",
    "epsilons = []\n",
    "pertubation_ratio = []\n",
    "accuracies_adversial = []\n",
    "from foolbox.criteria import Misclassification\n",
    "# load data from dataloader\n",
    "while(start <= end):\n",
    "  pertubated=0\n",
    "  not_pertubated=0\n",
    "  pert_count=0\n",
    "  for i, data in enumerate(train_loader,0):\n",
    "    input, label = data\n",
    "    input, label = Variable(input.to(device)), Variable(label.to(device))\n",
    "\n",
    "    model = network.eval()\n",
    "\n",
    "      \n",
    "      # Generate adversial dataset for attack\n",
    "    fmodel = fb.PyTorchModel(model, bounds=(-0.4242129623889923, 2.821486711502075), device=\"cpu\")\n",
    "    attack = fb.attacks.FGSM()\n",
    "    epsilons = [0.3] #, 0.0, 0.001, 0.01, 0.03, 0.1, 0.3, 0.5, 1.0\n",
    "    criterion = Misclassification(label)\n",
    "    raw_advs, advs, is_adv = attack(fmodel, input, label, epsilons=epsilons)\n",
    "    output = network(raw_advs[0])\n",
    "\n",
    "        # Output median smoothed ensemble\n",
    "    median_smoothed_batch=torch.clone(raw_advs[0])\n",
    "    median_smoothed_batch = median_smoothing(median_smoothed_batch)\n",
    "    output_ms = network(median_smoothed_batch)\n",
    "        # Output bit reduced ensemble\n",
    "    bit_reduced_batch=torch.clone(raw_advs[0])\n",
    "    bit_reduced_batch = bit_reduction(bit_reduced_batch)\n",
    "    output_br = network(bit_reduced_batch)\n",
    "      \n",
    "    pred = output.data.max(1, keepdim=True)[1]\n",
    "    pred_ms = output_ms.data.max(1, keepdim=True)[1]\n",
    "    pred_br = output_br.data.max(1, keepdim=True)[1]\n",
    "\n",
    "    tensor_map_pred= F.softmax(output, dim=1)\n",
    "    tensor_map_ms = F.softmax(output_ms, dim=1)\n",
    "    tensor_map_br = F.softmax(output_br, dim=1)\n",
    "      \n",
    "    for x in range(len(pred)):\n",
    "      difference_ms=abs((tensor_map_pred[x])-(tensor_map_ms[x]))\n",
    "      difference_br=abs((tensor_map_pred[x])-(tensor_map_br[x]))\n",
    "      distance_list=[max(difference_br).item(),max(difference_ms).item()]\n",
    "          #difference_total = statistics.fmean(distance_list)\n",
    "      difference_total = max(distance_list)\n",
    "          #print(\"Max Tensor Distance:\", difference_total)\n",
    "      if (difference_total > start):\n",
    "        pertubated+=1\n",
    "            #print(\"Image is pertubated\")\n",
    "      else:\n",
    "        not_pertubated+=1\n",
    "            #print(\"Image is not pertubated\")\n",
    "    pert_count+=np.count_nonzero(is_adv.cpu().view(-1).numpy())\n",
    "    accuracies_adversial.append(fb.utils.accuracy(fmodel, raw_advs[0], label))\n",
    "  ratio=(100/pert_count)*pertubated\n",
    "  epsilons.append(start)\n",
    "  pertubation_ratio.append(ratio)\n",
    "  \n",
    "  print(\"Threshold {} with derivation of {}%\".format(start,100-ratio))\n",
    "  print(\"Accuracy attacked Baseline: \",np.array(accuracies_adversial).mean())\n",
    "  print(\"Pertubated real: {}\".format(pert_count))\n",
    "  print(\"Pertubated calculated: {}\".format(pertubated))\n",
    "  print(\"Not Pertubated calculated: {}\".format(not_pertubated))\n",
    "  print(\"#############################################\")\n",
    "  start+=step"
   ]
  },
  {
   "cell_type": "code",
   "execution_count": 167,
   "metadata": {},
   "outputs": [
    {
     "data": {
      "text/plain": [
       "[<matplotlib.lines.Line2D at 0x120910d9730>]"
      ]
     },
     "execution_count": 167,
     "metadata": {},
     "output_type": "execute_result"
    },
    {
     "data": {
      "image/png": "[encoded data removed]",
      "text/plain": [
       "<Figure size 720x720 with 1 Axes>"
      ]
     },
     "metadata": {
      "needs_background": "light"
     },
     "output_type": "display_data"
    }
   ],
   "source": [
    "plt.figure(figsize=(10,10))\n",
    "plt.xlabel('Threshold Value')\n",
    "plt.ylabel('Detection Rate of Adversial Images')\n",
    "plt.title('Detection of Adversial Samples using \"Tensor Difference\"-Approach with FGSM Attack')\n",
    "\n",
    "for i in range(len(pertubation_ratio)):\n",
    "    plt.annotate(\"{:.2f}%\".format(100-pertubation_ratio[i]), (ep[i]-0.001,(100-np.array(pertubation_ratio[i])).clip(min=0)-0.2))\n",
    "plt.plot(ep, (100-np.array(pertubation_ratio)).clip(min=0))"
   ]
  },
  {
   "cell_type": "code",
   "execution_count": 180,
   "metadata": {},
   "outputs": [
    {
     "data": {
      "text/plain": [
       "[<matplotlib.lines.Line2D at 0x1208eb03e50>,\n",
       " <matplotlib.lines.Line2D at 0x1208eb03670>]"
      ]
     },
     "execution_count": 180,
     "metadata": {},
     "output_type": "execute_result"
    },
    {
     "data": {
      "image/png": "[encoded data removed]",
      "text/plain": [
       "<Figure size 1080x1080 with 1 Axes>"
      ]
     },
     "metadata": {
      "needs_background": "light"
     },
     "output_type": "display_data"
    }
   ],
   "source": [
    "plt.figure(figsize=(15,15))\n",
    "plt.xlabel('Threshold Value')\n",
    "plt.ylabel('Absolute Derivation: Adversial Detection|Baseline Accuracy')\n",
    "plt.title('Derivation FGSM attaked \"Tensor Difference\"-Predictions with Baseline-Accuracy')\n",
    "\n",
    "for i in range(len(pertubation_ratio)):\n",
    "    plt.annotate(\"{:.2f}%\".format(100-pertubation_ratio[i]), (ep[i]-0.001,(100-np.array(pertubation_ratio[i])).clip(min=0)+1))\n",
    "plt.plot(ep, (100-np.array(pertubation_ratio)).clip(min=0),'g^',ep, (100-np.array(pertubation_ratio)).clip(min=0))\n",
    "\n",
    "for i in range(len(pert_ratio)):\n",
    "    plt.annotate(\"{:.2f}%\".format(pert_ratio[i]), (ep[i]-0.001,pert_ratio[i]+2))\n",
    "plt.plot(ep, pert_ratio, 'g^',ep,pert_ratio)\n"
   ]
  },
  {
   "cell_type": "code",
   "execution_count": 7,
   "metadata": {},
   "outputs": [],
   "source": [
    "def test(use_ensemble=0):\n",
    "  test_losses=[]\n",
    "  test_acc = []\n",
    "  network.eval()\n",
    "  if (use_ensemble==1 and use_integrated_ensemble==0):\n",
    "    network2.eval()\n",
    "    network3.eval()\n",
    "  test_loss = 0\n",
    "  correct = 0\n",
    "  with torch.no_grad():\n",
    "    for data, target in test_loader:\n",
    "      output = network(data)\n",
    "      if (use_ensemble==1 and use_integrated_ensemble==0):\n",
    "        output2 = network2(data)\n",
    "        output3 = network3(data)\n",
    "        output = (output + output2 + output3)/3# Average of three networks. Alternative is to use majority voting using output.data.max(1)[1] for each output and write it to an array to get argmax\n",
    "\n",
    "      test_loss += F.cross_entropy(output, target).item()\n",
    "      pred = output.data.max(1, keepdim=True)[1]\n",
    "      correct += pred.eq(target.data.view_as(pred)).sum()\n",
    "  test_loss /= len(test_loader.dataset)\n",
    "  test_losses.append(test_loss)\n",
    "  acc = 100. * correct / len(test_loader.dataset)\n",
    "  test_acc.append(acc)\n",
    "  print('\\nTest set: Avg. loss: {:.4f}, Accuracy: {}/{} ({:.0f}%)\\n'.format(\n",
    "    test_loss, correct, len(test_loader.dataset),\n",
    "    100. * correct / len(test_loader.dataset)))\n",
    "  return(acc)"
   ]
  },
  {
   "cell_type": "code",
   "execution_count": 197,
   "metadata": {},
   "outputs": [],
   "source": [
    "def test_conv_image_rect(use_ensemble=1):\n",
    "    train_losses = []\n",
    "    train_counter = []\n",
    "    test_losses = []\n",
    "    test_counter = [i*len(train_loader.dataset) for i in range(n_epochs + 1)]\n",
    "    test_acc = []\n",
    "    debug_output = 1\n",
    "    network.eval()\n",
    "    network2.eval()\n",
    "    network3.eval()\n",
    "    test_loss = 0\n",
    "    correct = 0\n",
    "    correct_ms = 0\n",
    "    correct_br = 0\n",
    "    correct_ensemble = 0\n",
    "    pertubated = 0\n",
    "    not_pertubated = 0\n",
    "    with torch.no_grad():\n",
    "        for data, target in test_loader:\n",
    "\n",
    "            # Output original ensemble\n",
    "            output = network(data)\n",
    "            output2 = network2(data)\n",
    "            output3 = network3(data)\n",
    "\n",
    "            # Output median smoothed ensemble\n",
    "            median_smoothed_batch=torch.clone(data)\n",
    "            median_smoothed_batch = median_smoothing(median_smoothed_batch)\n",
    "            output_ms = network(median_smoothed_batch)\n",
    "            output2_ms = network2(median_smoothed_batch)\n",
    "            output3_ms = network3(median_smoothed_batch)\n",
    "            # Output bit reduced ensemble\n",
    "            bit_reduced_batch=torch.clone(data)\n",
    "            bit_reduced_batch = bit_reduction(bit_reduced_batch)\n",
    "            output_br = network(bit_reduced_batch)\n",
    "            output2_br = network2(bit_reduced_batch)\n",
    "            output3_br = network3(bit_reduced_batch)\n",
    "\n",
    "            # Average of three networks. Alternative is to use majority voting using output.data.max(1)[1] for each output and write it to an array to get argmax\n",
    "            output = (output + output2 + output3)/3\n",
    "            output_ms = (output_ms + output2_ms + output3_ms)/3\n",
    "            output_br = (output_br + output2_br + output3_br)/3\n",
    "\n",
    "            # Losses for each ensemble\n",
    "            test_loss += F.cross_entropy(output, target).item()\n",
    "            # To\n",
    "            # Do\n",
    "\n",
    "            # Test accuracy\n",
    "\n",
    "            pred = output.data.max(1, keepdim=True)[1]\n",
    "            pred_ms = output_ms.data.max(1, keepdim=True)[1]\n",
    "            pred_br = output_br.data.max(1, keepdim=True)[1]\n",
    "\n",
    "            tst= F.softmax(output, dim=1)\n",
    "            tst_med = F.softmax(output_ms, dim=1)\n",
    "            tst_scaled = F.softmax(output_br, dim=1)\n",
    "\n",
    "\n",
    "\n",
    "            # Jury Vote for ensemble predictions\n",
    "            jury_vote = []\n",
    "            for x in range(len(pred)):\n",
    "                votes = []\n",
    "                first_vote = output.data.max(1, keepdim=True)[1][x].item()\n",
    "                second_vote = output_ms.data.max(1, keepdim=True)[1][x].item()\n",
    "                third_vote = output_br.data.max(1, keepdim=True)[1][x].item()\n",
    "                votes.append(first_vote)\n",
    "                votes.append(second_vote)\n",
    "                votes.append(third_vote)\n",
    "                jury_vote.append(np.bincount(votes).argmax())\n",
    "                difference_ms=(tst[x])-(tst_med[x])\n",
    "                difference_br=(tst[x])-(tst_scaled[x])\n",
    "\n",
    "\n",
    "                distance_list=[max(difference_br).item(),max(difference_ms).item()]\n",
    "                #difference_total = statistics.fmean(distance_list)\n",
    "                difference_total = max(distance_list)\n",
    "                #print(\"Max Tensor Distance:\", difference_total)\n",
    "\n",
    "                if (difference_total > 0.015):\n",
    "                    pertubated+=1\n",
    "                    #print(\"Image is pertubated\")\n",
    "                else:\n",
    "                    not_pertubated+=1\n",
    "                    #print(\"Image is not pertubated\")\n",
    "                \n",
    "                if(target[x].item()==jury_vote[x]):\n",
    "                    correct_ensemble += 1\n",
    "                else:\n",
    "                    print(\"Original target:\",target[x].item(),\"| Jury voted class:\",jury_vote[x],\"| Vanilla Ensemble Vote:\" ,first_vote,\"Median-Smoothed Ensemble Vote:\",second_vote,\"Bit-Reduced Ensemble Vote:\",third_vote)\n",
    "                    if (debug_output):\n",
    "                        fig = plt.figure()\n",
    "                        ax1 = fig.add_subplot(131)  # left side\n",
    "                        ax2 = fig.add_subplot(132)  # right side\n",
    "                        ax3 = fig.add_subplot(133)  # right side\n",
    "                    \n",
    "                        ax1.title.set_text(\"Original Image\")\n",
    "                        ax2.title.set_text(\"Median Smoothed Image\")\n",
    "                        ax3.title.set_text(\"Bit Reduced Image\")\n",
    "\n",
    "                        ax1.imshow(data[x][0], cmap='gray', interpolation='none')\n",
    "                        ax2.imshow(median_smoothed_batch[x][0], cmap='gray', interpolation='none')\n",
    "                        ax3.imshow(bit_reduced_batch[x][0], cmap='gray', interpolation='none')\n",
    "                        fig.text(.5, .05, \"Original Target: {}\".format(target[x].item()), ha='center')\n",
    "                        fig.set_figheight(5)\n",
    "                        fig.set_figwidth(10)\n",
    "                        plt.show()\n",
    "\n",
    "\n",
    "            correct += pred.eq(target.data.view_as(pred)).sum()\n",
    "            correct_ms += pred_ms.eq(target.data.view_as(pred_ms)).sum()\n",
    "            correct_br += pred_br.eq(target.data.view_as(pred_br)).sum()\n",
    "            \n",
    "    test_loss /= len(test_loader.dataset)\n",
    "    test_losses.append(test_loss)\n",
    "    acc = 100. * correct / len(test_loader.dataset)\n",
    "    test_acc.append(acc)\n",
    "    print('\\nTest set: Avg. loss: {:.4f}, Accuracy: {}/{} ({:.0f}%), Accuracy_Median: {}, Accuracy_BitSmooth: {}, Accuracy_Ensemble: {}, perturbated_count: {}, not_perturbated_count: {}\\n'.format(\n",
    "    test_loss, correct, len(test_loader.dataset),\n",
    "    100. * correct / len(test_loader.dataset), correct_ms, correct_br, correct_ensemble, pertubated, not_pertubated))\n",
    "    "
   ]
  },
  {
   "cell_type": "code",
   "execution_count": 39,
   "metadata": {},
   "outputs": [
    {
     "name": "stdout",
     "output_type": "stream",
     "text": [
      "Hallo\n"
     ]
    }
   ],
   "source": [
    "if  \"cifar\" in str(test_loader.dataset.filename):\n",
    "    print(\"Hallo\")"
   ]
  },
  {
   "cell_type": "code",
   "execution_count": 38,
   "metadata": {},
   "outputs": [
    {
     "data": {
      "text/plain": [
       "'cifar-10-python.tar.gz'"
      ]
     },
     "execution_count": 38,
     "metadata": {},
     "output_type": "execute_result"
    }
   ],
   "source": [
    "str(test_loader.dataset.filename)"
   ]
  },
  {
   "cell_type": "code",
   "execution_count": 198,
   "metadata": {},
   "outputs": [
    {
     "ename": "NameError",
     "evalue": "name 'network2' is not defined",
     "output_type": "error",
     "traceback": [
      "\u001b[1;31m---------------------------------------------------------------------------\u001b[0m",
      "\u001b[1;31mNameError\u001b[0m                                 Traceback (most recent call last)",
      "\u001b[1;32m<ipython-input-198-e84b35f62e9c>\u001b[0m in \u001b[0;36m<module>\u001b[1;34m\u001b[0m\n\u001b[1;32m----> 1\u001b[1;33m \u001b[0mtest_conv_image_rect\u001b[0m\u001b[1;33m(\u001b[0m\u001b[1;33m)\u001b[0m\u001b[1;33m\u001b[0m\u001b[1;33m\u001b[0m\u001b[0m\n\u001b[0m",
      "\u001b[1;32m<ipython-input-197-c973e1c871b7>\u001b[0m in \u001b[0;36mtest_conv_image_rect\u001b[1;34m(use_ensemble)\u001b[0m\n\u001b[0;32m      7\u001b[0m     \u001b[0mdebug_output\u001b[0m \u001b[1;33m=\u001b[0m \u001b[1;36m1\u001b[0m\u001b[1;33m\u001b[0m\u001b[1;33m\u001b[0m\u001b[0m\n\u001b[0;32m      8\u001b[0m     \u001b[0mnetwork\u001b[0m\u001b[1;33m.\u001b[0m\u001b[0meval\u001b[0m\u001b[1;33m(\u001b[0m\u001b[1;33m)\u001b[0m\u001b[1;33m\u001b[0m\u001b[1;33m\u001b[0m\u001b[0m\n\u001b[1;32m----> 9\u001b[1;33m     \u001b[0mnetwork2\u001b[0m\u001b[1;33m.\u001b[0m\u001b[0meval\u001b[0m\u001b[1;33m(\u001b[0m\u001b[1;33m)\u001b[0m\u001b[1;33m\u001b[0m\u001b[1;33m\u001b[0m\u001b[0m\n\u001b[0m\u001b[0;32m     10\u001b[0m     \u001b[0mnetwork3\u001b[0m\u001b[1;33m.\u001b[0m\u001b[0meval\u001b[0m\u001b[1;33m(\u001b[0m\u001b[1;33m)\u001b[0m\u001b[1;33m\u001b[0m\u001b[1;33m\u001b[0m\u001b[0m\n\u001b[0;32m     11\u001b[0m     \u001b[0mtest_loss\u001b[0m \u001b[1;33m=\u001b[0m \u001b[1;36m0\u001b[0m\u001b[1;33m\u001b[0m\u001b[1;33m\u001b[0m\u001b[0m\n",
      "\u001b[1;31mNameError\u001b[0m: name 'network2' is not defined"
     ]
    }
   ],
   "source": [
    "test_conv_image_rect()"
   ]
  },
  {
   "cell_type": "code",
   "execution_count": 178,
   "metadata": {},
   "outputs": [],
   "source": [
    "#0.001, pert=1430,n_pert=8554\n",
    "#0.002, pert=1114,n_pert=8870\n",
    "#0.003, pert=961,n_pert=9023\n",
    "#0.004, pert=865,n_pert=9119\n",
    "#0.005, pert=803,n_pert=9181\n",
    "#0.006, pert=752,n_pert=9232\n",
    "#0.007, pert=710,n_pert=9274\n",
    "#0.008, pert=667,n_pert=9317\n",
    "#0.009, pert=627,n_pert=9357\n",
    "#0.010, pert=608,n_pert=9376\n",
    "#0.011, pert=586,n_pert=9398\n",
    "#0.012, pert=569,n_pert=9415\n",
    "#0.013, pert=552,n_pert=9432\n",
    "#0.014, pert=536,n_pert=9448\n",
    "#0.015, pert=515,n_pert=9469\n",
    "#0.020, pert=461,n_pert=9523\n",
    "#0.025, pert=432,n_pert=9552\n",
    "#0.030, pert=400,n_pert=9584"
   ]
  },
  {
   "cell_type": "code",
   "execution_count": 26,
   "metadata": {},
   "outputs": [
    {
     "name": "stdout",
     "output_type": "stream",
     "text": [
      "\n",
      "Test set: Avg. loss: 0.1065, Accuracy: 627/10000 (6%)\n",
      "\n",
      "Train Epoch: 1 [5984/50000 (12%)]\tLoss: 2.073569\n",
      "Train Epoch: 1 [11968/50000 (24%)]\tLoss: 1.997082\n",
      "Train Epoch: 1 [17952/50000 (36%)]\tLoss: 1.760032\n",
      "Train Epoch: 1 [23936/50000 (48%)]\tLoss: 1.692300\n",
      "Train Epoch: 1 [29920/50000 (60%)]\tLoss: 1.845139\n",
      "Train Epoch: 1 [35904/50000 (72%)]\tLoss: 1.721915\n",
      "Train Epoch: 1 [41888/50000 (84%)]\tLoss: 1.960931\n",
      "Train Epoch: 1 [47872/50000 (96%)]\tLoss: 1.963584\n",
      "\n",
      "Test set: Avg. loss: 0.0490, Accuracy: 4355/10000 (44%)\n",
      "\n",
      "Train Epoch: 2 [5984/50000 (12%)]\tLoss: 1.754009\n",
      "Train Epoch: 2 [11968/50000 (24%)]\tLoss: 1.677434\n",
      "Train Epoch: 2 [17952/50000 (36%)]\tLoss: 1.548920\n",
      "Train Epoch: 2 [23936/50000 (48%)]\tLoss: 1.641004\n",
      "Train Epoch: 2 [29920/50000 (60%)]\tLoss: 1.653393\n",
      "Train Epoch: 2 [35904/50000 (72%)]\tLoss: 1.949355\n",
      "Train Epoch: 2 [41888/50000 (84%)]\tLoss: 1.661766\n",
      "Train Epoch: 2 [47872/50000 (96%)]\tLoss: 1.473583\n",
      "\n",
      "Test set: Avg. loss: 0.0440, Accuracy: 4873/10000 (49%)\n",
      "\n",
      "Train Epoch: 3 [5984/50000 (12%)]\tLoss: 1.508876\n",
      "Train Epoch: 3 [11968/50000 (24%)]\tLoss: 1.189687\n",
      "Train Epoch: 3 [17952/50000 (36%)]\tLoss: 1.973667\n",
      "Train Epoch: 3 [23936/50000 (48%)]\tLoss: 1.457344\n",
      "Train Epoch: 3 [29920/50000 (60%)]\tLoss: 1.338343\n",
      "Train Epoch: 3 [35904/50000 (72%)]\tLoss: 1.708971\n",
      "Train Epoch: 3 [41888/50000 (84%)]\tLoss: 1.843574\n",
      "Train Epoch: 3 [47872/50000 (96%)]\tLoss: 1.288046\n",
      "\n",
      "Test set: Avg. loss: 0.0415, Accuracy: 5245/10000 (52%)\n",
      "\n",
      "Train Epoch: 4 [5984/50000 (12%)]\tLoss: 1.297425\n",
      "Train Epoch: 4 [11968/50000 (24%)]\tLoss: 1.592388\n",
      "Train Epoch: 4 [17952/50000 (36%)]\tLoss: 1.373099\n",
      "Train Epoch: 4 [23936/50000 (48%)]\tLoss: 1.456425\n",
      "Train Epoch: 4 [29920/50000 (60%)]\tLoss: 1.729552\n",
      "Train Epoch: 4 [35904/50000 (72%)]\tLoss: 1.402979\n",
      "Train Epoch: 4 [41888/50000 (84%)]\tLoss: 1.369154\n",
      "Train Epoch: 4 [47872/50000 (96%)]\tLoss: 1.647511\n",
      "\n",
      "Test set: Avg. loss: 0.0392, Accuracy: 5550/10000 (56%)\n",
      "\n",
      "Train Epoch: 5 [5984/50000 (12%)]\tLoss: 1.463689\n",
      "Train Epoch: 5 [11968/50000 (24%)]\tLoss: 1.588845\n",
      "Train Epoch: 5 [17952/50000 (36%)]\tLoss: 1.452744\n",
      "Train Epoch: 5 [23936/50000 (48%)]\tLoss: 1.387295\n",
      "Train Epoch: 5 [29920/50000 (60%)]\tLoss: 1.487591\n",
      "Train Epoch: 5 [35904/50000 (72%)]\tLoss: 1.114142\n",
      "Train Epoch: 5 [41888/50000 (84%)]\tLoss: 1.520005\n",
      "Train Epoch: 5 [47872/50000 (96%)]\tLoss: 1.547015\n",
      "\n",
      "Test set: Avg. loss: 0.0381, Accuracy: 5693/10000 (57%)\n",
      "\n",
      "Train Epoch: 6 [5984/50000 (12%)]\tLoss: 1.304352\n",
      "Train Epoch: 6 [11968/50000 (24%)]\tLoss: 1.146835\n",
      "Train Epoch: 6 [17952/50000 (36%)]\tLoss: 1.241923\n",
      "Train Epoch: 6 [23936/50000 (48%)]\tLoss: 1.879855\n",
      "Train Epoch: 6 [29920/50000 (60%)]\tLoss: 1.549679\n",
      "Train Epoch: 6 [35904/50000 (72%)]\tLoss: 1.137700\n",
      "Train Epoch: 6 [41888/50000 (84%)]\tLoss: 1.658710\n",
      "Train Epoch: 6 [47872/50000 (96%)]\tLoss: 1.092030\n",
      "\n",
      "Test set: Avg. loss: 0.0370, Accuracy: 5880/10000 (59%)\n",
      "\n",
      "Train Epoch: 7 [5984/50000 (12%)]\tLoss: 0.755729\n",
      "Train Epoch: 7 [11968/50000 (24%)]\tLoss: 1.063958\n",
      "Train Epoch: 7 [17952/50000 (36%)]\tLoss: 1.365441\n",
      "Train Epoch: 7 [23936/50000 (48%)]\tLoss: 1.255393\n",
      "Train Epoch: 7 [29920/50000 (60%)]\tLoss: 1.284805\n",
      "Train Epoch: 7 [35904/50000 (72%)]\tLoss: 1.213899\n",
      "Train Epoch: 7 [41888/50000 (84%)]\tLoss: 1.469478\n",
      "Train Epoch: 7 [47872/50000 (96%)]\tLoss: 1.682810\n",
      "\n",
      "Test set: Avg. loss: 0.0352, Accuracy: 6037/10000 (60%)\n",
      "\n",
      "Train Epoch: 8 [5984/50000 (12%)]\tLoss: 1.107969\n",
      "Train Epoch: 8 [11968/50000 (24%)]\tLoss: 1.248447\n",
      "Train Epoch: 8 [17952/50000 (36%)]\tLoss: 1.496967\n",
      "Train Epoch: 8 [23936/50000 (48%)]\tLoss: 1.581078\n",
      "Train Epoch: 8 [29920/50000 (60%)]\tLoss: 1.307145\n",
      "Train Epoch: 8 [35904/50000 (72%)]\tLoss: 1.271815\n",
      "Train Epoch: 8 [41888/50000 (84%)]\tLoss: 1.378618\n",
      "Train Epoch: 8 [47872/50000 (96%)]\tLoss: 0.997363\n",
      "\n",
      "Test set: Avg. loss: 0.0355, Accuracy: 6098/10000 (61%)\n",
      "\n",
      "Train Epoch: 9 [5984/50000 (12%)]\tLoss: 0.999064\n",
      "Train Epoch: 9 [11968/50000 (24%)]\tLoss: 1.031945\n",
      "Train Epoch: 9 [17952/50000 (36%)]\tLoss: 1.406894\n",
      "Train Epoch: 9 [23936/50000 (48%)]\tLoss: 1.213488\n",
      "Train Epoch: 9 [29920/50000 (60%)]\tLoss: 0.975145\n",
      "Train Epoch: 9 [35904/50000 (72%)]\tLoss: 1.160262\n",
      "Train Epoch: 9 [41888/50000 (84%)]\tLoss: 1.183526\n",
      "Train Epoch: 9 [47872/50000 (96%)]\tLoss: 1.602172\n",
      "\n",
      "Test set: Avg. loss: 0.0342, Accuracy: 6224/10000 (62%)\n",
      "\n",
      "Train Epoch: 10 [5984/50000 (12%)]\tLoss: 1.518928\n",
      "Train Epoch: 10 [11968/50000 (24%)]\tLoss: 0.961117\n",
      "Train Epoch: 10 [17952/50000 (36%)]\tLoss: 1.190525\n",
      "Train Epoch: 10 [23936/50000 (48%)]\tLoss: 1.210838\n",
      "Train Epoch: 10 [29920/50000 (60%)]\tLoss: 1.453495\n",
      "Train Epoch: 10 [35904/50000 (72%)]\tLoss: 1.380605\n",
      "Train Epoch: 10 [41888/50000 (84%)]\tLoss: 1.457026\n",
      "Train Epoch: 10 [47872/50000 (96%)]\tLoss: 1.087784\n",
      "\n",
      "Test set: Avg. loss: 0.0341, Accuracy: 6265/10000 (63%)\n",
      "\n",
      "Train Epoch: 11 [5984/50000 (12%)]\tLoss: 1.236450\n",
      "Train Epoch: 11 [11968/50000 (24%)]\tLoss: 1.138735\n",
      "Train Epoch: 11 [17952/50000 (36%)]\tLoss: 1.124400\n",
      "Train Epoch: 11 [23936/50000 (48%)]\tLoss: 0.925129\n",
      "Train Epoch: 11 [29920/50000 (60%)]\tLoss: 1.011147\n",
      "Train Epoch: 11 [35904/50000 (72%)]\tLoss: 1.135348\n",
      "Train Epoch: 11 [41888/50000 (84%)]\tLoss: 1.245031\n",
      "Train Epoch: 11 [47872/50000 (96%)]\tLoss: 1.097202\n",
      "\n",
      "Test set: Avg. loss: 0.0326, Accuracy: 6450/10000 (64%)\n",
      "\n",
      "Train Epoch: 12 [5984/50000 (12%)]\tLoss: 1.170055\n",
      "Train Epoch: 12 [11968/50000 (24%)]\tLoss: 1.543746\n",
      "Train Epoch: 12 [17952/50000 (36%)]\tLoss: 0.880763\n",
      "Train Epoch: 12 [23936/50000 (48%)]\tLoss: 0.969915\n",
      "Train Epoch: 12 [29920/50000 (60%)]\tLoss: 1.113144\n",
      "Train Epoch: 12 [35904/50000 (72%)]\tLoss: 1.043532\n",
      "Train Epoch: 12 [41888/50000 (84%)]\tLoss: 0.833229\n",
      "Train Epoch: 12 [47872/50000 (96%)]\tLoss: 1.281332\n",
      "\n",
      "Test set: Avg. loss: 0.0319, Accuracy: 6511/10000 (65%)\n",
      "\n",
      "Train Epoch: 13 [5984/50000 (12%)]\tLoss: 1.132878\n",
      "Train Epoch: 13 [11968/50000 (24%)]\tLoss: 1.457942\n",
      "Train Epoch: 13 [17952/50000 (36%)]\tLoss: 1.011952\n",
      "Train Epoch: 13 [23936/50000 (48%)]\tLoss: 0.805488\n",
      "Train Epoch: 13 [29920/50000 (60%)]\tLoss: 0.988173\n",
      "Train Epoch: 13 [35904/50000 (72%)]\tLoss: 0.985616\n",
      "Train Epoch: 13 [41888/50000 (84%)]\tLoss: 1.128227\n",
      "Train Epoch: 13 [47872/50000 (96%)]\tLoss: 0.986396\n",
      "\n",
      "Test set: Avg. loss: 0.0314, Accuracy: 6631/10000 (66%)\n",
      "\n",
      "Train Epoch: 14 [5984/50000 (12%)]\tLoss: 1.549617\n",
      "Train Epoch: 14 [11968/50000 (24%)]\tLoss: 0.799853\n",
      "Train Epoch: 14 [17952/50000 (36%)]\tLoss: 1.240435\n",
      "Train Epoch: 14 [23936/50000 (48%)]\tLoss: 0.793937\n",
      "Train Epoch: 14 [29920/50000 (60%)]\tLoss: 0.944103\n",
      "Train Epoch: 14 [35904/50000 (72%)]\tLoss: 1.050812\n",
      "Train Epoch: 14 [41888/50000 (84%)]\tLoss: 1.466253\n",
      "Train Epoch: 14 [47872/50000 (96%)]\tLoss: 1.304873\n",
      "\n",
      "Test set: Avg. loss: 0.0314, Accuracy: 6559/10000 (66%)\n",
      "\n",
      "Train Epoch: 15 [5984/50000 (12%)]\tLoss: 0.982030\n",
      "Train Epoch: 15 [11968/50000 (24%)]\tLoss: 1.221061\n",
      "Train Epoch: 15 [17952/50000 (36%)]\tLoss: 1.156041\n",
      "Train Epoch: 15 [23936/50000 (48%)]\tLoss: 1.172213\n",
      "Train Epoch: 15 [29920/50000 (60%)]\tLoss: 1.144215\n",
      "Train Epoch: 15 [35904/50000 (72%)]\tLoss: 0.908726\n",
      "Train Epoch: 15 [41888/50000 (84%)]\tLoss: 0.706859\n",
      "Train Epoch: 15 [47872/50000 (96%)]\tLoss: 1.080196\n",
      "\n",
      "Test set: Avg. loss: 0.0307, Accuracy: 6658/10000 (67%)\n",
      "\n",
      "Train Epoch: 16 [5984/50000 (12%)]\tLoss: 1.096535\n",
      "Train Epoch: 16 [11968/50000 (24%)]\tLoss: 0.949030\n",
      "Train Epoch: 16 [17952/50000 (36%)]\tLoss: 0.682364\n",
      "Train Epoch: 16 [23936/50000 (48%)]\tLoss: 1.008451\n",
      "Train Epoch: 16 [29920/50000 (60%)]\tLoss: 1.193666\n",
      "Train Epoch: 16 [35904/50000 (72%)]\tLoss: 1.294371\n",
      "Train Epoch: 16 [41888/50000 (84%)]\tLoss: 1.161857\n",
      "Train Epoch: 16 [47872/50000 (96%)]\tLoss: 1.232669\n",
      "\n",
      "Test set: Avg. loss: 0.0301, Accuracy: 6755/10000 (68%)\n",
      "\n",
      "Train Epoch: 17 [5984/50000 (12%)]\tLoss: 1.237822\n",
      "Train Epoch: 17 [11968/50000 (24%)]\tLoss: 1.558922\n",
      "Train Epoch: 17 [17952/50000 (36%)]\tLoss: 1.056147\n",
      "Train Epoch: 17 [23936/50000 (48%)]\tLoss: 1.033770\n",
      "Train Epoch: 17 [29920/50000 (60%)]\tLoss: 0.898502\n",
      "Train Epoch: 17 [35904/50000 (72%)]\tLoss: 0.763297\n",
      "Train Epoch: 17 [41888/50000 (84%)]\tLoss: 1.330355\n",
      "Train Epoch: 17 [47872/50000 (96%)]\tLoss: 1.237397\n",
      "\n",
      "Test set: Avg. loss: 0.0305, Accuracy: 6676/10000 (67%)\n",
      "\n",
      "Train Epoch: 18 [5984/50000 (12%)]\tLoss: 1.231724\n",
      "Train Epoch: 18 [11968/50000 (24%)]\tLoss: 0.794214\n",
      "Train Epoch: 18 [17952/50000 (36%)]\tLoss: 1.486820\n",
      "Train Epoch: 18 [23936/50000 (48%)]\tLoss: 1.068647\n",
      "Train Epoch: 18 [29920/50000 (60%)]\tLoss: 0.999977\n",
      "Train Epoch: 18 [35904/50000 (72%)]\tLoss: 0.983291\n",
      "Train Epoch: 18 [41888/50000 (84%)]\tLoss: 0.995893\n",
      "Train Epoch: 18 [47872/50000 (96%)]\tLoss: 1.388585\n",
      "\n",
      "Test set: Avg. loss: 0.0297, Accuracy: 6784/10000 (68%)\n",
      "\n",
      "Train Epoch: 19 [5984/50000 (12%)]\tLoss: 1.257643\n",
      "Train Epoch: 19 [11968/50000 (24%)]\tLoss: 1.011444\n",
      "Train Epoch: 19 [17952/50000 (36%)]\tLoss: 0.996912\n",
      "Train Epoch: 19 [23936/50000 (48%)]\tLoss: 0.868336\n",
      "Train Epoch: 19 [29920/50000 (60%)]\tLoss: 0.656375\n",
      "Train Epoch: 19 [35904/50000 (72%)]\tLoss: 0.916945\n",
      "Train Epoch: 19 [41888/50000 (84%)]\tLoss: 0.908246\n",
      "Train Epoch: 19 [47872/50000 (96%)]\tLoss: 1.057525\n",
      "\n",
      "Test set: Avg. loss: 0.0287, Accuracy: 6893/10000 (69%)\n",
      "\n",
      "Train Epoch: 20 [5984/50000 (12%)]\tLoss: 0.903407\n",
      "Train Epoch: 20 [11968/50000 (24%)]\tLoss: 1.265421\n",
      "Train Epoch: 20 [17952/50000 (36%)]\tLoss: 0.998025\n",
      "Train Epoch: 20 [23936/50000 (48%)]\tLoss: 0.940195\n",
      "Train Epoch: 20 [29920/50000 (60%)]\tLoss: 0.584148\n",
      "Train Epoch: 20 [35904/50000 (72%)]\tLoss: 0.891232\n",
      "Train Epoch: 20 [41888/50000 (84%)]\tLoss: 1.209085\n",
      "Train Epoch: 20 [47872/50000 (96%)]\tLoss: 0.987169\n",
      "\n",
      "Test set: Avg. loss: 0.0288, Accuracy: 6872/10000 (69%)\n",
      "\n"
     ]
    }
   ],
   "source": [
    "train_losses = []\n",
    "train_counter = []\n",
    "test_losses = []\n",
    "test_counter = [i*len(train_loader.dataset) for i in range(n_epochs + 1)]\n",
    "test_acc = []\n",
    "test()\n",
    "for epoch in range(1, n_epochs + 1):\n",
    "  train(epoch)\n",
    "  test()\n",
    "\n",
    "if (use_upgraded_net==0 and save_net==1):\n",
    "  torch.save(network.state_dict(), '../src/results/model.pth')\n",
    "  torch.save(optimizer.state_dict(), '../src/results/optimizer.pth')\n",
    "  print(\"Saved Modell to file\")\n",
    "elif (use_upgraded_net==1 and save_net==1):\n",
    "  \n",
    "  if (use_ensemble == 1 and use_integrated_ensemble == 0):\n",
    "      torch.save(network.state_dict(), '../src/results/model_upgraded_ens.pth')\n",
    "      torch.save(network2.state_dict(), '../src/results/model2_upgraded_ens.pth')\n",
    "      torch.save(network3.state_dict(), '../src/results/model3_upgraded_ens.pth')\n",
    "      torch.save(optimizer_ensemble.state_dict(), '../src/results/optimizer_ensemble.pth')\n",
    "  if (use_ensemble == 1 and use_integrated_ensemble == 1):\n",
    "      if  \"cifar\" in str(test_loader.dataset.filename):\n",
    "        torch.save(network.state_dict(), '../src/results/model_integrated_ens_cifar.pth')\n",
    "        torch.save(optimizer.state_dict(), '../src/results/optimizer_integrated_cifar.pth')\n",
    "        print(\"Hello\")\n",
    "      else:\n",
    "        torch.save(network.state_dict(), '../src/results/model_integrated_ens.pth')\n",
    "        torch.save(optimizer.state_dict(), '../src/results/optimizer_integrated.pth')\n",
    "\n",
    "  if (use_ensemble==0 and use_integrated_ensemble == 0):\n",
    "      torch.save(network.state_dict(), '../src/results/model_upgraded.pth')\n",
    "      torch.save(optimizer.state_dict(), '../src/results/optimizer_upgraded.pth')\n",
    "  print(\"Saved Modell to file\")\n",
    "save_net = 0 #Secure that only one model is saved"
   ]
  },
  {
   "cell_type": "markdown",
   "metadata": {},
   "source": [
    "# Evaluate Baseline"
   ]
  },
  {
   "cell_type": "code",
   "execution_count": 199,
   "metadata": {},
   "outputs": [],
   "source": [
    "def test_integrated_conv_image_rect():\n",
    "    train_losses = []\n",
    "    train_counter = []\n",
    "    test_losses = []\n",
    "    test_counter = [i*len(train_loader.dataset) for i in range(n_epochs + 1)]\n",
    "    test_acc = []\n",
    "    debug_output = 0\n",
    "    network.eval()\n",
    "    test_loss = 0\n",
    "    correct = 0\n",
    "    correct_ms = 0\n",
    "    correct_br = 0\n",
    "    correct_ensemble = 0\n",
    "    pertubated = 0\n",
    "    not_pertubated = 0\n",
    "    with torch.no_grad():\n",
    "        for data, target in test_loader:\n",
    "\n",
    "            # Output original ensemble\n",
    "            output = network(data)\n",
    "\n",
    "            # Output median smoothed ensemble\n",
    "            median_smoothed_batch=torch.clone(data)\n",
    "            median_smoothed_batch = median_smoothing(median_smoothed_batch)\n",
    "            output_ms = network(median_smoothed_batch)\n",
    "\n",
    "            # Output bit reduced ensemble\n",
    "            bit_reduced_batch=torch.clone(data)\n",
    "            bit_reduced_batch = bit_reduction(bit_reduced_batch)\n",
    "            output_br = network(bit_reduced_batch)\n",
    "\n",
    "            # Losses for each ensemble\n",
    "            test_loss += F.cross_entropy(output, target).item()\n",
    "\n",
    "            # Test accuracy\n",
    "            pred = output.data.max(1, keepdim=True)[1]\n",
    "            pred_ms = output_ms.data.max(1, keepdim=True)[1]\n",
    "            pred_br = output_br.data.max(1, keepdim=True)[1]\n",
    "\n",
    "            tst= F.softmax(output, dim=1)\n",
    "            tst_med = F.softmax(output_ms, dim=1)\n",
    "            tst_scaled = F.softmax(output_br, dim=1)\n",
    "\n",
    "\n",
    "\n",
    "            # Jury Vote for ensemble predictions\n",
    "            jury_vote = []\n",
    "            for x in range(len(pred)):\n",
    "                votes = []\n",
    "                first_vote = output.data.max(1, keepdim=True)[1][x].item()\n",
    "                second_vote = output_ms.data.max(1, keepdim=True)[1][x].item()\n",
    "                third_vote = output_br.data.max(1, keepdim=True)[1][x].item()\n",
    "                votes.append(first_vote)\n",
    "                votes.append(second_vote)\n",
    "                votes.append(third_vote)\n",
    "                jury_vote.append(np.bincount(votes).argmax())\n",
    "                difference_ms=(tst[x])-(tst_med[x])\n",
    "                difference_br=(tst[x])-(tst_scaled[x])\n",
    "\n",
    "\n",
    "                distance_list=[max(difference_br).item(),max(difference_ms).item()]\n",
    "                #difference_total = statistics.fmean(distance_list)\n",
    "                difference_total = max(distance_list)\n",
    "                #print(\"Max Tensor Distance:\", difference_total)\n",
    "\n",
    "                if (difference_total > 0.015):\n",
    "                    pertubated+=1\n",
    "                    #print(\"Image is pertubated\")\n",
    "                else:\n",
    "                    not_pertubated+=1\n",
    "                    #print(\"Image is not pertubated\")\n",
    "                \n",
    "                if(target[x].item()==jury_vote[x]):\n",
    "                    correct_ensemble += 1\n",
    "                else:\n",
    "                    print(\"Original target:\",target[x].item(),\"| Jury voted class:\",jury_vote[x],\"| Vanilla Ensemble Vote:\" ,first_vote,\"Median-Smoothed Ensemble Vote:\",second_vote,\"Bit-Reduced Ensemble Vote:\",third_vote)\n",
    "                    if (debug_output):\n",
    "                        fig = plt.figure()\n",
    "                        ax1 = fig.add_subplot(131)  # left side\n",
    "                        ax2 = fig.add_subplot(132)  # right side\n",
    "                        ax3 = fig.add_subplot(133)  # right side\n",
    "                    \n",
    "                        ax1.title.set_text(\"Original Image\")\n",
    "                        ax2.title.set_text(\"Median Smoothed Image\")\n",
    "                        ax3.title.set_text(\"Bit Reduced Image\")\n",
    "\n",
    "                        ax1.imshow(data[x][0], cmap='gray', interpolation='none')\n",
    "                        ax2.imshow(median_smoothed_batch[x][0], cmap='gray', interpolation='none')\n",
    "                        ax3.imshow(bit_reduced_batch[x][0], cmap='gray', interpolation='none')\n",
    "                        fig.text(.5, .05, \"Original Target: {}\".format(target[x].item()), ha='center')\n",
    "                        fig.set_figheight(5)\n",
    "                        fig.set_figwidth(10)\n",
    "                        plt.show()\n",
    "\n",
    "\n",
    "            correct += pred.eq(target.data.view_as(pred)).sum()\n",
    "            correct_ms += pred_ms.eq(target.data.view_as(pred_ms)).sum()\n",
    "            correct_br += pred_br.eq(target.data.view_as(pred_br)).sum()\n",
    "            \n",
    "    test_loss /= len(test_loader.dataset)\n",
    "    test_losses.append(test_loss)\n",
    "    acc = 100. * correct_ensemble / len(test_loader.dataset)\n",
    "    test_acc.append(acc)\n",
    "    print('\\nTest set: Avg. loss: {:.4f}, Accuracy: {}/{} ({:.0f}%), Accuracy_Median: {}, Accuracy_BitSmooth: {}, Accuracy_Ensemble: {}, perturbated_count: {}, not_perturbated_count: {}\\n'.format(\n",
    "    test_loss, acc, len(test_loader.dataset),\n",
    "    100. * correct / len(test_loader.dataset), correct_ms, correct_br, correct_ensemble, pertubated, not_pertubated))\n",
    "    "
   ]
  },
  {
   "cell_type": "code",
   "execution_count": 202,
   "metadata": {},
   "outputs": [
    {
     "name": "stdout",
     "output_type": "stream",
     "text": [
      "Original target: 9 | Jury voted class: 4 | Vanilla Ensemble Vote: 4 Median-Smoothed Ensemble Vote: 4 Bit-Reduced Ensemble Vote: 4\n",
      "Original target: 9 | Jury voted class: 4 | Vanilla Ensemble Vote: 9 Median-Smoothed Ensemble Vote: 4 Bit-Reduced Ensemble Vote: 4\n",
      "Original target: 1 | Jury voted class: 6 | Vanilla Ensemble Vote: 6 Median-Smoothed Ensemble Vote: 1 Bit-Reduced Ensemble Vote: 6\n",
      "Original target: 3 | Jury voted class: 7 | Vanilla Ensemble Vote: 7 Median-Smoothed Ensemble Vote: 7 Bit-Reduced Ensemble Vote: 3\n",
      "Original target: 8 | Jury voted class: 7 | Vanilla Ensemble Vote: 8 Median-Smoothed Ensemble Vote: 9 Bit-Reduced Ensemble Vote: 7\n",
      "Original target: 5 | Jury voted class: 3 | Vanilla Ensemble Vote: 3 Median-Smoothed Ensemble Vote: 3 Bit-Reduced Ensemble Vote: 3\n",
      "Original target: 8 | Jury voted class: 9 | Vanilla Ensemble Vote: 9 Median-Smoothed Ensemble Vote: 9 Bit-Reduced Ensemble Vote: 9\n",
      "Original target: 9 | Jury voted class: 4 | Vanilla Ensemble Vote: 4 Median-Smoothed Ensemble Vote: 4 Bit-Reduced Ensemble Vote: 4\n",
      "Original target: 7 | Jury voted class: 1 | Vanilla Ensemble Vote: 1 Median-Smoothed Ensemble Vote: 1 Bit-Reduced Ensemble Vote: 1\n",
      "Original target: 9 | Jury voted class: 4 | Vanilla Ensemble Vote: 9 Median-Smoothed Ensemble Vote: 4 Bit-Reduced Ensemble Vote: 4\n",
      "Original target: 9 | Jury voted class: 2 | Vanilla Ensemble Vote: 2 Median-Smoothed Ensemble Vote: 9 Bit-Reduced Ensemble Vote: 2\n",
      "Original target: 8 | Jury voted class: 5 | Vanilla Ensemble Vote: 5 Median-Smoothed Ensemble Vote: 6 Bit-Reduced Ensemble Vote: 5\n",
      "Original target: 8 | Jury voted class: 0 | Vanilla Ensemble Vote: 0 Median-Smoothed Ensemble Vote: 0 Bit-Reduced Ensemble Vote: 0\n",
      "Original target: 8 | Jury voted class: 7 | Vanilla Ensemble Vote: 7 Median-Smoothed Ensemble Vote: 7 Bit-Reduced Ensemble Vote: 7\n",
      "Original target: 9 | Jury voted class: 7 | Vanilla Ensemble Vote: 7 Median-Smoothed Ensemble Vote: 7 Bit-Reduced Ensemble Vote: 7\n",
      "Original target: 9 | Jury voted class: 8 | Vanilla Ensemble Vote: 8 Median-Smoothed Ensemble Vote: 9 Bit-Reduced Ensemble Vote: 8\n",
      "Original target: 9 | Jury voted class: 4 | Vanilla Ensemble Vote: 4 Median-Smoothed Ensemble Vote: 4 Bit-Reduced Ensemble Vote: 9\n",
      "Original target: 7 | Jury voted class: 2 | Vanilla Ensemble Vote: 2 Median-Smoothed Ensemble Vote: 2 Bit-Reduced Ensemble Vote: 2\n",
      "Original target: 5 | Jury voted class: 3 | Vanilla Ensemble Vote: 3 Median-Smoothed Ensemble Vote: 3 Bit-Reduced Ensemble Vote: 3\n",
      "Original target: 8 | Jury voted class: 2 | Vanilla Ensemble Vote: 2 Median-Smoothed Ensemble Vote: 2 Bit-Reduced Ensemble Vote: 2\n",
      "Original target: 8 | Jury voted class: 7 | Vanilla Ensemble Vote: 7 Median-Smoothed Ensemble Vote: 7 Bit-Reduced Ensemble Vote: 7\n",
      "Original target: 9 | Jury voted class: 4 | Vanilla Ensemble Vote: 4 Median-Smoothed Ensemble Vote: 4 Bit-Reduced Ensemble Vote: 4\n",
      "Original target: 0 | Jury voted class: 7 | Vanilla Ensemble Vote: 7 Median-Smoothed Ensemble Vote: 7 Bit-Reduced Ensemble Vote: 7\n",
      "Original target: 6 | Jury voted class: 4 | Vanilla Ensemble Vote: 4 Median-Smoothed Ensemble Vote: 4 Bit-Reduced Ensemble Vote: 4\n",
      "Original target: 6 | Jury voted class: 8 | Vanilla Ensemble Vote: 6 Median-Smoothed Ensemble Vote: 8 Bit-Reduced Ensemble Vote: 8\n",
      "Original target: 5 | Jury voted class: 6 | Vanilla Ensemble Vote: 6 Median-Smoothed Ensemble Vote: 6 Bit-Reduced Ensemble Vote: 6\n",
      "Original target: 5 | Jury voted class: 3 | Vanilla Ensemble Vote: 5 Median-Smoothed Ensemble Vote: 3 Bit-Reduced Ensemble Vote: 3\n",
      "Original target: 7 | Jury voted class: 2 | Vanilla Ensemble Vote: 2 Median-Smoothed Ensemble Vote: 2 Bit-Reduced Ensemble Vote: 7\n",
      "Original target: 6 | Jury voted class: 0 | Vanilla Ensemble Vote: 0 Median-Smoothed Ensemble Vote: 6 Bit-Reduced Ensemble Vote: 0\n",
      "Original target: 7 | Jury voted class: 9 | Vanilla Ensemble Vote: 7 Median-Smoothed Ensemble Vote: 9 Bit-Reduced Ensemble Vote: 9\n",
      "Original target: 5 | Jury voted class: 3 | Vanilla Ensemble Vote: 3 Median-Smoothed Ensemble Vote: 3 Bit-Reduced Ensemble Vote: 3\n",
      "Original target: 5 | Jury voted class: 0 | Vanilla Ensemble Vote: 0 Median-Smoothed Ensemble Vote: 0 Bit-Reduced Ensemble Vote: 0\n",
      "Original target: 6 | Jury voted class: 0 | Vanilla Ensemble Vote: 0 Median-Smoothed Ensemble Vote: 0 Bit-Reduced Ensemble Vote: 0\n",
      "Original target: 0 | Jury voted class: 1 | Vanilla Ensemble Vote: 1 Median-Smoothed Ensemble Vote: 1 Bit-Reduced Ensemble Vote: 1\n",
      "Original target: 3 | Jury voted class: 2 | Vanilla Ensemble Vote: 2 Median-Smoothed Ensemble Vote: 2 Bit-Reduced Ensemble Vote: 2\n",
      "Original target: 9 | Jury voted class: 7 | Vanilla Ensemble Vote: 7 Median-Smoothed Ensemble Vote: 7 Bit-Reduced Ensemble Vote: 9\n",
      "Original target: 5 | Jury voted class: 9 | Vanilla Ensemble Vote: 9 Median-Smoothed Ensemble Vote: 9 Bit-Reduced Ensemble Vote: 5\n",
      "Original target: 6 | Jury voted class: 1 | Vanilla Ensemble Vote: 1 Median-Smoothed Ensemble Vote: 1 Bit-Reduced Ensemble Vote: 1\n",
      "Original target: 2 | Jury voted class: 1 | Vanilla Ensemble Vote: 1 Median-Smoothed Ensemble Vote: 1 Bit-Reduced Ensemble Vote: 2\n",
      "Original target: 5 | Jury voted class: 7 | Vanilla Ensemble Vote: 7 Median-Smoothed Ensemble Vote: 7 Bit-Reduced Ensemble Vote: 7\n",
      "Original target: 9 | Jury voted class: 4 | Vanilla Ensemble Vote: 4 Median-Smoothed Ensemble Vote: 4 Bit-Reduced Ensemble Vote: 4\n",
      "Original target: 0 | Jury voted class: 8 | Vanilla Ensemble Vote: 8 Median-Smoothed Ensemble Vote: 8 Bit-Reduced Ensemble Vote: 8\n",
      "Original target: 7 | Jury voted class: 2 | Vanilla Ensemble Vote: 2 Median-Smoothed Ensemble Vote: 2 Bit-Reduced Ensemble Vote: 2\n",
      "Original target: 5 | Jury voted class: 3 | Vanilla Ensemble Vote: 5 Median-Smoothed Ensemble Vote: 3 Bit-Reduced Ensemble Vote: 3\n",
      "Original target: 5 | Jury voted class: 3 | Vanilla Ensemble Vote: 3 Median-Smoothed Ensemble Vote: 3 Bit-Reduced Ensemble Vote: 3\n",
      "Original target: 0 | Jury voted class: 2 | Vanilla Ensemble Vote: 2 Median-Smoothed Ensemble Vote: 0 Bit-Reduced Ensemble Vote: 2\n",
      "Original target: 3 | Jury voted class: 5 | Vanilla Ensemble Vote: 5 Median-Smoothed Ensemble Vote: 3 Bit-Reduced Ensemble Vote: 5\n",
      "Original target: 8 | Jury voted class: 2 | Vanilla Ensemble Vote: 2 Median-Smoothed Ensemble Vote: 2 Bit-Reduced Ensemble Vote: 2\n",
      "Original target: 5 | Jury voted class: 3 | Vanilla Ensemble Vote: 3 Median-Smoothed Ensemble Vote: 3 Bit-Reduced Ensemble Vote: 3\n",
      "Original target: 9 | Jury voted class: 3 | Vanilla Ensemble Vote: 3 Median-Smoothed Ensemble Vote: 9 Bit-Reduced Ensemble Vote: 5\n",
      "Original target: 2 | Jury voted class: 0 | Vanilla Ensemble Vote: 0 Median-Smoothed Ensemble Vote: 0 Bit-Reduced Ensemble Vote: 0\n",
      "Original target: 2 | Jury voted class: 8 | Vanilla Ensemble Vote: 2 Median-Smoothed Ensemble Vote: 8 Bit-Reduced Ensemble Vote: 8\n",
      "Original target: 8 | Jury voted class: 4 | Vanilla Ensemble Vote: 4 Median-Smoothed Ensemble Vote: 4 Bit-Reduced Ensemble Vote: 4\n",
      "Original target: 8 | Jury voted class: 3 | Vanilla Ensemble Vote: 8 Median-Smoothed Ensemble Vote: 3 Bit-Reduced Ensemble Vote: 3\n",
      "Original target: 5 | Jury voted class: 3 | Vanilla Ensemble Vote: 3 Median-Smoothed Ensemble Vote: 3 Bit-Reduced Ensemble Vote: 3\n",
      "Original target: 8 | Jury voted class: 9 | Vanilla Ensemble Vote: 9 Median-Smoothed Ensemble Vote: 9 Bit-Reduced Ensemble Vote: 9\n",
      "Original target: 2 | Jury voted class: 7 | Vanilla Ensemble Vote: 7 Median-Smoothed Ensemble Vote: 7 Bit-Reduced Ensemble Vote: 7\n",
      "Original target: 6 | Jury voted class: 0 | Vanilla Ensemble Vote: 6 Median-Smoothed Ensemble Vote: 0 Bit-Reduced Ensemble Vote: 0\n",
      "Original target: 6 | Jury voted class: 0 | Vanilla Ensemble Vote: 0 Median-Smoothed Ensemble Vote: 0 Bit-Reduced Ensemble Vote: 6\n",
      "Original target: 2 | Jury voted class: 7 | Vanilla Ensemble Vote: 7 Median-Smoothed Ensemble Vote: 7 Bit-Reduced Ensemble Vote: 7\n",
      "Original target: 8 | Jury voted class: 9 | Vanilla Ensemble Vote: 8 Median-Smoothed Ensemble Vote: 9 Bit-Reduced Ensemble Vote: 9\n",
      "Original target: 2 | Jury voted class: 7 | Vanilla Ensemble Vote: 7 Median-Smoothed Ensemble Vote: 7 Bit-Reduced Ensemble Vote: 7\n",
      "Original target: 4 | Jury voted class: 9 | Vanilla Ensemble Vote: 9 Median-Smoothed Ensemble Vote: 9 Bit-Reduced Ensemble Vote: 9\n",
      "Original target: 5 | Jury voted class: 3 | Vanilla Ensemble Vote: 3 Median-Smoothed Ensemble Vote: 3 Bit-Reduced Ensemble Vote: 5\n",
      "Original target: 9 | Jury voted class: 7 | Vanilla Ensemble Vote: 7 Median-Smoothed Ensemble Vote: 7 Bit-Reduced Ensemble Vote: 7\n",
      "Original target: 6 | Jury voted class: 5 | Vanilla Ensemble Vote: 5 Median-Smoothed Ensemble Vote: 5 Bit-Reduced Ensemble Vote: 0\n",
      "Original target: 6 | Jury voted class: 1 | Vanilla Ensemble Vote: 1 Median-Smoothed Ensemble Vote: 1 Bit-Reduced Ensemble Vote: 1\n",
      "Original target: 7 | Jury voted class: 1 | Vanilla Ensemble Vote: 1 Median-Smoothed Ensemble Vote: 7 Bit-Reduced Ensemble Vote: 1\n",
      "Original target: 9 | Jury voted class: 5 | Vanilla Ensemble Vote: 5 Median-Smoothed Ensemble Vote: 5 Bit-Reduced Ensemble Vote: 9\n",
      "Original target: 4 | Jury voted class: 1 | Vanilla Ensemble Vote: 4 Median-Smoothed Ensemble Vote: 1 Bit-Reduced Ensemble Vote: 7\n",
      "\n",
      "Test set: Avg. loss: 0.0007, Accuracy: 99.14/10000 (99%), Accuracy_Median: 9864, Accuracy_BitSmooth: 9906, Accuracy_Ensemble: 9914, perturbated_count: 629, not_perturbated_count: 9355\n",
      "\n"
     ]
    }
   ],
   "source": [
    "test_integrated_conv_image_rect()"
   ]
  },
  {
   "cell_type": "code",
   "execution_count": 543,
   "metadata": {},
   "outputs": [],
   "source": []
  },
  {
   "cell_type": "code",
   "execution_count": 387,
   "metadata": {},
   "outputs": [
    {
     "name": "stdout",
     "output_type": "stream",
     "text": [
      "tensor([[[[-0.4242, -0.4242, -0.4242,  ..., -0.4242, -0.4242, -0.4242],\n",
      "          [-0.4242, -0.4242, -0.4242,  ..., -0.4242, -0.4242, -0.4242],\n",
      "          [-0.4242, -0.4242, -0.4242,  ..., -0.4242, -0.4242, -0.4242],\n",
      "          ...,\n",
      "          [-0.4242, -0.4242, -0.4242,  ..., -0.4242, -0.4242, -0.4242],\n",
      "          [-0.4242, -0.4242, -0.4242,  ..., -0.4242, -0.4242, -0.4242],\n",
      "          [-0.4242, -0.4242, -0.4242,  ..., -0.4242, -0.4242, -0.4242]]],\n",
      "\n",
      "\n",
      "        [[[-0.4242, -0.4242, -0.4242,  ..., -0.4242, -0.4242, -0.4242],\n",
      "          [-0.4242, -0.4242, -0.4242,  ..., -0.4242, -0.4242, -0.4242],\n",
      "          [-0.4242, -0.4242, -0.4242,  ..., -0.4242, -0.4242, -0.4242],\n",
      "          ...,\n",
      "          [-0.4242, -0.4242, -0.4242,  ..., -0.4242, -0.4242, -0.4242],\n",
      "          [-0.4242, -0.4242, -0.4242,  ..., -0.4242, -0.4242, -0.4242],\n",
      "          [-0.4242, -0.4242, -0.4242,  ..., -0.4242, -0.4242, -0.4242]]],\n",
      "\n",
      "\n",
      "        [[[-0.4242, -0.4242, -0.4242,  ..., -0.4242, -0.4242, -0.4242],\n",
      "          [-0.4242, -0.4242, -0.4242,  ..., -0.4242, -0.4242, -0.4242],\n",
      "          [-0.4242, -0.4242, -0.4242,  ..., -0.4242, -0.4242, -0.4242],\n",
      "          ...,\n",
      "          [-0.4242, -0.4242, -0.4242,  ..., -0.4242, -0.4242, -0.4242],\n",
      "          [-0.4242, -0.4242, -0.4242,  ..., -0.4242, -0.4242, -0.4242],\n",
      "          [-0.4242, -0.4242, -0.4242,  ..., -0.4242, -0.4242, -0.4242]]],\n",
      "\n",
      "\n",
      "        ...,\n",
      "\n",
      "\n",
      "        [[[-0.4242, -0.4242, -0.4242,  ..., -0.4242, -0.4242, -0.4242],\n",
      "          [-0.4242, -0.4242, -0.4242,  ..., -0.4242, -0.4242, -0.4242],\n",
      "          [-0.4242, -0.4242, -0.4242,  ..., -0.4242, -0.4242, -0.4242],\n",
      "          ...,\n",
      "          [-0.4242, -0.4242, -0.4242,  ..., -0.4242, -0.4242, -0.4242],\n",
      "          [-0.4242, -0.4242, -0.4242,  ..., -0.4242, -0.4242, -0.4242],\n",
      "          [-0.4242, -0.4242, -0.4242,  ..., -0.4242, -0.4242, -0.4242]]],\n",
      "\n",
      "\n",
      "        [[[-0.4242, -0.4242, -0.4242,  ..., -0.4242, -0.4242, -0.4242],\n",
      "          [-0.4242, -0.4242, -0.4242,  ..., -0.4242, -0.4242, -0.4242],\n",
      "          [-0.4242, -0.4242, -0.4242,  ..., -0.4242, -0.4242, -0.4242],\n",
      "          ...,\n",
      "          [-0.4242, -0.4242, -0.4242,  ..., -0.4242, -0.4242, -0.4242],\n",
      "          [-0.4242, -0.4242, -0.4242,  ..., -0.4242, -0.4242, -0.4242],\n",
      "          [-0.4242, -0.4242, -0.4242,  ..., -0.4242, -0.4242, -0.4242]]],\n",
      "\n",
      "\n",
      "        [[[-0.4242, -0.4242, -0.4242,  ..., -0.4242, -0.4242, -0.4242],\n",
      "          [-0.4242, -0.4242, -0.4242,  ..., -0.4242, -0.4242, -0.4242],\n",
      "          [-0.4242, -0.4242, -0.4242,  ..., -0.4242, -0.4242, -0.4242],\n",
      "          ...,\n",
      "          [-0.4242, -0.4242, -0.4242,  ..., -0.4242, -0.4242, -0.4242],\n",
      "          [-0.4242, -0.4242, -0.4242,  ..., -0.4242, -0.4242, -0.4242],\n",
      "          [-0.4242, -0.4242, -0.4242,  ..., -0.4242, -0.4242, -0.4242]]]])\n"
     ]
    }
   ],
   "source": [
    "for i, data in enumerate(test_loader,0):\n",
    "        input, label = data\n",
    "        print(input)\n",
    "        input, label = Variable(input.to(device)), Variable(label.to(device))\n",
    "\n",
    "        model = network.eval()\n",
    "\n",
    "      \n",
    "        # Generate adversial dataset for attack\n",
    "        fmodel = fb.PyTorchModel(model, bounds=(-0.4242129623889923, 2.821486711502075), device=\"cpu\")\n",
    "        attack = fb.attacks.FGSM()\n",
    "        #attack = fb.attacks.L2CarliniWagnerAttack()\n",
    "        epsilons = [0.3] #, 0.0, 0.001, 0.01, 0.03, 0.1, 0.3, 0.5, 1.0\n",
    "        criterion = Misclassification(label)\n",
    "        raw_advs, advs, is_adv = attack(fmodel, input, label, epsilons=epsilons)\n",
    "        break;"
   ]
  },
  {
   "cell_type": "code",
   "execution_count": 271,
   "metadata": {},
   "outputs": [
    {
     "ename": "RuntimeError",
     "evalue": "Input type (torch.cuda.FloatTensor) and weight type (torch.FloatTensor) should be the same",
     "output_type": "error",
     "traceback": [
      "\u001b[1;31m---------------------------------------------------------------------------\u001b[0m",
      "\u001b[1;31mRuntimeError\u001b[0m                              Traceback (most recent call last)",
      "\u001b[1;32m<ipython-input-271-89da7b0d40fd>\u001b[0m in \u001b[0;36m<module>\u001b[1;34m\u001b[0m\n\u001b[0;32m     41\u001b[0m     \u001b[1;32mreturn\u001b[0m \u001b[1;33m(\u001b[0m\u001b[1;33m(\u001b[0m\u001b[0mtorch\u001b[0m\u001b[1;33m.\u001b[0m\u001b[0mcat\u001b[0m\u001b[1;33m(\u001b[0m\u001b[0madversial_data\u001b[0m\u001b[1;33m)\u001b[0m\u001b[1;33m)\u001b[0m\u001b[1;33m.\u001b[0m\u001b[0munsqueeze\u001b[0m\u001b[1;33m(\u001b[0m\u001b[0mdim\u001b[0m\u001b[1;33m=\u001b[0m\u001b[1;36m1\u001b[0m\u001b[1;33m)\u001b[0m\u001b[1;33m,\u001b[0m\u001b[0mtorch\u001b[0m\u001b[1;33m.\u001b[0m\u001b[0mfrom_numpy\u001b[0m\u001b[1;33m(\u001b[0m\u001b[0mnp\u001b[0m\u001b[1;33m.\u001b[0m\u001b[0marray\u001b[0m\u001b[1;33m(\u001b[0m\u001b[0madversial_orignal_labels\u001b[0m\u001b[1;33m)\u001b[0m\u001b[1;33m)\u001b[0m\u001b[1;33m)\u001b[0m\u001b[1;33m\u001b[0m\u001b[1;33m\u001b[0m\u001b[0m\n\u001b[0;32m     42\u001b[0m \u001b[1;33m\u001b[0m\u001b[0m\n\u001b[1;32m---> 43\u001b[1;33m \u001b[0mad_data\u001b[0m\u001b[1;33m,\u001b[0m\u001b[0mad_ind\u001b[0m\u001b[1;33m=\u001b[0m\u001b[0mgenerate_pertubated_examples\u001b[0m\u001b[1;33m(\u001b[0m\u001b[1;33m)\u001b[0m\u001b[1;33m\u001b[0m\u001b[1;33m\u001b[0m\u001b[0m\n\u001b[0m",
      "\u001b[1;32m<ipython-input-271-89da7b0d40fd>\u001b[0m in \u001b[0;36mgenerate_pertubated_examples\u001b[1;34m(n, attack_method)\u001b[0m\n\u001b[0;32m     16\u001b[0m         \u001b[0mepsilons\u001b[0m \u001b[1;33m=\u001b[0m \u001b[1;33m[\u001b[0m\u001b[1;36m0.3\u001b[0m\u001b[1;33m]\u001b[0m \u001b[1;31m#, 0.0, 0.001, 0.01, 0.03, 0.1, 0.3, 0.5, 1.0\u001b[0m\u001b[1;33m\u001b[0m\u001b[1;33m\u001b[0m\u001b[0m\n\u001b[0;32m     17\u001b[0m \u001b[1;33m\u001b[0m\u001b[0m\n\u001b[1;32m---> 18\u001b[1;33m         \u001b[0mraw_advs\u001b[0m\u001b[1;33m,\u001b[0m \u001b[0madvs\u001b[0m\u001b[1;33m,\u001b[0m \u001b[0mis_adv\u001b[0m \u001b[1;33m=\u001b[0m \u001b[0mattack\u001b[0m\u001b[1;33m(\u001b[0m\u001b[0mfmodel\u001b[0m\u001b[1;33m,\u001b[0m \u001b[0minput\u001b[0m\u001b[1;33m,\u001b[0m \u001b[0mlabel\u001b[0m\u001b[1;33m,\u001b[0m \u001b[0mepsilons\u001b[0m\u001b[1;33m=\u001b[0m\u001b[0mepsilons\u001b[0m\u001b[1;33m)\u001b[0m\u001b[1;33m\u001b[0m\u001b[1;33m\u001b[0m\u001b[0m\n\u001b[0m\u001b[0;32m     19\u001b[0m         \u001b[0madversial_indexes\u001b[0m \u001b[1;33m=\u001b[0m \u001b[0mnp\u001b[0m\u001b[1;33m.\u001b[0m\u001b[0mwhere\u001b[0m\u001b[1;33m(\u001b[0m\u001b[1;33m(\u001b[0m\u001b[0mis_adv\u001b[0m\u001b[1;33m[\u001b[0m\u001b[1;36m0\u001b[0m\u001b[1;33m]\u001b[0m\u001b[1;33m.\u001b[0m\u001b[0mcpu\u001b[0m\u001b[1;33m(\u001b[0m\u001b[1;33m)\u001b[0m\u001b[1;33m.\u001b[0m\u001b[0mview\u001b[0m\u001b[1;33m(\u001b[0m\u001b[1;33m-\u001b[0m\u001b[1;36m1\u001b[0m\u001b[1;33m)\u001b[0m\u001b[1;33m.\u001b[0m\u001b[0mnumpy\u001b[0m\u001b[1;33m(\u001b[0m\u001b[1;33m)\u001b[0m\u001b[1;33m)\u001b[0m\u001b[1;33m.\u001b[0m\u001b[0mastype\u001b[0m\u001b[1;33m(\u001b[0m\u001b[0mint\u001b[0m\u001b[1;33m)\u001b[0m\u001b[1;33m==\u001b[0m\u001b[1;36m1\u001b[0m\u001b[1;33m)\u001b[0m\u001b[1;33m\u001b[0m\u001b[1;33m\u001b[0m\u001b[0m\n\u001b[0;32m     20\u001b[0m         \u001b[0mprint\u001b[0m\u001b[1;33m(\u001b[0m\u001b[0madversial_indexes\u001b[0m\u001b[1;33m)\u001b[0m\u001b[1;33m\u001b[0m\u001b[1;33m\u001b[0m\u001b[0m\n",
      "\u001b[1;32mf:\\Anaconda\\lib\\site-packages\\foolbox\\attacks\\base.py\u001b[0m in \u001b[0;36m__call__\u001b[1;34m(***failed resolving arguments***)\u001b[0m\n\u001b[0;32m    414\u001b[0m \u001b[1;33m\u001b[0m\u001b[0m\n\u001b[0;32m    415\u001b[0m         \u001b[1;31m# run the actual attack\u001b[0m\u001b[1;33m\u001b[0m\u001b[1;33m\u001b[0m\u001b[1;33m\u001b[0m\u001b[0m\n\u001b[1;32m--> 416\u001b[1;33m         \u001b[0mxp\u001b[0m \u001b[1;33m=\u001b[0m \u001b[0mself\u001b[0m\u001b[1;33m.\u001b[0m\u001b[0mrun\u001b[0m\u001b[1;33m(\u001b[0m\u001b[0mmodel\u001b[0m\u001b[1;33m,\u001b[0m \u001b[0mx\u001b[0m\u001b[1;33m,\u001b[0m \u001b[0mcriterion\u001b[0m\u001b[1;33m,\u001b[0m \u001b[0mearly_stop\u001b[0m\u001b[1;33m=\u001b[0m\u001b[0mearly_stop\u001b[0m\u001b[1;33m,\u001b[0m \u001b[1;33m**\u001b[0m\u001b[0mkwargs\u001b[0m\u001b[1;33m)\u001b[0m\u001b[1;33m\u001b[0m\u001b[1;33m\u001b[0m\u001b[0m\n\u001b[0m\u001b[0;32m    417\u001b[0m \u001b[1;33m\u001b[0m\u001b[0m\n\u001b[0;32m    418\u001b[0m         \u001b[0mxpcs\u001b[0m \u001b[1;33m=\u001b[0m \u001b[1;33m[\u001b[0m\u001b[1;33m]\u001b[0m\u001b[1;33m\u001b[0m\u001b[1;33m\u001b[0m\u001b[0m\n",
      "\u001b[1;32mf:\\Anaconda\\lib\\site-packages\\foolbox\\attacks\\carlini_wagner.py\u001b[0m in \u001b[0;36mrun\u001b[1;34m(***failed resolving arguments***)\u001b[0m\n\u001b[0;32m    168\u001b[0m \u001b[1;33m\u001b[0m\u001b[0m\n\u001b[0;32m    169\u001b[0m             \u001b[1;32mfor\u001b[0m \u001b[0mstep\u001b[0m \u001b[1;32min\u001b[0m \u001b[0mrange\u001b[0m\u001b[1;33m(\u001b[0m\u001b[0mself\u001b[0m\u001b[1;33m.\u001b[0m\u001b[0msteps\u001b[0m\u001b[1;33m)\u001b[0m\u001b[1;33m:\u001b[0m\u001b[1;33m\u001b[0m\u001b[1;33m\u001b[0m\u001b[0m\n\u001b[1;32m--> 170\u001b[1;33m                 \u001b[0mloss\u001b[0m\u001b[1;33m,\u001b[0m \u001b[1;33m(\u001b[0m\u001b[0mperturbed\u001b[0m\u001b[1;33m,\u001b[0m \u001b[0mlogits\u001b[0m\u001b[1;33m)\u001b[0m\u001b[1;33m,\u001b[0m \u001b[0mgradient\u001b[0m \u001b[1;33m=\u001b[0m \u001b[0mloss_aux_and_grad\u001b[0m\u001b[1;33m(\u001b[0m\u001b[0mdelta\u001b[0m\u001b[1;33m,\u001b[0m \u001b[0mconsts_\u001b[0m\u001b[1;33m)\u001b[0m\u001b[1;33m\u001b[0m\u001b[1;33m\u001b[0m\u001b[0m\n\u001b[0m\u001b[0;32m    171\u001b[0m                 \u001b[0mdelta\u001b[0m \u001b[1;33m-=\u001b[0m \u001b[0moptimizer\u001b[0m\u001b[1;33m(\u001b[0m\u001b[0mgradient\u001b[0m\u001b[1;33m)\u001b[0m\u001b[1;33m\u001b[0m\u001b[1;33m\u001b[0m\u001b[0m\n\u001b[0;32m    172\u001b[0m \u001b[1;33m\u001b[0m\u001b[0m\n",
      "\u001b[1;32mf:\\Anaconda\\lib\\site-packages\\eagerpy\\tensor\\pytorch.py\u001b[0m in \u001b[0;36mvalue_and_grad\u001b[1;34m(x, *args, **kwargs)\u001b[0m\n\u001b[0;32m    501\u001b[0m             \u001b[0mx\u001b[0m \u001b[1;33m=\u001b[0m \u001b[0mtype\u001b[0m\u001b[1;33m(\u001b[0m\u001b[0mself\u001b[0m\u001b[1;33m)\u001b[0m\u001b[1;33m(\u001b[0m\u001b[0mx\u001b[0m\u001b[1;33m.\u001b[0m\u001b[0mraw\u001b[0m\u001b[1;33m.\u001b[0m\u001b[0mclone\u001b[0m\u001b[1;33m(\u001b[0m\u001b[1;33m)\u001b[0m\u001b[1;33m.\u001b[0m\u001b[0mrequires_grad_\u001b[0m\u001b[1;33m(\u001b[0m\u001b[1;33m)\u001b[0m\u001b[1;33m)\u001b[0m\u001b[1;33m\u001b[0m\u001b[1;33m\u001b[0m\u001b[0m\n\u001b[0;32m    502\u001b[0m             \u001b[1;32mif\u001b[0m \u001b[0mhas_aux\u001b[0m\u001b[1;33m:\u001b[0m\u001b[1;33m\u001b[0m\u001b[1;33m\u001b[0m\u001b[0m\n\u001b[1;32m--> 503\u001b[1;33m                 \u001b[0mloss\u001b[0m\u001b[1;33m,\u001b[0m \u001b[0maux\u001b[0m \u001b[1;33m=\u001b[0m \u001b[0mf\u001b[0m\u001b[1;33m(\u001b[0m\u001b[0mx\u001b[0m\u001b[1;33m,\u001b[0m \u001b[1;33m*\u001b[0m\u001b[0margs\u001b[0m\u001b[1;33m,\u001b[0m \u001b[1;33m**\u001b[0m\u001b[0mkwargs\u001b[0m\u001b[1;33m)\u001b[0m\u001b[1;33m\u001b[0m\u001b[1;33m\u001b[0m\u001b[0m\n\u001b[0m\u001b[0;32m    504\u001b[0m             \u001b[1;32melse\u001b[0m\u001b[1;33m:\u001b[0m\u001b[1;33m\u001b[0m\u001b[1;33m\u001b[0m\u001b[0m\n\u001b[0;32m    505\u001b[0m                 \u001b[0mloss\u001b[0m \u001b[1;33m=\u001b[0m \u001b[0mf\u001b[0m\u001b[1;33m(\u001b[0m\u001b[0mx\u001b[0m\u001b[1;33m,\u001b[0m \u001b[1;33m*\u001b[0m\u001b[0margs\u001b[0m\u001b[1;33m,\u001b[0m \u001b[1;33m**\u001b[0m\u001b[0mkwargs\u001b[0m\u001b[1;33m)\u001b[0m\u001b[1;33m\u001b[0m\u001b[1;33m\u001b[0m\u001b[0m\n",
      "\u001b[1;32mf:\\Anaconda\\lib\\site-packages\\foolbox\\attacks\\carlini_wagner.py\u001b[0m in \u001b[0;36mloss_fun\u001b[1;34m(delta, consts)\u001b[0m\n\u001b[0;32m    119\u001b[0m \u001b[1;33m\u001b[0m\u001b[0m\n\u001b[0;32m    120\u001b[0m             \u001b[0mx\u001b[0m \u001b[1;33m=\u001b[0m \u001b[0mto_model_space\u001b[0m\u001b[1;33m(\u001b[0m\u001b[0mx_attack\u001b[0m \u001b[1;33m+\u001b[0m \u001b[0mdelta\u001b[0m\u001b[1;33m)\u001b[0m\u001b[1;33m\u001b[0m\u001b[1;33m\u001b[0m\u001b[0m\n\u001b[1;32m--> 121\u001b[1;33m             \u001b[0mlogits\u001b[0m \u001b[1;33m=\u001b[0m \u001b[0mmodel\u001b[0m\u001b[1;33m(\u001b[0m\u001b[0mx\u001b[0m\u001b[1;33m)\u001b[0m\u001b[1;33m\u001b[0m\u001b[1;33m\u001b[0m\u001b[0m\n\u001b[0m\u001b[0;32m    122\u001b[0m \u001b[1;33m\u001b[0m\u001b[0m\n\u001b[0;32m    123\u001b[0m             \u001b[1;32mif\u001b[0m \u001b[0mtargeted\u001b[0m\u001b[1;33m:\u001b[0m\u001b[1;33m\u001b[0m\u001b[1;33m\u001b[0m\u001b[0m\n",
      "\u001b[1;32mf:\\Anaconda\\lib\\site-packages\\foolbox\\models\\base.py\u001b[0m in \u001b[0;36m__call__\u001b[1;34m(self, inputs)\u001b[0m\n\u001b[0;32m    100\u001b[0m         \u001b[0mx\u001b[0m\u001b[1;33m,\u001b[0m \u001b[0mrestore_type\u001b[0m \u001b[1;33m=\u001b[0m \u001b[0mep\u001b[0m\u001b[1;33m.\u001b[0m\u001b[0mastensor_\u001b[0m\u001b[1;33m(\u001b[0m\u001b[0minputs\u001b[0m\u001b[1;33m)\u001b[0m\u001b[1;33m\u001b[0m\u001b[1;33m\u001b[0m\u001b[0m\n\u001b[0;32m    101\u001b[0m         \u001b[0my\u001b[0m \u001b[1;33m=\u001b[0m \u001b[0mself\u001b[0m\u001b[1;33m.\u001b[0m\u001b[0m_preprocess\u001b[0m\u001b[1;33m(\u001b[0m\u001b[0mx\u001b[0m\u001b[1;33m)\u001b[0m\u001b[1;33m\u001b[0m\u001b[1;33m\u001b[0m\u001b[0m\n\u001b[1;32m--> 102\u001b[1;33m         \u001b[0mz\u001b[0m \u001b[1;33m=\u001b[0m \u001b[0mep\u001b[0m\u001b[1;33m.\u001b[0m\u001b[0mastensor\u001b[0m\u001b[1;33m(\u001b[0m\u001b[0mself\u001b[0m\u001b[1;33m.\u001b[0m\u001b[0m_model\u001b[0m\u001b[1;33m(\u001b[0m\u001b[0my\u001b[0m\u001b[1;33m.\u001b[0m\u001b[0mraw\u001b[0m\u001b[1;33m)\u001b[0m\u001b[1;33m)\u001b[0m\u001b[1;33m\u001b[0m\u001b[1;33m\u001b[0m\u001b[0m\n\u001b[0m\u001b[0;32m    103\u001b[0m         \u001b[1;32mreturn\u001b[0m \u001b[0mrestore_type\u001b[0m\u001b[1;33m(\u001b[0m\u001b[0mz\u001b[0m\u001b[1;33m)\u001b[0m\u001b[1;33m\u001b[0m\u001b[1;33m\u001b[0m\u001b[0m\n\u001b[0;32m    104\u001b[0m \u001b[1;33m\u001b[0m\u001b[0m\n",
      "\u001b[1;32mf:\\Anaconda\\lib\\site-packages\\foolbox\\models\\pytorch.py\u001b[0m in \u001b[0;36m_model\u001b[1;34m(x)\u001b[0m\n\u001b[0;32m     47\u001b[0m         \u001b[1;32mdef\u001b[0m \u001b[0m_model\u001b[0m\u001b[1;33m(\u001b[0m\u001b[0mx\u001b[0m\u001b[1;33m:\u001b[0m \u001b[0mtorch\u001b[0m\u001b[1;33m.\u001b[0m\u001b[0mTensor\u001b[0m\u001b[1;33m)\u001b[0m \u001b[1;33m->\u001b[0m \u001b[0mtorch\u001b[0m\u001b[1;33m.\u001b[0m\u001b[0mTensor\u001b[0m\u001b[1;33m:\u001b[0m\u001b[1;33m\u001b[0m\u001b[1;33m\u001b[0m\u001b[0m\n\u001b[0;32m     48\u001b[0m             \u001b[1;32mwith\u001b[0m \u001b[0mtorch\u001b[0m\u001b[1;33m.\u001b[0m\u001b[0mset_grad_enabled\u001b[0m\u001b[1;33m(\u001b[0m\u001b[0mx\u001b[0m\u001b[1;33m.\u001b[0m\u001b[0mrequires_grad\u001b[0m\u001b[1;33m)\u001b[0m\u001b[1;33m:\u001b[0m\u001b[1;33m\u001b[0m\u001b[1;33m\u001b[0m\u001b[0m\n\u001b[1;32m---> 49\u001b[1;33m                 \u001b[0mresult\u001b[0m \u001b[1;33m=\u001b[0m \u001b[0mcast\u001b[0m\u001b[1;33m(\u001b[0m\u001b[0mtorch\u001b[0m\u001b[1;33m.\u001b[0m\u001b[0mTensor\u001b[0m\u001b[1;33m,\u001b[0m \u001b[0mmodel\u001b[0m\u001b[1;33m(\u001b[0m\u001b[0mx\u001b[0m\u001b[1;33m)\u001b[0m\u001b[1;33m)\u001b[0m\u001b[1;33m\u001b[0m\u001b[1;33m\u001b[0m\u001b[0m\n\u001b[0m\u001b[0;32m     50\u001b[0m             \u001b[1;32mreturn\u001b[0m \u001b[0mresult\u001b[0m\u001b[1;33m\u001b[0m\u001b[1;33m\u001b[0m\u001b[0m\n\u001b[0;32m     51\u001b[0m \u001b[1;33m\u001b[0m\u001b[0m\n",
      "\u001b[1;32mf:\\Anaconda\\lib\\site-packages\\torch\\nn\\modules\\module.py\u001b[0m in \u001b[0;36m_call_impl\u001b[1;34m(self, *input, **kwargs)\u001b[0m\n\u001b[0;32m   1100\u001b[0m         if not (self._backward_hooks or self._forward_hooks or self._forward_pre_hooks or _global_backward_hooks\n\u001b[0;32m   1101\u001b[0m                 or _global_forward_hooks or _global_forward_pre_hooks):\n\u001b[1;32m-> 1102\u001b[1;33m             \u001b[1;32mreturn\u001b[0m \u001b[0mforward_call\u001b[0m\u001b[1;33m(\u001b[0m\u001b[1;33m*\u001b[0m\u001b[0minput\u001b[0m\u001b[1;33m,\u001b[0m \u001b[1;33m**\u001b[0m\u001b[0mkwargs\u001b[0m\u001b[1;33m)\u001b[0m\u001b[1;33m\u001b[0m\u001b[1;33m\u001b[0m\u001b[0m\n\u001b[0m\u001b[0;32m   1103\u001b[0m         \u001b[1;31m# Do not call functions when jit is used\u001b[0m\u001b[1;33m\u001b[0m\u001b[1;33m\u001b[0m\u001b[1;33m\u001b[0m\u001b[0m\n\u001b[0;32m   1104\u001b[0m         \u001b[0mfull_backward_hooks\u001b[0m\u001b[1;33m,\u001b[0m \u001b[0mnon_full_backward_hooks\u001b[0m \u001b[1;33m=\u001b[0m \u001b[1;33m[\u001b[0m\u001b[1;33m]\u001b[0m\u001b[1;33m,\u001b[0m \u001b[1;33m[\u001b[0m\u001b[1;33m]\u001b[0m\u001b[1;33m\u001b[0m\u001b[1;33m\u001b[0m\u001b[0m\n",
      "\u001b[1;32m<ipython-input-7-ee08b525a1ea>\u001b[0m in \u001b[0;36mforward\u001b[1;34m(self, orig)\u001b[0m\n\u001b[0;32m     58\u001b[0m \u001b[1;33m\u001b[0m\u001b[0m\n\u001b[0;32m     59\u001b[0m         \u001b[1;32mdef\u001b[0m \u001b[0mforward\u001b[0m\u001b[1;33m(\u001b[0m\u001b[0mself\u001b[0m\u001b[1;33m,\u001b[0m \u001b[0morig\u001b[0m\u001b[1;33m)\u001b[0m\u001b[1;33m:\u001b[0m\u001b[1;33m\u001b[0m\u001b[1;33m\u001b[0m\u001b[0m\n\u001b[1;32m---> 60\u001b[1;33m                 \u001b[0mx\u001b[0m \u001b[1;33m=\u001b[0m \u001b[0mself\u001b[0m\u001b[1;33m.\u001b[0m\u001b[0mconv1_1\u001b[0m\u001b[1;33m(\u001b[0m\u001b[0morig\u001b[0m\u001b[1;33m)\u001b[0m\u001b[1;33m\u001b[0m\u001b[1;33m\u001b[0m\u001b[0m\n\u001b[0m\u001b[0;32m     61\u001b[0m                 \u001b[0mx\u001b[0m \u001b[1;33m=\u001b[0m \u001b[0mself\u001b[0m\u001b[1;33m.\u001b[0m\u001b[0mrelu1_1\u001b[0m\u001b[1;33m(\u001b[0m\u001b[0mx\u001b[0m\u001b[1;33m)\u001b[0m\u001b[1;33m\u001b[0m\u001b[1;33m\u001b[0m\u001b[0m\n\u001b[0;32m     62\u001b[0m                 \u001b[0mx\u001b[0m \u001b[1;33m=\u001b[0m \u001b[0mself\u001b[0m\u001b[1;33m.\u001b[0m\u001b[0mmaxpool1_1\u001b[0m\u001b[1;33m(\u001b[0m\u001b[0mx\u001b[0m\u001b[1;33m)\u001b[0m\u001b[1;33m\u001b[0m\u001b[1;33m\u001b[0m\u001b[0m\n",
      "\u001b[1;32mf:\\Anaconda\\lib\\site-packages\\torch\\nn\\modules\\module.py\u001b[0m in \u001b[0;36m_call_impl\u001b[1;34m(self, *input, **kwargs)\u001b[0m\n\u001b[0;32m   1100\u001b[0m         if not (self._backward_hooks or self._forward_hooks or self._forward_pre_hooks or _global_backward_hooks\n\u001b[0;32m   1101\u001b[0m                 or _global_forward_hooks or _global_forward_pre_hooks):\n\u001b[1;32m-> 1102\u001b[1;33m             \u001b[1;32mreturn\u001b[0m \u001b[0mforward_call\u001b[0m\u001b[1;33m(\u001b[0m\u001b[1;33m*\u001b[0m\u001b[0minput\u001b[0m\u001b[1;33m,\u001b[0m \u001b[1;33m**\u001b[0m\u001b[0mkwargs\u001b[0m\u001b[1;33m)\u001b[0m\u001b[1;33m\u001b[0m\u001b[1;33m\u001b[0m\u001b[0m\n\u001b[0m\u001b[0;32m   1103\u001b[0m         \u001b[1;31m# Do not call functions when jit is used\u001b[0m\u001b[1;33m\u001b[0m\u001b[1;33m\u001b[0m\u001b[1;33m\u001b[0m\u001b[0m\n\u001b[0;32m   1104\u001b[0m         \u001b[0mfull_backward_hooks\u001b[0m\u001b[1;33m,\u001b[0m \u001b[0mnon_full_backward_hooks\u001b[0m \u001b[1;33m=\u001b[0m \u001b[1;33m[\u001b[0m\u001b[1;33m]\u001b[0m\u001b[1;33m,\u001b[0m \u001b[1;33m[\u001b[0m\u001b[1;33m]\u001b[0m\u001b[1;33m\u001b[0m\u001b[1;33m\u001b[0m\u001b[0m\n",
      "\u001b[1;32mf:\\Anaconda\\lib\\site-packages\\torch\\nn\\modules\\conv.py\u001b[0m in \u001b[0;36mforward\u001b[1;34m(self, input)\u001b[0m\n\u001b[0;32m    444\u001b[0m \u001b[1;33m\u001b[0m\u001b[0m\n\u001b[0;32m    445\u001b[0m     \u001b[1;32mdef\u001b[0m \u001b[0mforward\u001b[0m\u001b[1;33m(\u001b[0m\u001b[0mself\u001b[0m\u001b[1;33m,\u001b[0m \u001b[0minput\u001b[0m\u001b[1;33m:\u001b[0m \u001b[0mTensor\u001b[0m\u001b[1;33m)\u001b[0m \u001b[1;33m->\u001b[0m \u001b[0mTensor\u001b[0m\u001b[1;33m:\u001b[0m\u001b[1;33m\u001b[0m\u001b[1;33m\u001b[0m\u001b[0m\n\u001b[1;32m--> 446\u001b[1;33m         \u001b[1;32mreturn\u001b[0m \u001b[0mself\u001b[0m\u001b[1;33m.\u001b[0m\u001b[0m_conv_forward\u001b[0m\u001b[1;33m(\u001b[0m\u001b[0minput\u001b[0m\u001b[1;33m,\u001b[0m \u001b[0mself\u001b[0m\u001b[1;33m.\u001b[0m\u001b[0mweight\u001b[0m\u001b[1;33m,\u001b[0m \u001b[0mself\u001b[0m\u001b[1;33m.\u001b[0m\u001b[0mbias\u001b[0m\u001b[1;33m)\u001b[0m\u001b[1;33m\u001b[0m\u001b[1;33m\u001b[0m\u001b[0m\n\u001b[0m\u001b[0;32m    447\u001b[0m \u001b[1;33m\u001b[0m\u001b[0m\n\u001b[0;32m    448\u001b[0m \u001b[1;32mclass\u001b[0m \u001b[0mConv3d\u001b[0m\u001b[1;33m(\u001b[0m\u001b[0m_ConvNd\u001b[0m\u001b[1;33m)\u001b[0m\u001b[1;33m:\u001b[0m\u001b[1;33m\u001b[0m\u001b[1;33m\u001b[0m\u001b[0m\n",
      "\u001b[1;32mf:\\Anaconda\\lib\\site-packages\\torch\\nn\\modules\\conv.py\u001b[0m in \u001b[0;36m_conv_forward\u001b[1;34m(self, input, weight, bias)\u001b[0m\n\u001b[0;32m    440\u001b[0m                             \u001b[0mweight\u001b[0m\u001b[1;33m,\u001b[0m \u001b[0mbias\u001b[0m\u001b[1;33m,\u001b[0m \u001b[0mself\u001b[0m\u001b[1;33m.\u001b[0m\u001b[0mstride\u001b[0m\u001b[1;33m,\u001b[0m\u001b[1;33m\u001b[0m\u001b[1;33m\u001b[0m\u001b[0m\n\u001b[0;32m    441\u001b[0m                             _pair(0), self.dilation, self.groups)\n\u001b[1;32m--> 442\u001b[1;33m         return F.conv2d(input, weight, bias, self.stride,\n\u001b[0m\u001b[0;32m    443\u001b[0m                         self.padding, self.dilation, self.groups)\n\u001b[0;32m    444\u001b[0m \u001b[1;33m\u001b[0m\u001b[0m\n",
      "\u001b[1;31mRuntimeError\u001b[0m: Input type (torch.cuda.FloatTensor) and weight type (torch.FloatTensor) should be the same"
     ]
    }
   ],
   "source": [
    "def generate_pertubated_examples(n=1000,attack_method=fb.attacks.L2CarliniWagnerAttack()):\n",
    "    device = torch.device(\"cpu\")\n",
    "    adversial_data = []\n",
    "    adversial_orignal_labels = []\n",
    "    collected_ad=0\n",
    "    model = network.eval()\n",
    "    for i, data in enumerate(test_loader,0):\n",
    "         \n",
    "        input, label = data\n",
    "        input, label = Variable(input.to(device)), Variable(label.to(device))\n",
    "      \n",
    "            # Generate adversial dataset for attack\n",
    "        fmodel = fb.PyTorchModel(model, bounds=(-0.4242129623889923, 2.821486711502075), device=\"cpu\")\n",
    "        attack = attack_method\n",
    "            #attack = fb.attacks.L2CarliniWagnerAttack()\n",
    "        epsilons = [0.3] #, 0.0, 0.001, 0.01, 0.03, 0.1, 0.3, 0.5, 1.0\n",
    "\n",
    "        raw_advs, advs, is_adv = attack(fmodel, input, label, epsilons=epsilons)\n",
    "        adversial_indexes = np.where((is_adv[0].cpu().view(-1).numpy()).astype(int)==1)\n",
    "        print(adversial_indexes)\n",
    "        print(is_adv)\n",
    "        if (adversial_indexes[0].shape[0]>0):\n",
    "            for i in range(adversial_indexes[0].shape[0]):\n",
    "                if collected_ad==n:\n",
    "                    break\n",
    "                adversial_data.append(advs[0][adversial_indexes[0]][i])\n",
    "\n",
    "                adversial_orignal_labels.append(label[i].item())\n",
    "                    #\n",
    "                #print(label[i].item())\n",
    "                #plt.imshow(input[i][0].cpu().numpy(), cmap='gray', interpolation='none')\n",
    "                #plt.show()\n",
    "                #plt.imshow(raw_advs[0][i][0].cpu().numpy(), cmap='gray', interpolation='none')\n",
    "                #plt.show()\n",
    "                    #plt.imshow(median_smoothing(raw_advs[0][i][0].cpu()).numpy(), cmap='gray', interpolation='none')\n",
    "                    #plt.show()\n",
    "                collected_ad+=1\n",
    "\n",
    "            if len(adversial_data)==n:\n",
    "                break\n",
    "    return ((torch.cat(adversial_data)).unsqueeze(dim=1),torch.from_numpy(np.array(adversial_orignal_labels)))\n",
    "        \n",
    "ad_data,ad_ind=generate_pertubated_examples()"
   ]
  },
  {
   "cell_type": "code",
   "execution_count": 259,
   "metadata": {},
   "outputs": [
    {
     "data": {
      "text/plain": [
       "0.10576923191547394"
      ]
     },
     "execution_count": 259,
     "metadata": {},
     "output_type": "execute_result"
    }
   ],
   "source": [
    "fmodel = fb.PyTorchModel(model=network.eval(), bounds=(-0.4242129623889923, 2.821486711502075), device=\"cpu\")\n",
    "fb.utils.accuracy(fmodel, ad_data, ad_ind)"
   ]
  },
  {
   "cell_type": "code",
   "execution_count": 260,
   "metadata": {},
   "outputs": [
    {
     "data": {
      "text/plain": [
       "0.11538461595773697"
      ]
     },
     "execution_count": 260,
     "metadata": {},
     "output_type": "execute_result"
    }
   ],
   "source": [
    "fb.utils.accuracy(fmodel, median_smoothing(torch.clone(ad_data)), ad_ind)"
   ]
  },
  {
   "cell_type": "code",
   "execution_count": 267,
   "metadata": {},
   "outputs": [
    {
     "data": {
      "text/plain": [
       "0.12259615212678909"
      ]
     },
     "execution_count": 267,
     "metadata": {},
     "output_type": "execute_result"
    }
   ],
   "source": [
    "fb.utils.accuracy(fmodel, bit_reduction(torch.clone(ad_data)), ad_ind)"
   ]
  },
  {
   "cell_type": "code",
   "execution_count": 262,
   "metadata": {},
   "outputs": [
    {
     "data": {
      "text/plain": [
       "<matplotlib.image.AxesImage at 0x129c27257f0>"
      ]
     },
     "execution_count": 262,
     "metadata": {},
     "output_type": "execute_result"
    },
    {
     "data": {
      "image/png": "[encoded data removed]",
      "text/plain": [
       "<Figure size 432x288 with 1 Axes>"
      ]
     },
     "metadata": {
      "needs_background": "light"
     },
     "output_type": "display_data"
    }
   ],
   "source": [
    "plt.imshow(median_smoothing(torch.clone(ad_data[0][0])).numpy(), cmap='gray', interpolation='none')"
   ]
  },
  {
   "cell_type": "code",
   "execution_count": 269,
   "metadata": {},
   "outputs": [
    {
     "data": {
      "text/plain": [
       "<matplotlib.image.AxesImage at 0x129c26ab130>"
      ]
     },
     "execution_count": 269,
     "metadata": {},
     "output_type": "execute_result"
    },
    {
     "data": {
      "image/png": "[encoded data removed]",
      "text/plain": [
       "<Figure size 432x288 with 1 Axes>"
      ]
     },
     "metadata": {
      "needs_background": "light"
     },
     "output_type": "display_data"
    }
   ],
   "source": [
    "plt.imshow(bit_reduction(torch.clone(ad_data[0][0])))"
   ]
  },
  {
   "cell_type": "markdown",
   "metadata": {},
   "source": [
    "#### TODO Generate Sample of adversials to save time. Loop Dataloader (shuffle?) until 100 examples are found. Save Image Data and corresponding label."
   ]
  },
  {
   "cell_type": "code",
   "execution_count": 14,
   "metadata": {},
   "outputs": [
    {
     "name": "stdout",
     "output_type": "stream",
     "text": [
      "Accuracy: 0.0\n",
      "Accuracy_Ens: 96.875\n",
      "Accuracy: 0.0\n",
      "Accuracy_Ens: 100.0\n",
      "Accuracy: 0.0\n",
      "Accuracy_Ens: 96.875\n",
      "Accuracy: 0.0\n",
      "Accuracy_Ens: 100.0\n",
      "Accuracy: 0.0\n",
      "Accuracy_Ens: 100.0\n"
     ]
    },
    {
     "ename": "KeyboardInterrupt",
     "evalue": "",
     "output_type": "error",
     "traceback": [
      "\u001b[1;31m---------------------------------------------------------------------------\u001b[0m",
      "\u001b[1;31mKeyboardInterrupt\u001b[0m                         Traceback (most recent call last)",
      "\u001b[1;32m<ipython-input-14-70f7f6aa8c89>\u001b[0m in \u001b[0;36m<module>\u001b[1;34m\u001b[0m\n\u001b[0;32m     28\u001b[0m       \u001b[0mepsilons\u001b[0m \u001b[1;33m=\u001b[0m \u001b[1;33m[\u001b[0m\u001b[1;36m0.1\u001b[0m\u001b[1;33m]\u001b[0m \u001b[1;31m#, 0.0, 0.001, 0.01, 0.03, 0.1, 0.3, 0.5, 1.0\u001b[0m\u001b[1;33m\u001b[0m\u001b[1;33m\u001b[0m\u001b[0m\n\u001b[0;32m     29\u001b[0m       \u001b[0mcriterion\u001b[0m \u001b[1;33m=\u001b[0m \u001b[0mMisclassification\u001b[0m\u001b[1;33m(\u001b[0m\u001b[0mlabel\u001b[0m\u001b[1;33m)\u001b[0m\u001b[1;33m\u001b[0m\u001b[1;33m\u001b[0m\u001b[0m\n\u001b[1;32m---> 30\u001b[1;33m       \u001b[0mraw_advs\u001b[0m\u001b[1;33m,\u001b[0m \u001b[0madvs\u001b[0m\u001b[1;33m,\u001b[0m \u001b[0mis_adv\u001b[0m \u001b[1;33m=\u001b[0m \u001b[0mattack\u001b[0m\u001b[1;33m(\u001b[0m\u001b[0mfmodel\u001b[0m\u001b[1;33m,\u001b[0m \u001b[0minput\u001b[0m\u001b[1;33m,\u001b[0m \u001b[0mlabel\u001b[0m\u001b[1;33m,\u001b[0m \u001b[0mepsilons\u001b[0m\u001b[1;33m=\u001b[0m\u001b[0mepsilons\u001b[0m\u001b[1;33m)\u001b[0m\u001b[1;33m\u001b[0m\u001b[1;33m\u001b[0m\u001b[0m\n\u001b[0m\u001b[0;32m     31\u001b[0m \u001b[1;33m\u001b[0m\u001b[0m\n\u001b[0;32m     32\u001b[0m       \u001b[1;31m# Use ensemble to jury classify the adversial dataset\u001b[0m\u001b[1;33m\u001b[0m\u001b[1;33m\u001b[0m\u001b[1;33m\u001b[0m\u001b[0m\n",
      "\u001b[1;32mf:\\Anaconda\\lib\\site-packages\\foolbox\\attacks\\base.py\u001b[0m in \u001b[0;36m__call__\u001b[1;34m(***failed resolving arguments***)\u001b[0m\n\u001b[0;32m    414\u001b[0m \u001b[1;33m\u001b[0m\u001b[0m\n\u001b[0;32m    415\u001b[0m         \u001b[1;31m# run the actual attack\u001b[0m\u001b[1;33m\u001b[0m\u001b[1;33m\u001b[0m\u001b[1;33m\u001b[0m\u001b[0m\n\u001b[1;32m--> 416\u001b[1;33m         \u001b[0mxp\u001b[0m \u001b[1;33m=\u001b[0m \u001b[0mself\u001b[0m\u001b[1;33m.\u001b[0m\u001b[0mrun\u001b[0m\u001b[1;33m(\u001b[0m\u001b[0mmodel\u001b[0m\u001b[1;33m,\u001b[0m \u001b[0mx\u001b[0m\u001b[1;33m,\u001b[0m \u001b[0mcriterion\u001b[0m\u001b[1;33m,\u001b[0m \u001b[0mearly_stop\u001b[0m\u001b[1;33m=\u001b[0m\u001b[0mearly_stop\u001b[0m\u001b[1;33m,\u001b[0m \u001b[1;33m**\u001b[0m\u001b[0mkwargs\u001b[0m\u001b[1;33m)\u001b[0m\u001b[1;33m\u001b[0m\u001b[1;33m\u001b[0m\u001b[0m\n\u001b[0m\u001b[0;32m    417\u001b[0m \u001b[1;33m\u001b[0m\u001b[0m\n\u001b[0;32m    418\u001b[0m         \u001b[0mxpcs\u001b[0m \u001b[1;33m=\u001b[0m \u001b[1;33m[\u001b[0m\u001b[1;33m]\u001b[0m\u001b[1;33m\u001b[0m\u001b[1;33m\u001b[0m\u001b[0m\n",
      "\u001b[1;32mf:\\Anaconda\\lib\\site-packages\\foolbox\\attacks\\carlini_wagner.py\u001b[0m in \u001b[0;36mrun\u001b[1;34m(***failed resolving arguments***)\u001b[0m\n\u001b[0;32m    168\u001b[0m \u001b[1;33m\u001b[0m\u001b[0m\n\u001b[0;32m    169\u001b[0m             \u001b[1;32mfor\u001b[0m \u001b[0mstep\u001b[0m \u001b[1;32min\u001b[0m \u001b[0mrange\u001b[0m\u001b[1;33m(\u001b[0m\u001b[0mself\u001b[0m\u001b[1;33m.\u001b[0m\u001b[0msteps\u001b[0m\u001b[1;33m)\u001b[0m\u001b[1;33m:\u001b[0m\u001b[1;33m\u001b[0m\u001b[1;33m\u001b[0m\u001b[0m\n\u001b[1;32m--> 170\u001b[1;33m                 \u001b[0mloss\u001b[0m\u001b[1;33m,\u001b[0m \u001b[1;33m(\u001b[0m\u001b[0mperturbed\u001b[0m\u001b[1;33m,\u001b[0m \u001b[0mlogits\u001b[0m\u001b[1;33m)\u001b[0m\u001b[1;33m,\u001b[0m \u001b[0mgradient\u001b[0m \u001b[1;33m=\u001b[0m \u001b[0mloss_aux_and_grad\u001b[0m\u001b[1;33m(\u001b[0m\u001b[0mdelta\u001b[0m\u001b[1;33m,\u001b[0m \u001b[0mconsts_\u001b[0m\u001b[1;33m)\u001b[0m\u001b[1;33m\u001b[0m\u001b[1;33m\u001b[0m\u001b[0m\n\u001b[0m\u001b[0;32m    171\u001b[0m                 \u001b[0mdelta\u001b[0m \u001b[1;33m-=\u001b[0m \u001b[0moptimizer\u001b[0m\u001b[1;33m(\u001b[0m\u001b[0mgradient\u001b[0m\u001b[1;33m)\u001b[0m\u001b[1;33m\u001b[0m\u001b[1;33m\u001b[0m\u001b[0m\n\u001b[0;32m    172\u001b[0m \u001b[1;33m\u001b[0m\u001b[0m\n",
      "\u001b[1;32mf:\\Anaconda\\lib\\site-packages\\eagerpy\\tensor\\pytorch.py\u001b[0m in \u001b[0;36mvalue_and_grad\u001b[1;34m(x, *args, **kwargs)\u001b[0m\n\u001b[0;32m    505\u001b[0m                 \u001b[0mloss\u001b[0m \u001b[1;33m=\u001b[0m \u001b[0mf\u001b[0m\u001b[1;33m(\u001b[0m\u001b[0mx\u001b[0m\u001b[1;33m,\u001b[0m \u001b[1;33m*\u001b[0m\u001b[0margs\u001b[0m\u001b[1;33m,\u001b[0m \u001b[1;33m**\u001b[0m\u001b[0mkwargs\u001b[0m\u001b[1;33m)\u001b[0m\u001b[1;33m\u001b[0m\u001b[1;33m\u001b[0m\u001b[0m\n\u001b[0;32m    506\u001b[0m             \u001b[0mloss\u001b[0m \u001b[1;33m=\u001b[0m \u001b[0mloss\u001b[0m\u001b[1;33m.\u001b[0m\u001b[0mraw\u001b[0m\u001b[1;33m\u001b[0m\u001b[1;33m\u001b[0m\u001b[0m\n\u001b[1;32m--> 507\u001b[1;33m             \u001b[0mloss\u001b[0m\u001b[1;33m.\u001b[0m\u001b[0mbackward\u001b[0m\u001b[1;33m(\u001b[0m\u001b[1;33m)\u001b[0m\u001b[1;33m\u001b[0m\u001b[1;33m\u001b[0m\u001b[0m\n\u001b[0m\u001b[0;32m    508\u001b[0m             \u001b[1;32massert\u001b[0m \u001b[0mx\u001b[0m\u001b[1;33m.\u001b[0m\u001b[0mraw\u001b[0m\u001b[1;33m.\u001b[0m\u001b[0mgrad\u001b[0m \u001b[1;32mis\u001b[0m \u001b[1;32mnot\u001b[0m \u001b[1;32mNone\u001b[0m\u001b[1;33m\u001b[0m\u001b[1;33m\u001b[0m\u001b[0m\n\u001b[0;32m    509\u001b[0m             \u001b[0mgrad\u001b[0m \u001b[1;33m=\u001b[0m \u001b[0mtype\u001b[0m\u001b[1;33m(\u001b[0m\u001b[0mself\u001b[0m\u001b[1;33m)\u001b[0m\u001b[1;33m(\u001b[0m\u001b[0mx\u001b[0m\u001b[1;33m.\u001b[0m\u001b[0mraw\u001b[0m\u001b[1;33m.\u001b[0m\u001b[0mgrad\u001b[0m\u001b[1;33m)\u001b[0m\u001b[1;33m\u001b[0m\u001b[1;33m\u001b[0m\u001b[0m\n",
      "\u001b[1;32mf:\\Anaconda\\lib\\site-packages\\torch\\_tensor.py\u001b[0m in \u001b[0;36mbackward\u001b[1;34m(self, gradient, retain_graph, create_graph, inputs)\u001b[0m\n\u001b[0;32m    305\u001b[0m                 \u001b[0mcreate_graph\u001b[0m\u001b[1;33m=\u001b[0m\u001b[0mcreate_graph\u001b[0m\u001b[1;33m,\u001b[0m\u001b[1;33m\u001b[0m\u001b[1;33m\u001b[0m\u001b[0m\n\u001b[0;32m    306\u001b[0m                 inputs=inputs)\n\u001b[1;32m--> 307\u001b[1;33m         \u001b[0mtorch\u001b[0m\u001b[1;33m.\u001b[0m\u001b[0mautograd\u001b[0m\u001b[1;33m.\u001b[0m\u001b[0mbackward\u001b[0m\u001b[1;33m(\u001b[0m\u001b[0mself\u001b[0m\u001b[1;33m,\u001b[0m \u001b[0mgradient\u001b[0m\u001b[1;33m,\u001b[0m \u001b[0mretain_graph\u001b[0m\u001b[1;33m,\u001b[0m \u001b[0mcreate_graph\u001b[0m\u001b[1;33m,\u001b[0m \u001b[0minputs\u001b[0m\u001b[1;33m=\u001b[0m\u001b[0minputs\u001b[0m\u001b[1;33m)\u001b[0m\u001b[1;33m\u001b[0m\u001b[1;33m\u001b[0m\u001b[0m\n\u001b[0m\u001b[0;32m    308\u001b[0m \u001b[1;33m\u001b[0m\u001b[0m\n\u001b[0;32m    309\u001b[0m     \u001b[1;32mdef\u001b[0m \u001b[0mregister_hook\u001b[0m\u001b[1;33m(\u001b[0m\u001b[0mself\u001b[0m\u001b[1;33m,\u001b[0m \u001b[0mhook\u001b[0m\u001b[1;33m)\u001b[0m\u001b[1;33m:\u001b[0m\u001b[1;33m\u001b[0m\u001b[1;33m\u001b[0m\u001b[0m\n",
      "\u001b[1;32mf:\\Anaconda\\lib\\site-packages\\torch\\autograd\\__init__.py\u001b[0m in \u001b[0;36mbackward\u001b[1;34m(tensors, grad_tensors, retain_graph, create_graph, grad_variables, inputs)\u001b[0m\n\u001b[0;32m    152\u001b[0m         \u001b[0mretain_graph\u001b[0m \u001b[1;33m=\u001b[0m \u001b[0mcreate_graph\u001b[0m\u001b[1;33m\u001b[0m\u001b[1;33m\u001b[0m\u001b[0m\n\u001b[0;32m    153\u001b[0m \u001b[1;33m\u001b[0m\u001b[0m\n\u001b[1;32m--> 154\u001b[1;33m     Variable._execution_engine.run_backward(\n\u001b[0m\u001b[0;32m    155\u001b[0m         \u001b[0mtensors\u001b[0m\u001b[1;33m,\u001b[0m \u001b[0mgrad_tensors_\u001b[0m\u001b[1;33m,\u001b[0m \u001b[0mretain_graph\u001b[0m\u001b[1;33m,\u001b[0m \u001b[0mcreate_graph\u001b[0m\u001b[1;33m,\u001b[0m \u001b[0minputs\u001b[0m\u001b[1;33m,\u001b[0m\u001b[1;33m\u001b[0m\u001b[1;33m\u001b[0m\u001b[0m\n\u001b[0;32m    156\u001b[0m         allow_unreachable=True, accumulate_grad=True)  # allow_unreachable flag\n",
      "\u001b[1;31mKeyboardInterrupt\u001b[0m: "
     ]
    }
   ],
   "source": [
    "import foolbox as fb\n",
    "from torch.autograd import Variable\n",
    "misclassified = 0\n",
    "correct=0\n",
    "correct_ens = 0\n",
    "jury_vote = []\n",
    "ensemble_class = []\n",
    "accuracies=[]\n",
    "test_acc=[]\n",
    "distance_l0=0\n",
    "distance_l2=0\n",
    "distance_linf=0\n",
    "runs = 0\n",
    "from foolbox.criteria import Misclassification\n",
    "# test_loader\n",
    "for i, data in enumerate(test_loader,0):\n",
    "\n",
    "      input, label = data\n",
    "      input, label = Variable(input.to(device)), Variable(label.to(device))\n",
    "\n",
    "      model = network.eval()\n",
    "\n",
    "      \n",
    "      # Generate adversial dataset for attack\n",
    "      fmodel = fb.PyTorchModel(model, bounds=(-0.4242129623889923, 2.821486711502075), device=\"cpu\")\n",
    "      #attack = fb.attacks.FGSM()\n",
    "      attack = fb.attacks.L2CarliniWagnerAttack()\n",
    "      epsilons = [0.1] #, 0.0, 0.001, 0.01, 0.03, 0.1, 0.3, 0.5, 1.0\n",
    "      criterion = Misclassification(label)\n",
    "      raw_advs, advs, is_adv = attack(fmodel, input, label, epsilons=epsilons)\n",
    "\n",
    "      # Use ensemble to jury classify the adversial dataset\n",
    "      with torch.no_grad():\n",
    "            output1 = model(median_smoothing(torch.clone(raw_advs[0])))\n",
    "            output2 = model(bit_reduction(torch.clone(raw_advs[0])))\n",
    "            output3 = model(torch.clone(raw_advs[0]))\n",
    "            output = (output1 + output2 + output3)/3# Average of three networks. Alternative is to use majority voting using output.data.max(1)[1] for each output and write it to an array to get argmax\n",
    "\n",
    "      pred = output.data.max(1, keepdim=True)[1]\n",
    "      pred_br = output2.data.max(1, keepdim=True)[1]\n",
    "      pred_ms = output3.data.max(1, keepdim=True)[1]\n",
    "      \n",
    "      jury_data = (list(zip(pred,pred_br,pred_ms)))\n",
    "      for vote in range (len(jury_data)):\n",
    "            if ((np.bincount(np.array(jury_data[vote])).argmax()) == label[vote].item()):\n",
    "                  correct_ens+=1\n",
    "\n",
    "      pred = output.data.max(1, keepdim=True)[1]\n",
    "      correct += pred.eq(label.data.view_as(pred)).sum()\n",
    "      acc = 100. * pred.eq(label.data.view_as(pred)).sum() / len(input)\n",
    "      test_acc.append(acc)\n",
    "      #!raw_advs_ens, _,success_ens = attack(fmodel, raw_advs[0], label, epsilons=epsilons)\n",
    "      #!raw_advs_ms, _,success_ms = attack(fmodel, median_smoothing(torch.clone(raw_advs[0])), label, epsilons=epsilons)\n",
    "      #!raw_advs_br, _,success_br = attack(fmodel, bit_reduction(torch.clone(raw_advs[0])), label, epsilons=epsilons)\n",
    "      #!for batchitem in range(0,32):\n",
    "      #!      jury_vote.append([(np.array(success_ms[0][batchitem]).astype(int)),(np.array(success_br[0][batchitem]).astype(int)),(np.array(is_adv[0][batchitem]).astype(int))])\n",
    "      #!      ensemble_class.append(np.bincount(jury_vote[batchitem]).argmax())\n",
    "      distance_l0+=(fb.distances.l0(raw_advs[0],input)/28).mean().item()    \n",
    "      distance_l2+=(fb.distances.l2(raw_advs[0],input)/28).mean().item()    \n",
    "      distance_linf+=(fb.distances.linf(raw_advs[0]/28,input)).mean().item()    \n",
    "      #!jury_vote+=[[success_ens,success_ms,success_br]]\n",
    "      misclassified+=np.count_nonzero(is_adv.cpu().view(-1).numpy())\n",
    "      #print(np.count_nonzero(is_adv.cpu().view(-1).numpy()))\n",
    "      #Prüfen warum ACC in acc-Test so gut aber als ensemble bincount so schlecht\n",
    "      print(\"Accuracy: {}\".format(fb.utils.accuracy(fmodel, raw_advs[0], label)))\n",
    "      print(\"Accuracy_Ens: {}\".format(acc))\n",
    "      #!print(\"Accuracy Median: {}\".format(fb.utils.accuracy(fmodel, median_smoothing(torch.clone(raw_advs[0])), label)))\n",
    "      #!print(\"Accuracy BitReduced: {}\".format(fb.utils.accuracy(fmodel, bit_reduction(torch.clone(raw_advs[0])), label)))\n",
    "      accuracies.append(fb.utils.accuracy(fmodel, raw_advs[0], label))\n",
    "      runs+=1\n",
    "      if runs==31:\n",
    "            break \n",
    "      #!accuracies.append(fb.utils.accuracy(fmodel, median_smoothing(torch.clone(raw_advs[0])), label))\n",
    "      #!accuracies.append(fb.utils.accuracy(fmodel, bit_reduction(torch.clone(raw_advs[0])), label))\n",
    "#!print(\"Misclassified BaseNet:\",misclassified)\n",
    "\n",
    "\n",
    "print(\"Attack Success Rate: {}% with Epsylon {}\".format((100/992)*misclassified,epsilons))\n",
    "print(\"Accuracy Baseline: {}\".format(np.array(accuracies).mean()))\n",
    "print(\"Accuracy image rectificated Outputs with pooled outputs: {}\".format(np.array(test_acc).mean()))\n",
    "print(\"Accuracy image rectificated Outputs Jury: {}\".format(((100/992)*correct_ens)))\n",
    "#print(\"Attack Success Rate Ensemble: {}%\".format(100/len(test_loader.dataset)*np.count_nonzero(ensemble_class)))\n",
    "#print(\"Misclassified Image Rectification Ensemble:\",np.count_nonzero(ensemble_class))\n",
    "print(\"Distance L0: {}\".format(distance_l0/runs))\n",
    "print(\"Distance L2: {}\".format(distance_l2/runs))\n",
    "print(\"Distance Linf: {}\".format(distance_linf/runs)) #Dont need to divide by runs because the distance is not averaged over the runs"
   ]
  },
  {
   "cell_type": "code",
   "execution_count": 7,
   "metadata": {},
   "outputs": [
    {
     "name": "stdout",
     "output_type": "stream",
     "text": [
      "Accuracy: 0.0\n",
      "Accuracy_Ens: 100.0\n",
      "Accuracy: 0.0\n",
      "Accuracy_Ens: 100.0\n",
      "Accuracy: 0.0\n",
      "Accuracy_Ens: 96.875\n",
      "Accuracy: 0.0\n",
      "Accuracy_Ens: 100.0\n",
      "Accuracy: 0.0\n",
      "Accuracy_Ens: 96.875\n",
      "Accuracy: 0.0\n",
      "Accuracy_Ens: 93.75\n",
      "Accuracy: 0.0\n",
      "Accuracy_Ens: 96.875\n",
      "Attack Success Rate: 2.232142857142857% with Epsylon [0.5]\n",
      "Accuracy Baseline: 0.0\n",
      "Accuracy image rectificated Outputs with pooled outputs: 97.76786041259766\n",
      "Accuracy image rectificated Outputs Jury: 89.28571428571429\n",
      "Distance L0: 27.927296502249582\n",
      "Distance L2: 0.19453600474766322\n",
      "Distance Linf: 2.7458084651402066\n"
     ]
    }
   ],
   "source": [
    "import foolbox as fb\n",
    "from torch.autograd import Variable\n",
    "misclassified = 0\n",
    "correct=0\n",
    "correct_ens = 0\n",
    "jury_vote = []\n",
    "ensemble_class = []\n",
    "accuracies=[]\n",
    "test_acc=[]\n",
    "distance_l0=0\n",
    "distance_l2=0\n",
    "distance_linf=0\n",
    "runs = 0\n",
    "from foolbox.criteria import Misclassification\n",
    "# test_loader\n",
    "for i, data in enumerate(test_loader,0):\n",
    "\n",
    "      input, label = data\n",
    "      input, label = Variable(input.to(device)), Variable(label.to(device))\n",
    "\n",
    "      model = network.eval()\n",
    "\n",
    "      \n",
    "      # Generate adversial dataset for attack\n",
    "      fmodel = fb.PyTorchModel(model, bounds=(-0.4242129623889923, 2.821486711502075), device=\"cpu\")\n",
    "      #attack = fb.attacks.FGSM()\n",
    "      attack = fb.attacks.L2CarliniWagnerAttack()\n",
    "      epsilons = [0.5] #, 0.0, 0.001, 0.01, 0.03, 0.1, 0.3, 0.5, 1.0\n",
    "      criterion = Misclassification(label)\n",
    "      raw_advs, advs, is_adv = attack(fmodel, input, label, epsilons=epsilons)\n",
    "\n",
    "      # Use ensemble to jury classify the adversial dataset\n",
    "      with torch.no_grad():\n",
    "            output1 = model(median_smoothing(torch.clone(raw_advs[0])))\n",
    "            output2 = model(bit_reduction(torch.clone(raw_advs[0])))\n",
    "            output3 = model(torch.clone(raw_advs[0]))\n",
    "            output = (output1 + output2 + output3)/3# Average of three networks. Alternative is to use majority voting using output.data.max(1)[1] for each output and write it to an array to get argmax\n",
    "\n",
    "      pred_base = output1.data.max(1, keepdim=True)[1]\n",
    "      pred_br = output2.data.max(1, keepdim=True)[1]\n",
    "      pred_ms = output3.data.max(1, keepdim=True)[1]\n",
    "      \n",
    "      jury_data = (list(zip(pred_base,pred_br,pred_ms)))\n",
    "      for vote in range (len(jury_data)):\n",
    "            if ((np.bincount(np.array(jury_data[vote])).argmax()) == label[vote].item()):\n",
    "                  correct_ens+=1\n",
    "\n",
    "      pred = output.data.max(1, keepdim=True)[1]\n",
    "      correct += pred.eq(label.data.view_as(pred)).sum()\n",
    "      acc = 100. * pred.eq(label.data.view_as(pred)).sum() / len(input)\n",
    "      test_acc.append(acc)\n",
    "      #!raw_advs_ens, _,success_ens = attack(fmodel, raw_advs[0], label, epsilons=epsilons)\n",
    "      #!raw_advs_ms, _,success_ms = attack(fmodel, median_smoothing(torch.clone(raw_advs[0])), label, epsilons=epsilons)\n",
    "      #!raw_advs_br, _,success_br = attack(fmodel, bit_reduction(torch.clone(raw_advs[0])), label, epsilons=epsilons)\n",
    "      #!for batchitem in range(0,32):\n",
    "      #!      jury_vote.append([(np.array(success_ms[0][batchitem]).astype(int)),(np.array(success_br[0][batchitem]).astype(int)),(np.array(is_adv[0][batchitem]).astype(int))])\n",
    "      #!      ensemble_class.append(np.bincount(jury_vote[batchitem]).argmax())\n",
    "      distance_l0+=(fb.distances.l0(raw_advs[0],input)/28).mean().item()    \n",
    "      distance_l2+=(fb.distances.l2(raw_advs[0],input)/28).mean().item()    \n",
    "      distance_linf+=(fb.distances.linf(raw_advs[0]/28,input)).mean().item()    \n",
    "      #!jury_vote+=[[success_ens,success_ms,success_br]]\n",
    "      misclassified+=np.count_nonzero(is_adv.cpu().view(-1).numpy())\n",
    "      #print(np.count_nonzero(is_adv.cpu().view(-1).numpy()))\n",
    "      #Prüfen warum ACC in acc-Test so gut aber als ensemble bincount so schlecht\n",
    "      print(\"Accuracy: {}\".format(fb.utils.accuracy(fmodel, raw_advs[0], label)))\n",
    "      print(\"Accuracy_Ens: {}\".format(acc))\n",
    "      #!print(\"Accuracy Median: {}\".format(fb.utils.accuracy(fmodel, median_smoothing(torch.clone(raw_advs[0])), label)))\n",
    "      #!print(\"Accuracy BitReduced: {}\".format(fb.utils.accuracy(fmodel, bit_reduction(torch.clone(raw_advs[0])), label)))\n",
    "      accuracies.append(fb.utils.accuracy(fmodel, raw_advs[0], label))\n",
    "      runs+=1\n",
    "      if runs==7:\n",
    "            break \n",
    "      #!accuracies.append(fb.utils.accuracy(fmodel, median_smoothing(torch.clone(raw_advs[0])), label))\n",
    "      #!accuracies.append(fb.utils.accuracy(fmodel, bit_reduction(torch.clone(raw_advs[0])), label))\n",
    "#!print(\"Misclassified BaseNet:\",misclassified)\n",
    "\n",
    "\n",
    "print(\"Attack Success Rate: {}% with Epsylon {}\".format((100/224)*misclassified,epsilons))\n",
    "print(\"Accuracy Baseline: {}\".format(np.array(accuracies).mean()))\n",
    "print(\"Accuracy image rectificated Outputs with pooled outputs: {}\".format(np.array(test_acc).mean()))\n",
    "print(\"Accuracy image rectificated Outputs Jury: {}\".format(((100/224)*correct_ens)))\n",
    "#print(\"Attack Success Rate Ensemble: {}%\".format(100/len(test_loader.dataset)*np.count_nonzero(ensemble_class)))\n",
    "#print(\"Misclassified Image Rectification Ensemble:\",np.count_nonzero(ensemble_class))\n",
    "print(\"Distance L0: {}\".format(distance_l0/runs))\n",
    "print(\"Distance L2: {}\".format(distance_l2/runs))\n",
    "print(\"Distance Linf: {}\".format(distance_linf/runs)) #Dont need to divide by runs because the distance is not averaged over the runs"
   ]
  },
  {
   "cell_type": "code",
   "execution_count": 8,
   "metadata": {},
   "outputs": [
    {
     "name": "stdout",
     "output_type": "stream",
     "text": [
      "Attack Success Rate: 2.232142857142857% with Epsylon [0.5]\n",
      "Accuracy Baseline: 0.0\n",
      "Accuracy image rectificated Outputs with pooled outputs: 97.76786041259766\n",
      "Accuracy image rectificated Outputs Jury: 89.28571428571429\n",
      "Distance L0: 27.927296502249582\n",
      "Distance L2: 0.19453600474766322\n",
      "Distance Linf: 2.7458084651402066\n"
     ]
    }
   ],
   "source": [
    "\n",
    "print(\"Attack Success Rate: {}% with Epsylon {}\".format((100/224)*misclassified,epsilons))\n",
    "print(\"Accuracy Baseline: {}\".format(np.array(accuracies).mean()))\n",
    "print(\"Accuracy image rectificated Outputs with pooled outputs: {}\".format(np.array(test_acc).mean()))\n",
    "print(\"Accuracy image rectificated Outputs Jury: {}\".format(((100/224)*correct_ens)))\n",
    "#print(\"Attack Success Rate Ensemble: {}%\".format(100/len(test_loader.dataset)*np.count_nonzero(ensemble_class)))\n",
    "#print(\"Misclassified Image Rectification Ensemble:\",np.count_nonzero(ensemble_class))\n",
    "print(\"Distance L0: {}\".format(distance_l0/runs))\n",
    "print(\"Distance L2: {}\".format(distance_l2/runs))\n",
    "print(\"Distance Linf: {}\".format(distance_linf/runs)) #Dont need to divide by runs because the distance is not averaged over the runs"
   ]
  },
  {
   "cell_type": "code",
   "execution_count": 39,
   "metadata": {},
   "outputs": [
    {
     "data": {
      "text/plain": [
       "tensor([1.0000, 1.0000, 1.0000, 1.0000, 1.0000, 1.0000, 1.0000, 1.0000, 1.0000,\n",
       "        1.0000, 1.0000, 1.0000, 1.0000, 1.0000, 1.0000, 1.0000, 1.0000, 1.0000,\n",
       "        1.0000, 1.0000, 1.0000, 1.0000, 1.0000, 1.0000, 1.0000, 1.0000, 1.0000,\n",
       "        1.0000, 1.0000, 1.0000, 1.0000, 1.0000])"
      ]
     },
     "execution_count": 39,
     "metadata": {},
     "output_type": "execute_result"
    }
   ],
   "source": [
    "fb.distances.linf(raw_advs[0],input)"
   ]
  },
  {
   "cell_type": "code",
   "execution_count": 33,
   "metadata": {},
   "outputs": [
    {
     "data": {
      "text/plain": [
       "0.30000007152557373"
      ]
     },
     "execution_count": 33,
     "metadata": {},
     "output_type": "execute_result"
    }
   ],
   "source": [
    "(fb.distances.linf(raw_advs[0],input)).mean().item()    "
   ]
  },
  {
   "cell_type": "code",
   "execution_count": 17,
   "metadata": {},
   "outputs": [
    {
     "name": "stdout",
     "output_type": "stream",
     "text": [
      "tensor(16.2098)\n"
     ]
    }
   ],
   "source": [
    "aa = 0\n",
    "for x in range(32):\n",
    "    aa+=fb.distances.l0(raw_advs[0][x][0], input[x][0]).mean()\n",
    "print(aa/32)"
   ]
  },
  {
   "cell_type": "code",
   "execution_count": 532,
   "metadata": {},
   "outputs": [
    {
     "data": {
      "text/plain": [
       "tensor([[-0.4242, -0.4242, -0.4242, -0.4242, -0.4242, -0.4242, -0.4242, -0.4242,\n",
       "         -0.4242, -0.4242, -0.4242, -0.4242, -0.4242, -0.4242, -0.4242, -0.4242,\n",
       "         -0.4242, -0.4242, -0.4242, -0.4242, -0.4242, -0.4242, -0.4242, -0.4242,\n",
       "         -0.4242, -0.4242, -0.4242, -0.4242],\n",
       "        [-0.4242, -0.4242, -0.4242, -0.4242, -0.4242, -0.4242, -0.4242, -0.4242,\n",
       "         -0.4242, -0.4242, -0.4242, -0.4242, -0.4242, -0.4242, -0.4242, -0.4242,\n",
       "         -0.4242, -0.4242, -0.4242, -0.4242, -0.4242, -0.4242, -0.4242, -0.4242,\n",
       "         -0.4242, -0.4242, -0.4242, -0.4242],\n",
       "        [-0.4242, -0.4242, -0.4242, -0.4242, -0.4242, -0.4242, -0.4242, -0.4242,\n",
       "         -0.4242, -0.4242, -0.4242, -0.4242, -0.4242, -0.4242, -0.4242, -0.4242,\n",
       "         -0.4242, -0.4242, -0.4242, -0.4242, -0.4242, -0.4242, -0.4242, -0.4242,\n",
       "         -0.4242, -0.4242, -0.4242, -0.4242],\n",
       "        [-0.4242, -0.4242, -0.4242, -0.4242, -0.4242, -0.4242, -0.4242, -0.4242,\n",
       "         -0.4242, -0.4242, -0.4242, -0.4242, -0.4242, -0.4242, -0.4242, -0.4242,\n",
       "         -0.4242, -0.4242, -0.4242, -0.4242, -0.4242, -0.4242, -0.4242, -0.4242,\n",
       "         -0.4242, -0.4242, -0.4242, -0.4242],\n",
       "        [-0.4242, -0.4242, -0.4242, -0.4242, -0.4242, -0.4242, -0.4242, -0.4242,\n",
       "         -0.4242, -0.4242, -0.4242, -0.4242, -0.4242, -0.4242, -0.4242, -0.4242,\n",
       "         -0.4242, -0.4242, -0.4242, -0.4242, -0.4242, -0.4242, -0.4242, -0.4242,\n",
       "         -0.4242, -0.4242, -0.4242, -0.4242],\n",
       "        [-0.4242, -0.4242, -0.4242, -0.4242, -0.4242, -0.4242, -0.4242, -0.4242,\n",
       "         -0.4242, -0.4242, -0.4242, -0.4242, -0.4242, -0.4242, -0.4242, -0.4242,\n",
       "         -0.4242, -0.4242, -0.4242, -0.4242, -0.4242, -0.4242, -0.4242, -0.4242,\n",
       "         -0.4242, -0.4242, -0.4242, -0.4242],\n",
       "        [-0.4242, -0.4242, -0.4242, -0.4242, -0.4242, -0.4242, -0.4242, -0.4242,\n",
       "         -0.4242, -0.4242, -0.4242, -0.4242, -0.4242, -0.4242, -0.4242, -0.4242,\n",
       "         -0.4242, -0.4242, -0.4242, -0.4242, -0.4242, -0.4242, -0.4242, -0.4242,\n",
       "         -0.4242, -0.4242, -0.4242, -0.4242],\n",
       "        [-0.4242, -0.4242, -0.4242, -0.4242, -0.4242, -0.4242, -0.4242, -0.4242,\n",
       "         -0.4242, -0.4242, -0.4242, -0.4242, -0.4242, -0.4242, -0.4242, -0.4242,\n",
       "         -0.4242, -0.4242, -0.4242, -0.4242, -0.4242, -0.4242, -0.4242, -0.4242,\n",
       "         -0.4242, -0.4242, -0.4242, -0.4242],\n",
       "        [-0.4242, -0.4242, -0.4242, -0.4242,  0.8741,  1.8414,  1.2686,  1.7141,\n",
       "          2.7069,  2.5924,  1.7141,  2.6560,  2.2742,  2.4651,  1.7141,  1.7141,\n",
       "          2.1851,  2.8215,  1.1795, -0.4242, -0.4242, -0.4242, -0.4242, -0.4242,\n",
       "         -0.4242, -0.4242, -0.4242, -0.4242],\n",
       "        [-0.4242, -0.4242, -0.4242, -0.4242,  1.2305,  2.8088,  2.8088,  2.8088,\n",
       "          2.8088,  2.8088,  2.8088,  2.8088,  2.8088,  2.8088,  2.8088,  2.8088,\n",
       "          2.8088,  2.8088,  2.7324,  0.1740, -0.4242, -0.4242, -0.4242, -0.4242,\n",
       "         -0.4242, -0.4242, -0.4242, -0.4242],\n",
       "        [-0.4242, -0.4242, -0.4242, -0.4242,  0.2758,  2.4396,  2.8088,  2.8088,\n",
       "          2.5924,  2.6942,  2.8088,  2.3251,  2.5033,  1.8669,  1.8669,  1.8669,\n",
       "          1.0395,  2.2869,  2.8088,  1.2432, -0.4242, -0.4242, -0.4242, -0.4242,\n",
       "         -0.4242, -0.4242, -0.4242, -0.4242],\n",
       "        [-0.4242, -0.4242, -0.4242, -0.4242, -0.4242, -0.3224, -0.2587, -0.2587,\n",
       "         -0.2969, -0.2842, -0.2587, -0.3478, -0.3097, -0.4242, -0.4242, -0.4242,\n",
       "         -0.4242,  1.9942,  2.8088,  0.5049, -0.4242, -0.4242, -0.4242, -0.4242,\n",
       "         -0.4242, -0.4242, -0.4242, -0.4242],\n",
       "        [-0.4242, -0.4242, -0.4242, -0.4242, -0.4242, -0.4242, -0.4242, -0.4242,\n",
       "         -0.4242, -0.4242, -0.4242, -0.4242, -0.4242, -0.4242, -0.4242, -0.4242,\n",
       "         -0.1569,  2.7578,  2.6560, -0.3606, -0.4242, -0.4242, -0.4242, -0.4242,\n",
       "         -0.4242, -0.4242, -0.4242, -0.4242],\n",
       "        [-0.4242, -0.4242, -0.4242, -0.4242, -0.4242, -0.4242, -0.4242, -0.4242,\n",
       "         -0.4242, -0.4242, -0.4242, -0.4242, -0.4242, -0.4242, -0.4242, -0.4242,\n",
       "          0.4922,  2.8088,  2.3760, -0.4242, -0.4242, -0.4242, -0.4242, -0.4242,\n",
       "         -0.4242, -0.4242, -0.4242, -0.4242],\n",
       "        [-0.4242, -0.4242, -0.4242, -0.4242, -0.4242, -0.4242, -0.4242, -0.4242,\n",
       "         -0.4242, -0.4242, -0.4242, -0.4242, -0.4242, -0.4242, -0.4242, -0.4242,\n",
       "          0.9632,  2.8088,  1.5359, -0.4242, -0.4242, -0.4242, -0.4242, -0.4242,\n",
       "         -0.4242, -0.4242, -0.4242, -0.4242],\n",
       "        [-0.4242, -0.4242, -0.4242, -0.4242, -0.4242, -0.4242, -0.4242, -0.4242,\n",
       "         -0.4242, -0.4242, -0.4242, -0.4242, -0.4242, -0.4242, -0.4242, -0.4242,\n",
       "          1.1795,  2.8088,  1.5359, -0.4242, -0.4242, -0.4242, -0.4242, -0.4242,\n",
       "         -0.4242, -0.4242, -0.4242, -0.4242],\n",
       "        [-0.4242, -0.4242, -0.4242, -0.4242, -0.4242, -0.4242, -0.4242, -0.4242,\n",
       "         -0.4242, -0.4242, -0.4242, -0.4242, -0.4242, -0.4242, -0.4242, -0.3606,\n",
       "          2.1851,  2.8088,  0.9759, -0.4242, -0.4242, -0.4242, -0.4242, -0.4242,\n",
       "         -0.4242, -0.4242, -0.4242, -0.4242],\n",
       "        [-0.4242, -0.4242, -0.4242, -0.4242, -0.4242, -0.4242, -0.4242, -0.4242,\n",
       "         -0.4242, -0.4242, -0.4242, -0.4242, -0.4242, -0.4242, -0.4242, -0.0933,\n",
       "          2.8088,  2.6178, -0.2842, -0.4242, -0.4242, -0.4242, -0.4242, -0.4242,\n",
       "         -0.4242, -0.4242, -0.4242, -0.4242],\n",
       "        [-0.4242, -0.4242, -0.4242, -0.4242, -0.4242, -0.4242, -0.4242, -0.4242,\n",
       "         -0.4242, -0.4242, -0.4242, -0.4242, -0.4242, -0.4242, -0.4242,  0.4540,\n",
       "          2.8088,  1.6632, -0.4242, -0.4242, -0.4242, -0.4242, -0.4242, -0.4242,\n",
       "         -0.4242, -0.4242, -0.4242, -0.4242],\n",
       "        [-0.4242, -0.4242, -0.4242, -0.4242, -0.4242, -0.4242, -0.4242, -0.4242,\n",
       "         -0.4242, -0.4242, -0.4242, -0.4242, -0.4242, -0.4242, -0.4242,  1.0141,\n",
       "          2.8088,  1.4850, -0.4242, -0.4242, -0.4242, -0.4242, -0.4242, -0.4242,\n",
       "         -0.4242, -0.4242, -0.4242, -0.4242],\n",
       "        [-0.4242, -0.4242, -0.4242, -0.4242, -0.4242, -0.4242, -0.4242, -0.4242,\n",
       "         -0.4242, -0.4242, -0.4242, -0.4242, -0.4242, -0.4242, -0.4242,  1.5105,\n",
       "          2.8088,  1.3577, -0.4242, -0.4242, -0.4242, -0.4242, -0.4242, -0.4242,\n",
       "         -0.4242, -0.4242, -0.4242, -0.4242],\n",
       "        [-0.4242, -0.4242, -0.4242, -0.4242, -0.4242, -0.4242, -0.4242, -0.4242,\n",
       "         -0.4242, -0.4242, -0.4242, -0.4242, -0.4242, -0.4242, -0.2460,  2.4142,\n",
       "          2.7706,  0.3140, -0.4242, -0.4242, -0.4242, -0.4242, -0.4242, -0.4242,\n",
       "         -0.4242, -0.4242, -0.4242, -0.4242],\n",
       "        [-0.4242, -0.4242, -0.4242, -0.4242, -0.4242, -0.4242, -0.4242, -0.4242,\n",
       "         -0.4242, -0.4242, -0.4242, -0.4242, -0.4242, -0.4242,  0.4413,  2.8088,\n",
       "          2.4396, -0.4242, -0.4242, -0.4242, -0.4242, -0.4242, -0.4242, -0.4242,\n",
       "         -0.4242, -0.4242, -0.4242, -0.4242],\n",
       "        [-0.4242, -0.4242, -0.4242, -0.4242, -0.4242, -0.4242, -0.4242, -0.4242,\n",
       "         -0.4242, -0.4242, -0.4242, -0.4242, -0.4242, -0.4242,  1.0650,  2.8088,\n",
       "          1.4341, -0.4242, -0.4242, -0.4242, -0.4242, -0.4242, -0.4242, -0.4242,\n",
       "         -0.4242, -0.4242, -0.4242, -0.4242],\n",
       "        [-0.4242, -0.4242, -0.4242, -0.4242, -0.4242, -0.4242, -0.4242, -0.4242,\n",
       "         -0.4242, -0.4242, -0.4242, -0.4242, -0.4242, -0.4242,  1.8541,  2.8088,\n",
       "          1.4341, -0.4242, -0.4242, -0.4242, -0.4242, -0.4242, -0.4242, -0.4242,\n",
       "         -0.4242, -0.4242, -0.4242, -0.4242],\n",
       "        [-0.4242, -0.4242, -0.4242, -0.4242, -0.4242, -0.4242, -0.4242, -0.4242,\n",
       "         -0.4242, -0.4242, -0.4242, -0.4242, -0.4242, -0.2587,  2.4015,  2.8088,\n",
       "          1.3959, -0.4242, -0.4242, -0.4242, -0.4242, -0.4242, -0.4242, -0.4242,\n",
       "         -0.4242, -0.4242, -0.4242, -0.4242],\n",
       "        [-0.4242, -0.4242, -0.4242, -0.4242, -0.4242, -0.4242, -0.4242, -0.4242,\n",
       "         -0.4242, -0.4242, -0.4242, -0.4242, -0.4242,  0.7850,  2.8088,  2.6815,\n",
       "          0.0722, -0.4242, -0.4242, -0.4242, -0.4242, -0.4242, -0.4242, -0.4242,\n",
       "         -0.4242, -0.4242, -0.4242, -0.4242],\n",
       "        [-0.4242, -0.4242, -0.4242, -0.4242, -0.4242, -0.4242, -0.4242, -0.4242,\n",
       "         -0.4242, -0.4242, -0.4242, -0.4242, -0.4242,  0.7468,  2.8088,  1.7269,\n",
       "         -0.4242, -0.4242, -0.4242, -0.4242, -0.4242, -0.4242, -0.4242, -0.4242,\n",
       "         -0.4242, -0.4242, -0.4242, -0.4242]])"
      ]
     },
     "execution_count": 532,
     "metadata": {},
     "output_type": "execute_result"
    }
   ],
   "source": [
    "input[1][0]"
   ]
  },
  {
   "cell_type": "code",
   "execution_count": 11,
   "metadata": {},
   "outputs": [
    {
     "data": {
      "text/plain": [
       "tensor([[8],\n",
       "        [3],\n",
       "        [6],\n",
       "        [3],\n",
       "        [6],\n",
       "        [5],\n",
       "        [6],\n",
       "        [2],\n",
       "        [3],\n",
       "        [1],\n",
       "        [6],\n",
       "        [7],\n",
       "        [7],\n",
       "        [9],\n",
       "        [6],\n",
       "        [7],\n",
       "        [9],\n",
       "        [5],\n",
       "        [2],\n",
       "        [3],\n",
       "        [1],\n",
       "        [3],\n",
       "        [3],\n",
       "        [4],\n",
       "        [9],\n",
       "        [1],\n",
       "        [4],\n",
       "        [3],\n",
       "        [4],\n",
       "        [0],\n",
       "        [2],\n",
       "        [8]])"
      ]
     },
     "execution_count": 11,
     "metadata": {},
     "output_type": "execute_result"
    }
   ],
   "source": [
    "output.data.max(1, keepdim=True)[1]"
   ]
  },
  {
   "cell_type": "code",
   "execution_count": 145,
   "metadata": {},
   "outputs": [
    {
     "data": {
      "text/plain": [
       "tensor([1, 0, 9, 8, 3, 2, 1, 0, 6, 9, 2, 8, 5, 1, 6, 4, 7, 0, 9, 9, 7, 9, 0, 5,\n",
       "        8, 8, 5, 0, 6, 1, 5, 7])"
      ]
     },
     "execution_count": 145,
     "metadata": {},
     "output_type": "execute_result"
    }
   ],
   "source": [
    "label"
   ]
  },
  {
   "cell_type": "code",
   "execution_count": 113,
   "metadata": {},
   "outputs": [
    {
     "data": {
      "text/plain": [
       "0"
      ]
     },
     "execution_count": 113,
     "metadata": {},
     "output_type": "execute_result"
    }
   ],
   "source": [
    "np.array(jury_data[1]).argmax()"
   ]
  },
  {
   "cell_type": "code",
   "execution_count": 118,
   "metadata": {},
   "outputs": [
    {
     "data": {
      "text/plain": [
       "8"
      ]
     },
     "execution_count": 118,
     "metadata": {},
     "output_type": "execute_result"
    }
   ],
   "source": []
  },
  {
   "cell_type": "code",
   "execution_count": 125,
   "metadata": {},
   "outputs": [
    {
     "data": {
      "text/plain": [
       "6"
      ]
     },
     "execution_count": 125,
     "metadata": {},
     "output_type": "execute_result"
    }
   ],
   "source": [
    "label[0].item()"
   ]
  },
  {
   "cell_type": "code",
   "execution_count": 315,
   "metadata": {},
   "outputs": [
    {
     "name": "stdout",
     "output_type": "stream",
     "text": [
      "96.875\n",
      "96.875\n",
      "90.625\n"
     ]
    }
   ],
   "source": [
    "print(success_ens.numpy().astype(int).mean().item() * 100)\n",
    "print(success_ms.numpy().astype(int).mean().item() * 100)\n",
    "print(success_br.numpy().astype(int).mean().item() * 100)"
   ]
  },
  {
   "cell_type": "code",
   "execution_count": 190,
   "metadata": {},
   "outputs": [
    {
     "data": {
      "text/plain": [
       "tensor([484., 505., 494., 497., 487., 566., 466., 461., 503., 491., 495., 496.,\n",
       "        454., 528., 472., 469., 470., 487., 538., 505., 499., 451., 486., 478.,\n",
       "        505., 441., 526., 468., 522., 489., 441., 496.])"
      ]
     },
     "execution_count": 190,
     "metadata": {},
     "output_type": "execute_result"
    }
   ],
   "source": []
  },
  {
   "cell_type": "code",
   "execution_count": 164,
   "metadata": {},
   "outputs": [
    {
     "data": {
      "text/plain": [
       "tensor([-0.4242, -0.4242, -0.4242, -0.4242, -0.4242, -0.4242, -0.4242, -0.4242,\n",
       "        -0.4242, -0.4242, -0.4242,  0.2249,  2.0323,  2.8088,  2.7960,  2.5542,\n",
       "         2.5415,  1.7778, -0.2969, -0.4242, -0.4242, -0.4242, -0.4242, -0.4242,\n",
       "        -0.4242, -0.4242, -0.4242, -0.4242])"
      ]
     },
     "execution_count": 164,
     "metadata": {},
     "output_type": "execute_result"
    }
   ],
   "source": [
    "input[0][0][6]"
   ]
  },
  {
   "cell_type": "code",
   "execution_count": 165,
   "metadata": {},
   "outputs": [
    {
     "data": {
      "text/plain": [
       "tensor([-0.3242, -0.3242, -0.3242, -0.4242, -0.4242, -0.4242, -0.4242,  0.9104,\n",
       "         2.8215,  2.8215,  2.6960,  2.6960,  2.6960,  2.6960,  2.6960,  2.6960,\n",
       "         2.7088,  2.8215,  2.7815,  0.1340, -0.3242, -0.3242, -0.3242, -0.3242,\n",
       "        -0.3242, -0.3242, -0.3242, -0.4242])"
      ]
     },
     "execution_count": 165,
     "metadata": {},
     "output_type": "execute_result"
    }
   ],
   "source": [
    "advs[0][0][0][6]"
   ]
  },
  {
   "cell_type": "code",
   "execution_count": 15,
   "metadata": {},
   "outputs": [],
   "source": [
    "from foolbox.models import Model\n",
    "import eagerpy as ep\n",
    "from typing import Any\n",
    "def accuracy_median(fmodel: Model, inputs: Any, labels: Any) -> float:\n",
    "    inputs_ = median_smoothing(inputs)\n",
    "    inputs_, labels_ = ep.astensors(inputs_, labels)\n",
    "    del inputs, labels\n",
    "\n",
    "    predictions = fmodel(inputs_).argmax(axis=-1)\n",
    "    accuracy = (predictions == labels_).float32().mean()\n",
    "    return accuracy.item()\n",
    "\n",
    "def accuracy_bit(fmodel: Model, inputs: Any, labels: Any) -> float:\n",
    "    inputs_ = bit_reduction(inputs)\n",
    "    inputs_, labels_ = ep.astensors(inputs_, labels)\n",
    "    del inputs, labels\n",
    "\n",
    "    predictions = fmodel(inputs_).argmax(axis=-1)\n",
    "    accuracy = (predictions == labels_).float32().mean()\n",
    "    return accuracy.item()\n",
    "\n",
    "def accuracy_ens() -> float:\n",
    "    return((accuracy_median(fmodel, raw_advs[0], label)+accuracy_bit(fmodel, raw_advs[0], label)+fb.utils.accuracy(fmodel, raw_advs[0], label))/3)"
   ]
  },
  {
   "cell_type": "code",
   "execution_count": 16,
   "metadata": {},
   "outputs": [
    {
     "name": "stdout",
     "output_type": "stream",
     "text": [
      "0.21875\n",
      "1.0\n",
      "0.1875\n",
      "0.46875\n"
     ]
    }
   ],
   "source": [
    "print(accuracy_median(fmodel, raw_advs[0], label))\n",
    "print(accuracy_bit(fmodel, raw_advs[0], label))\n",
    "print(fb.utils.accuracy(fmodel, raw_advs[0], label))\n",
    "print(accuracy_ens())"
   ]
  },
  {
   "cell_type": "code",
   "execution_count": 84,
   "metadata": {},
   "outputs": [
    {
     "name": "stdout",
     "output_type": "stream",
     "text": [
      "\n",
      "we can also manually check this:\n",
      "\n",
      "robust accuracy for perturbations with\n",
      "  Linf norm ≤ 0.0   : 100.0 %\n",
      "    perturbation sizes:\n"
     ]
    },
    {
     "ename": "AttributeError",
     "evalue": "'Tensor' object has no attribute 'norms'",
     "output_type": "error",
     "traceback": [
      "\u001b[1;31m---------------------------------------------------------------------------\u001b[0m",
      "\u001b[1;31mAttributeError\u001b[0m                            Traceback (most recent call last)",
      "\u001b[1;32m<ipython-input-84-afc2b16d07af>\u001b[0m in \u001b[0;36m<module>\u001b[1;34m\u001b[0m\n\u001b[0;32m      8\u001b[0m     \u001b[0mprint\u001b[0m\u001b[1;33m(\u001b[0m\u001b[1;34mf\"  Linf norm ≤ {eps:<6}: {acc2 * 100:4.1f} %\"\u001b[0m\u001b[1;33m)\u001b[0m\u001b[1;33m\u001b[0m\u001b[1;33m\u001b[0m\u001b[0m\n\u001b[0;32m      9\u001b[0m     \u001b[0mprint\u001b[0m\u001b[1;33m(\u001b[0m\u001b[1;34m\"    perturbation sizes:\"\u001b[0m\u001b[1;33m)\u001b[0m\u001b[1;33m\u001b[0m\u001b[1;33m\u001b[0m\u001b[0m\n\u001b[1;32m---> 10\u001b[1;33m     \u001b[0mperturbation_sizes\u001b[0m \u001b[1;33m=\u001b[0m \u001b[1;33m(\u001b[0m\u001b[0madvs_\u001b[0m \u001b[1;33m-\u001b[0m \u001b[0minput\u001b[0m\u001b[1;33m)\u001b[0m\u001b[1;33m.\u001b[0m\u001b[0mnorms\u001b[0m\u001b[1;33m.\u001b[0m\u001b[0mlinf\u001b[0m\u001b[1;33m(\u001b[0m\u001b[0maxis\u001b[0m\u001b[1;33m=\u001b[0m\u001b[1;33m(\u001b[0m\u001b[1;36m1\u001b[0m\u001b[1;33m,\u001b[0m \u001b[1;36m2\u001b[0m\u001b[1;33m,\u001b[0m \u001b[1;36m3\u001b[0m\u001b[1;33m)\u001b[0m\u001b[1;33m)\u001b[0m\u001b[1;33m.\u001b[0m\u001b[0mnumpy\u001b[0m\u001b[1;33m(\u001b[0m\u001b[1;33m)\u001b[0m\u001b[1;33m\u001b[0m\u001b[1;33m\u001b[0m\u001b[0m\n\u001b[0m\u001b[0;32m     11\u001b[0m     \u001b[0mprint\u001b[0m\u001b[1;33m(\u001b[0m\u001b[1;34m\"    \"\u001b[0m\u001b[1;33m,\u001b[0m \u001b[0mstr\u001b[0m\u001b[1;33m(\u001b[0m\u001b[0mperturbation_sizes\u001b[0m\u001b[1;33m)\u001b[0m\u001b[1;33m.\u001b[0m\u001b[0mreplace\u001b[0m\u001b[1;33m(\u001b[0m\u001b[1;34m\"\\n\"\u001b[0m\u001b[1;33m,\u001b[0m \u001b[1;34m\"\\n\"\u001b[0m \u001b[1;33m+\u001b[0m \u001b[1;34m\"    \"\u001b[0m\u001b[1;33m)\u001b[0m\u001b[1;33m)\u001b[0m\u001b[1;33m\u001b[0m\u001b[1;33m\u001b[0m\u001b[0m\n\u001b[0;32m     12\u001b[0m     \u001b[1;32mif\u001b[0m \u001b[0macc2\u001b[0m \u001b[1;33m==\u001b[0m \u001b[1;36m0\u001b[0m\u001b[1;33m:\u001b[0m\u001b[1;33m\u001b[0m\u001b[1;33m\u001b[0m\u001b[0m\n",
      "\u001b[1;31mAttributeError\u001b[0m: 'Tensor' object has no attribute 'norms'"
     ]
    }
   ],
   "source": [
    "print()\n",
    "print(\"we can also manually check this:\")\n",
    "print()\n",
    "from foolbox import PyTorchModel, accuracy, samples\n",
    "print(\"robust accuracy for perturbations with\")\n",
    "for eps, advs_ in zip(epsilons, advs):\n",
    "    acc2 = accuracy(fmodel, advs_, label)\n",
    "    print(f\"  Linf norm ≤ {eps:<6}: {acc2 * 100:4.1f} %\")\n",
    "    print(\"    perturbation sizes:\")\n",
    "    perturbation_sizes = (advs_ - input).norms.linf(axis=(1, 2, 3)).numpy()\n",
    "    print(\"    \", str(perturbation_sizes).replace(\"\\n\", \"\\n\" + \"    \"))\n",
    "    if acc2 == 0:\n",
    "        break"
   ]
  },
  {
   "cell_type": "markdown",
   "metadata": {},
   "source": [
    "### Perturabation mesasurement"
   ]
  },
  {
   "cell_type": "code",
   "execution_count": 176,
   "metadata": {},
   "outputs": [
    {
     "name": "stdout",
     "output_type": "stream",
     "text": [
      "Min: -0.4242129623889923\n",
      "Max: 2.821486711502075\n",
      "3.2456996\n"
     ]
    }
   ],
   "source": [
    "x_d,e_d=extract_dataloader_images(0)\n",
    "f_d=torch.clone(x_d)\n",
    "p_d=torch.clone(x_d)\n",
    "print(\"Min: {}\".format(min(np.ravel(x_d))))\n",
    "print(\"Max: {}\".format(max(np.ravel(x_d))))\n",
    "print(abs(min(np.ravel(x_d))-max(np.ravel(x_d))))"
   ]
  },
  {
   "cell_type": "code",
   "execution_count": 23,
   "metadata": {},
   "outputs": [
    {
     "data": {
      "text/plain": [
       "<function matplotlib.pyplot.plot(*args, scalex=True, scaley=True, data=None, **kwargs)>"
      ]
     },
     "execution_count": 23,
     "metadata": {},
     "output_type": "execute_result"
    },
    {
     "data": {
      "image/png": "[encoded data removed]",
      "text/plain": [
       "<Figure size 432x288 with 1 Axes>"
      ]
     },
     "metadata": {
      "needs_background": "light"
     },
     "output_type": "display_data"
    }
   ],
   "source": [
    "plt.imshow(scaled_data[0][0], cmap='gray', interpolation='none')\n",
    "plt.title(\"Ground  Truth: {}\".format(e_d[0]))\n",
    "plt.plot"
   ]
  },
  {
   "cell_type": "code",
   "execution_count": 125,
   "metadata": {},
   "outputs": [
    {
     "data": {
      "text/plain": [
       "<function matplotlib.pyplot.plot(*args, scalex=True, scaley=True, data=None, **kwargs)>"
      ]
     },
     "execution_count": 125,
     "metadata": {},
     "output_type": "execute_result"
    },
    {
     "data": {
      "image/png": "[encoded data removed]",
      "text/plain": [
       "<Figure size 432x288 with 1 Axes>"
      ]
     },
     "metadata": {
      "needs_background": "light"
     },
     "output_type": "display_data"
    }
   ],
   "source": [
    "plt.imshow(f_d[0][0], cmap='gray', interpolation='none')\n",
    "plt.title(\"Ground  Truth: {}\".format(e_d[0]))\n",
    "plt.plot\n"
   ]
  },
  {
   "cell_type": "code",
   "execution_count": 55,
   "metadata": {},
   "outputs": [
    {
     "data": {
      "text/plain": [
       "<matplotlib.image.AxesImage at 0x2458072fc70>"
      ]
     },
     "execution_count": 55,
     "metadata": {},
     "output_type": "execute_result"
    },
    {
     "data": {
      "image/png": "[encoded data removed]",
      "text/plain": [
       "<Figure size 432x288 with 1 Axes>"
      ]
     },
     "metadata": {
      "needs_background": "light"
     },
     "output_type": "display_data"
    }
   ],
   "source": [
    "plt.imshow(ndimage.median_filter(f_d[0][0], size=2), cmap='gray', interpolation='none')"
   ]
  },
  {
   "cell_type": "code",
   "execution_count": 167,
   "metadata": {},
   "outputs": [
    {
     "name": "stdout",
     "output_type": "stream",
     "text": [
      "2\n"
     ]
    },
    {
     "data": {
      "text/plain": [
       "<matplotlib.image.AxesImage at 0x16e4fb97580>"
      ]
     },
     "execution_count": 167,
     "metadata": {},
     "output_type": "execute_result"
    },
    {
     "data": {
      "image/png": "[encoded data removed]",
      "text/plain": [
       "<Figure size 432x288 with 1 Axes>"
      ]
     },
     "metadata": {
      "needs_background": "light"
     },
     "output_type": "display_data"
    }
   ],
   "source": [
    "plt.imshow(median_smoothing(f_d[0][0]), cmap='gray', interpolation='none')"
   ]
  },
  {
   "cell_type": "code",
   "execution_count": 258,
   "metadata": {},
   "outputs": [
    {
     "data": {
      "text/plain": [
       "<function matplotlib.pyplot.plot(*args, scalex=True, scaley=True, data=None, **kwargs)>"
      ]
     },
     "execution_count": 258,
     "metadata": {},
     "output_type": "execute_result"
    },
    {
     "data": {
      "image/png": "[encoded data removed]",
      "text/plain": [
       "<Figure size 432x288 with 1 Axes>"
      ]
     },
     "metadata": {
      "needs_background": "light"
     },
     "output_type": "display_data"
    }
   ],
   "source": [
    "plt.imshow(pertubated_image[0][0], cmap='gray', interpolation='none')\n",
    "plt.title(\"Ground  Truth: {}\".format(e_d[5]))\n",
    "plt.plot"
   ]
  },
  {
   "cell_type": "code",
   "execution_count": 78,
   "metadata": {},
   "outputs": [
    {
     "data": {
      "text/plain": [
       "<function matplotlib.pyplot.plot(*args, scalex=True, scaley=True, data=None, **kwargs)>"
      ]
     },
     "execution_count": 78,
     "metadata": {},
     "output_type": "execute_result"
    },
    {
     "data": {
      "image/png": "[encoded data removed]",
      "text/plain": [
       "<Figure size 432x288 with 1 Axes>"
      ]
     },
     "metadata": {
      "needs_background": "light"
     },
     "output_type": "display_data"
    }
   ],
   "source": [
    "plt.imshow(x_d[5][0], cmap='gray', interpolation='none')\n",
    "plt.title(\"Ground  Truth: {}\".format(e_d[5]))\n",
    "plt.plot"
   ]
  },
  {
   "cell_type": "code",
   "execution_count": 163,
   "metadata": {},
   "outputs": [],
   "source": [
    "median_smoothed = median_smoothing(f_d)\n",
    "scaled_data = bit_reduction(f_d)\n",
    "pertubated_image = perturbate_image(p_d,mode='random') #Pertubations seems to make in-place operations so use different tensor"
   ]
  },
  {
   "cell_type": "code",
   "execution_count": 189,
   "metadata": {},
   "outputs": [],
   "source": [
    "x_d,e_d=extract_dataloader_images(0)\n",
    "f_d=torch.clone(x_d)\n",
    "p_d=torch.clone(x_d)"
   ]
  },
  {
   "cell_type": "code",
   "execution_count": 164,
   "metadata": {},
   "outputs": [
    {
     "data": {
      "image/png": "[encoded data removed]",
      "text/plain": [
       "<Figure size 1440x432 with 4 Axes>"
      ]
     },
     "metadata": {
      "needs_background": "light"
     },
     "output_type": "display_data"
    }
   ],
   "source": [
    "batch_nr = 0\n",
    "fig = plt.figure()\n",
    "\n",
    "ax1 = fig.add_subplot(141)  # left side\n",
    "ax2 = fig.add_subplot(142)  # right side\n",
    "ax3 = fig.add_subplot(143)\n",
    "ax4 = fig.add_subplot(144)\n",
    "ax1.title.set_text(\"Bit Reduced Image\")\n",
    "ax2.title.set_text(\"Median Smoothed Image\")\n",
    "ax3.title.set_text(\"Original Image\")\n",
    "ax4.title.set_text(\"Pertubated Image\")\n",
    "ax1.imshow(scaled_data[batch_nr][0], cmap='gray', interpolation='none')\n",
    "ax2.imshow(median_smoothed[batch_nr][0], cmap='gray', interpolation='none')\n",
    "ax3.imshow(x_d[batch_nr][0], cmap='gray', interpolation='none')\n",
    "ax4.imshow(pertubated_image[batch_nr][0], cmap='gray', interpolation='none')\n",
    "fig.text(.5, .05, e_d[batch_nr], ha='center')\n",
    "fig.set_figheight(6)\n",
    "fig.set_figwidth(20)\n",
    "#plt.title(\"Ground  Truth: {}\".format(e_d[batch_nr]))\n",
    "plt.show()"
   ]
  },
  {
   "cell_type": "markdown",
   "metadata": {},
   "source": [
    "### Test robustness of model"
   ]
  },
  {
   "cell_type": "code",
   "execution_count": 446,
   "metadata": {},
   "outputs": [
    {
     "ename": "TypeError",
     "evalue": "iteration over a 0-d tensor",
     "output_type": "error",
     "traceback": [
      "\u001b[1;31m---------------------------------------------------------------------------\u001b[0m",
      "\u001b[1;31mTypeError\u001b[0m                                 Traceback (most recent call last)",
      "\u001b[1;32m<ipython-input-446-67e7dc0fc80c>\u001b[0m in \u001b[0;36m<module>\u001b[1;34m\u001b[0m\n\u001b[0;32m     10\u001b[0m \u001b[0mfake_tst_perturbed\u001b[0m \u001b[1;33m=\u001b[0m \u001b[0mtest_fake\u001b[0m\u001b[1;33m(\u001b[0m\u001b[0mpertubated_image\u001b[0m\u001b[1;33m,\u001b[0m\u001b[0mnetwork\u001b[0m\u001b[1;33m)\u001b[0m\u001b[1;33m\u001b[0m\u001b[1;33m\u001b[0m\u001b[0m\n\u001b[0;32m     11\u001b[0m \u001b[1;33m\u001b[0m\u001b[0m\n\u001b[1;32m---> 12\u001b[1;33m \u001b[0mp_percent\u001b[0m\u001b[1;33m,\u001b[0m\u001b[0mp_size\u001b[0m\u001b[1;33m,\u001b[0m\u001b[0mp_pertubated\u001b[0m\u001b[1;33m=\u001b[0m\u001b[0mcount_perturbated_pixel\u001b[0m\u001b[1;33m(\u001b[0m\u001b[0mx_d\u001b[0m\u001b[1;33m[\u001b[0m\u001b[1;36m0\u001b[0m\u001b[1;33m]\u001b[0m\u001b[1;33m[\u001b[0m\u001b[1;36m0\u001b[0m\u001b[1;33m]\u001b[0m\u001b[1;33m,\u001b[0m\u001b[0mf_d\u001b[0m\u001b[1;33m[\u001b[0m\u001b[1;36m0\u001b[0m\u001b[1;33m]\u001b[0m\u001b[1;33m[\u001b[0m\u001b[1;36m0\u001b[0m\u001b[1;33m]\u001b[0m\u001b[1;33m)\u001b[0m\u001b[1;33m\u001b[0m\u001b[1;33m\u001b[0m\u001b[0m\n\u001b[0m\u001b[0;32m     13\u001b[0m \u001b[0mprint\u001b[0m\u001b[1;33m(\u001b[0m\u001b[1;34m\"Model predicted: {}\"\u001b[0m\u001b[1;33m.\u001b[0m\u001b[0mformat\u001b[0m\u001b[1;33m(\u001b[0m\u001b[0mfake_tst\u001b[0m\u001b[1;33m.\u001b[0m\u001b[0mdata\u001b[0m\u001b[1;33m.\u001b[0m\u001b[0mmax\u001b[0m\u001b[1;33m(\u001b[0m\u001b[1;36m1\u001b[0m\u001b[1;33m,\u001b[0m \u001b[0mkeepdim\u001b[0m\u001b[1;33m=\u001b[0m\u001b[1;32mTrue\u001b[0m\u001b[1;33m)\u001b[0m\u001b[1;33m[\u001b[0m\u001b[1;36m1\u001b[0m\u001b[1;33m]\u001b[0m\u001b[1;33m[\u001b[0m\u001b[1;36m0\u001b[0m\u001b[1;33m]\u001b[0m\u001b[1;33m)\u001b[0m\u001b[1;33m)\u001b[0m\u001b[1;33m\u001b[0m\u001b[1;33m\u001b[0m\u001b[0m\n\u001b[0;32m     14\u001b[0m \u001b[0mprint\u001b[0m\u001b[1;33m(\u001b[0m\u001b[1;34m\"Model predicted median smoothed: {}\"\u001b[0m\u001b[1;33m.\u001b[0m\u001b[0mformat\u001b[0m\u001b[1;33m(\u001b[0m\u001b[0mfake_tst_median\u001b[0m\u001b[1;33m.\u001b[0m\u001b[0mdata\u001b[0m\u001b[1;33m.\u001b[0m\u001b[0mmax\u001b[0m\u001b[1;33m(\u001b[0m\u001b[1;36m1\u001b[0m\u001b[1;33m,\u001b[0m \u001b[0mkeepdim\u001b[0m\u001b[1;33m=\u001b[0m\u001b[1;32mTrue\u001b[0m\u001b[1;33m)\u001b[0m\u001b[1;33m[\u001b[0m\u001b[1;36m1\u001b[0m\u001b[1;33m]\u001b[0m\u001b[1;33m[\u001b[0m\u001b[1;36m0\u001b[0m\u001b[1;33m]\u001b[0m\u001b[1;33m)\u001b[0m\u001b[1;33m)\u001b[0m\u001b[1;33m\u001b[0m\u001b[1;33m\u001b[0m\u001b[0m\n",
      "\u001b[1;32m<ipython-input-206-a810510156b1>\u001b[0m in \u001b[0;36mcount_perturbated_pixel\u001b[1;34m(img1, img2)\u001b[0m\n\u001b[0;32m      8\u001b[0m   \u001b[0msum_px\u001b[0m \u001b[1;33m=\u001b[0m \u001b[1;36m28\u001b[0m\u001b[1;33m*\u001b[0m\u001b[1;36m28\u001b[0m\u001b[1;33m\u001b[0m\u001b[1;33m\u001b[0m\u001b[0m\n\u001b[0;32m      9\u001b[0m   \u001b[0msum_px_perturbed\u001b[0m \u001b[1;33m=\u001b[0m \u001b[1;36m0\u001b[0m\u001b[1;33m\u001b[0m\u001b[1;33m\u001b[0m\u001b[0m\n\u001b[1;32m---> 10\u001b[1;33m   \u001b[1;32mfor\u001b[0m \u001b[0mpx_img1\u001b[0m\u001b[1;33m,\u001b[0m\u001b[0mpx_img2\u001b[0m \u001b[1;32min\u001b[0m \u001b[0mzip\u001b[0m\u001b[1;33m(\u001b[0m\u001b[0mimg1\u001b[0m\u001b[1;33m[\u001b[0m\u001b[1;36m0\u001b[0m\u001b[1;33m]\u001b[0m\u001b[1;33m[\u001b[0m\u001b[1;36m0\u001b[0m\u001b[1;33m]\u001b[0m\u001b[1;33m,\u001b[0m\u001b[0mimg2\u001b[0m\u001b[1;33m[\u001b[0m\u001b[1;36m0\u001b[0m\u001b[1;33m]\u001b[0m\u001b[1;33m[\u001b[0m\u001b[1;36m0\u001b[0m\u001b[1;33m]\u001b[0m\u001b[1;33m)\u001b[0m\u001b[1;33m:\u001b[0m \u001b[1;31m#Zip Array of Pixels\u001b[0m\u001b[1;33m\u001b[0m\u001b[1;33m\u001b[0m\u001b[0m\n\u001b[0m\u001b[0;32m     11\u001b[0m     \u001b[1;32mfor\u001b[0m \u001b[0mpx_im1\u001b[0m\u001b[1;33m,\u001b[0m\u001b[0mpx_im2\u001b[0m \u001b[1;32min\u001b[0m \u001b[0mzip\u001b[0m\u001b[1;33m(\u001b[0m\u001b[0mpx_img1\u001b[0m\u001b[1;33m,\u001b[0m\u001b[0mpx_img2\u001b[0m\u001b[1;33m)\u001b[0m\u001b[1;33m:\u001b[0m \u001b[1;31m#Zip Pixels\u001b[0m\u001b[1;33m\u001b[0m\u001b[1;33m\u001b[0m\u001b[0m\n\u001b[0;32m     12\u001b[0m         \u001b[1;32mif\u001b[0m \u001b[1;33m(\u001b[0m\u001b[0mpx_im1\u001b[0m \u001b[1;33m!=\u001b[0m \u001b[0mpx_im2\u001b[0m\u001b[1;33m)\u001b[0m\u001b[1;33m:\u001b[0m\u001b[1;33m\u001b[0m\u001b[1;33m\u001b[0m\u001b[0m\n",
      "\u001b[1;32mf:\\Anaconda\\lib\\site-packages\\torch\\_tensor.py\u001b[0m in \u001b[0;36m__iter__\u001b[1;34m(self)\u001b[0m\n\u001b[0;32m    640\u001b[0m         \u001b[1;31m# See gh-54457\u001b[0m\u001b[1;33m\u001b[0m\u001b[1;33m\u001b[0m\u001b[1;33m\u001b[0m\u001b[0m\n\u001b[0;32m    641\u001b[0m         \u001b[1;32mif\u001b[0m \u001b[0mself\u001b[0m\u001b[1;33m.\u001b[0m\u001b[0mdim\u001b[0m\u001b[1;33m(\u001b[0m\u001b[1;33m)\u001b[0m \u001b[1;33m==\u001b[0m \u001b[1;36m0\u001b[0m\u001b[1;33m:\u001b[0m\u001b[1;33m\u001b[0m\u001b[1;33m\u001b[0m\u001b[0m\n\u001b[1;32m--> 642\u001b[1;33m             \u001b[1;32mraise\u001b[0m \u001b[0mTypeError\u001b[0m\u001b[1;33m(\u001b[0m\u001b[1;34m'iteration over a 0-d tensor'\u001b[0m\u001b[1;33m)\u001b[0m\u001b[1;33m\u001b[0m\u001b[1;33m\u001b[0m\u001b[0m\n\u001b[0m\u001b[0;32m    643\u001b[0m         \u001b[1;32mif\u001b[0m \u001b[0mtorch\u001b[0m\u001b[1;33m.\u001b[0m\u001b[0m_C\u001b[0m\u001b[1;33m.\u001b[0m\u001b[0m_get_tracing_state\u001b[0m\u001b[1;33m(\u001b[0m\u001b[1;33m)\u001b[0m\u001b[1;33m:\u001b[0m\u001b[1;33m\u001b[0m\u001b[1;33m\u001b[0m\u001b[0m\n\u001b[0;32m    644\u001b[0m             warnings.warn('Iterating over a tensor might cause the trace to be incorrect. '\n",
      "\u001b[1;31mTypeError\u001b[0m: iteration over a 0-d tensor"
     ]
    }
   ],
   "source": [
    "#networks= (network,network2,network3)\n",
    "fake_tst = test_fake(f_d,network)\n",
    "\n",
    "median_smoothed = median_smoothing(f_d)\n",
    "scaled_data = bit_reduction(f_d)\n",
    "pertubated_image = perturbate_image(p_d,mode='random') #Pertubations seems to make in-place operations so use different tensor\n",
    "\n",
    "fake_tst_median = test_fake(median_smoothed,network)\n",
    "fake_tst_scaled = test_fake(scaled_data,network)\n",
    "fake_tst_perturbed = test_fake(pertubated_image,network)\n",
    "\n",
    "p_percent,p_size,p_pertubated=count_perturbated_pixel(x_d[0][0],f_d[0][0])\n",
    "print(\"Model predicted: {}\".format(fake_tst.data.max(1, keepdim=True)[1][0]))\n",
    "print(\"Model predicted median smoothed: {}\".format(fake_tst_median.data.max(1, keepdim=True)[1][0]))\n",
    "print(\"Model predicted scaled: {}\".format(fake_tst_scaled.data.max(1, keepdim=True)[1][0]))\n",
    "print(\"Model predicted perturbed: {}\".format(fake_tst_perturbed.data.max(1, keepdim=True)[1][0]))\n",
    "print(\"##################################################################\")\n",
    "print(\"Model predicted tensor value: {}\".format(fake_tst.data.max(1)[0][0]))\n",
    "print(\"Model predicted median smoothed tensor value: {}\".format(fake_tst_median.data.max(1)[0][0]))\n",
    "print(\"Model predicted scaled tensor value: {}\".format(fake_tst_scaled.data.max(1)[0][0]))\n",
    "print(\"Model predicted perturbed tensor value: {}\".format(fake_tst_perturbed.data.max(1)[0][0]))\n",
    "print(\"##################################################################\")\n",
    "print(\"Model real: {}\".format(e_d[0]))\n",
    "print(\"Sum pixel: {}\".format(p_size))\n",
    "print(\"Pertubated pixel: {}\".format(p_pertubated))\n",
    "print(\"Percent preturbated: {}\".format(p_percent))\n",
    "\n",
    "# Get prdicted tensor for normal model and squeezec models and calcluate the difference\n",
    "# If difference is small, the image is not pertubated"
   ]
  },
  {
   "cell_type": "code",
   "execution_count": 167,
   "metadata": {},
   "outputs": [],
   "source": [
    "tst= F.softmax(fake_tst, dim=1)\n",
    "tst_med = F.softmax(fake_tst_median, dim=1)\n",
    "tst_scaled = F.softmax(fake_tst_scaled, dim=1)\n",
    "tst_perturbed = F.softmax(fake_tst_perturbed, dim=1)"
   ]
  },
  {
   "cell_type": "code",
   "execution_count": 86,
   "metadata": {},
   "outputs": [
    {
     "data": {
      "text/plain": [
       "tensor([3.3206e-06, 1.1545e-06, 1.5094e-07, 3.8977e-03, 3.1818e-05, 9.0611e-01,\n",
       "        9.5761e-06, 3.4804e-06, 4.9355e-02, 4.0588e-02])"
      ]
     },
     "execution_count": 86,
     "metadata": {},
     "output_type": "execute_result"
    }
   ],
   "source": [
    "tst[0]\n",
    "tst_med[0]\n",
    "tst_scaled[0]\n",
    "tst_perturbed[0]"
   ]
  },
  {
   "cell_type": "code",
   "execution_count": 168,
   "metadata": {},
   "outputs": [],
   "source": [
    "difference=max(tst[0])-max(tst_perturbed[0])"
   ]
  },
  {
   "cell_type": "code",
   "execution_count": 169,
   "metadata": {},
   "outputs": [
    {
     "name": "stdout",
     "output_type": "stream",
     "text": [
      "0.048123\n"
     ]
    }
   ],
   "source": [
    "print(format(difference, 'f'))"
   ]
  },
  {
   "cell_type": "markdown",
   "metadata": {},
   "source": [
    "# Tst perturbated example"
   ]
  },
  {
   "cell_type": "code",
   "execution_count": 462,
   "metadata": {},
   "outputs": [
    {
     "name": "stdout",
     "output_type": "stream",
     "text": [
      "Model predicted: tensor([2])\n",
      "Model predicted median smoothed: tensor([2])\n",
      "Model predicted scaled: tensor([2])\n",
      "##################################################################\n",
      "Model predicted tensor value: 19.3311767578125\n",
      "Model predicted median smoothed tensor value: 19.64731216430664\n",
      "Model predicted scaled tensor value: 19.95734405517578\n",
      "##################################################################\n",
      "Model real: 2\n",
      "Sum pixel: 784\n",
      "Pertubated pixel: 95\n",
      "Percent preturbated: 0.1211734693877551\n"
     ]
    },
    {
     "data": {
      "image/png": "[encoded data removed]",
      "text/plain": [
       "<Figure size 1440x432 with 4 Axes>"
      ]
     },
     "metadata": {
      "needs_background": "light"
     },
     "output_type": "display_data"
    }
   ],
   "source": [
    "x_d,e_d=extract_dataloader_images(0)\n",
    "f_d=torch.clone(x_d)\n",
    "p_d=torch.clone(x_d)\n",
    "#networks= (network,network2,network3)\n",
    "\n",
    "pertubated_image = perturbate_image(p_d,mode='random') #Pertubations seems to make in-place operations so use different tensor\n",
    "image = f_d\n",
    "fake_tst = test_fake(image,network)\n",
    "\n",
    "median_smoothed = median_smoothing(image)\n",
    "scaled_data = bit_reduction(image)\n",
    "\n",
    "\n",
    "fake_tst_median = test_fake(median_smoothed,network)\n",
    "fake_tst_scaled = test_fake(scaled_data,network)\n",
    "\n",
    "\n",
    "p_percent,p_size,p_pertubated=count_perturbated_pixel(x_d,pertubated_image)\n",
    "print(\"Model predicted: {}\".format(fake_tst.data.max(1, keepdim=True)[1][0]))\n",
    "print(\"Model predicted median smoothed: {}\".format(fake_tst_median.data.max(1, keepdim=True)[1][0]))\n",
    "print(\"Model predicted scaled: {}\".format(fake_tst_scaled.data.max(1, keepdim=True)[1][0]))\n",
    "\n",
    "print(\"##################################################################\")\n",
    "print(\"Model predicted tensor value: {}\".format(fake_tst.data.max(1)[0][0]))\n",
    "print(\"Model predicted median smoothed tensor value: {}\".format(fake_tst_median.data.max(1)[0][0]))\n",
    "print(\"Model predicted scaled tensor value: {}\".format(fake_tst_scaled.data.max(1)[0][0]))\n",
    "\n",
    "print(\"##################################################################\")\n",
    "print(\"Model real: {}\".format(e_d[0]))\n",
    "print(\"Sum pixel: {}\".format(p_size))\n",
    "print(\"Pertubated pixel: {}\".format(p_pertubated))\n",
    "print(\"Percent preturbated: {}\".format(p_percent))\n",
    "\n",
    "####\n",
    "\n",
    "batch_nr = 0\n",
    "fig = plt.figure()\n",
    "\n",
    "ax1 = fig.add_subplot(141)  # left side\n",
    "ax2 = fig.add_subplot(142)  # right side\n",
    "ax3 = fig.add_subplot(143)\n",
    "ax4 = fig.add_subplot(144)\n",
    "ax1.title.set_text(\"Bit Reduced Image\")\n",
    "ax2.title.set_text(\"Median Smoothed Image\")\n",
    "ax3.title.set_text(\"Original Image\")\n",
    "ax4.title.set_text(\"Pertubated Image\")\n",
    "ax1.imshow(scaled_data[batch_nr][0], cmap='gray', interpolation='none')\n",
    "ax2.imshow(median_smoothed[batch_nr][0], cmap='gray', interpolation='none')\n",
    "ax3.imshow(x_d[batch_nr][0], cmap='gray', interpolation='none')\n",
    "ax4.imshow(pertubated_image[batch_nr][0], cmap='gray', interpolation='none')\n",
    "fig.text(.5, .05, e_d[batch_nr], ha='center')\n",
    "fig.set_figheight(6)\n",
    "fig.set_figwidth(20)\n",
    "#plt.title(\"Ground  Truth: {}\".format(e_d[batch_nr]))\n",
    "plt.show()\n"
   ]
  },
  {
   "cell_type": "code",
   "execution_count": 463,
   "metadata": {},
   "outputs": [],
   "source": [
    "tst= F.softmax(fake_tst, dim=1)\n",
    "tst_med = F.softmax(fake_tst_median, dim=1)\n",
    "tst_scaled = F.softmax(fake_tst_scaled, dim=1)\n",
    "difference_ms=(tst[0])-(tst_med[0])\n",
    "difference_br=(tst[0])-(tst_scaled[0])\n"
   ]
  },
  {
   "cell_type": "code",
   "execution_count": 464,
   "metadata": {},
   "outputs": [
    {
     "name": "stdout",
     "output_type": "stream",
     "text": [
      "tensor(2.3842e-07)\n",
      "tensor(1.5251e-07)\n",
      "Max Tensor Distance: 2.384185791015625e-07\n",
      "Image is not pertubated\n"
     ]
    }
   ],
   "source": [
    "\n",
    "print(max(difference_ms))\n",
    "print(max(difference_br))\n",
    "distance_list=[max(difference_br).item(),max(difference_ms).item()]\n",
    "#difference_total = statistics.fmean(distance_list)\n",
    "difference_total = max(distance_list)\n",
    "print(\"Max Tensor Distance:\", difference_total)\n",
    "\n",
    "if (difference_total > 0.00005):\n",
    "    print(\"Image is pertubated\")\n",
    "else:\n",
    "    print(\"Image is not pertubated\")"
   ]
  },
  {
   "cell_type": "code",
   "execution_count": 32,
   "metadata": {},
   "outputs": [],
   "source": [
    "%run \"c:\\GIT\\Programme\\code\\Master\\Koch\\Robustness of Generative Adversial Networks\\src\\Models\\upgraded_net_hook.py\""
   ]
  },
  {
   "cell_type": "code",
   "execution_count": 31,
   "metadata": {},
   "outputs": [
    {
     "name": "stdout",
     "output_type": "stream",
     "text": [
      "Train:\n"
     ]
    },
    {
     "ename": "AttributeError",
     "evalue": "module 'upgraded_net_hook' has no attribute 'ResNet20'",
     "output_type": "error",
     "traceback": [
      "\u001b[1;31m---------------------------------------------------------------------------\u001b[0m",
      "\u001b[1;31mAttributeError\u001b[0m                            Traceback (most recent call last)",
      "\u001b[1;32mc:\\GIT\\Programme\\code\\Master\\Koch\\Robustness of Generative Adversial Networks\\src\\functions\\f2d.py\u001b[0m in \u001b[0;36m<module>\u001b[1;34m\u001b[0m\n\u001b[0;32m    132\u001b[0m \u001b[1;33m\u001b[0m\u001b[0m\n\u001b[0;32m    133\u001b[0m \u001b[0mprint\u001b[0m \u001b[1;33m(\u001b[0m\u001b[1;34m\"Train:\"\u001b[0m\u001b[1;33m)\u001b[0m\u001b[1;33m\u001b[0m\u001b[1;33m\u001b[0m\u001b[0m\n\u001b[1;32m--> 134\u001b[1;33m \u001b[0mtrain_few_two_decide\u001b[0m\u001b[1;33m(\u001b[0m\u001b[1;32mFalse\u001b[0m\u001b[1;33m)\u001b[0m\u001b[1;33m.\u001b[0m\u001b[0mto\u001b[0m\u001b[1;33m(\u001b[0m\u001b[0mtorch\u001b[0m\u001b[1;33m.\u001b[0m\u001b[0mdevice\u001b[0m\u001b[1;33m(\u001b[0m\u001b[1;34m\"cuda:0\"\u001b[0m\u001b[1;33m)\u001b[0m\u001b[1;33m)\u001b[0m\u001b[1;33m\u001b[0m\u001b[1;33m\u001b[0m\u001b[0m\n\u001b[0m\u001b[0;32m    135\u001b[0m \u001b[1;33m\u001b[0m\u001b[0m\n\u001b[0;32m    136\u001b[0m \u001b[0mprint\u001b[0m\u001b[1;33m(\u001b[0m\u001b[1;34m\"Test:\"\u001b[0m\u001b[1;33m)\u001b[0m\u001b[1;33m\u001b[0m\u001b[1;33m\u001b[0m\u001b[0m\n",
      "\u001b[1;32mc:\\GIT\\Programme\\code\\Master\\Koch\\Robustness of Generative Adversial Networks\\src\\functions\\f2d.py\u001b[0m in \u001b[0;36mtrain_few_two_decide\u001b[1;34m(skip)\u001b[0m\n\u001b[0;32m     70\u001b[0m     \u001b[0mmilestones\u001b[0m\u001b[1;33m=\u001b[0m \u001b[1;33m[\u001b[0m\u001b[1;36m50\u001b[0m\u001b[1;33m,\u001b[0m\u001b[1;36m75\u001b[0m\u001b[1;33m]\u001b[0m\u001b[1;33m\u001b[0m\u001b[1;33m\u001b[0m\u001b[0m\n\u001b[0;32m     71\u001b[0m     \u001b[0mgamma\u001b[0m \u001b[1;33m=\u001b[0m \u001b[1;36m0.1\u001b[0m\u001b[1;33m\u001b[0m\u001b[1;33m\u001b[0m\u001b[0m\n\u001b[1;32m---> 72\u001b[1;33m     \u001b[0mmodel\u001b[0m \u001b[1;33m=\u001b[0m \u001b[0mupgraded_net_hook\u001b[0m\u001b[1;33m.\u001b[0m\u001b[0mResNet20\u001b[0m\u001b[1;33m(\u001b[0m\u001b[1;33m)\u001b[0m\u001b[1;33m.\u001b[0m\u001b[0mto\u001b[0m\u001b[1;33m(\u001b[0m\u001b[0mdevice\u001b[0m\u001b[1;33m.\u001b[0m\u001b[0mdevice\u001b[0m\u001b[1;33m)\u001b[0m\u001b[1;33m\u001b[0m\u001b[1;33m\u001b[0m\u001b[0m\n\u001b[0m\u001b[0;32m     73\u001b[0m     \u001b[0mtrainloader\u001b[0m \u001b[1;33m=\u001b[0m \u001b[0mdataloader\u001b[0m\u001b[1;33m.\u001b[0m\u001b[0mtrain_dataloader\u001b[0m\u001b[1;33m\u001b[0m\u001b[1;33m\u001b[0m\u001b[0m\n\u001b[0;32m     74\u001b[0m     \u001b[0moptimizer\u001b[0m \u001b[1;33m=\u001b[0m \u001b[0moptim\u001b[0m\u001b[1;33m.\u001b[0m\u001b[0mSGD\u001b[0m\u001b[1;33m(\u001b[0m\u001b[0mmodel\u001b[0m\u001b[1;33m.\u001b[0m\u001b[0mparameters\u001b[0m\u001b[1;33m(\u001b[0m\u001b[1;33m)\u001b[0m\u001b[1;33m,\u001b[0m \u001b[0mlr\u001b[0m\u001b[1;33m=\u001b[0m\u001b[0mlr\u001b[0m\u001b[1;33m,\u001b[0m \u001b[0mmomentum\u001b[0m\u001b[1;33m=\u001b[0m\u001b[0mmomentum\u001b[0m\u001b[1;33m,\u001b[0m \u001b[0mweight_decay\u001b[0m\u001b[1;33m=\u001b[0m\u001b[0mw_decay\u001b[0m\u001b[1;33m)\u001b[0m\u001b[1;33m\u001b[0m\u001b[1;33m\u001b[0m\u001b[0m\n",
      "\u001b[1;31mAttributeError\u001b[0m: module 'upgraded_net_hook' has no attribute 'ResNet20'"
     ]
    }
   ],
   "source": [
    "%run \"c:\\GIT\\Programme\\code\\Master\\Koch\\Robustness of Generative Adversial Networks\\src\\functions\\f2d.py\"\n",
    "\n",
    "upgraded_net_hook.nn"
   ]
  }
 ],
 "metadata": {
  "interpreter": {
   "hash": "a5d6c2be6262c78dadbf075e7ed7eef3fc1090c1044fdcff36d11e01ba01e819"
  },
  "kernelspec": {
   "display_name": "Python 3.8.8 ('base')",
   "language": "python",
   "name": "python3"
  },
  "language_info": {
   "codemirror_mode": {
    "name": "ipython",
    "version": 3
   },
   "file_extension": ".py",
   "mimetype": "text/x-python",
   "name": "python",
   "nbconvert_exporter": "python",
   "pygments_lexer": "ipython3",
   "version": "3.8.8"
  }
 },
 "nbformat": 4,
 "nbformat_minor": 4
}
