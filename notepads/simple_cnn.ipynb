{
 "cells": [
  {
   "cell_type": "markdown",
   "metadata": {},
   "source": [
    "# Simple CNN for compare default parameters in further applications\n",
    "#### Previous adversial ensemble network will be created in another file"
   ]
  },
  {
   "cell_type": "code",
   "execution_count": 1,
   "metadata": {},
   "outputs": [],
   "source": [
    "import os\n",
    "import random\n",
    "import numpy as np\n",
    "import matplotlib.pyplot as plt\n",
    "import matplotlib\n",
    "os.environ[\"KMP_DUPLICATE_LIB_OK\"]=\"TRUE\" #If using Matplotlib on Windows with different versions, this will surpress error\n",
    "import pandas as pd\n",
    "import torch\n",
    "import torchvision\n",
    "import torchvision.transforms as transforms\n",
    "import torch.nn as nn\n",
    "import torch.nn.functional as F\n",
    "import torch.optim as optim\n",
    "\n",
    "from collections import Counter\n",
    "\n",
    "import sys\n",
    "sys.path.append('../src/functions')\n",
    "from clean_nn_weights import reset_weights    "
   ]
  },
  {
   "cell_type": "markdown",
   "metadata": {},
   "source": [
    "Define dataloader parameter"
   ]
  },
  {
   "cell_type": "code",
   "execution_count": 2,
   "metadata": {},
   "outputs": [
    {
     "data": {
      "text/plain": [
       "<torch._C.Generator at 0x1d8304ff670>"
      ]
     },
     "execution_count": 2,
     "metadata": {},
     "output_type": "execute_result"
    }
   ],
   "source": [
    "batch_size_train = 32\n",
    "batch_size_test = 32\n",
    "random_seed = 1337\n",
    "torch.backends.cudnn.enabled = True\n",
    "torch.manual_seed(random_seed)  #Static random seed for reproducibility"
   ]
  },
  {
   "cell_type": "markdown",
   "metadata": {},
   "source": [
    "Load MNIST Dataset from torchvision"
   ]
  },
  {
   "cell_type": "code",
   "execution_count": 3,
   "metadata": {},
   "outputs": [],
   "source": [
    "train_loader = torch.utils.data.DataLoader(\n",
    "  torchvision.datasets.MNIST('../data/', train=True, download=True,\n",
    "                             transform=torchvision.transforms.Compose([\n",
    "                               torchvision.transforms.ToTensor(),\n",
    "                               torchvision.transforms.Normalize(\n",
    "                                 (0.1307,), (0.3081,))\n",
    "                             ])),\n",
    "  batch_size=batch_size_train, shuffle=True, drop_last=True,worker_init_fn=random_seed)\n",
    "\n",
    "test_loader = torch.utils.data.DataLoader(\n",
    "  torchvision.datasets.MNIST('../data/', train=False, download=True,\n",
    "                             transform=torchvision.transforms.Compose([\n",
    "                               torchvision.transforms.ToTensor(),\n",
    "                               torchvision.transforms.Normalize(\n",
    "                                 (0.1307,), (0.3081,))\n",
    "                             ])),\n",
    "  batch_size=batch_size_test, shuffle=True,drop_last=True,worker_init_fn=random_seed)"
   ]
  },
  {
   "cell_type": "markdown",
   "metadata": {},
   "source": [
    "#### Quick analysis of class balances"
   ]
  },
  {
   "cell_type": "code",
   "execution_count": 40,
   "metadata": {},
   "outputs": [
    {
     "name": "stdout",
     "output_type": "stream",
     "text": [
      "torch.Size([60000, 28, 28])\n",
      "torch.Size([10000, 28, 28])\n"
     ]
    }
   ],
   "source": [
    "print(train_loader.dataset.train_data.size())\n",
    "print(test_loader.dataset.test_data.size())"
   ]
  },
  {
   "cell_type": "code",
   "execution_count": 41,
   "metadata": {},
   "outputs": [],
   "source": [
    "nr_train = np.array([])\n",
    "for i, (data, target) in enumerate(train_loader):\n",
    "    nr_train=np.append(nr_train, target.cpu().detach().numpy())\n",
    "\n",
    "nr_test = np.array([])\n",
    "for i, (data, target) in enumerate(test_loader):\n",
    "    nr_test=np.append(nr_test, target.cpu().detach().numpy())"
   ]
  },
  {
   "cell_type": "code",
   "execution_count": 14,
   "metadata": {},
   "outputs": [
    {
     "data": {
      "text/plain": [
       "Counter({0.0: 6902,\n",
       "         1.0: 7875,\n",
       "         2.0: 6988,\n",
       "         3.0: 7140,\n",
       "         4.0: 6822,\n",
       "         5.0: 6311,\n",
       "         6.0: 6874,\n",
       "         7.0: 7292,\n",
       "         8.0: 6824,\n",
       "         9.0: 6956})"
      ]
     },
     "execution_count": 14,
     "metadata": {},
     "output_type": "execute_result"
    }
   ],
   "source": [
    "Counter(np.sort(nr_train))"
   ]
  },
  {
   "cell_type": "code",
   "execution_count": 11,
   "metadata": {},
   "outputs": [
    {
     "data": {
      "text/plain": [
       "Counter({0.0: 979,\n",
       "         1.0: 1133,\n",
       "         2.0: 1030,\n",
       "         3.0: 1009,\n",
       "         4.0: 980,\n",
       "         5.0: 890,\n",
       "         6.0: 956,\n",
       "         7.0: 1027,\n",
       "         8.0: 973,\n",
       "         9.0: 1007})"
      ]
     },
     "execution_count": 11,
     "metadata": {},
     "output_type": "execute_result"
    }
   ],
   "source": [
    "Counter(np.sort(nr_test))"
   ]
  },
  {
   "cell_type": "code",
   "execution_count": 42,
   "metadata": {},
   "outputs": [
    {
     "data": {
      "image/png": "[encoded data removed]",
      "text/plain": [
       "<Figure size 432x288 with 6 Axes>"
      ]
     },
     "execution_count": 42,
     "metadata": {},
     "output_type": "execute_result"
    },
    {
     "data": {
      "image/png": "[encoded data removed]",
      "text/plain": [
       "<Figure size 432x288 with 6 Axes>"
      ]
     },
     "metadata": {},
     "output_type": "display_data"
    }
   ],
   "source": [
    "# Quick example of images\n",
    "examples = enumerate(test_loader,start=0)\n",
    "batch_idx, (example_data, example_targets) = next(examples)\n",
    "\n",
    "fig = plt.figure()\n",
    "for i in range(6):\n",
    "  plt.subplot(2,3,i+1)\n",
    "  plt.tight_layout()\n",
    "  plt.imshow(example_data[i][0], cmap='gray', interpolation='none')\n",
    "  plt.title(\"Ground  Truth: {}\".format(example_targets[i]))\n",
    "  plt.xticks([])\n",
    "  plt.yticks([])\n",
    "fig"
   ]
  },
  {
   "cell_type": "code",
   "execution_count": 4,
   "metadata": {},
   "outputs": [],
   "source": [
    "def extract_dataloader_images(epoch):\n",
    "  #for batch_idx, (data, target) in enumerate(train_loader):\n",
    "  examples = enumerate(test_loader,start=0)\n",
    "  _, (example_data, example_targets) = next(examples)\n",
    "  return(example_data, example_targets)\n",
    "\n",
    "def count_perturbated_pixel(img1,img2):\n",
    "  sum_px = 28*28\n",
    "  sum_px_perturbed = 0\n",
    "  for px_img1,px_img2 in zip(x_d[0][0],f_d[0][0]): #Zip Array of Pixels\n",
    "    for px_im1,px_im2 in zip(px_img1,px_img2): #Zip Pixels\n",
    "        if (px_im1 != px_im2):\n",
    "            sum_px_perturbed+=1\n",
    "  return((sum_px_perturbed/sum_px),sum_px,sum_px_perturbed)\n",
    "\n",
    "def perturbate_image(img_data,mode='random'):\n",
    "  if (mode=='random'):\n",
    "      for i in range(250):\n",
    "          img_data[0][0][random.randrange(1,28),random.randrange(1,28)]=random.uniform(min(np.ravel(img_data)),max(np.ravel(img_data)))\n",
    "  elif (mode=='random_white'):\n",
    "      for i in range(250):\n",
    "          img_data[0][0][random.randrange(1,28),random.randrange(1,28)]=round(max(np.ravel(img_data)))\n",
    "  return(img_data)\n",
    "\n",
    "def test_fake(data):\n",
    "  network.eval()\n",
    "  with torch.no_grad():\n",
    "      output = network(data)\n",
    "      return output"
   ]
  },
  {
   "cell_type": "code",
   "execution_count": 49,
   "metadata": {},
   "outputs": [],
   "source": [
    "class simple_net(nn.Module):\n",
    "    def __init__(self):\n",
    "        super(simple_net, self).__init__()\n",
    "        self.conv1 = nn.Conv2d(1, 10, kernel_size=5)\n",
    "        self.conv2 = nn.Conv2d(10, 20, kernel_size=5)\n",
    "        self.conv2_drop = nn.Dropout2d()\n",
    "        self.fc1 = nn.Linear(320, 50)\n",
    "        self.fc2 = nn.Linear(50, 10)\n",
    "\n",
    "    def forward(self, x):\n",
    "        x = F.relu(F.max_pool2d(self.conv1(x), 2))\n",
    "        x = F.relu(F.max_pool2d(self.conv2_drop(self.conv2(x)), 2))\n",
    "        x = x.view(-1, 320)\n",
    "        x = F.relu(self.fc1(x))\n",
    "        x = F.dropout(x, training=self.training)\n",
    "        x = self.fc2(x)\n",
    "        return x"
   ]
  },
  {
   "cell_type": "code",
   "execution_count": 53,
   "metadata": {},
   "outputs": [],
   "source": [
    "class simple_net_upgraded(nn.Module): # This is the same as the previous one, but with a different (and more easy to understand) architecture. It has a few more neurons in each layer, replaced x.view(-1, 320) with linear layer. Replaced functional dropout with nn.dropout.\n",
    "\tdef __init__(self, numChannels, classes):\n",
    "\t\tsuper(simple_net_upgraded, self).__init__()\n",
    "\n",
    "\t\tself.conv1 = nn.Conv2d(in_channels=numChannels, out_channels=20,\n",
    "\t\t\tkernel_size=(5, 5))\n",
    "\t\tself.relu1 = nn.ReLU()\n",
    "\t\tself.maxpool1 = nn.MaxPool2d(kernel_size=(2, 2), stride=(2, 2))\n",
    "\n",
    "\t\tself.conv2 = nn.Conv2d(in_channels=20, out_channels=50,\n",
    "\t\t\tkernel_size=(5, 5))\n",
    "\t\tself.relu2 = nn.ReLU()\n",
    "\t\tself.maxpool2 = nn.MaxPool2d(kernel_size=(2, 2), stride=(2, 2))\n",
    "\n",
    "\t\tself.conv2_drop = nn.Dropout2d()\n",
    "\n",
    "\t\tself.fc1 = nn.Linear(in_features=800, out_features=500)\n",
    "\t\tself.relu3 = nn.ReLU()\n",
    "\t\tself.dropout_l = nn.Dropout(p=0.5)\n",
    "\t\tself.fc2 = nn.Linear(in_features=500, out_features=classes)\n",
    "\n",
    "\tdef forward(self, x):\n",
    "\n",
    "\t\tx = self.conv1(x)\n",
    "\t\tx = self.relu1(x)\n",
    "\t\tx = self.maxpool1(x)\n",
    "\n",
    "\t\tx = self.conv2(x)\n",
    "\t\tx = self.relu2(x)\n",
    "\t\tx = self.maxpool2(x)\n",
    "\t\tx = self.conv2_drop(x)\n",
    "\t\tx = torch.flatten(x, 1)\n",
    "\t\tx = self.fc1(x)\n",
    "\t\tx = self.relu3(x)\n",
    "\t\tx = self.dropout_l(x)\n",
    "\t\tx = self.fc2(x)\n",
    "\t\treturn x"
   ]
  },
  {
   "cell_type": "code",
   "execution_count": 62,
   "metadata": {},
   "outputs": [
    {
     "name": "stdout",
     "output_type": "stream",
     "text": [
      "Using Upgraded Net\n",
      "Reset trainable parameters of layer = Conv2d(1, 20, kernel_size=(5, 5), stride=(1, 1))\n",
      "Reset trainable parameters of layer = Conv2d(20, 50, kernel_size=(5, 5), stride=(1, 1))\n",
      "Reset trainable parameters of layer = Linear(in_features=800, out_features=500, bias=True)\n",
      "Reset trainable parameters of layer = Linear(in_features=500, out_features=10, bias=True)\n"
     ]
    }
   ],
   "source": [
    "log_interval = 187 #60000/batch_size_train = 1875 => 10 Datapoints per Epoch => 187 Logs per Epoch\n",
    "n_epochs = 20\n",
    "learning_rate = 0.007\n",
    "momentum = 0.5\n",
    "load_data = 0\n",
    "use_upgraded_net = 1\n",
    "\n",
    "##########\n",
    "save_net = 0\n",
    "##########\n",
    "\n",
    "if (use_upgraded_net == 1):\n",
    "    network = simple_net_upgraded(1,10)\n",
    "    print (\"Using Upgraded Net\")\n",
    "else:\n",
    "    network = simple_net()\n",
    "    print (\"Using Basic Net\")\n",
    "\n",
    "network.apply(reset_weights)\n",
    "#device = \"cuda:0\"\n",
    "#network.to(device)\n",
    "optimizer = optim.SGD(network.parameters(), lr=learning_rate, momentum=momentum)\n",
    "if (load_data and use_upgraded_net == 0):\n",
    "    network.load_state_dict(torch.load('../src/results/model.pth'))\n",
    "    print('Loaded model from file')\n",
    "    optimizer.load_state_dict(torch.load('../src/results/optimizer.pth'))\n",
    "    print('Loaded optimizer from basic model')\n",
    "if (load_data and use_upgraded_net == 1):\n",
    "    network.load_state_dict(torch.load('../src/results/model_upgraded.pth'))\n",
    "    print('Loaded upgraded model from file')\n",
    "    optimizer.load_state_dict(torch.load('../src/results/optimizer_upgraded.pth'))\n",
    "    print('Loaded optimizer from upgraded model')\n",
    "if (save_net==1):\n",
    "    print('WARNING: Saving model to file!! Will overwrite existing file!!!')"
   ]
  },
  {
   "cell_type": "code",
   "execution_count": 63,
   "metadata": {},
   "outputs": [],
   "source": [
    "def train(epoch):\n",
    "  network.train()\n",
    "  for batch_idx, (data, target) in enumerate(train_loader):\n",
    "    optimizer.zero_grad()\n",
    "    output = network(data)\n",
    "    loss = F.cross_entropy(output, target)\n",
    "    loss.backward()\n",
    "    optimizer.step()\n",
    "    if (batch_idx % log_interval == 0) and (batch_idx != 0):\n",
    "      print('Train Epoch: {} [{}/{} ({:.0f}%)]\\tLoss: {:.6f}'.format(\n",
    "        epoch, batch_idx * len(data), len(train_loader.dataset),\n",
    "        100. * batch_idx / len(train_loader), loss.item()))\n",
    "      train_losses.append(loss.item())\n",
    "      train_counter.append(\n",
    "        (batch_idx*batch_size_train) + ((epoch-1)*len(train_loader.dataset)))\n",
    "      "
   ]
  },
  {
   "cell_type": "code",
   "execution_count": 64,
   "metadata": {},
   "outputs": [],
   "source": [
    "def test():\n",
    "  network.eval()\n",
    "  test_loss = 0\n",
    "  correct = 0\n",
    "  with torch.no_grad():\n",
    "    for data, target in test_loader:\n",
    "      output = network(data)\n",
    "      test_loss += F.cross_entropy(output, target).item()\n",
    "      pred = output.data.max(1, keepdim=True)[1]\n",
    "      correct += pred.eq(target.data.view_as(pred)).sum()\n",
    "  test_loss /= len(test_loader.dataset)\n",
    "  test_losses.append(test_loss)\n",
    "  acc = 100. * correct / len(test_loader.dataset)\n",
    "  test_acc.append(acc)\n",
    "  print('\\nTest set: Avg. loss: {:.4f}, Accuracy: {}/{} ({:.0f}%)\\n'.format(\n",
    "    test_loss, correct, len(test_loader.dataset),\n",
    "    100. * correct / len(test_loader.dataset)))"
   ]
  },
  {
   "cell_type": "code",
   "execution_count": 65,
   "metadata": {},
   "outputs": [
    {
     "name": "stdout",
     "output_type": "stream",
     "text": [
      "\n",
      "Test set: Avg. loss: 0.0718, Accuracy: 1351/10000 (14%)\n",
      "\n",
      "Train Epoch: 1 [5984/60000 (10%)]\tLoss: 1.033098\n",
      "Train Epoch: 1 [11968/60000 (20%)]\tLoss: 0.370548\n",
      "Train Epoch: 1 [17952/60000 (30%)]\tLoss: 0.357159\n",
      "Train Epoch: 1 [23936/60000 (40%)]\tLoss: 0.373276\n",
      "Train Epoch: 1 [29920/60000 (50%)]\tLoss: 0.249690\n",
      "Train Epoch: 1 [35904/60000 (60%)]\tLoss: 0.440404\n",
      "Train Epoch: 1 [41888/60000 (70%)]\tLoss: 0.129828\n",
      "Train Epoch: 1 [47872/60000 (80%)]\tLoss: 0.109237\n",
      "Train Epoch: 1 [53856/60000 (90%)]\tLoss: 0.108227\n",
      "Train Epoch: 1 [59840/60000 (100%)]\tLoss: 0.230982\n",
      "\n",
      "Test set: Avg. loss: 0.0030, Accuracy: 9670/10000 (97%)\n",
      "\n",
      "Train Epoch: 2 [5984/60000 (10%)]\tLoss: 0.073269\n",
      "Train Epoch: 2 [11968/60000 (20%)]\tLoss: 0.035236\n",
      "Train Epoch: 2 [17952/60000 (30%)]\tLoss: 0.140498\n",
      "Train Epoch: 2 [23936/60000 (40%)]\tLoss: 0.138644\n",
      "Train Epoch: 2 [29920/60000 (50%)]\tLoss: 0.019758\n",
      "Train Epoch: 2 [35904/60000 (60%)]\tLoss: 0.131471\n",
      "Train Epoch: 2 [41888/60000 (70%)]\tLoss: 0.108888\n",
      "Train Epoch: 2 [47872/60000 (80%)]\tLoss: 0.055863\n",
      "Train Epoch: 2 [53856/60000 (90%)]\tLoss: 0.063641\n",
      "Train Epoch: 2 [59840/60000 (100%)]\tLoss: 0.126370\n",
      "\n",
      "Test set: Avg. loss: 0.0019, Accuracy: 9783/10000 (98%)\n",
      "\n",
      "Train Epoch: 3 [5984/60000 (10%)]\tLoss: 0.024469\n",
      "Train Epoch: 3 [11968/60000 (20%)]\tLoss: 0.075028\n",
      "Train Epoch: 3 [17952/60000 (30%)]\tLoss: 0.140820\n",
      "Train Epoch: 3 [23936/60000 (40%)]\tLoss: 0.164185\n",
      "Train Epoch: 3 [29920/60000 (50%)]\tLoss: 0.048306\n",
      "Train Epoch: 3 [35904/60000 (60%)]\tLoss: 0.066970\n",
      "Train Epoch: 3 [41888/60000 (70%)]\tLoss: 0.099225\n",
      "Train Epoch: 3 [47872/60000 (80%)]\tLoss: 0.122657\n",
      "Train Epoch: 3 [53856/60000 (90%)]\tLoss: 0.011726\n",
      "Train Epoch: 3 [59840/60000 (100%)]\tLoss: 0.159544\n",
      "\n",
      "Test set: Avg. loss: 0.0014, Accuracy: 9838/10000 (98%)\n",
      "\n",
      "Train Epoch: 4 [5984/60000 (10%)]\tLoss: 0.010453\n",
      "Train Epoch: 4 [11968/60000 (20%)]\tLoss: 0.268843\n",
      "Train Epoch: 4 [17952/60000 (30%)]\tLoss: 0.006850\n",
      "Train Epoch: 4 [23936/60000 (40%)]\tLoss: 0.121251\n",
      "Train Epoch: 4 [29920/60000 (50%)]\tLoss: 0.044276\n",
      "Train Epoch: 4 [35904/60000 (60%)]\tLoss: 0.236807\n",
      "Train Epoch: 4 [41888/60000 (70%)]\tLoss: 0.074330\n",
      "Train Epoch: 4 [47872/60000 (80%)]\tLoss: 0.263750\n",
      "Train Epoch: 4 [53856/60000 (90%)]\tLoss: 0.285238\n",
      "Train Epoch: 4 [59840/60000 (100%)]\tLoss: 0.018985\n",
      "\n",
      "Test set: Avg. loss: 0.0012, Accuracy: 9857/10000 (99%)\n",
      "\n",
      "Train Epoch: 5 [5984/60000 (10%)]\tLoss: 0.033516\n",
      "Train Epoch: 5 [11968/60000 (20%)]\tLoss: 0.231329\n",
      "Train Epoch: 5 [17952/60000 (30%)]\tLoss: 0.099377\n",
      "Train Epoch: 5 [23936/60000 (40%)]\tLoss: 0.010554\n",
      "Train Epoch: 5 [29920/60000 (50%)]\tLoss: 0.094327\n",
      "Train Epoch: 5 [35904/60000 (60%)]\tLoss: 0.066510\n",
      "Train Epoch: 5 [41888/60000 (70%)]\tLoss: 0.020086\n",
      "Train Epoch: 5 [47872/60000 (80%)]\tLoss: 0.009028\n",
      "Train Epoch: 5 [53856/60000 (90%)]\tLoss: 0.032493\n",
      "Train Epoch: 5 [59840/60000 (100%)]\tLoss: 0.094664\n",
      "\n",
      "Test set: Avg. loss: 0.0012, Accuracy: 9854/10000 (99%)\n",
      "\n",
      "Train Epoch: 6 [5984/60000 (10%)]\tLoss: 0.014446\n",
      "Train Epoch: 6 [11968/60000 (20%)]\tLoss: 0.021897\n",
      "Train Epoch: 6 [17952/60000 (30%)]\tLoss: 0.005238\n",
      "Train Epoch: 6 [23936/60000 (40%)]\tLoss: 0.186414\n",
      "Train Epoch: 6 [29920/60000 (50%)]\tLoss: 0.009042\n",
      "Train Epoch: 6 [35904/60000 (60%)]\tLoss: 0.014561\n",
      "Train Epoch: 6 [41888/60000 (70%)]\tLoss: 0.034035\n",
      "Train Epoch: 6 [47872/60000 (80%)]\tLoss: 0.028562\n",
      "Train Epoch: 6 [53856/60000 (90%)]\tLoss: 0.015304\n",
      "Train Epoch: 6 [59840/60000 (100%)]\tLoss: 0.061425\n",
      "\n",
      "Test set: Avg. loss: 0.0010, Accuracy: 9877/10000 (99%)\n",
      "\n",
      "Train Epoch: 7 [5984/60000 (10%)]\tLoss: 0.090256\n",
      "Train Epoch: 7 [11968/60000 (20%)]\tLoss: 0.025687\n",
      "Train Epoch: 7 [17952/60000 (30%)]\tLoss: 0.023757\n",
      "Train Epoch: 7 [23936/60000 (40%)]\tLoss: 0.027143\n",
      "Train Epoch: 7 [29920/60000 (50%)]\tLoss: 0.135680\n",
      "Train Epoch: 7 [35904/60000 (60%)]\tLoss: 0.068242\n",
      "Train Epoch: 7 [41888/60000 (70%)]\tLoss: 0.029654\n",
      "Train Epoch: 7 [47872/60000 (80%)]\tLoss: 0.084375\n",
      "Train Epoch: 7 [53856/60000 (90%)]\tLoss: 0.016378\n",
      "Train Epoch: 7 [59840/60000 (100%)]\tLoss: 0.048108\n",
      "\n",
      "Test set: Avg. loss: 0.0009, Accuracy: 9882/10000 (99%)\n",
      "\n",
      "Train Epoch: 8 [5984/60000 (10%)]\tLoss: 0.009279\n",
      "Train Epoch: 8 [11968/60000 (20%)]\tLoss: 0.027344\n",
      "Train Epoch: 8 [17952/60000 (30%)]\tLoss: 0.042753\n",
      "Train Epoch: 8 [23936/60000 (40%)]\tLoss: 0.094186\n",
      "Train Epoch: 8 [29920/60000 (50%)]\tLoss: 0.021681\n",
      "Train Epoch: 8 [35904/60000 (60%)]\tLoss: 0.101605\n",
      "Train Epoch: 8 [41888/60000 (70%)]\tLoss: 0.036472\n",
      "Train Epoch: 8 [47872/60000 (80%)]\tLoss: 0.013071\n",
      "Train Epoch: 8 [53856/60000 (90%)]\tLoss: 0.009051\n",
      "Train Epoch: 8 [59840/60000 (100%)]\tLoss: 0.116052\n",
      "\n",
      "Test set: Avg. loss: 0.0009, Accuracy: 9885/10000 (99%)\n",
      "\n",
      "Train Epoch: 9 [5984/60000 (10%)]\tLoss: 0.007527\n",
      "Train Epoch: 9 [11968/60000 (20%)]\tLoss: 0.066430\n",
      "Train Epoch: 9 [17952/60000 (30%)]\tLoss: 0.007960\n",
      "Train Epoch: 9 [23936/60000 (40%)]\tLoss: 0.008646\n",
      "Train Epoch: 9 [29920/60000 (50%)]\tLoss: 0.055966\n",
      "Train Epoch: 9 [35904/60000 (60%)]\tLoss: 0.071459\n",
      "Train Epoch: 9 [41888/60000 (70%)]\tLoss: 0.008579\n",
      "Train Epoch: 9 [47872/60000 (80%)]\tLoss: 0.025830\n",
      "Train Epoch: 9 [53856/60000 (90%)]\tLoss: 0.012226\n",
      "Train Epoch: 9 [59840/60000 (100%)]\tLoss: 0.053227\n",
      "\n",
      "Test set: Avg. loss: 0.0008, Accuracy: 9898/10000 (99%)\n",
      "\n",
      "Train Epoch: 10 [5984/60000 (10%)]\tLoss: 0.021276\n",
      "Train Epoch: 10 [11968/60000 (20%)]\tLoss: 0.020660\n",
      "Train Epoch: 10 [17952/60000 (30%)]\tLoss: 0.107465\n",
      "Train Epoch: 10 [23936/60000 (40%)]\tLoss: 0.099817\n",
      "Train Epoch: 10 [29920/60000 (50%)]\tLoss: 0.018284\n",
      "Train Epoch: 10 [35904/60000 (60%)]\tLoss: 0.009881\n",
      "Train Epoch: 10 [41888/60000 (70%)]\tLoss: 0.013227\n",
      "Train Epoch: 10 [47872/60000 (80%)]\tLoss: 0.045228\n",
      "Train Epoch: 10 [53856/60000 (90%)]\tLoss: 0.093651\n",
      "Train Epoch: 10 [59840/60000 (100%)]\tLoss: 0.019379\n",
      "\n",
      "Test set: Avg. loss: 0.0008, Accuracy: 9893/10000 (99%)\n",
      "\n",
      "Train Epoch: 11 [5984/60000 (10%)]\tLoss: 0.006179\n",
      "Train Epoch: 11 [11968/60000 (20%)]\tLoss: 0.037261\n",
      "Train Epoch: 11 [17952/60000 (30%)]\tLoss: 0.065874\n",
      "Train Epoch: 11 [23936/60000 (40%)]\tLoss: 0.004508\n",
      "Train Epoch: 11 [29920/60000 (50%)]\tLoss: 0.016731\n",
      "Train Epoch: 11 [35904/60000 (60%)]\tLoss: 0.089190\n",
      "Train Epoch: 11 [41888/60000 (70%)]\tLoss: 0.156315\n",
      "Train Epoch: 11 [47872/60000 (80%)]\tLoss: 0.068889\n",
      "Train Epoch: 11 [53856/60000 (90%)]\tLoss: 0.007524\n",
      "Train Epoch: 11 [59840/60000 (100%)]\tLoss: 0.009166\n",
      "\n",
      "Test set: Avg. loss: 0.0008, Accuracy: 9901/10000 (99%)\n",
      "\n",
      "Train Epoch: 12 [5984/60000 (10%)]\tLoss: 0.040175\n",
      "Train Epoch: 12 [11968/60000 (20%)]\tLoss: 0.222009\n",
      "Train Epoch: 12 [17952/60000 (30%)]\tLoss: 0.007349\n",
      "Train Epoch: 12 [23936/60000 (40%)]\tLoss: 0.050052\n",
      "Train Epoch: 12 [29920/60000 (50%)]\tLoss: 0.012427\n",
      "Train Epoch: 12 [35904/60000 (60%)]\tLoss: 0.050786\n",
      "Train Epoch: 12 [41888/60000 (70%)]\tLoss: 0.040531\n",
      "Train Epoch: 12 [47872/60000 (80%)]\tLoss: 0.013528\n",
      "Train Epoch: 12 [53856/60000 (90%)]\tLoss: 0.055067\n",
      "Train Epoch: 12 [59840/60000 (100%)]\tLoss: 0.012728\n",
      "\n",
      "Test set: Avg. loss: 0.0007, Accuracy: 9895/10000 (99%)\n",
      "\n",
      "Train Epoch: 13 [5984/60000 (10%)]\tLoss: 0.005863\n",
      "Train Epoch: 13 [11968/60000 (20%)]\tLoss: 0.041855\n",
      "Train Epoch: 13 [17952/60000 (30%)]\tLoss: 0.012306\n",
      "Train Epoch: 13 [23936/60000 (40%)]\tLoss: 0.091952\n",
      "Train Epoch: 13 [29920/60000 (50%)]\tLoss: 0.055360\n",
      "Train Epoch: 13 [35904/60000 (60%)]\tLoss: 0.003390\n",
      "Train Epoch: 13 [41888/60000 (70%)]\tLoss: 0.011339\n",
      "Train Epoch: 13 [47872/60000 (80%)]\tLoss: 0.014892\n",
      "Train Epoch: 13 [53856/60000 (90%)]\tLoss: 0.053550\n",
      "Train Epoch: 13 [59840/60000 (100%)]\tLoss: 0.131115\n",
      "\n",
      "Test set: Avg. loss: 0.0007, Accuracy: 9907/10000 (99%)\n",
      "\n",
      "Train Epoch: 14 [5984/60000 (10%)]\tLoss: 0.039966\n",
      "Train Epoch: 14 [11968/60000 (20%)]\tLoss: 0.005757\n",
      "Train Epoch: 14 [17952/60000 (30%)]\tLoss: 0.018538\n",
      "Train Epoch: 14 [23936/60000 (40%)]\tLoss: 0.001643\n",
      "Train Epoch: 14 [29920/60000 (50%)]\tLoss: 0.008458\n",
      "Train Epoch: 14 [35904/60000 (60%)]\tLoss: 0.011225\n",
      "Train Epoch: 14 [41888/60000 (70%)]\tLoss: 0.051550\n",
      "Train Epoch: 14 [47872/60000 (80%)]\tLoss: 0.010782\n",
      "Train Epoch: 14 [53856/60000 (90%)]\tLoss: 0.004129\n",
      "Train Epoch: 14 [59840/60000 (100%)]\tLoss: 0.032554\n",
      "\n",
      "Test set: Avg. loss: 0.0007, Accuracy: 9916/10000 (99%)\n",
      "\n",
      "Train Epoch: 15 [5984/60000 (10%)]\tLoss: 0.032984\n",
      "Train Epoch: 15 [11968/60000 (20%)]\tLoss: 0.011050\n",
      "Train Epoch: 15 [17952/60000 (30%)]\tLoss: 0.032942\n",
      "Train Epoch: 15 [23936/60000 (40%)]\tLoss: 0.078985\n",
      "Train Epoch: 15 [29920/60000 (50%)]\tLoss: 0.010610\n",
      "Train Epoch: 15 [35904/60000 (60%)]\tLoss: 0.159815\n",
      "Train Epoch: 15 [41888/60000 (70%)]\tLoss: 0.103267\n",
      "Train Epoch: 15 [47872/60000 (80%)]\tLoss: 0.098183\n",
      "Train Epoch: 15 [53856/60000 (90%)]\tLoss: 0.006841\n",
      "Train Epoch: 15 [59840/60000 (100%)]\tLoss: 0.022918\n",
      "\n",
      "Test set: Avg. loss: 0.0006, Accuracy: 9912/10000 (99%)\n",
      "\n",
      "Train Epoch: 16 [5984/60000 (10%)]\tLoss: 0.013136\n",
      "Train Epoch: 16 [11968/60000 (20%)]\tLoss: 0.002527\n",
      "Train Epoch: 16 [17952/60000 (30%)]\tLoss: 0.005544\n",
      "Train Epoch: 16 [23936/60000 (40%)]\tLoss: 0.016361\n",
      "Train Epoch: 16 [29920/60000 (50%)]\tLoss: 0.076297\n",
      "Train Epoch: 16 [35904/60000 (60%)]\tLoss: 0.020775\n",
      "Train Epoch: 16 [41888/60000 (70%)]\tLoss: 0.022027\n",
      "Train Epoch: 16 [47872/60000 (80%)]\tLoss: 0.022157\n",
      "Train Epoch: 16 [53856/60000 (90%)]\tLoss: 0.032083\n",
      "Train Epoch: 16 [59840/60000 (100%)]\tLoss: 0.010565\n",
      "\n",
      "Test set: Avg. loss: 0.0006, Accuracy: 9918/10000 (99%)\n",
      "\n",
      "Train Epoch: 17 [5984/60000 (10%)]\tLoss: 0.006243\n",
      "Train Epoch: 17 [11968/60000 (20%)]\tLoss: 0.028395\n",
      "Train Epoch: 17 [17952/60000 (30%)]\tLoss: 0.003045\n",
      "Train Epoch: 17 [23936/60000 (40%)]\tLoss: 0.059502\n",
      "Train Epoch: 17 [29920/60000 (50%)]\tLoss: 0.042979\n",
      "Train Epoch: 17 [35904/60000 (60%)]\tLoss: 0.046956\n",
      "Train Epoch: 17 [41888/60000 (70%)]\tLoss: 0.025917\n",
      "Train Epoch: 17 [47872/60000 (80%)]\tLoss: 0.000619\n",
      "Train Epoch: 17 [53856/60000 (90%)]\tLoss: 0.001054\n",
      "Train Epoch: 17 [59840/60000 (100%)]\tLoss: 0.004073\n",
      "\n",
      "Test set: Avg. loss: 0.0007, Accuracy: 9916/10000 (99%)\n",
      "\n",
      "Train Epoch: 18 [5984/60000 (10%)]\tLoss: 0.052002\n",
      "Train Epoch: 18 [11968/60000 (20%)]\tLoss: 0.130683\n",
      "Train Epoch: 18 [17952/60000 (30%)]\tLoss: 0.034469\n",
      "Train Epoch: 18 [23936/60000 (40%)]\tLoss: 0.008419\n",
      "Train Epoch: 18 [29920/60000 (50%)]\tLoss: 0.011171\n",
      "Train Epoch: 18 [35904/60000 (60%)]\tLoss: 0.036783\n",
      "Train Epoch: 18 [41888/60000 (70%)]\tLoss: 0.001556\n",
      "Train Epoch: 18 [47872/60000 (80%)]\tLoss: 0.052430\n",
      "Train Epoch: 18 [53856/60000 (90%)]\tLoss: 0.013165\n",
      "Train Epoch: 18 [59840/60000 (100%)]\tLoss: 0.007189\n",
      "\n",
      "Test set: Avg. loss: 0.0006, Accuracy: 9906/10000 (99%)\n",
      "\n",
      "Train Epoch: 19 [5984/60000 (10%)]\tLoss: 0.048212\n",
      "Train Epoch: 19 [11968/60000 (20%)]\tLoss: 0.113180\n",
      "Train Epoch: 19 [17952/60000 (30%)]\tLoss: 0.066774\n",
      "Train Epoch: 19 [23936/60000 (40%)]\tLoss: 0.001281\n",
      "Train Epoch: 19 [29920/60000 (50%)]\tLoss: 0.076355\n",
      "Train Epoch: 19 [35904/60000 (60%)]\tLoss: 0.006608\n",
      "Train Epoch: 19 [41888/60000 (70%)]\tLoss: 0.124656\n",
      "Train Epoch: 19 [47872/60000 (80%)]\tLoss: 0.008651\n",
      "Train Epoch: 19 [53856/60000 (90%)]\tLoss: 0.015742\n",
      "Train Epoch: 19 [59840/60000 (100%)]\tLoss: 0.000467\n",
      "\n",
      "Test set: Avg. loss: 0.0006, Accuracy: 9909/10000 (99%)\n",
      "\n",
      "Train Epoch: 20 [5984/60000 (10%)]\tLoss: 0.003523\n",
      "Train Epoch: 20 [11968/60000 (20%)]\tLoss: 0.010087\n",
      "Train Epoch: 20 [17952/60000 (30%)]\tLoss: 0.029059\n",
      "Train Epoch: 20 [23936/60000 (40%)]\tLoss: 0.007390\n",
      "Train Epoch: 20 [29920/60000 (50%)]\tLoss: 0.003230\n",
      "Train Epoch: 20 [35904/60000 (60%)]\tLoss: 0.003274\n",
      "Train Epoch: 20 [41888/60000 (70%)]\tLoss: 0.031520\n",
      "Train Epoch: 20 [47872/60000 (80%)]\tLoss: 0.004462\n",
      "Train Epoch: 20 [53856/60000 (90%)]\tLoss: 0.210711\n",
      "Train Epoch: 20 [59840/60000 (100%)]\tLoss: 0.008587\n",
      "\n",
      "Test set: Avg. loss: 0.0006, Accuracy: 9924/10000 (99%)\n",
      "\n"
     ]
    }
   ],
   "source": [
    "train_losses = []\n",
    "train_counter = []\n",
    "test_losses = []\n",
    "test_counter = [i*len(train_loader.dataset) for i in range(n_epochs + 1)]\n",
    "test_acc = []\n",
    "test()\n",
    "for epoch in range(1, n_epochs + 1):\n",
    "  train(epoch)\n",
    "  test()\n",
    "\n",
    "if (use_upgraded_net==0 and save_net==1):\n",
    "  torch.save(network.state_dict(), '../src/results/model.pth')\n",
    "  torch.save(optimizer.state_dict(), '../src/results/optimizer.pth')\n",
    "  print(\"Saved Modell to file\")\n",
    "elif (use_upgraded_net==1 and save_net==1):\n",
    "  torch.save(network.state_dict(), '../src/results/model_upgraded.pth')\n",
    "  torch.save(optimizer.state_dict(), '../src/results/optimizer_upgraded.pth')\n",
    "  print(\"Saved Modell to file\")\n",
    "save_net = 0 #Secure that only one model is saved"
   ]
  },
  {
   "cell_type": "markdown",
   "metadata": {},
   "source": [
    "## SGD"
   ]
  },
  {
   "cell_type": "code",
   "execution_count": 71,
   "metadata": {},
   "outputs": [
    {
     "data": {
      "text/plain": [
       "<Figure size 432x288 with 0 Axes>"
      ]
     },
     "execution_count": 71,
     "metadata": {},
     "output_type": "execute_result"
    },
    {
     "data": {
      "text/plain": [
       "<Figure size 432x288 with 0 Axes>"
      ]
     },
     "metadata": {},
     "output_type": "display_data"
    },
    {
     "data": {
      "image/png": "[encoded data removed]",
      "text/plain": [
       "<Figure size 1440x1440 with 1 Axes>"
      ]
     },
     "metadata": {
      "needs_background": "light"
     },
     "output_type": "display_data"
    }
   ],
   "source": [
    "fig = plt.figure()\n",
    "plt.figure(figsize=(20,20))\n",
    "plt.plot(train_counter, train_losses, color='blue')\n",
    "plt.plot(test_counter, test_losses, color='red')\n",
    "plt.legend(['Train Loss', 'Test Loss'], loc='upper right')\n",
    "plt.xlabel('number of training examples seen')\n",
    "plt.ylabel('cross entropy loss')\n",
    "plt.grid()\n",
    "fig"
   ]
  },
  {
   "cell_type": "code",
   "execution_count": 72,
   "metadata": {},
   "outputs": [
    {
     "data": {
      "text/plain": [
       "<Figure size 432x288 with 0 Axes>"
      ]
     },
     "execution_count": 72,
     "metadata": {},
     "output_type": "execute_result"
    },
    {
     "data": {
      "text/plain": [
       "<Figure size 432x288 with 0 Axes>"
      ]
     },
     "metadata": {},
     "output_type": "display_data"
    },
    {
     "data": {
      "image/png": "[encoded data removed]",
      "text/plain": [
       "<Figure size 1440x360 with 1 Axes>"
      ]
     },
     "metadata": {
      "needs_background": "light"
     },
     "output_type": "display_data"
    }
   ],
   "source": [
    "fig = plt.figure()\n",
    "plt.figure(figsize=(20,5))\n",
    "plt.grid()\n",
    "plt.plot(range(0,21), test_acc, color='red')\n",
    "plt.legend(['Test Acc'], loc='upper right')\n",
    "plt.xlabel('number of test examples seen')\n",
    "plt.ylabel('Test Accuracy')\n",
    "fig"
   ]
  },
  {
   "cell_type": "markdown",
   "metadata": {},
   "source": [
    "# Documentation\n",
    "\n",
    "##### ___Params___\n",
    "##### Epochs: 20\n",
    "##### b_size = 32\n",
    "##### Optimizer = SGD\n",
    "##### Momentum = 0.5\n",
    "##### LR = 0.01\n",
    "##### ___RESULTS___\n",
    "##### Train Epoch: 20 [59840/60000 (100%)]\tLoss: 0.141315\n",
    "##### Test set: Avg. loss: 0.0337, Accuracy: 9881/10000 (99%)\n"
   ]
  },
  {
   "cell_type": "markdown",
   "metadata": {},
   "source": [
    "### Perturabation mesasurement"
   ]
  },
  {
   "cell_type": "code",
   "execution_count": 526,
   "metadata": {},
   "outputs": [
    {
     "name": "stdout",
     "output_type": "stream",
     "text": [
      "Min: -0.4242129623889923\n",
      "Max: 2.821486711502075\n"
     ]
    }
   ],
   "source": [
    "x_d,e_d=extract_dataloader_images(0)\n",
    "f_d=torch.clone(x_d)\n",
    "print(\"Min: {}\".format(min(np.ravel(x_d))))\n",
    "print(\"Max: {}\".format(max(np.ravel(x_d))))"
   ]
  },
  {
   "cell_type": "code",
   "execution_count": 527,
   "metadata": {},
   "outputs": [
    {
     "data": {
      "text/plain": [
       "<function matplotlib.pyplot.plot(*args, scalex=True, scaley=True, data=None, **kwargs)>"
      ]
     },
     "execution_count": 527,
     "metadata": {},
     "output_type": "execute_result"
    },
    {
     "data": {
      "image/png": "[encoded data removed]",
      "text/plain": [
       "<Figure size 432x288 with 1 Axes>"
      ]
     },
     "metadata": {
      "needs_background": "light"
     },
     "output_type": "display_data"
    }
   ],
   "source": [
    "plt.imshow(x_d[0][0], cmap='gray', interpolation='none')\n",
    "plt.title(\"Ground  Truth: {}\".format(e_d[0]))\n",
    "plt.plot\n"
   ]
  },
  {
   "cell_type": "code",
   "execution_count": 532,
   "metadata": {},
   "outputs": [],
   "source": [
    "f_d = perturbate_image(f_d,mode='random')"
   ]
  },
  {
   "cell_type": "code",
   "execution_count": 529,
   "metadata": {},
   "outputs": [
    {
     "data": {
      "text/plain": [
       "<function matplotlib.pyplot.plot(*args, scalex=True, scaley=True, data=None, **kwargs)>"
      ]
     },
     "execution_count": 529,
     "metadata": {},
     "output_type": "execute_result"
    },
    {
     "data": {
      "image/png": "[encoded data removed]",
      "text/plain": [
       "<Figure size 432x288 with 1 Axes>"
      ]
     },
     "metadata": {
      "needs_background": "light"
     },
     "output_type": "display_data"
    }
   ],
   "source": [
    "plt.imshow(f_d[0][0], cmap='gray', interpolation='none')\n",
    "plt.title(\"Ground  Truth: {}\".format(e_d[0]))\n",
    "plt.plot"
   ]
  },
  {
   "cell_type": "code",
   "execution_count": 531,
   "metadata": {},
   "outputs": [
    {
     "name": "stdout",
     "output_type": "stream",
     "text": [
      "Model predicted: tensor([2])\n",
      "Model real: 9\n",
      "Sum pixel: 784\n",
      "Pertubated pixel: 433\n",
      "Percent preturbated: 0.5522959183673469\n"
     ]
    }
   ],
   "source": [
    "fake_tst = test_fake(f_d)\n",
    "p_percent,p_size,p_pertubated=count_perturbated_pixel(x_d[0][0],f_d[0][0])\n",
    "print(\"Model predicted: {}\".format(fake_tst.data.max(1, keepdim=True)[1][0]))\n",
    "print(\"Model real: {}\".format(e_d[0]))\n",
    "print(\"Sum pixel: {}\".format(p_size))\n",
    "print(\"Pertubated pixel: {}\".format(p_pertubated))\n",
    "print(\"Percent preturbated: {}\".format(p_percent))"
   ]
  }
 ],
 "metadata": {
  "interpreter": {
   "hash": "a5d6c2be6262c78dadbf075e7ed7eef3fc1090c1044fdcff36d11e01ba01e819"
  },
  "kernelspec": {
   "display_name": "Python 3.8.8 ('base')",
   "language": "python",
   "name": "python3"
  },
  "language_info": {
   "codemirror_mode": {
    "name": "ipython",
    "version": 3
   },
   "file_extension": ".py",
   "mimetype": "text/x-python",
   "name": "python",
   "nbconvert_exporter": "python",
   "pygments_lexer": "ipython3",
   "version": "3.8.8"
  }
 },
 "nbformat": 4,
 "nbformat_minor": 4
}
