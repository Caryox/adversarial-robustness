{
 "cells": [
  {
   "cell_type": "markdown",
   "metadata": {},
   "source": [
    "# Simple CNN for compare default parameters in further applications\n",
    "#### Previous adversial ensemble network will be created in another file"
   ]
  },
  {
   "cell_type": "code",
   "execution_count": 1,
   "metadata": {},
   "outputs": [],
   "source": [
    "import os\n",
    "import random\n",
    "import numpy as np\n",
    "import matplotlib.pyplot as plt\n",
    "import matplotlib\n",
    "os.environ[\"KMP_DUPLICATE_LIB_OK\"]=\"TRUE\" #If using Matplotlib on Windows with different versions, this will surpress error\n",
    "import pandas as pd\n",
    "import torch\n",
    "import torchvision\n",
    "import torchvision.transforms as transforms\n",
    "import torch.nn as nn\n",
    "import torch.nn.functional as F\n",
    "import torch.optim as optim\n",
    "\n",
    "from scipy import ndimage #Image Smoothing\n",
    "from collections import Counter\n",
    "\n",
    "import sys\n",
    "sys.path.append('../src/functions')\n",
    "from clean_nn_weights import reset_weights    "
   ]
  },
  {
   "cell_type": "markdown",
   "metadata": {},
   "source": [
    "Define dataloader parameter"
   ]
  },
  {
   "cell_type": "code",
   "execution_count": 2,
   "metadata": {},
   "outputs": [
    {
     "data": {
      "text/plain": [
       "<torch._C.Generator at 0x1d4e4a31670>"
      ]
     },
     "execution_count": 2,
     "metadata": {},
     "output_type": "execute_result"
    }
   ],
   "source": [
    "batch_size_train = 32\n",
    "batch_size_test = 32\n",
    "random_seed = 1337\n",
    "torch.backends.cudnn.enabled = True\n",
    "torch.manual_seed(random_seed)  #Static random seed for reproducibility"
   ]
  },
  {
   "cell_type": "markdown",
   "metadata": {},
   "source": [
    "Load MNIST Dataset from torchvision"
   ]
  },
  {
   "cell_type": "code",
   "execution_count": 3,
   "metadata": {},
   "outputs": [],
   "source": [
    "train_loader = torch.utils.data.DataLoader(\n",
    "  torchvision.datasets.MNIST('../data/', train=True, download=True,\n",
    "                             transform=torchvision.transforms.Compose([\n",
    "                               torchvision.transforms.ToTensor(),\n",
    "                               torchvision.transforms.Normalize(\n",
    "                                 (0.1307,), (0.3081,))\n",
    "                             ])),\n",
    "  batch_size=batch_size_train, shuffle=True, drop_last=True,worker_init_fn=random_seed)\n",
    "\n",
    "test_loader = torch.utils.data.DataLoader(\n",
    "  torchvision.datasets.MNIST('../data/', train=False, download=True,\n",
    "                             transform=torchvision.transforms.Compose([\n",
    "                               torchvision.transforms.ToTensor(),\n",
    "                               torchvision.transforms.Normalize(\n",
    "                                 (0.1307,), (0.3081,))\n",
    "                             ])),\n",
    "  batch_size=batch_size_test, shuffle=True,drop_last=True,worker_init_fn=random_seed)"
   ]
  },
  {
   "cell_type": "markdown",
   "metadata": {},
   "source": [
    "#### Quick analysis of class balances"
   ]
  },
  {
   "cell_type": "code",
   "execution_count": 40,
   "metadata": {},
   "outputs": [
    {
     "name": "stdout",
     "output_type": "stream",
     "text": [
      "torch.Size([60000, 28, 28])\n",
      "torch.Size([10000, 28, 28])\n"
     ]
    }
   ],
   "source": [
    "print(train_loader.dataset.train_data.size())\n",
    "print(test_loader.dataset.test_data.size())"
   ]
  },
  {
   "cell_type": "code",
   "execution_count": 41,
   "metadata": {},
   "outputs": [],
   "source": [
    "nr_train = np.array([])\n",
    "for i, (data, target) in enumerate(train_loader):\n",
    "    nr_train=np.append(nr_train, target.cpu().detach().numpy())\n",
    "\n",
    "nr_test = np.array([])\n",
    "for i, (data, target) in enumerate(test_loader):\n",
    "    nr_test=np.append(nr_test, target.cpu().detach().numpy())"
   ]
  },
  {
   "cell_type": "code",
   "execution_count": 14,
   "metadata": {},
   "outputs": [
    {
     "data": {
      "text/plain": [
       "Counter({0.0: 6902,\n",
       "         1.0: 7875,\n",
       "         2.0: 6988,\n",
       "         3.0: 7140,\n",
       "         4.0: 6822,\n",
       "         5.0: 6311,\n",
       "         6.0: 6874,\n",
       "         7.0: 7292,\n",
       "         8.0: 6824,\n",
       "         9.0: 6956})"
      ]
     },
     "execution_count": 14,
     "metadata": {},
     "output_type": "execute_result"
    }
   ],
   "source": [
    "Counter(np.sort(nr_train))"
   ]
  },
  {
   "cell_type": "code",
   "execution_count": 11,
   "metadata": {},
   "outputs": [
    {
     "data": {
      "text/plain": [
       "Counter({0.0: 979,\n",
       "         1.0: 1133,\n",
       "         2.0: 1030,\n",
       "         3.0: 1009,\n",
       "         4.0: 980,\n",
       "         5.0: 890,\n",
       "         6.0: 956,\n",
       "         7.0: 1027,\n",
       "         8.0: 973,\n",
       "         9.0: 1007})"
      ]
     },
     "execution_count": 11,
     "metadata": {},
     "output_type": "execute_result"
    }
   ],
   "source": [
    "Counter(np.sort(nr_test))"
   ]
  },
  {
   "cell_type": "code",
   "execution_count": 4,
   "metadata": {},
   "outputs": [
    {
     "data": {
      "image/png": "[encoded data removed]",
      "text/plain": [
       "<Figure size 432x288 with 6 Axes>"
      ]
     },
     "execution_count": 4,
     "metadata": {},
     "output_type": "execute_result"
    },
    {
     "data": {
      "image/png": "[encoded data removed]",
      "text/plain": [
       "<Figure size 432x288 with 6 Axes>"
      ]
     },
     "metadata": {},
     "output_type": "display_data"
    }
   ],
   "source": [
    "# Quick example of images\n",
    "examples = enumerate(test_loader,start=0)\n",
    "batch_idx, (example_data, example_targets) = next(examples)\n",
    "\n",
    "fig = plt.figure()\n",
    "for i in range(6):\n",
    "  plt.subplot(2,3,i+1)\n",
    "  plt.tight_layout()\n",
    "  plt.imshow(example_data[i][0], cmap='gray', interpolation='none')\n",
    "  plt.title(\"Ground  Truth: {}\".format(example_targets[i]))\n",
    "  plt.xticks([])\n",
    "  plt.yticks([])\n",
    "fig"
   ]
  },
  {
   "cell_type": "code",
   "execution_count": 4,
   "metadata": {},
   "outputs": [],
   "source": [
    "def extract_dataloader_images(epoch):\n",
    "  #for batch_idx, (data, target) in enumerate(train_loader):\n",
    "  examples = enumerate(test_loader,start=0)\n",
    "  _, (example_data, example_targets) = next(examples)\n",
    "  return(example_data, example_targets)\n",
    "\n",
    "def count_perturbated_pixel(img1,img2):\n",
    "  sum_px = 28*28\n",
    "  sum_px_perturbed = 0\n",
    "  for px_img1,px_img2 in zip(x_d[0][0],f_d[0][0]): #Zip Array of Pixels\n",
    "    for px_im1,px_im2 in zip(px_img1,px_img2): #Zip Pixels\n",
    "        if (px_im1 != px_im2):\n",
    "            sum_px_perturbed+=1\n",
    "  return((sum_px_perturbed/sum_px),sum_px,sum_px_perturbed)\n",
    "\n",
    "def perturbate_image(img_data,mode='random',value=100):\n",
    "  if (mode=='random'):\n",
    "      for i in range(value):\n",
    "          img_data[0][0][random.randrange(1,28),random.randrange(1,28)]=random.uniform(min(np.ravel(img_data)),max(np.ravel(img_data)))\n",
    "  elif (mode=='random_white'):\n",
    "      for i in range(value):\n",
    "          img_data[0][0][random.randrange(1,28),random.randrange(1,28)]=round(max(np.ravel(img_data)))\n",
    "  return(img_data)\n",
    "\n",
    "def median_smoothing(img_data,kernel_size=2):\n",
    "  from scipy import ndimage\n",
    "  print(img_data.shape.__len__())\n",
    "  if (img_data.shape.__len__() > 2):\n",
    "    for i in range(img_data.shape[0]):\n",
    "      img_data[i][0] = torch.from_numpy(ndimage.median_filter(img_data[i][0], size=kernel_size))\n",
    "  else:\n",
    "    img_data = torch.from_numpy(ndimage.median_filter(img_data, size=kernel_size))\n",
    "  return(img_data)\n",
    "\n",
    "def bit_reduction(img_data,clip_min=0.5,clip_max=0.9):\n",
    "  reduced_data = (img_data-min(np.ravel(img_data))) / (max(np.ravel(img_data)) - min(np.ravel(img_data)))\n",
    "  reduced_data = reduced_data.clip(min=clip_min,max=clip_max)\n",
    "  return(reduced_data)\n",
    "\n",
    "\n",
    "\n",
    "def test_fake(data):\n",
    "  network.eval()\n",
    "  with torch.no_grad():\n",
    "      output = network(data)\n",
    "      return output"
   ]
  },
  {
   "cell_type": "code",
   "execution_count": 5,
   "metadata": {},
   "outputs": [],
   "source": [
    "class simple_net(nn.Module):\n",
    "    def __init__(self):\n",
    "        super(simple_net, self).__init__()\n",
    "        self.conv1 = nn.Conv2d(1, 10, kernel_size=5)\n",
    "        self.conv2 = nn.Conv2d(10, 20, kernel_size=5)\n",
    "        self.conv2_drop = nn.Dropout2d()\n",
    "        self.fc1 = nn.Linear(320, 50)\n",
    "        self.fc2 = nn.Linear(50, 10)\n",
    "\n",
    "    def forward(self, x):\n",
    "        x = F.relu(F.max_pool2d(self.conv1(x), 2))\n",
    "        x = F.relu(F.max_pool2d(self.conv2_drop(self.conv2(x)), 2))\n",
    "        x = x.view(-1, 320)\n",
    "        x = F.relu(self.fc1(x))\n",
    "        x = F.dropout(x, training=self.training)\n",
    "        x = self.fc2(x)\n",
    "        return x"
   ]
  },
  {
   "cell_type": "code",
   "execution_count": 6,
   "metadata": {},
   "outputs": [],
   "source": [
    "class simple_net_upgraded(nn.Module): # This is the same as the previous one, but with a different (and more easy to understand) architecture. It has a few more neurons in each layer, replaced x.view(-1, 320) with linear layer. Replaced functional dropout with nn.dropout.\n",
    "\tdef __init__(self, numChannels, classes):\n",
    "\t\tsuper(simple_net_upgraded, self).__init__()\n",
    "\n",
    "\t\tself.conv1 = nn.Conv2d(in_channels=numChannels, out_channels=20,\n",
    "\t\t\tkernel_size=(5, 5))\n",
    "\t\tself.relu1 = nn.ReLU()\n",
    "\t\tself.maxpool1 = nn.MaxPool2d(kernel_size=(2, 2), stride=(2, 2))\n",
    "\n",
    "\t\tself.conv2 = nn.Conv2d(in_channels=20, out_channels=50,\n",
    "\t\t\tkernel_size=(5, 5))\n",
    "\t\tself.relu2 = nn.ReLU()\n",
    "\t\tself.maxpool2 = nn.MaxPool2d(kernel_size=(2, 2), stride=(2, 2))\n",
    "\n",
    "\t\tself.conv2_drop = nn.Dropout2d()\n",
    "\n",
    "\t\tself.fc1 = nn.Linear(in_features=800, out_features=500)\n",
    "\t\tself.relu3 = nn.ReLU()\n",
    "\t\tself.dropout_l = nn.Dropout(p=0.5)\n",
    "\t\tself.fc2 = nn.Linear(in_features=500, out_features=classes)\n",
    "\n",
    "\tdef forward(self, x):\n",
    "\n",
    "\t\tx = self.conv1(x)\n",
    "\t\tx = self.relu1(x)\n",
    "\t\tx = self.maxpool1(x)\n",
    "\n",
    "\t\tx = self.conv2(x)\n",
    "\t\tx = self.relu2(x)\n",
    "\t\tx = self.maxpool2(x)\n",
    "\t\tx = self.conv2_drop(x)\n",
    "\t\tx = torch.flatten(x, 1)\n",
    "\t\tx = self.fc1(x)\n",
    "\t\tx = self.relu3(x)\n",
    "\t\tx = self.dropout_l(x)\n",
    "\t\tx = self.fc2(x)\n",
    "\t\treturn x"
   ]
  },
  {
   "cell_type": "code",
   "execution_count": 187,
   "metadata": {},
   "outputs": [],
   "source": [
    "class simple_net_upgraded_t(nn.Module): # This is the same as the previous one, but with a different (and more easy to understand) architecture. It has a few more neurons in each layer, replaced x.view(-1, 320) with linear layer. Replaced functional dropout with nn.dropout.\n",
    "\tdef __init__(self, numChannels, classes):\n",
    "\t\tsuper(simple_net_upgraded_t, self).__init__()\n",
    "\n",
    "\t\tself.conv1 = nn.Conv2d(in_channels=numChannels, out_channels=20,\n",
    "\t\t\tkernel_size=(5, 5))\n",
    "\t\tself.relu1 = nn.ReLU()\n",
    "\t\tself.maxpool1 = nn.MaxPool2d(kernel_size=(2, 2), stride=(2, 2))\n",
    "\n",
    "\t\tself.conv2 = nn.Conv2d(in_channels=20, out_channels=50,\n",
    "\t\t\tkernel_size=(5, 5))\n",
    "\t\tself.relu2 = nn.ReLU()\n",
    "\t\tself.maxpool2 = nn.MaxPool2d(kernel_size=(2, 2), stride=(2, 2))\n",
    "\n",
    "\t\tself.conv2_drop = nn.Dropout2d()\n",
    "\n",
    "\t\tself.fc1 = nn.Linear(in_features=800, out_features=500)\n",
    "\t\tself.relu3 = nn.ReLU()\n",
    "\t\tself.dropout_l = nn.Dropout(p=0.5)\n",
    "\t\tself.fc2 = nn.Linear(in_features=500, out_features=classes)\n",
    "\n",
    "\tdef forward(self, x):\n",
    "\n",
    "\t\tx = self.conv1(x)\n",
    "\t\tx = self.relu1(x)\n",
    "\t\tx = self.maxpool1(x)\n",
    "\n",
    "\t\tx = self.conv2(x)\n",
    "\t\tx = self.relu2(x)\n",
    "\t\tx = self.maxpool2(x)\n",
    "\t\tx = self.conv2_drop(x)\n",
    "\t\tx = torch.flatten(x, 1)\n",
    "\t\tx = self.fc1(x)\n",
    "\t\tx = self.relu3(x)\n",
    "\t\tx = self.dropout_l(x)\n",
    "\t\tx = self.fc2(x)\n",
    "\t\treturn x"
   ]
  },
  {
   "cell_type": "code",
   "execution_count": 153,
   "metadata": {},
   "outputs": [],
   "source": [
    "class simple_net_upgraded2(nn.Module): # This is the same as the previous one, but with a different (and more easy to understand) architecture. It has a few more neurons in each layer, replaced x.view(-1, 320) with linear layer. Replaced functional dropout with nn.dropout.\n",
    "\tdef __init__(self, numChannels, classes):\n",
    "\t\tsuper(simple_net_upgraded2, self).__init__()\n",
    "\n",
    "\t\tself.conv1 = nn.Conv2d(in_channels=numChannels, out_channels=30,\n",
    "\t\t\tkernel_size=(5, 5))\n",
    "\t\tself.relu1 = nn.ReLU()\n",
    "\t\tself.maxpool1 = nn.MaxPool2d(kernel_size=(2), stride=(2, 2))\n",
    "\n",
    "\t\tself.conv2 = nn.Conv2d(in_channels=30, out_channels=75,\n",
    "\t\t\tkernel_size=(5, 5))\n",
    "\t\tself.relu2 = nn.ReLU()\n",
    "\t\tself.maxpool2 = nn.MaxPool2d(kernel_size=(2), stride=(2, 2))\n",
    "\n",
    "\t\tself.conv2_drop = nn.Dropout2d()\n",
    "\n",
    "\t\tself.fc1 = nn.Linear(in_features=1200, out_features=900)\n",
    "\t\tself.relu3 = nn.ReLU()\n",
    "\t\tself.dropout_l = nn.Dropout(p=0.3)\n",
    "\t\tself.fc2 = nn.Linear(in_features=900, out_features=classes)\n",
    "\n",
    "\tdef forward(self, x):\n",
    "\n",
    "\t\tx = self.conv1(x)\n",
    "\t\tx = self.relu1(x)\n",
    "\t\tx = self.maxpool1(x)\n",
    "\n",
    "\t\tx = self.conv2(x)\n",
    "\t\tx = self.relu2(x)\n",
    "\t\tx = self.maxpool2(x)\n",
    "\t\tx = self.conv2_drop(x)\n",
    "\t\tx = torch.flatten(x, 1)\n",
    "\t\tx = self.fc1(x)\n",
    "\t\tx = self.relu3(x)\n",
    "\t\tx = self.dropout_l(x)\n",
    "\t\tx = self.fc2(x)\n",
    "\t\treturn x"
   ]
  },
  {
   "cell_type": "code",
   "execution_count": 184,
   "metadata": {},
   "outputs": [],
   "source": [
    "class simple_net_upgraded3(nn.Module): # This is the same as the previous one, but with a different (and more easy to understand) architecture. It has a few more neurons in each layer, replaced x.view(-1, 320) with linear layer. Replaced functional dropout with nn.dropout.\n",
    "\tdef __init__(self, numChannels, classes):\n",
    "\t\tsuper(simple_net_upgraded3, self).__init__()\n",
    "\n",
    "\t\tself.conv1 = nn.Conv2d(in_channels=numChannels, out_channels=50,\n",
    "\t\t\tkernel_size=(5, 5))\n",
    "\t\tself.relu1 = nn.ReLU()\n",
    "\t\tself.maxpool1 = nn.MaxPool2d(kernel_size=(2), stride=(2))\n",
    "\n",
    "\t\tself.conv2 = nn.Conv2d(in_channels=50, out_channels=125,\n",
    "\t\t\tkernel_size=(5, 5))\n",
    "\t\tself.relu2 = nn.ReLU()\n",
    "\t\tself.maxpool2 = nn.MaxPool2d(kernel_size=(2), stride=(2))\n",
    "\n",
    "\t\tself.conv2_drop = nn.Dropout2d()\n",
    "\n",
    "\t\tself.fc1 = nn.Linear(in_features=2000, out_features=1000)\n",
    "\t\tself.relu3 = nn.ReLU()\n",
    "\t\tself.dropout_l = nn.Dropout(p=0.2)\n",
    "\t\tself.fc2 = nn.Linear(in_features=1000, out_features=classes)\n",
    "\n",
    "\tdef forward(self, x):\n",
    "\n",
    "\t\tx = self.conv1(x)\n",
    "\t\tx = self.relu1(x)\n",
    "\t\tx = self.maxpool1(x)\n",
    "\n",
    "\t\tx = self.conv2(x)\n",
    "\t\tx = self.relu2(x)\n",
    "\t\tx = self.maxpool2(x)\n",
    "\t\tx = self.conv2_drop(x)\n",
    "\t\tx = torch.flatten(x, 1)\n",
    "\t\tx = self.fc1(x)\n",
    "\t\tx = self.relu3(x)\n",
    "\t\tx = self.dropout_l(x)\n",
    "\t\tx = self.fc2(x)\n",
    "\t\treturn x"
   ]
  },
  {
   "cell_type": "code",
   "execution_count": 249,
   "metadata": {},
   "outputs": [
    {
     "name": "stdout",
     "output_type": "stream",
     "text": [
      "Reset trainable parameters of layer = Conv2d(1, 20, kernel_size=(5, 5), stride=(1, 1))\n",
      "Reset trainable parameters of layer = Conv2d(20, 50, kernel_size=(5, 5), stride=(1, 1))\n",
      "Reset trainable parameters of layer = Linear(in_features=800, out_features=500, bias=True)\n",
      "Reset trainable parameters of layer = Linear(in_features=500, out_features=10, bias=True)\n",
      "Using Upgraded Net\n",
      "Loaded upgraded model from file\n",
      "Loaded optimizer from upgraded model\n"
     ]
    }
   ],
   "source": [
    "log_interval = 187 #60000/batch_size_train = 1875 => 10 Datapoints per Epoch => 187 Logs per Epoch\n",
    "n_epochs = 20\n",
    "learning_rate = 0.007\n",
    "momentum = 0.5\n",
    "load_data = 1\n",
    "use_upgraded_net = 1\n",
    "use_ensemble = 0\n",
    "##########\n",
    "save_net = 0\n",
    "##########\n",
    "\n",
    "if (use_upgraded_net == 1):\n",
    "    network = simple_net_upgraded(1,10)\n",
    "    network.apply(reset_weights)\n",
    "    print (\"Using Upgraded Net\")\n",
    "    if (use_ensemble == 1):\n",
    "        network2 = simple_net_upgraded2(1,10)\n",
    "        network3 = simple_net_upgraded3(1,10)\n",
    "        \n",
    "        network2.apply(reset_weights)\n",
    "        network3.apply(reset_weights)\n",
    "\n",
    "        print(\"Using Ensemble\")\n",
    "    \n",
    "else:\n",
    "    network = simple_net()\n",
    "    network.apply(reset_weights)\n",
    "    print (\"Using Basic Net\")\n",
    "\n",
    "\n",
    "#device = \"cuda:0\"\n",
    "#network.to(device)\n",
    "if (use_ensemble == 0):\n",
    "    optimizer = optim.SGD(network.parameters(), lr=learning_rate, momentum=momentum)\n",
    "if (use_ensemble == 1):\n",
    "    optimizer_ensemble = optim.SGD(list(network.parameters())+list(network2.parameters())+list(network3.parameters()), lr=learning_rate, momentum=momentum)\n",
    "    print(\"Loaded Optimizer for Ensemble\")\n",
    "if (load_data and use_upgraded_net == 0):\n",
    "    network.load_state_dict(torch.load('../src/results/model.pth'))\n",
    "    print('Loaded model from file')\n",
    "    optimizer.load_state_dict(torch.load('../src/results/optimizer.pth'))\n",
    "    print('Loaded optimizer from basic model')\n",
    "if (load_data and use_upgraded_net == 1):\n",
    "    if (use_ensemble==1):\n",
    "        network.load_state_dict(torch.load('../src/results/model_upgraded_ens.pth'))\n",
    "        network2.load_state_dict(torch.load('../src/results/model2_upgraded_ens.pth'))\n",
    "        network3.load_state_dict(torch.load('../src/results/model3_upgraded_ens.pth'))\n",
    "        print('Loaded upgraded ensemble model from file')\n",
    "        optimizer_ensemble.load_state_dict(torch.load('../src/results/optimizer_ensemble.pth'))\n",
    "        print('Loaded ensemble optimizer from upgraded model')\n",
    "    else:\n",
    "        network.load_state_dict(torch.load('../src/results/model_upgraded.pth'))\n",
    "        print('Loaded upgraded model from file')\n",
    "        optimizer.load_state_dict(torch.load('../src/results/optimizer_upgraded.pth'))\n",
    "        print('Loaded optimizer from upgraded model')\n",
    "if (save_net==1):\n",
    "    print('WARNING: Saving model to file!! Will overwrite existing file!!!')"
   ]
  },
  {
   "cell_type": "code",
   "execution_count": 247,
   "metadata": {},
   "outputs": [],
   "source": [
    "def train(epoch,use_ensemble=0):\n",
    "  network.train()\n",
    "  if (use_ensemble==1):\n",
    "    network2.train()\n",
    "    network3.train()\n",
    "  for batch_idx, (data, target) in enumerate(train_loader):\n",
    "    if (use_ensemble == 1):\n",
    "      optimizer_ensemble.zero_grad()\n",
    "      output1 = network(data)\n",
    "      output2 = network2(data)\n",
    "      output3 = network3(data)\n",
    "      output = (output1 + output2 + output3)/3 # Average of three networks...not used here but it is usefull in test. You could also use the aggregated output as for the loss but that can result in false weight balancings when a specific model has made a false prediction. Need more literature checking!\n",
    "      #loss = F.cross_entropy(output, target)\n",
    "      #loss.backward()\n",
    "      loss1 = F.cross_entropy(output1, target)\n",
    "      loss2 = F.cross_entropy(output2, target)\n",
    "      loss3 = F.cross_entropy(output3, target)\n",
    "      loss = (loss1 + loss2 + loss3)\n",
    "      loss.backward()\n",
    "      optimizer_ensemble.step()\n",
    "    else:\n",
    "      optimizer.zero_grad()\n",
    "      output = network(data)\n",
    "      loss = F.cross_entropy(output, target)\n",
    "      loss.backward()\n",
    "      optimizer.step()\n",
    "    \n",
    "    \n",
    "    \n",
    "    if (batch_idx % log_interval == 0) and (batch_idx != 0):\n",
    "      print('Train Epoch: {} [{}/{} ({:.0f}%)]\\tLoss: {:.6f}'.format(\n",
    "        epoch, batch_idx * len(data), len(train_loader.dataset),\n",
    "        100. * batch_idx / len(train_loader), loss.item()))\n",
    "      if (use_ensemble==1):  \n",
    "        print('Loss 1: {:.6f}'.format(loss1.item()))\n",
    "        print('Loss 2: {:.6f}'.format(loss2.item()))\n",
    "        print('Loss 3: {:.6f}'.format(loss3.item()))\n",
    "      train_losses.append(loss.item())\n",
    "      train_counter.append(\n",
    "        (batch_idx*batch_size_train) + ((epoch-1)*len(train_loader.dataset)))\n",
    "#https://discuss.pytorch.org/t/optimizing-based-on-another-models-output/6935/14\n",
    "#https://discuss.pytorch.org/t/using-a-combined-loss-to-update-two-different-models/73925\n",
    "      "
   ]
  },
  {
   "cell_type": "code",
   "execution_count": 245,
   "metadata": {},
   "outputs": [],
   "source": [
    "def test(use_ensemble=0):\n",
    "  network.eval()\n",
    "  if use_ensemble==1:\n",
    "    network2.eval()\n",
    "    network3.eval()\n",
    "  test_loss = 0\n",
    "  correct = 0\n",
    "  with torch.no_grad():\n",
    "    for data, target in test_loader:\n",
    "      output = network(data)\n",
    "      if use_ensemble==1:\n",
    "        output2 = network2(data)\n",
    "        output3 = network3(data)\n",
    "        output = (output + output2 + output3)/3# Average of three networks. Alternative is to use majority voting using output.data.max(1)[1] for each output and write it to an array to get argmax\n",
    "\n",
    "      test_loss += F.cross_entropy(output, target).item()\n",
    "      pred = output.data.max(1, keepdim=True)[1]\n",
    "      correct += pred.eq(target.data.view_as(pred)).sum()\n",
    "  test_loss /= len(test_loader.dataset)\n",
    "  test_losses.append(test_loss)\n",
    "  acc = 100. * correct / len(test_loader.dataset)\n",
    "  test_acc.append(acc)\n",
    "  print('\\nTest set: Avg. loss: {:.4f}, Accuracy: {}/{} ({:.0f}%)\\n'.format(\n",
    "    test_loss, correct, len(test_loader.dataset),\n",
    "    100. * correct / len(test_loader.dataset)))"
   ]
  },
  {
   "cell_type": "code",
   "execution_count": 250,
   "metadata": {},
   "outputs": [
    {
     "name": "stdout",
     "output_type": "stream",
     "text": [
      "\n",
      "Test set: Avg. loss: 0.0006, Accuracy: 9924/10000 (99%)\n",
      "\n",
      "Train Epoch: 1 [5984/60000 (10%)]\tLoss: 0.082740\n",
      "Train Epoch: 1 [11968/60000 (20%)]\tLoss: 0.135509\n"
     ]
    },
    {
     "ename": "KeyboardInterrupt",
     "evalue": "",
     "output_type": "error",
     "traceback": [
      "\u001b[1;31m---------------------------------------------------------------------------\u001b[0m",
      "\u001b[1;31mKeyboardInterrupt\u001b[0m                         Traceback (most recent call last)",
      "\u001b[1;32m<ipython-input-250-d4e0a3bafb69>\u001b[0m in \u001b[0;36m<module>\u001b[1;34m\u001b[0m\n\u001b[0;32m      6\u001b[0m \u001b[0mtest\u001b[0m\u001b[1;33m(\u001b[0m\u001b[1;33m)\u001b[0m\u001b[1;33m\u001b[0m\u001b[1;33m\u001b[0m\u001b[0m\n\u001b[0;32m      7\u001b[0m \u001b[1;32mfor\u001b[0m \u001b[0mepoch\u001b[0m \u001b[1;32min\u001b[0m \u001b[0mrange\u001b[0m\u001b[1;33m(\u001b[0m\u001b[1;36m1\u001b[0m\u001b[1;33m,\u001b[0m \u001b[0mn_epochs\u001b[0m \u001b[1;33m+\u001b[0m \u001b[1;36m1\u001b[0m\u001b[1;33m)\u001b[0m\u001b[1;33m:\u001b[0m\u001b[1;33m\u001b[0m\u001b[1;33m\u001b[0m\u001b[0m\n\u001b[1;32m----> 8\u001b[1;33m   \u001b[0mtrain\u001b[0m\u001b[1;33m(\u001b[0m\u001b[0mepoch\u001b[0m\u001b[1;33m)\u001b[0m\u001b[1;33m\u001b[0m\u001b[1;33m\u001b[0m\u001b[0m\n\u001b[0m\u001b[0;32m      9\u001b[0m   \u001b[0mtest\u001b[0m\u001b[1;33m(\u001b[0m\u001b[1;33m)\u001b[0m\u001b[1;33m\u001b[0m\u001b[1;33m\u001b[0m\u001b[0m\n\u001b[0;32m     10\u001b[0m \u001b[1;33m\u001b[0m\u001b[0m\n",
      "\u001b[1;32m<ipython-input-247-a75c7e304c00>\u001b[0m in \u001b[0;36mtrain\u001b[1;34m(epoch, use_ensemble)\u001b[0m\n\u001b[0;32m     21\u001b[0m     \u001b[1;32melse\u001b[0m\u001b[1;33m:\u001b[0m\u001b[1;33m\u001b[0m\u001b[1;33m\u001b[0m\u001b[0m\n\u001b[0;32m     22\u001b[0m       \u001b[0moptimizer\u001b[0m\u001b[1;33m.\u001b[0m\u001b[0mzero_grad\u001b[0m\u001b[1;33m(\u001b[0m\u001b[1;33m)\u001b[0m\u001b[1;33m\u001b[0m\u001b[1;33m\u001b[0m\u001b[0m\n\u001b[1;32m---> 23\u001b[1;33m       \u001b[0moutput\u001b[0m \u001b[1;33m=\u001b[0m \u001b[0mnetwork\u001b[0m\u001b[1;33m(\u001b[0m\u001b[0mdata\u001b[0m\u001b[1;33m)\u001b[0m\u001b[1;33m\u001b[0m\u001b[1;33m\u001b[0m\u001b[0m\n\u001b[0m\u001b[0;32m     24\u001b[0m       \u001b[0mloss\u001b[0m \u001b[1;33m=\u001b[0m \u001b[0mF\u001b[0m\u001b[1;33m.\u001b[0m\u001b[0mcross_entropy\u001b[0m\u001b[1;33m(\u001b[0m\u001b[0moutput\u001b[0m\u001b[1;33m,\u001b[0m \u001b[0mtarget\u001b[0m\u001b[1;33m)\u001b[0m\u001b[1;33m\u001b[0m\u001b[1;33m\u001b[0m\u001b[0m\n\u001b[0;32m     25\u001b[0m       \u001b[0mloss\u001b[0m\u001b[1;33m.\u001b[0m\u001b[0mbackward\u001b[0m\u001b[1;33m(\u001b[0m\u001b[1;33m)\u001b[0m\u001b[1;33m\u001b[0m\u001b[1;33m\u001b[0m\u001b[0m\n",
      "\u001b[1;32mf:\\Anaconda\\lib\\site-packages\\torch\\nn\\modules\\module.py\u001b[0m in \u001b[0;36m_call_impl\u001b[1;34m(self, *input, **kwargs)\u001b[0m\n\u001b[0;32m   1100\u001b[0m         if not (self._backward_hooks or self._forward_hooks or self._forward_pre_hooks or _global_backward_hooks\n\u001b[0;32m   1101\u001b[0m                 or _global_forward_hooks or _global_forward_pre_hooks):\n\u001b[1;32m-> 1102\u001b[1;33m             \u001b[1;32mreturn\u001b[0m \u001b[0mforward_call\u001b[0m\u001b[1;33m(\u001b[0m\u001b[1;33m*\u001b[0m\u001b[0minput\u001b[0m\u001b[1;33m,\u001b[0m \u001b[1;33m**\u001b[0m\u001b[0mkwargs\u001b[0m\u001b[1;33m)\u001b[0m\u001b[1;33m\u001b[0m\u001b[1;33m\u001b[0m\u001b[0m\n\u001b[0m\u001b[0;32m   1103\u001b[0m         \u001b[1;31m# Do not call functions when jit is used\u001b[0m\u001b[1;33m\u001b[0m\u001b[1;33m\u001b[0m\u001b[1;33m\u001b[0m\u001b[0m\n\u001b[0;32m   1104\u001b[0m         \u001b[0mfull_backward_hooks\u001b[0m\u001b[1;33m,\u001b[0m \u001b[0mnon_full_backward_hooks\u001b[0m \u001b[1;33m=\u001b[0m \u001b[1;33m[\u001b[0m\u001b[1;33m]\u001b[0m\u001b[1;33m,\u001b[0m \u001b[1;33m[\u001b[0m\u001b[1;33m]\u001b[0m\u001b[1;33m\u001b[0m\u001b[1;33m\u001b[0m\u001b[0m\n",
      "\u001b[1;32m<ipython-input-6-4eb7c8cefc2f>\u001b[0m in \u001b[0;36mforward\u001b[1;34m(self, x)\u001b[0m\n\u001b[0;32m     23\u001b[0m \u001b[1;33m\u001b[0m\u001b[0m\n\u001b[0;32m     24\u001b[0m                 \u001b[0mx\u001b[0m \u001b[1;33m=\u001b[0m \u001b[0mself\u001b[0m\u001b[1;33m.\u001b[0m\u001b[0mconv1\u001b[0m\u001b[1;33m(\u001b[0m\u001b[0mx\u001b[0m\u001b[1;33m)\u001b[0m\u001b[1;33m\u001b[0m\u001b[1;33m\u001b[0m\u001b[0m\n\u001b[1;32m---> 25\u001b[1;33m                 \u001b[0mx\u001b[0m \u001b[1;33m=\u001b[0m \u001b[0mself\u001b[0m\u001b[1;33m.\u001b[0m\u001b[0mrelu1\u001b[0m\u001b[1;33m(\u001b[0m\u001b[0mx\u001b[0m\u001b[1;33m)\u001b[0m\u001b[1;33m\u001b[0m\u001b[1;33m\u001b[0m\u001b[0m\n\u001b[0m\u001b[0;32m     26\u001b[0m                 \u001b[0mx\u001b[0m \u001b[1;33m=\u001b[0m \u001b[0mself\u001b[0m\u001b[1;33m.\u001b[0m\u001b[0mmaxpool1\u001b[0m\u001b[1;33m(\u001b[0m\u001b[0mx\u001b[0m\u001b[1;33m)\u001b[0m\u001b[1;33m\u001b[0m\u001b[1;33m\u001b[0m\u001b[0m\n\u001b[0;32m     27\u001b[0m \u001b[1;33m\u001b[0m\u001b[0m\n",
      "\u001b[1;32mf:\\Anaconda\\lib\\site-packages\\torch\\nn\\modules\\module.py\u001b[0m in \u001b[0;36m_call_impl\u001b[1;34m(self, *input, **kwargs)\u001b[0m\n\u001b[0;32m   1100\u001b[0m         if not (self._backward_hooks or self._forward_hooks or self._forward_pre_hooks or _global_backward_hooks\n\u001b[0;32m   1101\u001b[0m                 or _global_forward_hooks or _global_forward_pre_hooks):\n\u001b[1;32m-> 1102\u001b[1;33m             \u001b[1;32mreturn\u001b[0m \u001b[0mforward_call\u001b[0m\u001b[1;33m(\u001b[0m\u001b[1;33m*\u001b[0m\u001b[0minput\u001b[0m\u001b[1;33m,\u001b[0m \u001b[1;33m**\u001b[0m\u001b[0mkwargs\u001b[0m\u001b[1;33m)\u001b[0m\u001b[1;33m\u001b[0m\u001b[1;33m\u001b[0m\u001b[0m\n\u001b[0m\u001b[0;32m   1103\u001b[0m         \u001b[1;31m# Do not call functions when jit is used\u001b[0m\u001b[1;33m\u001b[0m\u001b[1;33m\u001b[0m\u001b[1;33m\u001b[0m\u001b[0m\n\u001b[0;32m   1104\u001b[0m         \u001b[0mfull_backward_hooks\u001b[0m\u001b[1;33m,\u001b[0m \u001b[0mnon_full_backward_hooks\u001b[0m \u001b[1;33m=\u001b[0m \u001b[1;33m[\u001b[0m\u001b[1;33m]\u001b[0m\u001b[1;33m,\u001b[0m \u001b[1;33m[\u001b[0m\u001b[1;33m]\u001b[0m\u001b[1;33m\u001b[0m\u001b[1;33m\u001b[0m\u001b[0m\n",
      "\u001b[1;32mf:\\Anaconda\\lib\\site-packages\\torch\\nn\\modules\\activation.py\u001b[0m in \u001b[0;36mforward\u001b[1;34m(self, input)\u001b[0m\n\u001b[0;32m     96\u001b[0m \u001b[1;33m\u001b[0m\u001b[0m\n\u001b[0;32m     97\u001b[0m     \u001b[1;32mdef\u001b[0m \u001b[0mforward\u001b[0m\u001b[1;33m(\u001b[0m\u001b[0mself\u001b[0m\u001b[1;33m,\u001b[0m \u001b[0minput\u001b[0m\u001b[1;33m:\u001b[0m \u001b[0mTensor\u001b[0m\u001b[1;33m)\u001b[0m \u001b[1;33m->\u001b[0m \u001b[0mTensor\u001b[0m\u001b[1;33m:\u001b[0m\u001b[1;33m\u001b[0m\u001b[1;33m\u001b[0m\u001b[0m\n\u001b[1;32m---> 98\u001b[1;33m         \u001b[1;32mreturn\u001b[0m \u001b[0mF\u001b[0m\u001b[1;33m.\u001b[0m\u001b[0mrelu\u001b[0m\u001b[1;33m(\u001b[0m\u001b[0minput\u001b[0m\u001b[1;33m,\u001b[0m \u001b[0minplace\u001b[0m\u001b[1;33m=\u001b[0m\u001b[0mself\u001b[0m\u001b[1;33m.\u001b[0m\u001b[0minplace\u001b[0m\u001b[1;33m)\u001b[0m\u001b[1;33m\u001b[0m\u001b[1;33m\u001b[0m\u001b[0m\n\u001b[0m\u001b[0;32m     99\u001b[0m \u001b[1;33m\u001b[0m\u001b[0m\n\u001b[0;32m    100\u001b[0m     \u001b[1;32mdef\u001b[0m \u001b[0mextra_repr\u001b[0m\u001b[1;33m(\u001b[0m\u001b[0mself\u001b[0m\u001b[1;33m)\u001b[0m \u001b[1;33m->\u001b[0m \u001b[0mstr\u001b[0m\u001b[1;33m:\u001b[0m\u001b[1;33m\u001b[0m\u001b[1;33m\u001b[0m\u001b[0m\n",
      "\u001b[1;32mf:\\Anaconda\\lib\\site-packages\\torch\\nn\\functional.py\u001b[0m in \u001b[0;36mrelu\u001b[1;34m(input, inplace)\u001b[0m\n\u001b[0;32m   1297\u001b[0m         \u001b[0mresult\u001b[0m \u001b[1;33m=\u001b[0m \u001b[0mtorch\u001b[0m\u001b[1;33m.\u001b[0m\u001b[0mrelu_\u001b[0m\u001b[1;33m(\u001b[0m\u001b[0minput\u001b[0m\u001b[1;33m)\u001b[0m\u001b[1;33m\u001b[0m\u001b[1;33m\u001b[0m\u001b[0m\n\u001b[0;32m   1298\u001b[0m     \u001b[1;32melse\u001b[0m\u001b[1;33m:\u001b[0m\u001b[1;33m\u001b[0m\u001b[1;33m\u001b[0m\u001b[0m\n\u001b[1;32m-> 1299\u001b[1;33m         \u001b[0mresult\u001b[0m \u001b[1;33m=\u001b[0m \u001b[0mtorch\u001b[0m\u001b[1;33m.\u001b[0m\u001b[0mrelu\u001b[0m\u001b[1;33m(\u001b[0m\u001b[0minput\u001b[0m\u001b[1;33m)\u001b[0m\u001b[1;33m\u001b[0m\u001b[1;33m\u001b[0m\u001b[0m\n\u001b[0m\u001b[0;32m   1300\u001b[0m     \u001b[1;32mreturn\u001b[0m \u001b[0mresult\u001b[0m\u001b[1;33m\u001b[0m\u001b[1;33m\u001b[0m\u001b[0m\n\u001b[0;32m   1301\u001b[0m \u001b[1;33m\u001b[0m\u001b[0m\n",
      "\u001b[1;31mKeyboardInterrupt\u001b[0m: "
     ]
    }
   ],
   "source": [
    "train_losses = []\n",
    "train_counter = []\n",
    "test_losses = []\n",
    "test_counter = [i*len(train_loader.dataset) for i in range(n_epochs + 1)]\n",
    "test_acc = []\n",
    "test()\n",
    "for epoch in range(1, n_epochs + 1):\n",
    "  train(epoch)\n",
    "  test()\n",
    "\n",
    "if (use_upgraded_net==0 and save_net==1):\n",
    "  torch.save(network.state_dict(), '../src/results/model.pth')\n",
    "  torch.save(optimizer.state_dict(), '../src/results/optimizer.pth')\n",
    "  print(\"Saved Modell to file\")\n",
    "elif (use_upgraded_net==1 and save_net==1):\n",
    "  \n",
    "  if (use_ensemble == 1):\n",
    "      torch.save(network.state_dict(), '../src/results/model_upgraded_ens.pth')\n",
    "      torch.save(network2.state_dict(), '../src/results/model2_upgraded_ens.pth')\n",
    "      torch.save(network3.state_dict(), '../src/results/model3_upgraded_ens.pth')\n",
    "      torch.save(optimizer_ensemble.state_dict(), '../src/results/optimizer_ensemble.pth')\n",
    "  else:\n",
    "      torch.save(network.state_dict(), '../src/results/model_upgraded.pth')\n",
    "      torch.save(optimizer.state_dict(), '../src/results/optimizer_upgraded.pth')\n",
    "  print(\"Saved Modell to file\")\n",
    "save_net = 0 #Secure that only one model is saved"
   ]
  },
  {
   "cell_type": "markdown",
   "metadata": {},
   "source": [
    "## SGD"
   ]
  },
  {
   "cell_type": "code",
   "execution_count": 238,
   "metadata": {},
   "outputs": [
    {
     "data": {
      "text/plain": [
       "<Figure size 432x288 with 0 Axes>"
      ]
     },
     "execution_count": 238,
     "metadata": {},
     "output_type": "execute_result"
    },
    {
     "data": {
      "text/plain": [
       "<Figure size 432x288 with 0 Axes>"
      ]
     },
     "metadata": {},
     "output_type": "display_data"
    },
    {
     "data": {
      "image/png": "[encoded data removed]",
      "text/plain": [
       "<Figure size 1440x1440 with 1 Axes>"
      ]
     },
     "metadata": {
      "needs_background": "light"
     },
     "output_type": "display_data"
    }
   ],
   "source": [
    "fig = plt.figure()\n",
    "plt.figure(figsize=(20,20))\n",
    "plt.plot(train_counter, train_losses, color='blue')\n",
    "plt.plot(test_counter, test_losses, color='red')\n",
    "plt.legend(['Train Loss', 'Test Loss'], loc='upper right')\n",
    "plt.xlabel('number of training examples seen')\n",
    "plt.ylabel('cross entropy loss')\n",
    "plt.grid()\n",
    "fig"
   ]
  },
  {
   "cell_type": "code",
   "execution_count": 239,
   "metadata": {},
   "outputs": [
    {
     "data": {
      "text/plain": [
       "<Figure size 432x288 with 0 Axes>"
      ]
     },
     "execution_count": 239,
     "metadata": {},
     "output_type": "execute_result"
    },
    {
     "data": {
      "text/plain": [
       "<Figure size 432x288 with 0 Axes>"
      ]
     },
     "metadata": {},
     "output_type": "display_data"
    },
    {
     "data": {
      "image/png": "[encoded data removed]",
      "text/plain": [
       "<Figure size 1440x360 with 1 Axes>"
      ]
     },
     "metadata": {
      "needs_background": "light"
     },
     "output_type": "display_data"
    }
   ],
   "source": [
    "fig = plt.figure()\n",
    "plt.figure(figsize=(20,5))\n",
    "plt.grid()\n",
    "plt.plot(range(0,21), test_acc, color='red')\n",
    "plt.legend(['Test Acc'], loc='upper right')\n",
    "plt.xlabel('number of test examples seen')\n",
    "plt.ylabel('Test Accuracy')\n",
    "fig"
   ]
  },
  {
   "cell_type": "markdown",
   "metadata": {},
   "source": [
    "# Documentation\n",
    "\n",
    "##### ___Params___\n",
    "##### Epochs: 20\n",
    "##### b_size = 32\n",
    "##### Optimizer = SGD\n",
    "##### Momentum = 0.5\n",
    "##### LR = 0.01\n",
    "##### ___RESULTS___\n",
    "##### Train Epoch: 20 [59840/60000 (100%)]\tLoss: 0.141315\n",
    "##### Test set: Avg. loss: 0.0337, Accuracy: 9881/10000 (99%)\n"
   ]
  },
  {
   "cell_type": "markdown",
   "metadata": {},
   "source": [
    "### Perturabation mesasurement"
   ]
  },
  {
   "cell_type": "code",
   "execution_count": 240,
   "metadata": {},
   "outputs": [
    {
     "name": "stdout",
     "output_type": "stream",
     "text": [
      "Min: -0.4242129623889923\n",
      "Max: 2.821486711502075\n"
     ]
    }
   ],
   "source": [
    "x_d,e_d=extract_dataloader_images(0)\n",
    "f_d=torch.clone(x_d)\n",
    "p_d=torch.clone(x_d)\n",
    "print(\"Min: {}\".format(min(np.ravel(x_d))))\n",
    "print(\"Max: {}\".format(max(np.ravel(x_d))))"
   ]
  },
  {
   "cell_type": "code",
   "execution_count": 249,
   "metadata": {},
   "outputs": [
    {
     "data": {
      "text/plain": [
       "<function matplotlib.pyplot.plot(*args, scalex=True, scaley=True, data=None, **kwargs)>"
      ]
     },
     "execution_count": 249,
     "metadata": {},
     "output_type": "execute_result"
    },
    {
     "data": {
      "image/png": "[encoded data removed]",
      "text/plain": [
       "<Figure size 432x288 with 1 Axes>"
      ]
     },
     "metadata": {
      "needs_background": "light"
     },
     "output_type": "display_data"
    }
   ],
   "source": [
    "plt.imshow(scaled_data[0][0], cmap='gray', interpolation='none')\n",
    "plt.title(\"Ground  Truth: {}\".format(e_d[0]))\n",
    "plt.plot"
   ]
  },
  {
   "cell_type": "code",
   "execution_count": 274,
   "metadata": {},
   "outputs": [
    {
     "data": {
      "text/plain": [
       "<function matplotlib.pyplot.plot(*args, scalex=True, scaley=True, data=None, **kwargs)>"
      ]
     },
     "execution_count": 274,
     "metadata": {},
     "output_type": "execute_result"
    },
    {
     "data": {
      "image/png": "[encoded data removed]",
      "text/plain": [
       "<Figure size 432x288 with 1 Axes>"
      ]
     },
     "metadata": {
      "needs_background": "light"
     },
     "output_type": "display_data"
    }
   ],
   "source": [
    "plt.imshow(f_d[0][0], cmap='gray', interpolation='none')\n",
    "plt.title(\"Ground  Truth: {}\".format(e_d[0]))\n",
    "plt.plot\n"
   ]
  },
  {
   "cell_type": "code",
   "execution_count": 55,
   "metadata": {},
   "outputs": [
    {
     "data": {
      "text/plain": [
       "<matplotlib.image.AxesImage at 0x2458072fc70>"
      ]
     },
     "execution_count": 55,
     "metadata": {},
     "output_type": "execute_result"
    },
    {
     "data": {
      "image/png": "[encoded data removed]",
      "text/plain": [
       "<Figure size 432x288 with 1 Axes>"
      ]
     },
     "metadata": {
      "needs_background": "light"
     },
     "output_type": "display_data"
    }
   ],
   "source": [
    "plt.imshow(ndimage.median_filter(f_d[0][0], size=2), cmap='gray', interpolation='none')"
   ]
  },
  {
   "cell_type": "code",
   "execution_count": 167,
   "metadata": {},
   "outputs": [
    {
     "name": "stdout",
     "output_type": "stream",
     "text": [
      "2\n"
     ]
    },
    {
     "data": {
      "text/plain": [
       "<matplotlib.image.AxesImage at 0x16e4fb97580>"
      ]
     },
     "execution_count": 167,
     "metadata": {},
     "output_type": "execute_result"
    },
    {
     "data": {
      "image/png": "[encoded data removed]",
      "text/plain": [
       "<Figure size 432x288 with 1 Axes>"
      ]
     },
     "metadata": {
      "needs_background": "light"
     },
     "output_type": "display_data"
    }
   ],
   "source": [
    "plt.imshow(median_smoothing(f_d[0][0]), cmap='gray', interpolation='none')"
   ]
  },
  {
   "cell_type": "code",
   "execution_count": 258,
   "metadata": {},
   "outputs": [
    {
     "data": {
      "text/plain": [
       "<function matplotlib.pyplot.plot(*args, scalex=True, scaley=True, data=None, **kwargs)>"
      ]
     },
     "execution_count": 258,
     "metadata": {},
     "output_type": "execute_result"
    },
    {
     "data": {
      "image/png": "[encoded data removed]",
      "text/plain": [
       "<Figure size 432x288 with 1 Axes>"
      ]
     },
     "metadata": {
      "needs_background": "light"
     },
     "output_type": "display_data"
    }
   ],
   "source": [
    "plt.imshow(pertubated_image[0][0], cmap='gray', interpolation='none')\n",
    "plt.title(\"Ground  Truth: {}\".format(e_d[5]))\n",
    "plt.plot"
   ]
  },
  {
   "cell_type": "code",
   "execution_count": 78,
   "metadata": {},
   "outputs": [
    {
     "data": {
      "text/plain": [
       "<function matplotlib.pyplot.plot(*args, scalex=True, scaley=True, data=None, **kwargs)>"
      ]
     },
     "execution_count": 78,
     "metadata": {},
     "output_type": "execute_result"
    },
    {
     "data": {
      "image/png": "[encoded data removed]",
      "text/plain": [
       "<Figure size 432x288 with 1 Axes>"
      ]
     },
     "metadata": {
      "needs_background": "light"
     },
     "output_type": "display_data"
    }
   ],
   "source": [
    "plt.imshow(x_d[5][0], cmap='gray', interpolation='none')\n",
    "plt.title(\"Ground  Truth: {}\".format(e_d[5]))\n",
    "plt.plot"
   ]
  },
  {
   "cell_type": "code",
   "execution_count": 241,
   "metadata": {},
   "outputs": [
    {
     "name": "stdout",
     "output_type": "stream",
     "text": [
      "4\n"
     ]
    }
   ],
   "source": [
    "median_smoothed = median_smoothing(f_d)\n",
    "scaled_data = bit_reduction(f_d)\n",
    "pertubated_image = perturbate_image(p_d,mode='random') #Pertubations seems to make in-place operations so use different tensor"
   ]
  },
  {
   "cell_type": "code",
   "execution_count": 242,
   "metadata": {},
   "outputs": [
    {
     "data": {
      "image/png": "[encoded data removed]",
      "text/plain": [
       "<Figure size 1440x432 with 4 Axes>"
      ]
     },
     "metadata": {
      "needs_background": "light"
     },
     "output_type": "display_data"
    }
   ],
   "source": [
    "batch_nr = 0\n",
    "fig = plt.figure()\n",
    "\n",
    "ax1 = fig.add_subplot(141)  # left side\n",
    "ax2 = fig.add_subplot(142)  # right side\n",
    "ax3 = fig.add_subplot(143)\n",
    "ax4 = fig.add_subplot(144)\n",
    "ax1.title.set_text(\"Bit Reduced Image\")\n",
    "ax2.title.set_text(\"Median Smoothed Image\")\n",
    "ax3.title.set_text(\"Original Image\")\n",
    "ax4.title.set_text(\"Pertubated Image\")\n",
    "ax1.imshow(scaled_data[batch_nr][0], cmap='gray', interpolation='none')\n",
    "ax2.imshow(median_smoothed[batch_nr][0], cmap='gray', interpolation='none')\n",
    "ax3.imshow(x_d[batch_nr][0], cmap='gray', interpolation='none')\n",
    "ax4.imshow(pertubated_image[batch_nr][0], cmap='gray', interpolation='none')\n",
    "fig.text(.5, .05, e_d[batch_nr], ha='center')\n",
    "fig.set_figheight(6)\n",
    "fig.set_figwidth(20)\n",
    "#plt.title(\"Ground  Truth: {}\".format(e_d[batch_nr]))\n",
    "plt.show()"
   ]
  },
  {
   "cell_type": "markdown",
   "metadata": {},
   "source": [
    "### Test robustness of model"
   ]
  },
  {
   "cell_type": "code",
   "execution_count": 293,
   "metadata": {},
   "outputs": [
    {
     "name": "stdout",
     "output_type": "stream",
     "text": [
      "Model predicted: tensor([9])\n",
      "Model real: 9\n",
      "Sum pixel: 784\n",
      "Pertubated pixel: 123\n",
      "Percent preturbated: 0.1568877551020408\n"
     ]
    }
   ],
   "source": [
    "fake_tst = test_fake(f_d)\n",
    "p_percent,p_size,p_pertubated=count_perturbated_pixel(x_d[0][0],f_d[0][0])\n",
    "print(\"Model predicted: {}\".format(fake_tst.data.max(1, keepdim=True)[1][0]))\n",
    "print(\"Model real: {}\".format(e_d[0]))\n",
    "print(\"Sum pixel: {}\".format(p_size))\n",
    "print(\"Pertubated pixel: {}\".format(p_pertubated))\n",
    "print(\"Percent preturbated: {}\".format(p_percent))"
   ]
  }
 ],
 "metadata": {
  "interpreter": {
   "hash": "a5d6c2be6262c78dadbf075e7ed7eef3fc1090c1044fdcff36d11e01ba01e819"
  },
  "kernelspec": {
   "display_name": "Python 3.8.8 ('base')",
   "language": "python",
   "name": "python3"
  },
  "language_info": {
   "codemirror_mode": {
    "name": "ipython",
    "version": 3
   },
   "file_extension": ".py",
   "mimetype": "text/x-python",
   "name": "python",
   "nbconvert_exporter": "python",
   "pygments_lexer": "ipython3",
   "version": "3.8.8"
  }
 },
 "nbformat": 4,
 "nbformat_minor": 4
}
