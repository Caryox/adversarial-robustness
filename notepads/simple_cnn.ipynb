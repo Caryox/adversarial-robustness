{
 "cells": [
  {
   "cell_type": "markdown",
   "metadata": {},
   "source": [
    "# Simple CNN for compare default parameters in further applications\n",
    "#### Previous adversial ensemble network will be created in another file"
   ]
  },
  {
   "cell_type": "code",
   "execution_count": 1,
   "metadata": {},
   "outputs": [],
   "source": [
    "import os\n",
    "import random\n",
    "import numpy as np\n",
    "import matplotlib.pyplot as plt\n",
    "import matplotlib\n",
    "os.environ[\"KMP_DUPLICATE_LIB_OK\"]=\"TRUE\" #If using Matplotlib on Windows with different versions, this will surpress error\n",
    "import pandas as pd\n",
    "import torch\n",
    "import torchvision\n",
    "import torchvision.transforms as transforms\n",
    "import torch.nn as nn\n",
    "import torch.nn.functional as F\n",
    "import torch.optim as optim\n",
    "import statistics \n",
    "from scipy import ndimage #Image Smoothing\n",
    "from collections import Counter\n",
    "\n",
    "import sys\n",
    "sys.path.append('../src/functions')\n",
    "from clean_nn_weights import reset_weights    \n",
    "\n",
    "#Git merge main/main master"
   ]
  },
  {
   "cell_type": "markdown",
   "metadata": {},
   "source": [
    "Define dataloader parameter"
   ]
  },
  {
   "cell_type": "code",
   "execution_count": 2,
   "metadata": {},
   "outputs": [
    {
     "data": {
      "text/plain": [
       "<torch._C.Generator at 0x26e60620670>"
      ]
     },
     "execution_count": 2,
     "metadata": {},
     "output_type": "execute_result"
    }
   ],
   "source": [
    "batch_size_train = 32\n",
    "batch_size_test = 32\n",
    "random_seed = 1337\n",
    "torch.backends.cudnn.enabled = True\n",
    "torch.manual_seed(random_seed)  #Static random seed for reproducibility"
   ]
  },
  {
   "cell_type": "markdown",
   "metadata": {},
   "source": [
    "Load MNIST Dataset from torchvision"
   ]
  },
  {
   "cell_type": "code",
   "execution_count": 3,
   "metadata": {},
   "outputs": [],
   "source": [
    "train_loader = torch.utils.data.DataLoader(\n",
    "  torchvision.datasets.MNIST('../data/', train=True, download=True,\n",
    "                             transform=torchvision.transforms.Compose([\n",
    "                               torchvision.transforms.ToTensor(),\n",
    "                               torchvision.transforms.Normalize(\n",
    "                                 (0.1307,), (0.3081,))\n",
    "                             ])),\n",
    "  batch_size=batch_size_train, shuffle=True, drop_last=True,worker_init_fn=random_seed)\n",
    "\n",
    "test_loader = torch.utils.data.DataLoader(\n",
    "  torchvision.datasets.MNIST('../data/', train=False, download=True,\n",
    "                             transform=torchvision.transforms.Compose([\n",
    "                               torchvision.transforms.ToTensor(),\n",
    "                               torchvision.transforms.Normalize(\n",
    "                                 (0.1307,), (0.3081,))\n",
    "                             ])),\n",
    "  batch_size=batch_size_test, shuffle=True,drop_last=True,worker_init_fn=random_seed)"
   ]
  },
  {
   "cell_type": "markdown",
   "metadata": {},
   "source": [
    "#### Quick analysis of class balances"
   ]
  },
  {
   "cell_type": "code",
   "execution_count": 4,
   "metadata": {},
   "outputs": [
    {
     "name": "stdout",
     "output_type": "stream",
     "text": [
      "torch.Size([60000, 28, 28])\n",
      "torch.Size([10000, 28, 28])\n"
     ]
    },
    {
     "name": "stderr",
     "output_type": "stream",
     "text": [
      "f:\\Anaconda\\lib\\site-packages\\torchvision\\datasets\\mnist.py:62: UserWarning: train_data has been renamed data\n",
      "  warnings.warn(\"train_data has been renamed data\")\n",
      "f:\\Anaconda\\lib\\site-packages\\torchvision\\datasets\\mnist.py:67: UserWarning: test_data has been renamed data\n",
      "  warnings.warn(\"test_data has been renamed data\")\n"
     ]
    }
   ],
   "source": [
    "print(train_loader.dataset.train_data.size())\n",
    "print(test_loader.dataset.test_data.size())"
   ]
  },
  {
   "cell_type": "code",
   "execution_count": 41,
   "metadata": {},
   "outputs": [],
   "source": [
    "nr_train = np.array([])\n",
    "for i, (data, target) in enumerate(train_loader):\n",
    "    nr_train=np.append(nr_train, target.cpu().detach().numpy())\n",
    "\n",
    "nr_test = np.array([])\n",
    "for i, (data, target) in enumerate(test_loader):\n",
    "    nr_test=np.append(nr_test, target.cpu().detach().numpy())"
   ]
  },
  {
   "cell_type": "code",
   "execution_count": 14,
   "metadata": {},
   "outputs": [
    {
     "data": {
      "text/plain": [
       "Counter({0.0: 6902,\n",
       "         1.0: 7875,\n",
       "         2.0: 6988,\n",
       "         3.0: 7140,\n",
       "         4.0: 6822,\n",
       "         5.0: 6311,\n",
       "         6.0: 6874,\n",
       "         7.0: 7292,\n",
       "         8.0: 6824,\n",
       "         9.0: 6956})"
      ]
     },
     "execution_count": 14,
     "metadata": {},
     "output_type": "execute_result"
    }
   ],
   "source": [
    "Counter(np.sort(nr_train))"
   ]
  },
  {
   "cell_type": "code",
   "execution_count": 11,
   "metadata": {},
   "outputs": [
    {
     "data": {
      "text/plain": [
       "Counter({0.0: 979,\n",
       "         1.0: 1133,\n",
       "         2.0: 1030,\n",
       "         3.0: 1009,\n",
       "         4.0: 980,\n",
       "         5.0: 890,\n",
       "         6.0: 956,\n",
       "         7.0: 1027,\n",
       "         8.0: 973,\n",
       "         9.0: 1007})"
      ]
     },
     "execution_count": 11,
     "metadata": {},
     "output_type": "execute_result"
    }
   ],
   "source": [
    "Counter(np.sort(nr_test))"
   ]
  },
  {
   "cell_type": "code",
   "execution_count": 4,
   "metadata": {},
   "outputs": [
    {
     "data": {
      "image/png": "[encoded data removed]",
      "text/plain": [
       "<Figure size 432x288 with 6 Axes>"
      ]
     },
     "execution_count": 4,
     "metadata": {},
     "output_type": "execute_result"
    },
    {
     "data": {
      "image/png": "[encoded data removed]",
      "text/plain": [
       "<Figure size 432x288 with 6 Axes>"
      ]
     },
     "metadata": {},
     "output_type": "display_data"
    }
   ],
   "source": [
    "# Quick example of images\n",
    "examples = enumerate(test_loader,start=0)\n",
    "batch_idx, (example_data, example_targets) = next(examples)\n",
    "\n",
    "fig = plt.figure()\n",
    "for i in range(6):\n",
    "  plt.subplot(2,3,i+1)\n",
    "  plt.tight_layout()\n",
    "  plt.imshow(example_data[i][0], cmap='gray', interpolation='none')\n",
    "  plt.title(\"Ground  Truth: {}\".format(example_targets[i]))\n",
    "  plt.xticks([])\n",
    "  plt.yticks([])\n",
    "fig"
   ]
  },
  {
   "cell_type": "code",
   "execution_count": 5,
   "metadata": {},
   "outputs": [],
   "source": [
    "def extract_dataloader_images(epoch):\n",
    "  #for batch_idx, (data, target) in enumerate(train_loader):\n",
    "  examples = enumerate(test_loader,start=0)\n",
    "  _, (example_data, example_targets) = next(examples)\n",
    "  return(example_data, example_targets)\n",
    "\n",
    "def count_perturbated_pixel(img1,img2):\n",
    "  sum_px = 28*28\n",
    "  sum_px_perturbed = 0\n",
    "  for px_img1,px_img2 in zip(img1[0][0],img2[0][0]): #Zip Array of Pixels\n",
    "    for px_im1,px_im2 in zip(px_img1,px_img2): #Zip Pixels\n",
    "        if (px_im1 != px_im2):\n",
    "            sum_px_perturbed+=1\n",
    "  return((sum_px_perturbed/sum_px),sum_px,sum_px_perturbed)\n",
    "\n",
    "def perturbate_image(img_data,mode='random',value=100):\n",
    "  if (mode=='random'):\n",
    "      for i in range(value):\n",
    "          img_data[0][0][random.randrange(1,28),random.randrange(1,28)]=random.uniform(min(np.ravel(img_data)),max(np.ravel(img_data)))\n",
    "  elif (mode=='random_white'):\n",
    "      for i in range(value):\n",
    "          img_data[0][0][random.randrange(1,28),random.randrange(1,28)]=round(max(np.ravel(img_data)))\n",
    "  return(img_data)\n",
    "\n",
    "def median_smoothing(img_data,kernel_size=2):\n",
    "  from scipy import ndimage\n",
    "  img_data_median = torch.clone(img_data)\n",
    "  #print(img_data_median.shape.__len__())\n",
    "  if (img_data_median.shape.__len__() > 2):\n",
    "    for i in range(img_data_median.shape[0]):\n",
    "      img_data_median[i][0] = torch.from_numpy(ndimage.median_filter(img_data_median[i][0], size=kernel_size))\n",
    "  else:\n",
    "    img_data_median = torch.from_numpy(ndimage.median_filter(img_data_median, size=kernel_size))\n",
    "  return(img_data_median)\n",
    "\n",
    "def bit_reduction(img_data,clip_min=0.499999,clip_max=0.5):\n",
    "  img_data_bit = torch.clone(img_data)\n",
    "  #todo add reduced_data clip normalization operations for batch \n",
    "  img_min = min(np.ravel(img_data_bit))\n",
    "  img_max = max(np.ravel(img_data_bit))\n",
    "\n",
    "\n",
    "  reduced_data = (img_data_bit-min(np.ravel(img_data_bit))) / (max(np.ravel(img_data_bit)) - min(np.ravel(img_data_bit)))\n",
    "  reduced_data = reduced_data.clip(min=clip_min,max=clip_max)\n",
    "\n",
    "  if (img_data_bit.shape.__len__() > 2):\n",
    "    for i in range(img_data_bit.shape[0]):\n",
    "      reduced_data[i][0][reduced_data[i][0]<clip_max] = torch.from_numpy(np.array(img_min))\n",
    "      reduced_data[i][0][reduced_data[i][0]==clip_max] = torch.from_numpy(np.array(img_max))\n",
    "  else:\n",
    "    reduced_data[0][reduced_data[0]<clip_max] = torch.from_numpy(np.array(img_min))\n",
    "    reduced_data[0][reduced_data[0]==clip_max] = torch.from_numpy(np.array(img_max))\n",
    "\n",
    "  #reduced_data[reduced_data[0]==1]=img_max\n",
    "  #reduced_data[reduced_data[0]==0]=img_min\n",
    "  return(reduced_data)\n",
    "\n",
    "\n",
    "\n",
    "def test_fake(data,use_network):\n",
    "  use_network.eval()\n",
    "  #network.eval()\n",
    "  with torch.no_grad():\n",
    "      output = use_network(data)\n",
    "      return output"
   ]
  },
  {
   "cell_type": "code",
   "execution_count": 6,
   "metadata": {},
   "outputs": [],
   "source": [
    "class simple_net(nn.Module):\n",
    "    def __init__(self):\n",
    "        super(simple_net, self).__init__()\n",
    "        self.conv1 = nn.Conv2d(1, 10, kernel_size=5)\n",
    "        self.conv2 = nn.Conv2d(10, 20, kernel_size=5)\n",
    "        self.conv2_drop = nn.Dropout2d()\n",
    "        self.fc1 = nn.Linear(320, 50)\n",
    "        self.fc2 = nn.Linear(50, 10)\n",
    "\n",
    "    def forward(self, x):\n",
    "        x = F.relu(F.max_pool2d(self.conv1(x), 2))\n",
    "        x = F.relu(F.max_pool2d(self.conv2_drop(self.conv2(x)), 2))\n",
    "        x = x.view(-1, 320)\n",
    "        x = F.relu(self.fc1(x))\n",
    "        x = F.dropout(x, training=self.training)\n",
    "        x = self.fc2(x)\n",
    "        return x"
   ]
  },
  {
   "cell_type": "code",
   "execution_count": 7,
   "metadata": {},
   "outputs": [],
   "source": [
    "class simple_net_upgraded(nn.Module): # This is the same as the previous one, but with a different (and more easy to understand) architecture. It has a few more neurons in each layer, replaced x.view(-1, 320) with linear layer. Replaced functional dropout with nn.dropout.\n",
    "\tdef __init__(self, numChannels, classes):\n",
    "\t\tsuper(simple_net_upgraded, self).__init__()\n",
    "\n",
    "\t\tself.conv1 = nn.Conv2d(in_channels=numChannels, out_channels=20,\n",
    "\t\t\tkernel_size=(5, 5))\n",
    "\t\tself.relu1 = nn.ReLU()\n",
    "\t\tself.maxpool1 = nn.MaxPool2d(kernel_size=(2, 2), stride=(2, 2))\n",
    "\n",
    "\t\tself.conv2 = nn.Conv2d(in_channels=20, out_channels=50,\n",
    "\t\t\tkernel_size=(5, 5))\n",
    "\t\tself.relu2 = nn.ReLU()\n",
    "\t\tself.maxpool2 = nn.MaxPool2d(kernel_size=(2, 2), stride=(2, 2))\n",
    "\n",
    "\t\tself.conv2_drop = nn.Dropout2d()\n",
    "\n",
    "\t\tself.fc1 = nn.Linear(in_features=800, out_features=500)\n",
    "\t\tself.relu3 = nn.ReLU()\n",
    "\t\tself.dropout_l = nn.Dropout(p=0.5)\n",
    "\t\tself.fc2 = nn.Linear(in_features=500, out_features=classes)\n",
    "\n",
    "\tdef forward(self, x):\n",
    "\n",
    "\t\tx = self.conv1(x)\n",
    "\t\tx = self.relu1(x)\n",
    "\t\tx = self.maxpool1(x)\n",
    "\n",
    "\t\tx = self.conv2(x)\n",
    "\t\tx = self.relu2(x)\n",
    "\t\tx = self.maxpool2(x)\n",
    "\t\tx = self.conv2_drop(x)\n",
    "\t\tx = torch.flatten(x, 1)\n",
    "\t\tx = self.fc1(x)\n",
    "\t\tx = self.relu3(x)\n",
    "\t\tx = self.dropout_l(x)\n",
    "\t\tx = self.fc2(x)\n",
    "\t\treturn x"
   ]
  },
  {
   "cell_type": "code",
   "execution_count": 8,
   "metadata": {},
   "outputs": [],
   "source": [
    "class simple_net_upgraded2(nn.Module): \t\t\t\t\t\t\t\t\t\t\t# This is the same as the previous one, but with a different (and more easy to understand) architecture. It has a few more neurons in each layer, replaced x.view(-1, 320) with linear layer. Replaced functional dropout with nn.dropout.\n",
    "\tdef __init__(self, numChannels, classes):\n",
    "\t\tsuper(simple_net_upgraded2, self).__init__()\n",
    "\n",
    "\t\tself.conv1 = nn.Conv2d(in_channels=numChannels, out_channels=30,\n",
    "\t\t\tkernel_size=(5, 5))\n",
    "\t\tself.relu1 = nn.ReLU()\n",
    "\t\tself.maxpool1 = nn.MaxPool2d(kernel_size=(2), stride=(2, 2))\n",
    "\n",
    "\t\tself.conv2 = nn.Conv2d(in_channels=30, out_channels=75,\n",
    "\t\t\tkernel_size=(5, 5))\n",
    "\t\tself.relu2 = nn.ReLU()\n",
    "\t\tself.maxpool2 = nn.MaxPool2d(kernel_size=(2), stride=(2, 2))\n",
    "\n",
    "\t\tself.conv2_drop = nn.Dropout2d()\n",
    "\n",
    "\t\tself.fc1 = nn.Linear(in_features=1200, out_features=900)\n",
    "\t\tself.relu3 = nn.ReLU()\n",
    "\t\tself.dropout_l = nn.Dropout(p=0.3)\n",
    "\t\tself.fc2 = nn.Linear(in_features=900, out_features=classes)\n",
    "\n",
    "\tdef forward(self, x):\n",
    "\n",
    "\t\tx = self.conv1(x)\n",
    "\t\tx = self.relu1(x)\n",
    "\t\tx = self.maxpool1(x)\n",
    "\n",
    "\t\tx = self.conv2(x)\n",
    "\t\tx = self.relu2(x)\n",
    "\t\tx = self.maxpool2(x)\n",
    "\t\tx = self.conv2_drop(x)\n",
    "\t\tx = torch.flatten(x, 1)\n",
    "\t\tx = self.fc1(x)\n",
    "\t\tx = self.relu3(x)\n",
    "\t\tx = self.dropout_l(x)\n",
    "\t\tx = self.fc2(x)\n",
    "\t\treturn x"
   ]
  },
  {
   "cell_type": "code",
   "execution_count": 9,
   "metadata": {},
   "outputs": [],
   "source": [
    "class simple_net_upgraded3(nn.Module): # This is the same as the previous one, but with a different (and more easy to understand) architecture. It has a few more neurons in each layer, replaced x.view(-1, 320) with linear layer. Replaced functional dropout with nn.dropout.\n",
    "\tdef __init__(self, numChannels, classes):\n",
    "\t\tsuper(simple_net_upgraded3, self).__init__()\n",
    "\n",
    "\t\tself.conv1 = nn.Conv2d(in_channels=numChannels, out_channels=50,\n",
    "\t\t\tkernel_size=(5, 5))\n",
    "\t\tself.relu1 = nn.ReLU()\n",
    "\t\tself.maxpool1 = nn.MaxPool2d(kernel_size=(2), stride=(2))\n",
    "\n",
    "\t\tself.conv2 = nn.Conv2d(in_channels=50, out_channels=125,\n",
    "\t\t\tkernel_size=(5, 5))\n",
    "\t\tself.relu2 = nn.ReLU()\n",
    "\t\tself.maxpool2 = nn.MaxPool2d(kernel_size=(2), stride=(2))\n",
    "\n",
    "\t\tself.conv2_drop = nn.Dropout2d()\n",
    "\n",
    "\t\tself.fc1 = nn.Linear(in_features=2000, out_features=1000)\n",
    "\t\tself.relu3 = nn.ReLU()\n",
    "\t\tself.dropout_l = nn.Dropout(p=0.2)\n",
    "\t\tself.fc2 = nn.Linear(in_features=1000, out_features=classes)\n",
    "\n",
    "\tdef forward(self, x):\n",
    "\n",
    "\t\tx = self.conv1(x)\n",
    "\t\tx = self.relu1(x)\n",
    "\t\tx = self.maxpool1(x)\n",
    "\n",
    "\t\tx = self.conv2(x)\n",
    "\t\tx = self.relu2(x)\n",
    "\t\tx = self.maxpool2(x)\n",
    "\t\tx = self.conv2_drop(x)\n",
    "\t\tx = torch.flatten(x, 1)\n",
    "\t\tx = self.fc1(x)\n",
    "\t\tx = self.relu3(x)\n",
    "\t\tx = self.dropout_l(x)\n",
    "\t\tx = self.fc2(x)\n",
    "\t\treturn x"
   ]
  },
  {
   "cell_type": "code",
   "execution_count": 10,
   "metadata": {},
   "outputs": [
    {
     "name": "stdout",
     "output_type": "stream",
     "text": [
      "Reset trainable parameters of layer = Conv2d(1, 20, kernel_size=(5, 5), stride=(1, 1))\n",
      "Reset trainable parameters of layer = Conv2d(20, 50, kernel_size=(5, 5), stride=(1, 1))\n",
      "Reset trainable parameters of layer = Linear(in_features=800, out_features=500, bias=True)\n",
      "Reset trainable parameters of layer = Linear(in_features=500, out_features=10, bias=True)\n",
      "Using Upgraded Net\n",
      "Reset trainable parameters of layer = Conv2d(1, 30, kernel_size=(5, 5), stride=(1, 1))\n",
      "Reset trainable parameters of layer = Conv2d(30, 75, kernel_size=(5, 5), stride=(1, 1))\n",
      "Reset trainable parameters of layer = Linear(in_features=1200, out_features=900, bias=True)\n",
      "Reset trainable parameters of layer = Linear(in_features=900, out_features=10, bias=True)\n",
      "Reset trainable parameters of layer = Conv2d(1, 50, kernel_size=(5, 5), stride=(1, 1))\n",
      "Reset trainable parameters of layer = Conv2d(50, 125, kernel_size=(5, 5), stride=(1, 1))\n",
      "Reset trainable parameters of layer = Linear(in_features=2000, out_features=1000, bias=True)\n",
      "Reset trainable parameters of layer = Linear(in_features=1000, out_features=10, bias=True)\n",
      "Using Ensemble\n",
      "Loaded Optimizer for Ensemble\n",
      "Loaded upgraded ensemble model from file\n",
      "Loaded ensemble optimizer from upgraded model\n"
     ]
    }
   ],
   "source": [
    "log_interval = 187 #60000/batch_size_train = 1875 => 10 Datapoints per Epoch => 187 Logs per Epoch\n",
    "n_epochs = 20\n",
    "learning_rate = 0.007\n",
    "momentum = 0.5\n",
    "load_data = 1\n",
    "use_upgraded_net = 1\n",
    "use_ensemble = 1\n",
    "##########\n",
    "save_net = 0\n",
    "##########\n",
    "\n",
    "if (use_upgraded_net == 1):\n",
    "    network = simple_net_upgraded(1,10)\n",
    "    network.apply(reset_weights)\n",
    "    print (\"Using Upgraded Net\")\n",
    "    if (use_ensemble == 1):\n",
    "        network2 = simple_net_upgraded2(1,10)\n",
    "        network3 = simple_net_upgraded3(1,10)\n",
    "        \n",
    "        network2.apply(reset_weights)\n",
    "        network3.apply(reset_weights)\n",
    "\n",
    "        print(\"Using Ensemble\")\n",
    "    \n",
    "else:\n",
    "    network = simple_net()\n",
    "    network.apply(reset_weights)\n",
    "    print (\"Using Basic Net\")\n",
    "\n",
    "\n",
    "#device = \"cuda:0\"\n",
    "#network.to(device)\n",
    "if (use_ensemble == 0):\n",
    "    optimizer = optim.SGD(network.parameters(), lr=learning_rate, momentum=momentum)\n",
    "if (use_ensemble == 1):\n",
    "    optimizer_ensemble = optim.SGD(list(network.parameters())+list(network2.parameters())+list(network3.parameters()), lr=learning_rate, momentum=momentum)\n",
    "    print(\"Loaded Optimizer for Ensemble\")\n",
    "if (load_data and use_upgraded_net == 0):\n",
    "    network.load_state_dict(torch.load('../src/results/model.pth'))\n",
    "    print('Loaded model from file')\n",
    "    optimizer.load_state_dict(torch.load('../src/results/optimizer.pth'))\n",
    "    print('Loaded optimizer from basic model')\n",
    "if (load_data and use_upgraded_net == 1):\n",
    "    if (use_ensemble==1):\n",
    "        network.load_state_dict(torch.load('../src/results/model_upgraded_ens.pth'))\n",
    "        network2.load_state_dict(torch.load('../src/results/model2_upgraded_ens.pth'))\n",
    "        network3.load_state_dict(torch.load('../src/results/model3_upgraded_ens.pth'))\n",
    "        print('Loaded upgraded ensemble model from file')\n",
    "        optimizer_ensemble.load_state_dict(torch.load('../src/results/optimizer_ensemble.pth'))\n",
    "        print('Loaded ensemble optimizer from upgraded model')\n",
    "    else:\n",
    "        network.load_state_dict(torch.load('../src/results/model_upgraded.pth'))\n",
    "        print('Loaded upgraded model from file')\n",
    "        optimizer.load_state_dict(torch.load('../src/results/optimizer_upgraded.pth'))\n",
    "        print('Loaded optimizer from upgraded model')\n",
    "if (save_net==1):\n",
    "    print('WARNING: Saving model to file!! Will overwrite existing file!!!')"
   ]
  },
  {
   "cell_type": "code",
   "execution_count": null,
   "metadata": {},
   "outputs": [],
   "source": [
    "# Example for Ensemble Initialization\n",
    "\n",
    "# Initialize Models\n",
    "network = simple_net_upgraded(1,10)\n",
    "network2 = simple_net_upgraded2(1,10)\n",
    "network3 = simple_net_upgraded3(1,10)\n",
    "\n",
    "# Reset Weights\n",
    "network.apply(reset_weights)\n",
    "network2.apply(reset_weights)\n",
    "network3.apply(reset_weights)\n",
    "\n",
    "network.load_state_dict(torch.load('../src/results/model_upgraded_ens.pth'))\n",
    "network2.load_state_dict(torch.load('../src/results/model2_upgraded_ens.pth'))\n",
    "network3.load_state_dict(torch.load('../src/results/model3_upgraded_ens.pth'))\n",
    "print('Loaded upgraded ensemble model from file')\n",
    "optimizer_ensemble.load_state_dict(torch.load('../src/results/optimizer_ensemble.pth'))\n",
    "print('Loaded ensemble optimizer from upgraded model')\n",
    "\n",
    "optimizer_ensemble = optim.SGD(list(network.parameters())+list(network2.parameters())+list(network3.parameters()), lr=learning_rate, momentum=momentum)\n",
    "\n",
    "# Inside the training loop\n",
    "network.train()\n",
    "network2.train()\n",
    "network3.train()\n",
    "optimizer_ensemble.zero_grad()\n",
    "output1 = network(data)\n",
    "output2 = network2(data)\n",
    "output3 = network3(data)\n",
    "output = (output1 + output2 + output3)/3\n",
    "loss1 = F.cross_entropy(output1, target)\n",
    "loss2 = F.cross_entropy(output2, target)\n",
    "loss3 = F.cross_entropy(output3, target)\n",
    "loss = (loss1 + loss2 + loss3)\n",
    "loss.backward()\n",
    "optimizer_ensemble.step()"
   ]
  },
  {
   "cell_type": "code",
   "execution_count": 11,
   "metadata": {},
   "outputs": [],
   "source": [
    "def train(epoch,use_ensemble=0):\n",
    "  network.train()\n",
    "  if (use_ensemble==1):\n",
    "    network2.train()\n",
    "    network3.train()\n",
    "  for batch_idx, (data, target) in enumerate(train_loader):\n",
    "    if (use_ensemble == 1):\n",
    "      optimizer_ensemble.zero_grad()\n",
    "      output1 = network(data)\n",
    "      output2 = network2(data)\n",
    "      output3 = network3(data)\n",
    "      output = (output1 + output2 + output3)/3 # Average of three networks...not used here but it is usefull in test. You could also use the aggregated output as for the loss but that can result in false weight balancings when a specific model has made a false prediction. Need more literature checking!\n",
    "      #loss = F.cross_entropy(output, target)\n",
    "      #loss.backward()\n",
    "      loss1 = F.cross_entropy(output1, target)\n",
    "      loss2 = F.cross_entropy(output2, target)\n",
    "      loss3 = F.cross_entropy(output3, target)\n",
    "      loss = (loss1 + loss2 + loss3)\n",
    "      loss.backward()\n",
    "      optimizer_ensemble.step()\n",
    "    else:\n",
    "      optimizer.zero_grad()\n",
    "      output = network(data)\n",
    "      loss = F.cross_entropy(output, target)\n",
    "      loss.backward()\n",
    "      optimizer.step()\n",
    "    \n",
    "    \n",
    "    \n",
    "    if (batch_idx % log_interval == 0) and (batch_idx != 0):\n",
    "      print('Train Epoch: {} [{}/{} ({:.0f}%)]\\tLoss: {:.6f}'.format(\n",
    "        epoch, batch_idx * len(data), len(train_loader.dataset),\n",
    "        100. * batch_idx / len(train_loader), loss.item()))\n",
    "      if (use_ensemble==1):  \n",
    "        print('Loss 1: {:.6f}'.format(loss1.item()))\n",
    "        print('Loss 2: {:.6f}'.format(loss2.item()))\n",
    "        print('Loss 3: {:.6f}'.format(loss3.item()))\n",
    "      train_losses.append(loss.item())\n",
    "      train_counter.append(\n",
    "        (batch_idx*batch_size_train) + ((epoch-1)*len(train_loader.dataset)))\n",
    "#https://discuss.pytorch.org/t/optimizing-based-on-another-models-output/6935/14\n",
    "#https://discuss.pytorch.org/t/using-a-combined-loss-to-update-two-different-models/73925\n",
    "      "
   ]
  },
  {
   "cell_type": "code",
   "execution_count": 12,
   "metadata": {},
   "outputs": [],
   "source": [
    "def test(use_ensemble=0):\n",
    "  network.eval()\n",
    "  if use_ensemble==1:\n",
    "    network2.eval()\n",
    "    network3.eval()\n",
    "  test_loss = 0\n",
    "  correct = 0\n",
    "  with torch.no_grad():\n",
    "    for data, target in test_loader:\n",
    "      output = network(data)\n",
    "      if use_ensemble==1:\n",
    "        output2 = network2(data)\n",
    "        output3 = network3(data)\n",
    "        output = (output + output2 + output3)/3# Average of three networks. Alternative is to use majority voting using output.data.max(1)[1] for each output and write it to an array to get argmax\n",
    "\n",
    "      test_loss += F.cross_entropy(output, target).item()\n",
    "      pred = output.data.max(1, keepdim=True)[1]\n",
    "      correct += pred.eq(target.data.view_as(pred)).sum()\n",
    "  test_loss /= len(test_loader.dataset)\n",
    "  test_losses.append(test_loss)\n",
    "  acc = 100. * correct / len(test_loader.dataset)\n",
    "  test_acc.append(acc)\n",
    "  print('\\nTest set: Avg. loss: {:.4f}, Accuracy: {}/{} ({:.0f}%)\\n'.format(\n",
    "    test_loss, correct, len(test_loader.dataset),\n",
    "    100. * correct / len(test_loader.dataset)))"
   ]
  },
  {
   "cell_type": "code",
   "execution_count": 142,
   "metadata": {},
   "outputs": [],
   "source": [
    "def test_conv_image_rect(use_ensemble=1):\n",
    "    train_losses = []\n",
    "    train_counter = []\n",
    "    test_losses = []\n",
    "    test_counter = [i*len(train_loader.dataset) for i in range(n_epochs + 1)]\n",
    "    test_acc = []\n",
    "    debug_output = 0\n",
    "    network.eval()\n",
    "    network2.eval()\n",
    "    network3.eval()\n",
    "    test_loss = 0\n",
    "    correct = 0\n",
    "    correct_ms = 0\n",
    "    correct_br = 0\n",
    "    correct_ensemble = 0\n",
    "    pertubated = 0\n",
    "    not_pertubated = 0\n",
    "    with torch.no_grad():\n",
    "        for data, target in test_loader:\n",
    "\n",
    "            # Output original ensemble\n",
    "            output = network(data)\n",
    "            output2 = network2(data)\n",
    "            output3 = network3(data)\n",
    "\n",
    "            # Output median smoothed ensemble\n",
    "            median_smoothed_batch=torch.clone(data)\n",
    "            median_smoothed_batch = median_smoothing(median_smoothed_batch)\n",
    "            output_ms = network(median_smoothed_batch)\n",
    "            output2_ms = network2(median_smoothed_batch)\n",
    "            output3_ms = network3(median_smoothed_batch)\n",
    "            # Output bit reduced ensemble\n",
    "            bit_reduced_batch=torch.clone(data)\n",
    "            bit_reduced_batch = bit_reduction(bit_reduced_batch)\n",
    "            output_br = network(bit_reduced_batch)\n",
    "            output2_br = network2(bit_reduced_batch)\n",
    "            output3_br = network3(bit_reduced_batch)\n",
    "\n",
    "            # Average of three networks. Alternative is to use majority voting using output.data.max(1)[1] for each output and write it to an array to get argmax\n",
    "            output = (output + output2 + output3)/3\n",
    "            output_ms = (output_ms + output2_ms + output3_ms)/3\n",
    "            output_br = (output_br + output2_br + output3_br)/3\n",
    "\n",
    "            # Losses for each ensemble\n",
    "            test_loss += F.cross_entropy(output, target).item()\n",
    "            # To\n",
    "            # Do\n",
    "\n",
    "            # Test accuracy\n",
    "\n",
    "            pred = output.data.max(1, keepdim=True)[1]\n",
    "            pred_ms = output_ms.data.max(1, keepdim=True)[1]\n",
    "            pred_br = output_br.data.max(1, keepdim=True)[1]\n",
    "\n",
    "            tst= F.softmax(output, dim=1)\n",
    "            tst_med = F.softmax(output_ms, dim=1)\n",
    "            tst_scaled = F.softmax(output_br, dim=1)\n",
    "\n",
    "\n",
    "\n",
    "            # Jury Vote for ensemble predictions\n",
    "            jury_vote = []\n",
    "            for x in range(len(pred)):\n",
    "                votes = []\n",
    "                first_vote = output.data.max(1, keepdim=True)[1][x].item()\n",
    "                second_vote = output_ms.data.max(1, keepdim=True)[1][x].item()\n",
    "                third_vote = output_br.data.max(1, keepdim=True)[1][x].item()\n",
    "                votes.append(first_vote)\n",
    "                votes.append(second_vote)\n",
    "                votes.append(third_vote)\n",
    "                jury_vote.append(np.bincount(votes).argmax())\n",
    "                difference_ms=(tst[x])-(tst_med[x])\n",
    "                difference_br=(tst[x])-(tst_scaled[x])\n",
    "\n",
    "\n",
    "                distance_list=[max(difference_br).item(),max(difference_ms).item()]\n",
    "                #difference_total = statistics.fmean(distance_list)\n",
    "                difference_total = max(distance_list)\n",
    "                #print(\"Max Tensor Distance:\", difference_total)\n",
    "\n",
    "                if (difference_total > 0.015):\n",
    "                    pertubated+=1\n",
    "                    #print(\"Image is pertubated\")\n",
    "                else:\n",
    "                    not_pertubated+=1\n",
    "                    #print(\"Image is not pertubated\")\n",
    "                \n",
    "                if(target[x].item()==jury_vote[x]):\n",
    "                    correct_ensemble += 1\n",
    "                else:\n",
    "                    print(\"Original target:\",target[x].item(),\"| Jury voted class:\",jury_vote[x],\"| Vanilla Ensemble Vote:\" ,first_vote,\"Median-Smoothed Ensemble Vote:\",second_vote,\"Bit-Reduced Ensemble Vote:\",third_vote)\n",
    "                    if (debug_output):\n",
    "                        fig = plt.figure()\n",
    "                        ax1 = fig.add_subplot(131)  # left side\n",
    "                        ax2 = fig.add_subplot(132)  # right side\n",
    "                        ax3 = fig.add_subplot(133)  # right side\n",
    "                    \n",
    "                        ax1.title.set_text(\"Original Image\")\n",
    "                        ax2.title.set_text(\"Median Smoothed Image\")\n",
    "                        ax3.title.set_text(\"Bit Reduced Image\")\n",
    "\n",
    "                        ax1.imshow(data[x][0], cmap='gray', interpolation='none')\n",
    "                        ax2.imshow(median_smoothed_batch[x][0], cmap='gray', interpolation='none')\n",
    "                        ax3.imshow(bit_reduced_batch[x][0], cmap='gray', interpolation='none')\n",
    "                        fig.text(.5, .05, \"Original Target: {}\".format(target[x].item()), ha='center')\n",
    "                        fig.set_figheight(5)\n",
    "                        fig.set_figwidth(10)\n",
    "                        plt.show()\n",
    "\n",
    "\n",
    "            correct += pred.eq(target.data.view_as(pred)).sum()\n",
    "            correct_ms += pred_ms.eq(target.data.view_as(pred_ms)).sum()\n",
    "            correct_br += pred_br.eq(target.data.view_as(pred_br)).sum()\n",
    "            \n",
    "    test_loss /= len(test_loader.dataset)\n",
    "    test_losses.append(test_loss)\n",
    "    acc = 100. * correct / len(test_loader.dataset)\n",
    "    test_acc.append(acc)\n",
    "    print('\\nTest set: Avg. loss: {:.4f}, Accuracy: {}/{} ({:.0f}%), Accuracy_Median: {}, Accuracy_BitSmooth: {}, Accuracy_Ensemble: {}, perturbated_count: {}, not_perturbated_count: {}\\n'.format(\n",
    "    test_loss, correct, len(test_loader.dataset),\n",
    "    100. * correct / len(test_loader.dataset), correct_ms, correct_br, correct_ensemble, pertubated, not_pertubated))\n",
    "    "
   ]
  },
  {
   "cell_type": "code",
   "execution_count": 143,
   "metadata": {},
   "outputs": [
    {
     "name": "stdout",
     "output_type": "stream",
     "text": [
      "Original target: 4 | Jury voted class: 9 | Vanilla Ensemble Vote: 9 Median-Smoothed Ensemble Vote: 9 Bit-Reduced Ensemble Vote: 9\n",
      "Original target: 5 | Jury voted class: 6 | Vanilla Ensemble Vote: 6 Median-Smoothed Ensemble Vote: 6 Bit-Reduced Ensemble Vote: 6\n",
      "Original target: 6 | Jury voted class: 0 | Vanilla Ensemble Vote: 0 Median-Smoothed Ensemble Vote: 0 Bit-Reduced Ensemble Vote: 6\n",
      "Original target: 5 | Jury voted class: 3 | Vanilla Ensemble Vote: 3 Median-Smoothed Ensemble Vote: 3 Bit-Reduced Ensemble Vote: 3\n",
      "Original target: 5 | Jury voted class: 3 | Vanilla Ensemble Vote: 3 Median-Smoothed Ensemble Vote: 5 Bit-Reduced Ensemble Vote: 3\n",
      "Original target: 8 | Jury voted class: 2 | Vanilla Ensemble Vote: 2 Median-Smoothed Ensemble Vote: 2 Bit-Reduced Ensemble Vote: 2\n",
      "Original target: 0 | Jury voted class: 8 | Vanilla Ensemble Vote: 8 Median-Smoothed Ensemble Vote: 8 Bit-Reduced Ensemble Vote: 8\n",
      "Original target: 4 | Jury voted class: 9 | Vanilla Ensemble Vote: 9 Median-Smoothed Ensemble Vote: 9 Bit-Reduced Ensemble Vote: 9\n",
      "Original target: 7 | Jury voted class: 1 | Vanilla Ensemble Vote: 1 Median-Smoothed Ensemble Vote: 7 Bit-Reduced Ensemble Vote: 1\n",
      "Original target: 9 | Jury voted class: 5 | Vanilla Ensemble Vote: 5 Median-Smoothed Ensemble Vote: 5 Bit-Reduced Ensemble Vote: 5\n",
      "Original target: 0 | Jury voted class: 7 | Vanilla Ensemble Vote: 7 Median-Smoothed Ensemble Vote: 7 Bit-Reduced Ensemble Vote: 7\n",
      "Original target: 7 | Jury voted class: 1 | Vanilla Ensemble Vote: 1 Median-Smoothed Ensemble Vote: 1 Bit-Reduced Ensemble Vote: 1\n",
      "Original target: 3 | Jury voted class: 5 | Vanilla Ensemble Vote: 5 Median-Smoothed Ensemble Vote: 3 Bit-Reduced Ensemble Vote: 5\n",
      "Original target: 6 | Jury voted class: 4 | Vanilla Ensemble Vote: 4 Median-Smoothed Ensemble Vote: 4 Bit-Reduced Ensemble Vote: 4\n",
      "Original target: 2 | Jury voted class: 1 | Vanilla Ensemble Vote: 1 Median-Smoothed Ensemble Vote: 7 Bit-Reduced Ensemble Vote: 2\n",
      "Original target: 7 | Jury voted class: 9 | Vanilla Ensemble Vote: 9 Median-Smoothed Ensemble Vote: 9 Bit-Reduced Ensemble Vote: 9\n",
      "Original target: 7 | Jury voted class: 9 | Vanilla Ensemble Vote: 9 Median-Smoothed Ensemble Vote: 9 Bit-Reduced Ensemble Vote: 7\n",
      "Original target: 3 | Jury voted class: 5 | Vanilla Ensemble Vote: 5 Median-Smoothed Ensemble Vote: 3 Bit-Reduced Ensemble Vote: 5\n",
      "Original target: 5 | Jury voted class: 9 | Vanilla Ensemble Vote: 9 Median-Smoothed Ensemble Vote: 9 Bit-Reduced Ensemble Vote: 5\n",
      "Original target: 9 | Jury voted class: 7 | Vanilla Ensemble Vote: 7 Median-Smoothed Ensemble Vote: 7 Bit-Reduced Ensemble Vote: 9\n",
      "Original target: 6 | Jury voted class: 5 | Vanilla Ensemble Vote: 5 Median-Smoothed Ensemble Vote: 5 Bit-Reduced Ensemble Vote: 5\n",
      "Original target: 9 | Jury voted class: 7 | Vanilla Ensemble Vote: 9 Median-Smoothed Ensemble Vote: 7 Bit-Reduced Ensemble Vote: 7\n",
      "Original target: 9 | Jury voted class: 7 | Vanilla Ensemble Vote: 9 Median-Smoothed Ensemble Vote: 7 Bit-Reduced Ensemble Vote: 7\n",
      "Original target: 2 | Jury voted class: 7 | Vanilla Ensemble Vote: 7 Median-Smoothed Ensemble Vote: 7 Bit-Reduced Ensemble Vote: 7\n",
      "Original target: 9 | Jury voted class: 4 | Vanilla Ensemble Vote: 4 Median-Smoothed Ensemble Vote: 4 Bit-Reduced Ensemble Vote: 4\n",
      "Original target: 9 | Jury voted class: 5 | Vanilla Ensemble Vote: 5 Median-Smoothed Ensemble Vote: 9 Bit-Reduced Ensemble Vote: 5\n",
      "Original target: 9 | Jury voted class: 5 | Vanilla Ensemble Vote: 5 Median-Smoothed Ensemble Vote: 9 Bit-Reduced Ensemble Vote: 5\n",
      "Original target: 5 | Jury voted class: 3 | Vanilla Ensemble Vote: 3 Median-Smoothed Ensemble Vote: 3 Bit-Reduced Ensemble Vote: 3\n",
      "Original target: 6 | Jury voted class: 5 | Vanilla Ensemble Vote: 6 Median-Smoothed Ensemble Vote: 5 Bit-Reduced Ensemble Vote: 5\n",
      "Original target: 6 | Jury voted class: 1 | Vanilla Ensemble Vote: 1 Median-Smoothed Ensemble Vote: 1 Bit-Reduced Ensemble Vote: 6\n",
      "Original target: 6 | Jury voted class: 5 | Vanilla Ensemble Vote: 5 Median-Smoothed Ensemble Vote: 5 Bit-Reduced Ensemble Vote: 5\n",
      "Original target: 9 | Jury voted class: 4 | Vanilla Ensemble Vote: 4 Median-Smoothed Ensemble Vote: 4 Bit-Reduced Ensemble Vote: 9\n",
      "Original target: 9 | Jury voted class: 5 | Vanilla Ensemble Vote: 9 Median-Smoothed Ensemble Vote: 5 Bit-Reduced Ensemble Vote: 5\n",
      "Original target: 5 | Jury voted class: 3 | Vanilla Ensemble Vote: 3 Median-Smoothed Ensemble Vote: 3 Bit-Reduced Ensemble Vote: 3\n",
      "Original target: 8 | Jury voted class: 9 | Vanilla Ensemble Vote: 9 Median-Smoothed Ensemble Vote: 9 Bit-Reduced Ensemble Vote: 9\n",
      "Original target: 6 | Jury voted class: 0 | Vanilla Ensemble Vote: 0 Median-Smoothed Ensemble Vote: 6 Bit-Reduced Ensemble Vote: 0\n",
      "Original target: 6 | Jury voted class: 4 | Vanilla Ensemble Vote: 4 Median-Smoothed Ensemble Vote: 4 Bit-Reduced Ensemble Vote: 4\n",
      "Original target: 6 | Jury voted class: 8 | Vanilla Ensemble Vote: 6 Median-Smoothed Ensemble Vote: 8 Bit-Reduced Ensemble Vote: 8\n",
      "Original target: 8 | Jury voted class: 5 | Vanilla Ensemble Vote: 5 Median-Smoothed Ensemble Vote: 6 Bit-Reduced Ensemble Vote: 5\n",
      "Original target: 9 | Jury voted class: 7 | Vanilla Ensemble Vote: 7 Median-Smoothed Ensemble Vote: 7 Bit-Reduced Ensemble Vote: 7\n",
      "Original target: 6 | Jury voted class: 8 | Vanilla Ensemble Vote: 8 Median-Smoothed Ensemble Vote: 8 Bit-Reduced Ensemble Vote: 8\n",
      "Original target: 6 | Jury voted class: 0 | Vanilla Ensemble Vote: 0 Median-Smoothed Ensemble Vote: 0 Bit-Reduced Ensemble Vote: 0\n",
      "Original target: 2 | Jury voted class: 8 | Vanilla Ensemble Vote: 2 Median-Smoothed Ensemble Vote: 8 Bit-Reduced Ensemble Vote: 8\n",
      "Original target: 1 | Jury voted class: 7 | Vanilla Ensemble Vote: 7 Median-Smoothed Ensemble Vote: 7 Bit-Reduced Ensemble Vote: 3\n",
      "Original target: 2 | Jury voted class: 7 | Vanilla Ensemble Vote: 7 Median-Smoothed Ensemble Vote: 7 Bit-Reduced Ensemble Vote: 7\n",
      "Original target: 7 | Jury voted class: 8 | Vanilla Ensemble Vote: 8 Median-Smoothed Ensemble Vote: 8 Bit-Reduced Ensemble Vote: 8\n",
      "Original target: 9 | Jury voted class: 4 | Vanilla Ensemble Vote: 4 Median-Smoothed Ensemble Vote: 4 Bit-Reduced Ensemble Vote: 4\n",
      "Original target: 1 | Jury voted class: 5 | Vanilla Ensemble Vote: 5 Median-Smoothed Ensemble Vote: 1 Bit-Reduced Ensemble Vote: 5\n",
      "Original target: 6 | Jury voted class: 1 | Vanilla Ensemble Vote: 1 Median-Smoothed Ensemble Vote: 1 Bit-Reduced Ensemble Vote: 1\n",
      "Original target: 4 | Jury voted class: 9 | Vanilla Ensemble Vote: 9 Median-Smoothed Ensemble Vote: 9 Bit-Reduced Ensemble Vote: 4\n",
      "Original target: 8 | Jury voted class: 0 | Vanilla Ensemble Vote: 0 Median-Smoothed Ensemble Vote: 8 Bit-Reduced Ensemble Vote: 0\n",
      "Original target: 8 | Jury voted class: 2 | Vanilla Ensemble Vote: 2 Median-Smoothed Ensemble Vote: 2 Bit-Reduced Ensemble Vote: 2\n",
      "Original target: 3 | Jury voted class: 2 | Vanilla Ensemble Vote: 2 Median-Smoothed Ensemble Vote: 2 Bit-Reduced Ensemble Vote: 2\n",
      "Original target: 3 | Jury voted class: 8 | Vanilla Ensemble Vote: 8 Median-Smoothed Ensemble Vote: 8 Bit-Reduced Ensemble Vote: 3\n",
      "Original target: 9 | Jury voted class: 4 | Vanilla Ensemble Vote: 4 Median-Smoothed Ensemble Vote: 4 Bit-Reduced Ensemble Vote: 4\n",
      "Original target: 7 | Jury voted class: 2 | Vanilla Ensemble Vote: 2 Median-Smoothed Ensemble Vote: 2 Bit-Reduced Ensemble Vote: 2\n",
      "Original target: 1 | Jury voted class: 6 | Vanilla Ensemble Vote: 6 Median-Smoothed Ensemble Vote: 1 Bit-Reduced Ensemble Vote: 6\n",
      "\n",
      "Test set: Avg. loss: 0.0005, Accuracy: 9929/10000 (99%), Accuracy_Median: 9901, Accuracy_BitSmooth: 9921, Accuracy_Ensemble: 9927, perturbated_count: 515, not_perturbated_count: 9469\n",
      "\n"
     ]
    }
   ],
   "source": [
    "test_conv_image_rect()"
   ]
  },
  {
   "cell_type": "code",
   "execution_count": 57,
   "metadata": {},
   "outputs": [
    {
     "ename": "NameError",
     "evalue": "name 'bit_reduced_batch' is not defined",
     "output_type": "error",
     "traceback": [
      "\u001b[1;31m---------------------------------------------------------------------------\u001b[0m",
      "\u001b[1;31mNameError\u001b[0m                                 Traceback (most recent call last)",
      "\u001b[1;32m<ipython-input-57-31bf07261769>\u001b[0m in \u001b[0;36m<module>\u001b[1;34m\u001b[0m\n\u001b[1;32m----> 1\u001b[1;33m \u001b[0mplt\u001b[0m\u001b[1;33m.\u001b[0m\u001b[0mimshow\u001b[0m\u001b[1;33m(\u001b[0m\u001b[0mbit_reduced_batch\u001b[0m\u001b[1;33m[\u001b[0m\u001b[1;36m5\u001b[0m\u001b[1;33m]\u001b[0m\u001b[1;33m[\u001b[0m\u001b[1;36m0\u001b[0m\u001b[1;33m]\u001b[0m\u001b[1;33m,\u001b[0m \u001b[0mcmap\u001b[0m\u001b[1;33m=\u001b[0m\u001b[1;34m'gray'\u001b[0m\u001b[1;33m,\u001b[0m \u001b[0minterpolation\u001b[0m\u001b[1;33m=\u001b[0m\u001b[1;34m'none'\u001b[0m\u001b[1;33m)\u001b[0m\u001b[1;33m\u001b[0m\u001b[1;33m\u001b[0m\u001b[0m\n\u001b[0m\u001b[0;32m      2\u001b[0m \u001b[0mplt\u001b[0m\u001b[1;33m.\u001b[0m\u001b[0mtitle\u001b[0m\u001b[1;33m(\u001b[0m\u001b[1;34m\"Ground  Truth: {}\"\u001b[0m\u001b[1;33m.\u001b[0m\u001b[0mformat\u001b[0m\u001b[1;33m(\u001b[0m\u001b[0mtarget\u001b[0m\u001b[1;33m[\u001b[0m\u001b[1;36m5\u001b[0m\u001b[1;33m]\u001b[0m\u001b[1;33m.\u001b[0m\u001b[0mitem\u001b[0m\u001b[1;33m(\u001b[0m\u001b[1;33m)\u001b[0m\u001b[1;33m)\u001b[0m\u001b[1;33m)\u001b[0m\u001b[1;33m\u001b[0m\u001b[1;33m\u001b[0m\u001b[0m\n\u001b[0;32m      3\u001b[0m \u001b[0mplt\u001b[0m\u001b[1;33m.\u001b[0m\u001b[0mplot\u001b[0m\u001b[1;33m\u001b[0m\u001b[1;33m\u001b[0m\u001b[0m\n\u001b[0;32m      4\u001b[0m \u001b[1;33m\u001b[0m\u001b[0m\n\u001b[0;32m      5\u001b[0m \u001b[0mplt\u001b[0m\u001b[1;33m.\u001b[0m\u001b[0mimshow\u001b[0m\u001b[1;33m(\u001b[0m\u001b[0mmedian_smoothed_batch\u001b[0m\u001b[1;33m[\u001b[0m\u001b[1;36m5\u001b[0m\u001b[1;33m]\u001b[0m\u001b[1;33m[\u001b[0m\u001b[1;36m0\u001b[0m\u001b[1;33m]\u001b[0m\u001b[1;33m,\u001b[0m \u001b[0mcmap\u001b[0m\u001b[1;33m=\u001b[0m\u001b[1;34m'gray'\u001b[0m\u001b[1;33m,\u001b[0m \u001b[0minterpolation\u001b[0m\u001b[1;33m=\u001b[0m\u001b[1;34m'none'\u001b[0m\u001b[1;33m)\u001b[0m\u001b[1;33m\u001b[0m\u001b[1;33m\u001b[0m\u001b[0m\n",
      "\u001b[1;31mNameError\u001b[0m: name 'bit_reduced_batch' is not defined"
     ]
    }
   ],
   "source": [
    "#0.001, pert=1430,n_pert=8554\n",
    "#0.002, pert=1114,n_pert=8870\n",
    "#0.003, pert=961,n_pert=9023\n",
    "#0.004, pert=865,n_pert=9119\n",
    "#0.005, pert=803,n_pert=9181\n",
    "#0.006, pert=752,n_pert=9232\n",
    "#0.007, pert=710,n_pert=9274\n",
    "#0.008, pert=667,n_pert=9317\n",
    "#0.009, pert=627,n_pert=9357\n",
    "#0.010, pert=608,n_pert=9376\n",
    "#0.011, pert=586,n_pert=9398\n",
    "#0.012, pert=569,n_pert=9415\n",
    "#0.013, pert=552,n_pert=9432\n",
    "#0.014, pert=536,n_pert=9448\n",
    "#0.015, pert=515,n_pert=9469\n",
    "#0.020, pert=461,n_pert=9523\n",
    "#0.025, pert=432,n_pert=9552\n",
    "#0.030, pert=400,n_pert=9584"
   ]
  },
  {
   "cell_type": "code",
   "execution_count": 250,
   "metadata": {},
   "outputs": [
    {
     "name": "stdout",
     "output_type": "stream",
     "text": [
      "\n",
      "Test set: Avg. loss: 0.0006, Accuracy: 9924/10000 (99%)\n",
      "\n",
      "Train Epoch: 1 [5984/60000 (10%)]\tLoss: 0.082740\n",
      "Train Epoch: 1 [11968/60000 (20%)]\tLoss: 0.135509\n"
     ]
    },
    {
     "ename": "KeyboardInterrupt",
     "evalue": "",
     "output_type": "error",
     "traceback": [
      "\u001b[1;31m---------------------------------------------------------------------------\u001b[0m",
      "\u001b[1;31mKeyboardInterrupt\u001b[0m                         Traceback (most recent call last)",
      "\u001b[1;32m<ipython-input-250-d4e0a3bafb69>\u001b[0m in \u001b[0;36m<module>\u001b[1;34m\u001b[0m\n\u001b[0;32m      6\u001b[0m \u001b[0mtest\u001b[0m\u001b[1;33m(\u001b[0m\u001b[1;33m)\u001b[0m\u001b[1;33m\u001b[0m\u001b[1;33m\u001b[0m\u001b[0m\n\u001b[0;32m      7\u001b[0m \u001b[1;32mfor\u001b[0m \u001b[0mepoch\u001b[0m \u001b[1;32min\u001b[0m \u001b[0mrange\u001b[0m\u001b[1;33m(\u001b[0m\u001b[1;36m1\u001b[0m\u001b[1;33m,\u001b[0m \u001b[0mn_epochs\u001b[0m \u001b[1;33m+\u001b[0m \u001b[1;36m1\u001b[0m\u001b[1;33m)\u001b[0m\u001b[1;33m:\u001b[0m\u001b[1;33m\u001b[0m\u001b[1;33m\u001b[0m\u001b[0m\n\u001b[1;32m----> 8\u001b[1;33m   \u001b[0mtrain\u001b[0m\u001b[1;33m(\u001b[0m\u001b[0mepoch\u001b[0m\u001b[1;33m)\u001b[0m\u001b[1;33m\u001b[0m\u001b[1;33m\u001b[0m\u001b[0m\n\u001b[0m\u001b[0;32m      9\u001b[0m   \u001b[0mtest\u001b[0m\u001b[1;33m(\u001b[0m\u001b[1;33m)\u001b[0m\u001b[1;33m\u001b[0m\u001b[1;33m\u001b[0m\u001b[0m\n\u001b[0;32m     10\u001b[0m \u001b[1;33m\u001b[0m\u001b[0m\n",
      "\u001b[1;32m<ipython-input-247-a75c7e304c00>\u001b[0m in \u001b[0;36mtrain\u001b[1;34m(epoch, use_ensemble)\u001b[0m\n\u001b[0;32m     21\u001b[0m     \u001b[1;32melse\u001b[0m\u001b[1;33m:\u001b[0m\u001b[1;33m\u001b[0m\u001b[1;33m\u001b[0m\u001b[0m\n\u001b[0;32m     22\u001b[0m       \u001b[0moptimizer\u001b[0m\u001b[1;33m.\u001b[0m\u001b[0mzero_grad\u001b[0m\u001b[1;33m(\u001b[0m\u001b[1;33m)\u001b[0m\u001b[1;33m\u001b[0m\u001b[1;33m\u001b[0m\u001b[0m\n\u001b[1;32m---> 23\u001b[1;33m       \u001b[0moutput\u001b[0m \u001b[1;33m=\u001b[0m \u001b[0mnetwork\u001b[0m\u001b[1;33m(\u001b[0m\u001b[0mdata\u001b[0m\u001b[1;33m)\u001b[0m\u001b[1;33m\u001b[0m\u001b[1;33m\u001b[0m\u001b[0m\n\u001b[0m\u001b[0;32m     24\u001b[0m       \u001b[0mloss\u001b[0m \u001b[1;33m=\u001b[0m \u001b[0mF\u001b[0m\u001b[1;33m.\u001b[0m\u001b[0mcross_entropy\u001b[0m\u001b[1;33m(\u001b[0m\u001b[0moutput\u001b[0m\u001b[1;33m,\u001b[0m \u001b[0mtarget\u001b[0m\u001b[1;33m)\u001b[0m\u001b[1;33m\u001b[0m\u001b[1;33m\u001b[0m\u001b[0m\n\u001b[0;32m     25\u001b[0m       \u001b[0mloss\u001b[0m\u001b[1;33m.\u001b[0m\u001b[0mbackward\u001b[0m\u001b[1;33m(\u001b[0m\u001b[1;33m)\u001b[0m\u001b[1;33m\u001b[0m\u001b[1;33m\u001b[0m\u001b[0m\n",
      "\u001b[1;32mf:\\Anaconda\\lib\\site-packages\\torch\\nn\\modules\\module.py\u001b[0m in \u001b[0;36m_call_impl\u001b[1;34m(self, *input, **kwargs)\u001b[0m\n\u001b[0;32m   1100\u001b[0m         if not (self._backward_hooks or self._forward_hooks or self._forward_pre_hooks or _global_backward_hooks\n\u001b[0;32m   1101\u001b[0m                 or _global_forward_hooks or _global_forward_pre_hooks):\n\u001b[1;32m-> 1102\u001b[1;33m             \u001b[1;32mreturn\u001b[0m \u001b[0mforward_call\u001b[0m\u001b[1;33m(\u001b[0m\u001b[1;33m*\u001b[0m\u001b[0minput\u001b[0m\u001b[1;33m,\u001b[0m \u001b[1;33m**\u001b[0m\u001b[0mkwargs\u001b[0m\u001b[1;33m)\u001b[0m\u001b[1;33m\u001b[0m\u001b[1;33m\u001b[0m\u001b[0m\n\u001b[0m\u001b[0;32m   1103\u001b[0m         \u001b[1;31m# Do not call functions when jit is used\u001b[0m\u001b[1;33m\u001b[0m\u001b[1;33m\u001b[0m\u001b[1;33m\u001b[0m\u001b[0m\n\u001b[0;32m   1104\u001b[0m         \u001b[0mfull_backward_hooks\u001b[0m\u001b[1;33m,\u001b[0m \u001b[0mnon_full_backward_hooks\u001b[0m \u001b[1;33m=\u001b[0m \u001b[1;33m[\u001b[0m\u001b[1;33m]\u001b[0m\u001b[1;33m,\u001b[0m \u001b[1;33m[\u001b[0m\u001b[1;33m]\u001b[0m\u001b[1;33m\u001b[0m\u001b[1;33m\u001b[0m\u001b[0m\n",
      "\u001b[1;32m<ipython-input-6-4eb7c8cefc2f>\u001b[0m in \u001b[0;36mforward\u001b[1;34m(self, x)\u001b[0m\n\u001b[0;32m     23\u001b[0m \u001b[1;33m\u001b[0m\u001b[0m\n\u001b[0;32m     24\u001b[0m                 \u001b[0mx\u001b[0m \u001b[1;33m=\u001b[0m \u001b[0mself\u001b[0m\u001b[1;33m.\u001b[0m\u001b[0mconv1\u001b[0m\u001b[1;33m(\u001b[0m\u001b[0mx\u001b[0m\u001b[1;33m)\u001b[0m\u001b[1;33m\u001b[0m\u001b[1;33m\u001b[0m\u001b[0m\n\u001b[1;32m---> 25\u001b[1;33m                 \u001b[0mx\u001b[0m \u001b[1;33m=\u001b[0m \u001b[0mself\u001b[0m\u001b[1;33m.\u001b[0m\u001b[0mrelu1\u001b[0m\u001b[1;33m(\u001b[0m\u001b[0mx\u001b[0m\u001b[1;33m)\u001b[0m\u001b[1;33m\u001b[0m\u001b[1;33m\u001b[0m\u001b[0m\n\u001b[0m\u001b[0;32m     26\u001b[0m                 \u001b[0mx\u001b[0m \u001b[1;33m=\u001b[0m \u001b[0mself\u001b[0m\u001b[1;33m.\u001b[0m\u001b[0mmaxpool1\u001b[0m\u001b[1;33m(\u001b[0m\u001b[0mx\u001b[0m\u001b[1;33m)\u001b[0m\u001b[1;33m\u001b[0m\u001b[1;33m\u001b[0m\u001b[0m\n\u001b[0;32m     27\u001b[0m \u001b[1;33m\u001b[0m\u001b[0m\n",
      "\u001b[1;32mf:\\Anaconda\\lib\\site-packages\\torch\\nn\\modules\\module.py\u001b[0m in \u001b[0;36m_call_impl\u001b[1;34m(self, *input, **kwargs)\u001b[0m\n\u001b[0;32m   1100\u001b[0m         if not (self._backward_hooks or self._forward_hooks or self._forward_pre_hooks or _global_backward_hooks\n\u001b[0;32m   1101\u001b[0m                 or _global_forward_hooks or _global_forward_pre_hooks):\n\u001b[1;32m-> 1102\u001b[1;33m             \u001b[1;32mreturn\u001b[0m \u001b[0mforward_call\u001b[0m\u001b[1;33m(\u001b[0m\u001b[1;33m*\u001b[0m\u001b[0minput\u001b[0m\u001b[1;33m,\u001b[0m \u001b[1;33m**\u001b[0m\u001b[0mkwargs\u001b[0m\u001b[1;33m)\u001b[0m\u001b[1;33m\u001b[0m\u001b[1;33m\u001b[0m\u001b[0m\n\u001b[0m\u001b[0;32m   1103\u001b[0m         \u001b[1;31m# Do not call functions when jit is used\u001b[0m\u001b[1;33m\u001b[0m\u001b[1;33m\u001b[0m\u001b[1;33m\u001b[0m\u001b[0m\n\u001b[0;32m   1104\u001b[0m         \u001b[0mfull_backward_hooks\u001b[0m\u001b[1;33m,\u001b[0m \u001b[0mnon_full_backward_hooks\u001b[0m \u001b[1;33m=\u001b[0m \u001b[1;33m[\u001b[0m\u001b[1;33m]\u001b[0m\u001b[1;33m,\u001b[0m \u001b[1;33m[\u001b[0m\u001b[1;33m]\u001b[0m\u001b[1;33m\u001b[0m\u001b[1;33m\u001b[0m\u001b[0m\n",
      "\u001b[1;32mf:\\Anaconda\\lib\\site-packages\\torch\\nn\\modules\\activation.py\u001b[0m in \u001b[0;36mforward\u001b[1;34m(self, input)\u001b[0m\n\u001b[0;32m     96\u001b[0m \u001b[1;33m\u001b[0m\u001b[0m\n\u001b[0;32m     97\u001b[0m     \u001b[1;32mdef\u001b[0m \u001b[0mforward\u001b[0m\u001b[1;33m(\u001b[0m\u001b[0mself\u001b[0m\u001b[1;33m,\u001b[0m \u001b[0minput\u001b[0m\u001b[1;33m:\u001b[0m \u001b[0mTensor\u001b[0m\u001b[1;33m)\u001b[0m \u001b[1;33m->\u001b[0m \u001b[0mTensor\u001b[0m\u001b[1;33m:\u001b[0m\u001b[1;33m\u001b[0m\u001b[1;33m\u001b[0m\u001b[0m\n\u001b[1;32m---> 98\u001b[1;33m         \u001b[1;32mreturn\u001b[0m \u001b[0mF\u001b[0m\u001b[1;33m.\u001b[0m\u001b[0mrelu\u001b[0m\u001b[1;33m(\u001b[0m\u001b[0minput\u001b[0m\u001b[1;33m,\u001b[0m \u001b[0minplace\u001b[0m\u001b[1;33m=\u001b[0m\u001b[0mself\u001b[0m\u001b[1;33m.\u001b[0m\u001b[0minplace\u001b[0m\u001b[1;33m)\u001b[0m\u001b[1;33m\u001b[0m\u001b[1;33m\u001b[0m\u001b[0m\n\u001b[0m\u001b[0;32m     99\u001b[0m \u001b[1;33m\u001b[0m\u001b[0m\n\u001b[0;32m    100\u001b[0m     \u001b[1;32mdef\u001b[0m \u001b[0mextra_repr\u001b[0m\u001b[1;33m(\u001b[0m\u001b[0mself\u001b[0m\u001b[1;33m)\u001b[0m \u001b[1;33m->\u001b[0m \u001b[0mstr\u001b[0m\u001b[1;33m:\u001b[0m\u001b[1;33m\u001b[0m\u001b[1;33m\u001b[0m\u001b[0m\n",
      "\u001b[1;32mf:\\Anaconda\\lib\\site-packages\\torch\\nn\\functional.py\u001b[0m in \u001b[0;36mrelu\u001b[1;34m(input, inplace)\u001b[0m\n\u001b[0;32m   1297\u001b[0m         \u001b[0mresult\u001b[0m \u001b[1;33m=\u001b[0m \u001b[0mtorch\u001b[0m\u001b[1;33m.\u001b[0m\u001b[0mrelu_\u001b[0m\u001b[1;33m(\u001b[0m\u001b[0minput\u001b[0m\u001b[1;33m)\u001b[0m\u001b[1;33m\u001b[0m\u001b[1;33m\u001b[0m\u001b[0m\n\u001b[0;32m   1298\u001b[0m     \u001b[1;32melse\u001b[0m\u001b[1;33m:\u001b[0m\u001b[1;33m\u001b[0m\u001b[1;33m\u001b[0m\u001b[0m\n\u001b[1;32m-> 1299\u001b[1;33m         \u001b[0mresult\u001b[0m \u001b[1;33m=\u001b[0m \u001b[0mtorch\u001b[0m\u001b[1;33m.\u001b[0m\u001b[0mrelu\u001b[0m\u001b[1;33m(\u001b[0m\u001b[0minput\u001b[0m\u001b[1;33m)\u001b[0m\u001b[1;33m\u001b[0m\u001b[1;33m\u001b[0m\u001b[0m\n\u001b[0m\u001b[0;32m   1300\u001b[0m     \u001b[1;32mreturn\u001b[0m \u001b[0mresult\u001b[0m\u001b[1;33m\u001b[0m\u001b[1;33m\u001b[0m\u001b[0m\n\u001b[0;32m   1301\u001b[0m \u001b[1;33m\u001b[0m\u001b[0m\n",
      "\u001b[1;31mKeyboardInterrupt\u001b[0m: "
     ]
    }
   ],
   "source": [
    "train_losses = []\n",
    "train_counter = []\n",
    "test_losses = []\n",
    "test_counter = [i*len(train_loader.dataset) for i in range(n_epochs + 1)]\n",
    "test_acc = []\n",
    "test()\n",
    "for epoch in range(1, n_epochs + 1):\n",
    "  train(epoch)\n",
    "  test()\n",
    "\n",
    "if (use_upgraded_net==0 and save_net==1):\n",
    "  torch.save(network.state_dict(), '../src/results/model.pth')\n",
    "  torch.save(optimizer.state_dict(), '../src/results/optimizer.pth')\n",
    "  print(\"Saved Modell to file\")\n",
    "elif (use_upgraded_net==1 and save_net==1):\n",
    "  \n",
    "  if (use_ensemble == 1):\n",
    "      torch.save(network.state_dict(), '../src/results/model_upgraded_ens.pth')\n",
    "      torch.save(network2.state_dict(), '../src/results/model2_upgraded_ens.pth')\n",
    "      torch.save(network3.state_dict(), '../src/results/model3_upgraded_ens.pth')\n",
    "      torch.save(optimizer_ensemble.state_dict(), '../src/results/optimizer_ensemble.pth')\n",
    "  else:\n",
    "      torch.save(network.state_dict(), '../src/results/model_upgraded.pth')\n",
    "      torch.save(optimizer.state_dict(), '../src/results/optimizer_upgraded.pth')\n",
    "  print(\"Saved Modell to file\")\n",
    "save_net = 0 #Secure that only one model is saved"
   ]
  },
  {
   "cell_type": "markdown",
   "metadata": {},
   "source": [
    "## SGD"
   ]
  },
  {
   "cell_type": "code",
   "execution_count": 238,
   "metadata": {},
   "outputs": [
    {
     "data": {
      "text/plain": [
       "<Figure size 432x288 with 0 Axes>"
      ]
     },
     "execution_count": 238,
     "metadata": {},
     "output_type": "execute_result"
    },
    {
     "data": {
      "text/plain": [
       "<Figure size 432x288 with 0 Axes>"
      ]
     },
     "metadata": {},
     "output_type": "display_data"
    },
    {
     "data": {
      "image/png": "[encoded data removed]",
      "text/plain": [
       "<Figure size 1440x1440 with 1 Axes>"
      ]
     },
     "metadata": {
      "needs_background": "light"
     },
     "output_type": "display_data"
    }
   ],
   "source": [
    "fig = plt.figure()\n",
    "plt.figure(figsize=(20,20))\n",
    "plt.plot(train_counter, train_losses, color='blue')\n",
    "plt.plot(test_counter, test_losses, color='red')\n",
    "plt.legend(['Train Loss', 'Test Loss'], loc='upper right')\n",
    "plt.xlabel('number of training examples seen')\n",
    "plt.ylabel('cross entropy loss')\n",
    "plt.grid()\n",
    "fig"
   ]
  },
  {
   "cell_type": "code",
   "execution_count": 239,
   "metadata": {},
   "outputs": [
    {
     "data": {
      "text/plain": [
       "<Figure size 432x288 with 0 Axes>"
      ]
     },
     "execution_count": 239,
     "metadata": {},
     "output_type": "execute_result"
    },
    {
     "data": {
      "text/plain": [
       "<Figure size 432x288 with 0 Axes>"
      ]
     },
     "metadata": {},
     "output_type": "display_data"
    },
    {
     "data": {
      "image/png": "[encoded data removed]",
      "text/plain": [
       "<Figure size 1440x360 with 1 Axes>"
      ]
     },
     "metadata": {
      "needs_background": "light"
     },
     "output_type": "display_data"
    }
   ],
   "source": [
    "fig = plt.figure()\n",
    "plt.figure(figsize=(20,5))\n",
    "plt.grid()\n",
    "plt.plot(range(0,21), test_acc, color='red')\n",
    "plt.legend(['Test Acc'], loc='upper right')\n",
    "plt.xlabel('number of test examples seen')\n",
    "plt.ylabel('Test Accuracy')\n",
    "fig"
   ]
  },
  {
   "cell_type": "markdown",
   "metadata": {},
   "source": [
    "# Documentation\n",
    "\n",
    "##### ___Params___\n",
    "##### Epochs: 20\n",
    "##### b_size = 32\n",
    "##### Optimizer = SGD\n",
    "##### Momentum = 0.5\n",
    "##### LR = 0.01\n",
    "##### ___RESULTS___\n",
    "##### Train Epoch: 20 [59840/60000 (100%)]\tLoss: 0.141315\n",
    "##### Test set: Avg. loss: 0.0337, Accuracy: 9881/10000 (99%)\n"
   ]
  },
  {
   "cell_type": "markdown",
   "metadata": {},
   "source": [
    "### Perturabation mesasurement"
   ]
  },
  {
   "cell_type": "code",
   "execution_count": 187,
   "metadata": {},
   "outputs": [
    {
     "name": "stdout",
     "output_type": "stream",
     "text": [
      "Min: -0.4242129623889923\n",
      "Max: 2.821486711502075\n"
     ]
    }
   ],
   "source": [
    "x_d,e_d=extract_dataloader_images(0)\n",
    "f_d=torch.clone(x_d)\n",
    "p_d=torch.clone(x_d)\n",
    "print(\"Min: {}\".format(min(np.ravel(x_d))))\n",
    "print(\"Max: {}\".format(max(np.ravel(x_d))))"
   ]
  },
  {
   "cell_type": "code",
   "execution_count": 23,
   "metadata": {},
   "outputs": [
    {
     "data": {
      "text/plain": [
       "<function matplotlib.pyplot.plot(*args, scalex=True, scaley=True, data=None, **kwargs)>"
      ]
     },
     "execution_count": 23,
     "metadata": {},
     "output_type": "execute_result"
    },
    {
     "data": {
      "image/png": "[encoded data removed]",
      "text/plain": [
       "<Figure size 432x288 with 1 Axes>"
      ]
     },
     "metadata": {
      "needs_background": "light"
     },
     "output_type": "display_data"
    }
   ],
   "source": [
    "plt.imshow(scaled_data[0][0], cmap='gray', interpolation='none')\n",
    "plt.title(\"Ground  Truth: {}\".format(e_d[0]))\n",
    "plt.plot"
   ]
  },
  {
   "cell_type": "code",
   "execution_count": 125,
   "metadata": {},
   "outputs": [
    {
     "data": {
      "text/plain": [
       "<function matplotlib.pyplot.plot(*args, scalex=True, scaley=True, data=None, **kwargs)>"
      ]
     },
     "execution_count": 125,
     "metadata": {},
     "output_type": "execute_result"
    },
    {
     "data": {
      "image/png": "[encoded data removed]",
      "text/plain": [
       "<Figure size 432x288 with 1 Axes>"
      ]
     },
     "metadata": {
      "needs_background": "light"
     },
     "output_type": "display_data"
    }
   ],
   "source": [
    "plt.imshow(f_d[0][0], cmap='gray', interpolation='none')\n",
    "plt.title(\"Ground  Truth: {}\".format(e_d[0]))\n",
    "plt.plot\n"
   ]
  },
  {
   "cell_type": "code",
   "execution_count": 55,
   "metadata": {},
   "outputs": [
    {
     "data": {
      "text/plain": [
       "<matplotlib.image.AxesImage at 0x2458072fc70>"
      ]
     },
     "execution_count": 55,
     "metadata": {},
     "output_type": "execute_result"
    },
    {
     "data": {
      "image/png": "[encoded data removed]",
      "text/plain": [
       "<Figure size 432x288 with 1 Axes>"
      ]
     },
     "metadata": {
      "needs_background": "light"
     },
     "output_type": "display_data"
    }
   ],
   "source": [
    "plt.imshow(ndimage.median_filter(f_d[0][0], size=2), cmap='gray', interpolation='none')"
   ]
  },
  {
   "cell_type": "code",
   "execution_count": 167,
   "metadata": {},
   "outputs": [
    {
     "name": "stdout",
     "output_type": "stream",
     "text": [
      "2\n"
     ]
    },
    {
     "data": {
      "text/plain": [
       "<matplotlib.image.AxesImage at 0x16e4fb97580>"
      ]
     },
     "execution_count": 167,
     "metadata": {},
     "output_type": "execute_result"
    },
    {
     "data": {
      "image/png": "[encoded data removed]",
      "text/plain": [
       "<Figure size 432x288 with 1 Axes>"
      ]
     },
     "metadata": {
      "needs_background": "light"
     },
     "output_type": "display_data"
    }
   ],
   "source": [
    "plt.imshow(median_smoothing(f_d[0][0]), cmap='gray', interpolation='none')"
   ]
  },
  {
   "cell_type": "code",
   "execution_count": 258,
   "metadata": {},
   "outputs": [
    {
     "data": {
      "text/plain": [
       "<function matplotlib.pyplot.plot(*args, scalex=True, scaley=True, data=None, **kwargs)>"
      ]
     },
     "execution_count": 258,
     "metadata": {},
     "output_type": "execute_result"
    },
    {
     "data": {
      "image/png": "[encoded data removed]",
      "text/plain": [
       "<Figure size 432x288 with 1 Axes>"
      ]
     },
     "metadata": {
      "needs_background": "light"
     },
     "output_type": "display_data"
    }
   ],
   "source": [
    "plt.imshow(pertubated_image[0][0], cmap='gray', interpolation='none')\n",
    "plt.title(\"Ground  Truth: {}\".format(e_d[5]))\n",
    "plt.plot"
   ]
  },
  {
   "cell_type": "code",
   "execution_count": 78,
   "metadata": {},
   "outputs": [
    {
     "data": {
      "text/plain": [
       "<function matplotlib.pyplot.plot(*args, scalex=True, scaley=True, data=None, **kwargs)>"
      ]
     },
     "execution_count": 78,
     "metadata": {},
     "output_type": "execute_result"
    },
    {
     "data": {
      "image/png": "[encoded data removed]",
      "text/plain": [
       "<Figure size 432x288 with 1 Axes>"
      ]
     },
     "metadata": {
      "needs_background": "light"
     },
     "output_type": "display_data"
    }
   ],
   "source": [
    "plt.imshow(x_d[5][0], cmap='gray', interpolation='none')\n",
    "plt.title(\"Ground  Truth: {}\".format(e_d[5]))\n",
    "plt.plot"
   ]
  },
  {
   "cell_type": "code",
   "execution_count": 163,
   "metadata": {},
   "outputs": [],
   "source": [
    "median_smoothed = median_smoothing(f_d)\n",
    "scaled_data = bit_reduction(f_d)\n",
    "pertubated_image = perturbate_image(p_d,mode='random') #Pertubations seems to make in-place operations so use different tensor"
   ]
  },
  {
   "cell_type": "code",
   "execution_count": 189,
   "metadata": {},
   "outputs": [],
   "source": [
    "x_d,e_d=extract_dataloader_images(0)\n",
    "f_d=torch.clone(x_d)\n",
    "p_d=torch.clone(x_d)"
   ]
  },
  {
   "cell_type": "code",
   "execution_count": 164,
   "metadata": {},
   "outputs": [
    {
     "data": {
      "image/png": "[encoded data removed]",
      "text/plain": [
       "<Figure size 1440x432 with 4 Axes>"
      ]
     },
     "metadata": {
      "needs_background": "light"
     },
     "output_type": "display_data"
    }
   ],
   "source": [
    "batch_nr = 0\n",
    "fig = plt.figure()\n",
    "\n",
    "ax1 = fig.add_subplot(141)  # left side\n",
    "ax2 = fig.add_subplot(142)  # right side\n",
    "ax3 = fig.add_subplot(143)\n",
    "ax4 = fig.add_subplot(144)\n",
    "ax1.title.set_text(\"Bit Reduced Image\")\n",
    "ax2.title.set_text(\"Median Smoothed Image\")\n",
    "ax3.title.set_text(\"Original Image\")\n",
    "ax4.title.set_text(\"Pertubated Image\")\n",
    "ax1.imshow(scaled_data[batch_nr][0], cmap='gray', interpolation='none')\n",
    "ax2.imshow(median_smoothed[batch_nr][0], cmap='gray', interpolation='none')\n",
    "ax3.imshow(x_d[batch_nr][0], cmap='gray', interpolation='none')\n",
    "ax4.imshow(pertubated_image[batch_nr][0], cmap='gray', interpolation='none')\n",
    "fig.text(.5, .05, e_d[batch_nr], ha='center')\n",
    "fig.set_figheight(6)\n",
    "fig.set_figwidth(20)\n",
    "#plt.title(\"Ground  Truth: {}\".format(e_d[batch_nr]))\n",
    "plt.show()"
   ]
  },
  {
   "cell_type": "markdown",
   "metadata": {},
   "source": [
    "### Test robustness of model"
   ]
  },
  {
   "cell_type": "code",
   "execution_count": 446,
   "metadata": {},
   "outputs": [
    {
     "ename": "TypeError",
     "evalue": "iteration over a 0-d tensor",
     "output_type": "error",
     "traceback": [
      "\u001b[1;31m---------------------------------------------------------------------------\u001b[0m",
      "\u001b[1;31mTypeError\u001b[0m                                 Traceback (most recent call last)",
      "\u001b[1;32m<ipython-input-446-67e7dc0fc80c>\u001b[0m in \u001b[0;36m<module>\u001b[1;34m\u001b[0m\n\u001b[0;32m     10\u001b[0m \u001b[0mfake_tst_perturbed\u001b[0m \u001b[1;33m=\u001b[0m \u001b[0mtest_fake\u001b[0m\u001b[1;33m(\u001b[0m\u001b[0mpertubated_image\u001b[0m\u001b[1;33m,\u001b[0m\u001b[0mnetwork\u001b[0m\u001b[1;33m)\u001b[0m\u001b[1;33m\u001b[0m\u001b[1;33m\u001b[0m\u001b[0m\n\u001b[0;32m     11\u001b[0m \u001b[1;33m\u001b[0m\u001b[0m\n\u001b[1;32m---> 12\u001b[1;33m \u001b[0mp_percent\u001b[0m\u001b[1;33m,\u001b[0m\u001b[0mp_size\u001b[0m\u001b[1;33m,\u001b[0m\u001b[0mp_pertubated\u001b[0m\u001b[1;33m=\u001b[0m\u001b[0mcount_perturbated_pixel\u001b[0m\u001b[1;33m(\u001b[0m\u001b[0mx_d\u001b[0m\u001b[1;33m[\u001b[0m\u001b[1;36m0\u001b[0m\u001b[1;33m]\u001b[0m\u001b[1;33m[\u001b[0m\u001b[1;36m0\u001b[0m\u001b[1;33m]\u001b[0m\u001b[1;33m,\u001b[0m\u001b[0mf_d\u001b[0m\u001b[1;33m[\u001b[0m\u001b[1;36m0\u001b[0m\u001b[1;33m]\u001b[0m\u001b[1;33m[\u001b[0m\u001b[1;36m0\u001b[0m\u001b[1;33m]\u001b[0m\u001b[1;33m)\u001b[0m\u001b[1;33m\u001b[0m\u001b[1;33m\u001b[0m\u001b[0m\n\u001b[0m\u001b[0;32m     13\u001b[0m \u001b[0mprint\u001b[0m\u001b[1;33m(\u001b[0m\u001b[1;34m\"Model predicted: {}\"\u001b[0m\u001b[1;33m.\u001b[0m\u001b[0mformat\u001b[0m\u001b[1;33m(\u001b[0m\u001b[0mfake_tst\u001b[0m\u001b[1;33m.\u001b[0m\u001b[0mdata\u001b[0m\u001b[1;33m.\u001b[0m\u001b[0mmax\u001b[0m\u001b[1;33m(\u001b[0m\u001b[1;36m1\u001b[0m\u001b[1;33m,\u001b[0m \u001b[0mkeepdim\u001b[0m\u001b[1;33m=\u001b[0m\u001b[1;32mTrue\u001b[0m\u001b[1;33m)\u001b[0m\u001b[1;33m[\u001b[0m\u001b[1;36m1\u001b[0m\u001b[1;33m]\u001b[0m\u001b[1;33m[\u001b[0m\u001b[1;36m0\u001b[0m\u001b[1;33m]\u001b[0m\u001b[1;33m)\u001b[0m\u001b[1;33m)\u001b[0m\u001b[1;33m\u001b[0m\u001b[1;33m\u001b[0m\u001b[0m\n\u001b[0;32m     14\u001b[0m \u001b[0mprint\u001b[0m\u001b[1;33m(\u001b[0m\u001b[1;34m\"Model predicted median smoothed: {}\"\u001b[0m\u001b[1;33m.\u001b[0m\u001b[0mformat\u001b[0m\u001b[1;33m(\u001b[0m\u001b[0mfake_tst_median\u001b[0m\u001b[1;33m.\u001b[0m\u001b[0mdata\u001b[0m\u001b[1;33m.\u001b[0m\u001b[0mmax\u001b[0m\u001b[1;33m(\u001b[0m\u001b[1;36m1\u001b[0m\u001b[1;33m,\u001b[0m \u001b[0mkeepdim\u001b[0m\u001b[1;33m=\u001b[0m\u001b[1;32mTrue\u001b[0m\u001b[1;33m)\u001b[0m\u001b[1;33m[\u001b[0m\u001b[1;36m1\u001b[0m\u001b[1;33m]\u001b[0m\u001b[1;33m[\u001b[0m\u001b[1;36m0\u001b[0m\u001b[1;33m]\u001b[0m\u001b[1;33m)\u001b[0m\u001b[1;33m)\u001b[0m\u001b[1;33m\u001b[0m\u001b[1;33m\u001b[0m\u001b[0m\n",
      "\u001b[1;32m<ipython-input-206-a810510156b1>\u001b[0m in \u001b[0;36mcount_perturbated_pixel\u001b[1;34m(img1, img2)\u001b[0m\n\u001b[0;32m      8\u001b[0m   \u001b[0msum_px\u001b[0m \u001b[1;33m=\u001b[0m \u001b[1;36m28\u001b[0m\u001b[1;33m*\u001b[0m\u001b[1;36m28\u001b[0m\u001b[1;33m\u001b[0m\u001b[1;33m\u001b[0m\u001b[0m\n\u001b[0;32m      9\u001b[0m   \u001b[0msum_px_perturbed\u001b[0m \u001b[1;33m=\u001b[0m \u001b[1;36m0\u001b[0m\u001b[1;33m\u001b[0m\u001b[1;33m\u001b[0m\u001b[0m\n\u001b[1;32m---> 10\u001b[1;33m   \u001b[1;32mfor\u001b[0m \u001b[0mpx_img1\u001b[0m\u001b[1;33m,\u001b[0m\u001b[0mpx_img2\u001b[0m \u001b[1;32min\u001b[0m \u001b[0mzip\u001b[0m\u001b[1;33m(\u001b[0m\u001b[0mimg1\u001b[0m\u001b[1;33m[\u001b[0m\u001b[1;36m0\u001b[0m\u001b[1;33m]\u001b[0m\u001b[1;33m[\u001b[0m\u001b[1;36m0\u001b[0m\u001b[1;33m]\u001b[0m\u001b[1;33m,\u001b[0m\u001b[0mimg2\u001b[0m\u001b[1;33m[\u001b[0m\u001b[1;36m0\u001b[0m\u001b[1;33m]\u001b[0m\u001b[1;33m[\u001b[0m\u001b[1;36m0\u001b[0m\u001b[1;33m]\u001b[0m\u001b[1;33m)\u001b[0m\u001b[1;33m:\u001b[0m \u001b[1;31m#Zip Array of Pixels\u001b[0m\u001b[1;33m\u001b[0m\u001b[1;33m\u001b[0m\u001b[0m\n\u001b[0m\u001b[0;32m     11\u001b[0m     \u001b[1;32mfor\u001b[0m \u001b[0mpx_im1\u001b[0m\u001b[1;33m,\u001b[0m\u001b[0mpx_im2\u001b[0m \u001b[1;32min\u001b[0m \u001b[0mzip\u001b[0m\u001b[1;33m(\u001b[0m\u001b[0mpx_img1\u001b[0m\u001b[1;33m,\u001b[0m\u001b[0mpx_img2\u001b[0m\u001b[1;33m)\u001b[0m\u001b[1;33m:\u001b[0m \u001b[1;31m#Zip Pixels\u001b[0m\u001b[1;33m\u001b[0m\u001b[1;33m\u001b[0m\u001b[0m\n\u001b[0;32m     12\u001b[0m         \u001b[1;32mif\u001b[0m \u001b[1;33m(\u001b[0m\u001b[0mpx_im1\u001b[0m \u001b[1;33m!=\u001b[0m \u001b[0mpx_im2\u001b[0m\u001b[1;33m)\u001b[0m\u001b[1;33m:\u001b[0m\u001b[1;33m\u001b[0m\u001b[1;33m\u001b[0m\u001b[0m\n",
      "\u001b[1;32mf:\\Anaconda\\lib\\site-packages\\torch\\_tensor.py\u001b[0m in \u001b[0;36m__iter__\u001b[1;34m(self)\u001b[0m\n\u001b[0;32m    640\u001b[0m         \u001b[1;31m# See gh-54457\u001b[0m\u001b[1;33m\u001b[0m\u001b[1;33m\u001b[0m\u001b[1;33m\u001b[0m\u001b[0m\n\u001b[0;32m    641\u001b[0m         \u001b[1;32mif\u001b[0m \u001b[0mself\u001b[0m\u001b[1;33m.\u001b[0m\u001b[0mdim\u001b[0m\u001b[1;33m(\u001b[0m\u001b[1;33m)\u001b[0m \u001b[1;33m==\u001b[0m \u001b[1;36m0\u001b[0m\u001b[1;33m:\u001b[0m\u001b[1;33m\u001b[0m\u001b[1;33m\u001b[0m\u001b[0m\n\u001b[1;32m--> 642\u001b[1;33m             \u001b[1;32mraise\u001b[0m \u001b[0mTypeError\u001b[0m\u001b[1;33m(\u001b[0m\u001b[1;34m'iteration over a 0-d tensor'\u001b[0m\u001b[1;33m)\u001b[0m\u001b[1;33m\u001b[0m\u001b[1;33m\u001b[0m\u001b[0m\n\u001b[0m\u001b[0;32m    643\u001b[0m         \u001b[1;32mif\u001b[0m \u001b[0mtorch\u001b[0m\u001b[1;33m.\u001b[0m\u001b[0m_C\u001b[0m\u001b[1;33m.\u001b[0m\u001b[0m_get_tracing_state\u001b[0m\u001b[1;33m(\u001b[0m\u001b[1;33m)\u001b[0m\u001b[1;33m:\u001b[0m\u001b[1;33m\u001b[0m\u001b[1;33m\u001b[0m\u001b[0m\n\u001b[0;32m    644\u001b[0m             warnings.warn('Iterating over a tensor might cause the trace to be incorrect. '\n",
      "\u001b[1;31mTypeError\u001b[0m: iteration over a 0-d tensor"
     ]
    }
   ],
   "source": [
    "#networks= (network,network2,network3)\n",
    "fake_tst = test_fake(f_d,network)\n",
    "\n",
    "median_smoothed = median_smoothing(f_d)\n",
    "scaled_data = bit_reduction(f_d)\n",
    "pertubated_image = perturbate_image(p_d,mode='random') #Pertubations seems to make in-place operations so use different tensor\n",
    "\n",
    "fake_tst_median = test_fake(median_smoothed,network)\n",
    "fake_tst_scaled = test_fake(scaled_data,network)\n",
    "fake_tst_perturbed = test_fake(pertubated_image,network)\n",
    "\n",
    "p_percent,p_size,p_pertubated=count_perturbated_pixel(x_d[0][0],f_d[0][0])\n",
    "print(\"Model predicted: {}\".format(fake_tst.data.max(1, keepdim=True)[1][0]))\n",
    "print(\"Model predicted median smoothed: {}\".format(fake_tst_median.data.max(1, keepdim=True)[1][0]))\n",
    "print(\"Model predicted scaled: {}\".format(fake_tst_scaled.data.max(1, keepdim=True)[1][0]))\n",
    "print(\"Model predicted perturbed: {}\".format(fake_tst_perturbed.data.max(1, keepdim=True)[1][0]))\n",
    "print(\"##################################################################\")\n",
    "print(\"Model predicted tensor value: {}\".format(fake_tst.data.max(1)[0][0]))\n",
    "print(\"Model predicted median smoothed tensor value: {}\".format(fake_tst_median.data.max(1)[0][0]))\n",
    "print(\"Model predicted scaled tensor value: {}\".format(fake_tst_scaled.data.max(1)[0][0]))\n",
    "print(\"Model predicted perturbed tensor value: {}\".format(fake_tst_perturbed.data.max(1)[0][0]))\n",
    "print(\"##################################################################\")\n",
    "print(\"Model real: {}\".format(e_d[0]))\n",
    "print(\"Sum pixel: {}\".format(p_size))\n",
    "print(\"Pertubated pixel: {}\".format(p_pertubated))\n",
    "print(\"Percent preturbated: {}\".format(p_percent))\n",
    "\n",
    "# Get prdicted tensor for normal model and squeezec models and calcluate the difference\n",
    "# If difference is small, the image is not pertubated"
   ]
  },
  {
   "cell_type": "code",
   "execution_count": 167,
   "metadata": {},
   "outputs": [],
   "source": [
    "tst= F.softmax(fake_tst, dim=1)\n",
    "tst_med = F.softmax(fake_tst_median, dim=1)\n",
    "tst_scaled = F.softmax(fake_tst_scaled, dim=1)\n",
    "tst_perturbed = F.softmax(fake_tst_perturbed, dim=1)"
   ]
  },
  {
   "cell_type": "code",
   "execution_count": 86,
   "metadata": {},
   "outputs": [
    {
     "data": {
      "text/plain": [
       "tensor([3.3206e-06, 1.1545e-06, 1.5094e-07, 3.8977e-03, 3.1818e-05, 9.0611e-01,\n",
       "        9.5761e-06, 3.4804e-06, 4.9355e-02, 4.0588e-02])"
      ]
     },
     "execution_count": 86,
     "metadata": {},
     "output_type": "execute_result"
    }
   ],
   "source": [
    "tst[0]\n",
    "tst_med[0]\n",
    "tst_scaled[0]\n",
    "tst_perturbed[0]"
   ]
  },
  {
   "cell_type": "code",
   "execution_count": 168,
   "metadata": {},
   "outputs": [],
   "source": [
    "difference=max(tst[0])-max(tst_perturbed[0])"
   ]
  },
  {
   "cell_type": "code",
   "execution_count": 169,
   "metadata": {},
   "outputs": [
    {
     "name": "stdout",
     "output_type": "stream",
     "text": [
      "0.048123\n"
     ]
    }
   ],
   "source": [
    "print(format(difference, 'f'))"
   ]
  },
  {
   "cell_type": "markdown",
   "metadata": {},
   "source": [
    "# Tst perturbated example"
   ]
  },
  {
   "cell_type": "code",
   "execution_count": 462,
   "metadata": {},
   "outputs": [
    {
     "name": "stdout",
     "output_type": "stream",
     "text": [
      "Model predicted: tensor([2])\n",
      "Model predicted median smoothed: tensor([2])\n",
      "Model predicted scaled: tensor([2])\n",
      "##################################################################\n",
      "Model predicted tensor value: 19.3311767578125\n",
      "Model predicted median smoothed tensor value: 19.64731216430664\n",
      "Model predicted scaled tensor value: 19.95734405517578\n",
      "##################################################################\n",
      "Model real: 2\n",
      "Sum pixel: 784\n",
      "Pertubated pixel: 95\n",
      "Percent preturbated: 0.1211734693877551\n"
     ]
    },
    {
     "data": {
      "image/png": "[encoded data removed]",
      "text/plain": [
       "<Figure size 1440x432 with 4 Axes>"
      ]
     },
     "metadata": {
      "needs_background": "light"
     },
     "output_type": "display_data"
    }
   ],
   "source": [
    "x_d,e_d=extract_dataloader_images(0)\n",
    "f_d=torch.clone(x_d)\n",
    "p_d=torch.clone(x_d)\n",
    "#networks= (network,network2,network3)\n",
    "\n",
    "pertubated_image = perturbate_image(p_d,mode='random') #Pertubations seems to make in-place operations so use different tensor\n",
    "image = f_d\n",
    "fake_tst = test_fake(image,network)\n",
    "\n",
    "median_smoothed = median_smoothing(image)\n",
    "scaled_data = bit_reduction(image)\n",
    "\n",
    "\n",
    "fake_tst_median = test_fake(median_smoothed,network)\n",
    "fake_tst_scaled = test_fake(scaled_data,network)\n",
    "\n",
    "\n",
    "p_percent,p_size,p_pertubated=count_perturbated_pixel(x_d,pertubated_image)\n",
    "print(\"Model predicted: {}\".format(fake_tst.data.max(1, keepdim=True)[1][0]))\n",
    "print(\"Model predicted median smoothed: {}\".format(fake_tst_median.data.max(1, keepdim=True)[1][0]))\n",
    "print(\"Model predicted scaled: {}\".format(fake_tst_scaled.data.max(1, keepdim=True)[1][0]))\n",
    "\n",
    "print(\"##################################################################\")\n",
    "print(\"Model predicted tensor value: {}\".format(fake_tst.data.max(1)[0][0]))\n",
    "print(\"Model predicted median smoothed tensor value: {}\".format(fake_tst_median.data.max(1)[0][0]))\n",
    "print(\"Model predicted scaled tensor value: {}\".format(fake_tst_scaled.data.max(1)[0][0]))\n",
    "\n",
    "print(\"##################################################################\")\n",
    "print(\"Model real: {}\".format(e_d[0]))\n",
    "print(\"Sum pixel: {}\".format(p_size))\n",
    "print(\"Pertubated pixel: {}\".format(p_pertubated))\n",
    "print(\"Percent preturbated: {}\".format(p_percent))\n",
    "\n",
    "####\n",
    "\n",
    "batch_nr = 0\n",
    "fig = plt.figure()\n",
    "\n",
    "ax1 = fig.add_subplot(141)  # left side\n",
    "ax2 = fig.add_subplot(142)  # right side\n",
    "ax3 = fig.add_subplot(143)\n",
    "ax4 = fig.add_subplot(144)\n",
    "ax1.title.set_text(\"Bit Reduced Image\")\n",
    "ax2.title.set_text(\"Median Smoothed Image\")\n",
    "ax3.title.set_text(\"Original Image\")\n",
    "ax4.title.set_text(\"Pertubated Image\")\n",
    "ax1.imshow(scaled_data[batch_nr][0], cmap='gray', interpolation='none')\n",
    "ax2.imshow(median_smoothed[batch_nr][0], cmap='gray', interpolation='none')\n",
    "ax3.imshow(x_d[batch_nr][0], cmap='gray', interpolation='none')\n",
    "ax4.imshow(pertubated_image[batch_nr][0], cmap='gray', interpolation='none')\n",
    "fig.text(.5, .05, e_d[batch_nr], ha='center')\n",
    "fig.set_figheight(6)\n",
    "fig.set_figwidth(20)\n",
    "#plt.title(\"Ground  Truth: {}\".format(e_d[batch_nr]))\n",
    "plt.show()\n"
   ]
  },
  {
   "cell_type": "code",
   "execution_count": 463,
   "metadata": {},
   "outputs": [],
   "source": [
    "tst= F.softmax(fake_tst, dim=1)\n",
    "tst_med = F.softmax(fake_tst_median, dim=1)\n",
    "tst_scaled = F.softmax(fake_tst_scaled, dim=1)\n",
    "difference_ms=(tst[0])-(tst_med[0])\n",
    "difference_br=(tst[0])-(tst_scaled[0])\n"
   ]
  },
  {
   "cell_type": "code",
   "execution_count": 464,
   "metadata": {},
   "outputs": [
    {
     "name": "stdout",
     "output_type": "stream",
     "text": [
      "tensor(2.3842e-07)\n",
      "tensor(1.5251e-07)\n",
      "Max Tensor Distance: 2.384185791015625e-07\n",
      "Image is not pertubated\n"
     ]
    }
   ],
   "source": [
    "\n",
    "print(max(difference_ms))\n",
    "print(max(difference_br))\n",
    "distance_list=[max(difference_br).item(),max(difference_ms).item()]\n",
    "#difference_total = statistics.fmean(distance_list)\n",
    "difference_total = max(distance_list)\n",
    "print(\"Max Tensor Distance:\", difference_total)\n",
    "\n",
    "if (difference_total > 0.00005):\n",
    "    print(\"Image is pertubated\")\n",
    "else:\n",
    "    print(\"Image is not pertubated\")"
   ]
  }
 ],
 "metadata": {
  "interpreter": {
   "hash": "a5d6c2be6262c78dadbf075e7ed7eef3fc1090c1044fdcff36d11e01ba01e819"
  },
  "kernelspec": {
   "display_name": "Python 3.8.8 ('base')",
   "language": "python",
   "name": "python3"
  },
  "language_info": {
   "codemirror_mode": {
    "name": "ipython",
    "version": 3
   },
   "file_extension": ".py",
   "mimetype": "text/x-python",
   "name": "python",
   "nbconvert_exporter": "python",
   "pygments_lexer": "ipython3",
   "version": "3.8.8"
  }
 },
 "nbformat": 4,
 "nbformat_minor": 4
}
