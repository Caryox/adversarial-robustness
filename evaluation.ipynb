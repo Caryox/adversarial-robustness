{
 "cells": [
  {
   "cell_type": "code",
   "execution_count": 115,
   "metadata": {},
   "outputs": [],
   "source": [
    "from collections import OrderedDict\n",
    "\n",
    "import torch\n",
    "from torch import nn, optim\n",
    "\n",
    "from ignite.engine import *\n",
    "from ignite.handlers import *\n",
    "from ignite.metrics import *\n",
    "from ignite.utils import *\n",
    "from ignite.contrib.metrics.regression import *\n",
    "from ignite.contrib.metrics import *"
   ]
  },
  {
   "cell_type": "code",
   "execution_count": 116,
   "metadata": {},
   "outputs": [],
   "source": [
    "def eval_step(engine, batch): # create default evaluator for doctests\n",
    "    return batch"
   ]
  },
  {
   "cell_type": "code",
   "execution_count": 117,
   "metadata": {},
   "outputs": [],
   "source": [
    "default_evaluator = Engine(eval_step) # create default optimizer for doctests"
   ]
  },
  {
   "cell_type": "code",
   "execution_count": 118,
   "metadata": {},
   "outputs": [],
   "source": [
    "param_tensor = torch.zeros([1], requires_grad=True)         # create default trainer for doctests\n",
    "default_optimizer = torch.optim.SGD([param_tensor], lr=0.1) # as handlers could be attached to the trainer,\n",
    "                                                            # each test must define his own trainer using `.. testsetup:`"
   ]
  },
  {
   "cell_type": "code",
   "execution_count": 119,
   "metadata": {},
   "outputs": [],
   "source": [
    "def get_default_trainer():                # create default model for doctests\n",
    "\n",
    "    def train_step(engine, batch):\n",
    "        return batch\n",
    "\n",
    "    return Engine(train_step)"
   ]
  },
  {
   "cell_type": "code",
   "execution_count": 120,
   "metadata": {},
   "outputs": [],
   "source": [
    "default_model = nn.Sequential(OrderedDict([\n",
    "    ('base', nn.Linear(4, 2)),\n",
    "    ('fc', nn.Linear(2, 1))\n",
    "]))\n",
    "\n",
    "manual_seed(666)"
   ]
  },
  {
   "cell_type": "code",
   "execution_count": 121,
   "metadata": {},
   "outputs": [],
   "source": [
    "class evaluation:\n",
    "\n",
    "    def __init__ (self,y_pred,y_true):\n",
    "        self.y_pred = y_pred\n",
    "        self.y_true = y_true\n",
    "    \n",
    "    def accuracy (self):\n",
    "        metric = Accuracy() #Accuracy Function\n",
    "        metric.attach(default_evaluator, \"accuracy\")\n",
    "        state = default_evaluator.run([[self.y_pred, self.y_true]])\n",
    "        print('Accuracy: ',state.metrics[\"accuracy\"])\n",
    "\n",
    "    def recall (self):\n",
    "        metric = Recall(average=False) #Recall Function\n",
    "        metric.attach(default_evaluator, \"recall\")\n",
    "        state = default_evaluator.run([[self.y_pred, self.y_true]])\n",
    "        print('Recall: ',state.metrics[\"recall\"])\n",
    "\n",
    "    def precision (self):\n",
    "        metric = Precision(average=False) #Precision Function\n",
    "        metric.attach(default_evaluator, \"precision\")\n",
    "        state = default_evaluator.run([[self.y_pred, self.y_true]])\n",
    "        print('Precision: ',state.metrics[\"precision\"])\n",
    "        \n",
    "    def f1 (self):\n",
    "        precision = Precision(average=False) #F1 Function\n",
    "        recall = Recall(average=False)  \n",
    "        F1 = precision * recall * 2 / (precision + recall + 1e-20)\n",
    "        F1 = MetricsLambda(lambda t: torch.mean(t).item(), F1)\n",
    "\n",
    "    def classification_report (self):\n",
    "        metric = ClassificationReport(output_dict=True)\n",
    "        metric.attach(default_evaluator, \"cr\")\n",
    "        state = default_evaluator.run([[self.y_pred, self.y_true]])\n",
    "        print('Classes: ',state.metrics[\"cr\"].keys())\n",
    "        print('0: ',state.metrics[\"cr\"][\"0\"])\n",
    "        print('1: ',state.metrics[\"cr\"][\"1\"])\n",
    "        print('2: ',state.metrics[\"cr\"][\"2\"])\n",
    "        print('macro avg: ',state.metrics[\"cr\"][\"macro avg\"])\n",
    "    \n",
    "    #def auroc (self):\n",
    "    #    roc_auc = ROC_AUC() #The ``output_transform`` arg of the metric can be used to perform a sigmoid on the ``y_pred``.\n",
    "    #    roc_auc.attach(default_evaluator, 'roc_auc')\n",
    "    #    state = default_evaluator.run([[self.y_pred, self.y_true]])\n",
    "    #    print(state.metrics['roc_auc'])\n",
    "\n",
    "\n",
    "    \n",
    "\n",
    "    "
   ]
  },
  {
   "cell_type": "code",
   "execution_count": 122,
   "metadata": {},
   "outputs": [],
   "source": [
    "a_true = torch.tensor([2, 0, 2, 1, 0, 1])          #Multiclass Input Tensors\n",
    "a_pred = torch.tensor([\n",
    "    [0.0266, 0.1719, 0.3055],\n",
    "    [0.6886, 0.3978, 0.8176],\n",
    "    [0.9230, 0.0197, 0.8395],\n",
    "    [0.1785, 0.2670, 0.6084],\n",
    "    [0.8448, 0.7177, 0.7288],\n",
    "    [0.7748, 0.9542, 0.8573],\n",
    "])"
   ]
  }
 ],
 "metadata": {
  "interpreter": {
   "hash": "6ba9f0aaac5c96417f7fc0d5c0dd45bd2bb51b270333297d0af638280622d206"
  },
  "kernelspec": {
   "display_name": "Python 3.9.5 ('base')",
   "language": "python",
   "name": "python3"
  },
  "language_info": {
   "codemirror_mode": {
    "name": "ipython",
    "version": 3
   },
   "file_extension": ".py",
   "mimetype": "text/x-python",
   "name": "python",
   "nbconvert_exporter": "python",
   "pygments_lexer": "ipython3",
   "version": "3.9.5"
  },
  "orig_nbformat": 4
 },
 "nbformat": 4,
 "nbformat_minor": 2
}
