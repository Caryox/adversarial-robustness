{
 "cells": [
  {
   "cell_type": "code",
   "execution_count": 1,
   "metadata": {},
   "outputs": [],
   "source": [
    "from collections import OrderedDict\n",
    "\n",
    "import torch\n",
    "from torch import nn, optim\n",
    "\n",
    "from ignite.engine import *\n",
    "from ignite.handlers import *\n",
    "from ignite.metrics import *\n",
    "from ignite.utils import *\n",
    "from ignite.contrib.metrics.regression import *\n",
    "from ignite.contrib.metrics import *\n",
    "\n"
   ]
  },
  {
   "cell_type": "code",
   "execution_count": 2,
   "metadata": {},
   "outputs": [],
   "source": [
    "def eval_step(engine, batch): # create default evaluator for doctests\n",
    "    return batch"
   ]
  },
  {
   "cell_type": "code",
   "execution_count": 3,
   "metadata": {},
   "outputs": [],
   "source": [
    "default_evaluator = Engine(eval_step) # create default optimizer for doctests"
   ]
  },
  {
   "cell_type": "code",
   "execution_count": 4,
   "metadata": {},
   "outputs": [],
   "source": [
    "param_tensor = torch.zeros([1], requires_grad=True)         # create default trainer for doctests\n",
    "default_optimizer = torch.optim.SGD([param_tensor], lr=0.1) # as handlers could be attached to the trainer,\n",
    "                                                            # each test must define his own trainer using `.. testsetup:`"
   ]
  },
  {
   "cell_type": "code",
   "execution_count": 5,
   "metadata": {},
   "outputs": [],
   "source": [
    "def get_default_trainer():                # create default model for doctests\n",
    "\n",
    "    def train_step(engine, batch):\n",
    "        return batch\n",
    "\n",
    "    return Engine(train_step)"
   ]
  },
  {
   "cell_type": "code",
   "execution_count": 6,
   "metadata": {},
   "outputs": [],
   "source": [
    "default_model = nn.Sequential(OrderedDict([\n",
    "    ('base', nn.Linear(4, 2)),\n",
    "    ('fc', nn.Linear(2, 1))\n",
    "]))\n",
    "\n",
    "manual_seed(666)"
   ]
  },
  {
   "cell_type": "code",
   "execution_count": 7,
   "metadata": {},
   "outputs": [],
   "source": [
    "          \n",
    "y_true = torch.tensor([2, 0, 2, 1, 0, 1])          #Multiclass Input Tensors\n",
    "y_pred = torch.tensor([\n",
    "    [0.0266, 0.1719, 0.3055],\n",
    "    [0.6886, 0.3978, 0.8176],\n",
    "    [0.9230, 0.0197, 0.8395],\n",
    "    [0.1785, 0.2670, 0.6084],\n",
    "    [0.8448, 0.7177, 0.7288],\n",
    "    [0.7748, 0.9542, 0.8573],\n",
    "])"
   ]
  },
  {
   "cell_type": "code",
   "execution_count": 8,
   "metadata": {},
   "outputs": [
    {
     "name": "stdout",
     "output_type": "stream",
     "text": [
      "0.5\n"
     ]
    }
   ],
   "source": [
    "metric = Accuracy() #Accuracy Function\n",
    "metric.attach(default_evaluator, \"accuracy\")\n",
    "state = default_evaluator.run([[y_pred, y_true]])\n",
    "print(state.metrics[\"accuracy\"])"
   ]
  },
  {
   "cell_type": "code",
   "execution_count": 9,
   "metadata": {},
   "outputs": [
    {
     "name": "stdout",
     "output_type": "stream",
     "text": [
      "tensor([0.5000, 0.5000, 0.5000], dtype=torch.float64)\n"
     ]
    }
   ],
   "source": [
    "metric = Recall(average=False) #Recall Function\n",
    "metric.attach(default_evaluator, \"recall\")\n",
    "state = default_evaluator.run([[y_pred, y_true]])\n",
    "print(state.metrics[\"recall\"])"
   ]
  },
  {
   "cell_type": "code",
   "execution_count": 10,
   "metadata": {},
   "outputs": [
    {
     "name": "stdout",
     "output_type": "stream",
     "text": [
      "tensor([0.5000, 1.0000, 0.3333], dtype=torch.float64)\n"
     ]
    }
   ],
   "source": [
    "metric = Precision(average=False) #Precision Function\n",
    "metric.attach(default_evaluator, \"precision\")\n",
    "state = default_evaluator.run([[y_pred, y_true]])\n",
    "print(state.metrics[\"precision\"])"
   ]
  },
  {
   "cell_type": "code",
   "execution_count": 11,
   "metadata": {},
   "outputs": [],
   "source": [
    "precision = Precision(average=False)                        #F1 Score Function                                                                                                                                               \n",
    "recall = Recall(average=False)                              #We have to be careful that average=False, i.e. \n",
    "F1 = precision * recall * 2 / (precision + recall + 1e-20)  #use the unaveraged precision and recall, otherwise we will not be computing F-beta metrics.\n",
    "F1 = MetricsLambda(lambda t: torch.mean(t).item(), F1)\n"
   ]
  },
  {
   "cell_type": "code",
   "execution_count": 13,
   "metadata": {},
   "outputs": [
    {
     "name": "stdout",
     "output_type": "stream",
     "text": [
      "Classes:  dict_keys(['0', '1', '2', 'macro avg'])\n",
      "0:  {'precision': 0.5, 'recall': 0.5, 'f1-score': 0.49999999999999944}\n",
      "1:  {'precision': 1.0, 'recall': 0.5, 'f1-score': 0.6666666666666662}\n",
      "2:  {'precision': 0.3333333333333333, 'recall': 0.5, 'f1-score': 0.3999999999999995}\n",
      "macro avg:  {'precision': 0.611111111111111, 'recall': 0.5, 'f1-score': 0.5222222222222217}\n"
     ]
    }
   ],
   "source": [
    "metric = ClassificationReport(output_dict=True)  #Classification Report precision recall and f score broken down per label\n",
    "metric.attach(default_evaluator, \"cr\")\n",
    "state = default_evaluator.run([[y_pred, y_true]])\n",
    "print('Classes: ',state.metrics[\"cr\"].keys())\n",
    "print('0: ',state.metrics[\"cr\"][\"0\"])\n",
    "print('1: ',state.metrics[\"cr\"][\"1\"])\n",
    "print('2: ',state.metrics[\"cr\"][\"2\"])\n",
    "print('macro avg: ',state.metrics[\"cr\"][\"macro avg\"]) # Macro averaging reduces your multiclass predictions down to multiple sets of binary predictions, \n",
    "                                        # calculates the corresponding metric for each of the binary cases, and then averages the results together"
   ]
  },
  {
   "cell_type": "code",
   "execution_count": null,
   "metadata": {},
   "outputs": [],
   "source": [
    "\n"
   ]
  }
 ],
 "metadata": {
  "interpreter": {
   "hash": "6ba9f0aaac5c96417f7fc0d5c0dd45bd2bb51b270333297d0af638280622d206"
  },
  "kernelspec": {
   "display_name": "Python 3.9.5 ('base')",
   "language": "python",
   "name": "python3"
  },
  "language_info": {
   "codemirror_mode": {
    "name": "ipython",
    "version": 3
   },
   "file_extension": ".py",
   "mimetype": "text/x-python",
   "name": "python",
   "nbconvert_exporter": "python",
   "pygments_lexer": "ipython3",
   "version": "3.9.5"
  },
  "orig_nbformat": 4
 },
 "nbformat": 4,
 "nbformat_minor": 2
}
